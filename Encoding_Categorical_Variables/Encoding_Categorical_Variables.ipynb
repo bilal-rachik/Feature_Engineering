{
  "nbformat": 4,
  "nbformat_minor": 0,
  "metadata": {
    "colab": {
      "name": "Encoding Categorical Variables.ipynb",
      "provenance": [],
      "collapsed_sections": [],
      "toc_visible": true
    },
    "kernelspec": {
      "name": "python3",
      "display_name": "Python 3"
    },
    "language_info": {
      "name": "python"
    }
  },
  "cells": [
    {
      "cell_type": "markdown",
      "metadata": {
        "id": "CTuo4DofHVB7"
      },
      "source": [
        "# Codage des variables catégorielles\n",
        "\n",
        "Les variables catégorielles sont les valeurs qui sont sélectionnées dans un groupe de catégories ou d'étiquettes. Par exemple, la variable Sexe avec les valeurs homme ou femme est catégorique, tout comme la variable état civil avec les valeurs jamais marié, marié, divorcé ou veuf. Dans certaines variables catégorielles, les étiquettes ont un ordre intrinsèque, par exemple, dans la variable Note de l'étudiant, les valeurs de A, B, C ou Échec sont ordonnées, A étant la note la plus élevée et Échec la plus basse. On les appelle des variables catégorielles ordinales. Les variables dans lesquelles les catégories n'ont pas d'ordre intrinsèque sont appelées variables catégorielles nominales, comme la variable City, avec les valeurs de Londres, Manchester, Bristol.\n",
        "\n",
        "Les valeurs des variables catégorielles sont souvent codées sous forme de chaînes. Scikit-learn, la bibliothèque Python open source pour l'apprentissage automatique, ne prend pas en charge les chaînes en tant que valeurs, nous devons donc transformer ces chaînes en nombres. L'acte de remplacer des chaînes par des nombres est appelé codage catégoriel\n",
   
      ]
    },
    {
      "cell_type": "markdown",
      "metadata": {
        "id": "K-qgVuzVJY-R"
      },
      "source": [
        "\n",
        "Dans cet article, nous utiliserons les librairies Python : pandas, NumPy et scikit-learn\n",
        "\n",
        "Nous utiliserons également l'ensemble de données d'approbation de crédit, qui est disponible dans le référentiel UCI MachineLearning (https://archive.ics.uci.edu/ml/datasets/credit+approval)\n",
        "\n",
        "Pour préparer l'ensemble de données, procédez comme suit :"
      ]
    },
    {
      "cell_type": "code",
      "metadata": {
        "id": "zI77eGZNJmpX"
      },
      "source": [
        "#Importez les bibliothèques Python requises :\n",
        "import random\n",
        "import pandas as pd\n",
        "import numpy as np"
      ],
      "execution_count": 1,
      "outputs": []
    },
    {
      "cell_type": "code",
      "metadata": {
        "colab": {
          "base_uri": "https://localhost:8080/",
          "height": 204
        },
        "id": "-H8qzP0-JqX5",
        "outputId": "fa92c79b-be9f-483f-d0a9-60f06bd47970"
      },
      "source": [
        "#Chargez les données avec la commande suivante\n",
        "data = pd.read_csv('http://archive.ics.uci.edu/ml/machine-learning-databases/credit-screening/crx.data', header=None)\n",
        "\n",
        "#Créez une liste avec des noms de variables :\n",
        "varnames = ['A'+str(s) for s in range(1,17)]\n",
        "\n",
        "#Ajoutez les noms de variables au dataframe :\n",
        "data.columns = varnames\n",
        "\n",
        "#Remplacez les points d'interrogation (?) dans l'ensemble de données par les valeurs NumPy NaN\n",
        "data = data.replace('?', np.nan)\n",
        "\n",
        "\n",
        "# display\n",
        "data.head()\n"
      ],
      "execution_count": 8,
      "outputs": [
        {
          "output_type": "execute_result",
          "data": {
            "text/html": [
              "<div>\n",
              "<style scoped>\n",
              "    .dataframe tbody tr th:only-of-type {\n",
              "        vertical-align: middle;\n",
              "    }\n",
              "\n",
              "    .dataframe tbody tr th {\n",
              "        vertical-align: top;\n",
              "    }\n",
              "\n",
              "    .dataframe thead th {\n",
              "        text-align: right;\n",
              "    }\n",
              "</style>\n",
              "<table border=\"1\" class=\"dataframe\">\n",
              "  <thead>\n",
              "    <tr style=\"text-align: right;\">\n",
              "      <th></th>\n",
              "      <th>A1</th>\n",
              "      <th>A2</th>\n",
              "      <th>A3</th>\n",
              "      <th>A4</th>\n",
              "      <th>A5</th>\n",
              "      <th>A6</th>\n",
              "      <th>A7</th>\n",
              "      <th>A8</th>\n",
              "      <th>A9</th>\n",
              "      <th>A10</th>\n",
              "      <th>A11</th>\n",
              "      <th>A12</th>\n",
              "      <th>A13</th>\n",
              "      <th>A14</th>\n",
              "      <th>A15</th>\n",
              "      <th>A16</th>\n",
              "    </tr>\n",
              "  </thead>\n",
              "  <tbody>\n",
              "    <tr>\n",
              "      <th>0</th>\n",
              "      <td>b</td>\n",
              "      <td>30.83</td>\n",
              "      <td>0.000</td>\n",
              "      <td>u</td>\n",
              "      <td>g</td>\n",
              "      <td>w</td>\n",
              "      <td>v</td>\n",
              "      <td>1.25</td>\n",
              "      <td>t</td>\n",
              "      <td>t</td>\n",
              "      <td>1</td>\n",
              "      <td>f</td>\n",
              "      <td>g</td>\n",
              "      <td>00202</td>\n",
              "      <td>0</td>\n",
              "      <td>+</td>\n",
              "    </tr>\n",
              "    <tr>\n",
              "      <th>1</th>\n",
              "      <td>a</td>\n",
              "      <td>58.67</td>\n",
              "      <td>4.460</td>\n",
              "      <td>u</td>\n",
              "      <td>g</td>\n",
              "      <td>q</td>\n",
              "      <td>h</td>\n",
              "      <td>3.04</td>\n",
              "      <td>t</td>\n",
              "      <td>t</td>\n",
              "      <td>6</td>\n",
              "      <td>f</td>\n",
              "      <td>g</td>\n",
              "      <td>00043</td>\n",
              "      <td>560</td>\n",
              "      <td>+</td>\n",
              "    </tr>\n",
              "    <tr>\n",
              "      <th>2</th>\n",
              "      <td>a</td>\n",
              "      <td>24.50</td>\n",
              "      <td>0.500</td>\n",
              "      <td>u</td>\n",
              "      <td>g</td>\n",
              "      <td>q</td>\n",
              "      <td>h</td>\n",
              "      <td>1.50</td>\n",
              "      <td>t</td>\n",
              "      <td>f</td>\n",
              "      <td>0</td>\n",
              "      <td>f</td>\n",
              "      <td>g</td>\n",
              "      <td>00280</td>\n",
              "      <td>824</td>\n",
              "      <td>+</td>\n",
              "    </tr>\n",
              "    <tr>\n",
              "      <th>3</th>\n",
              "      <td>b</td>\n",
              "      <td>27.83</td>\n",
              "      <td>1.540</td>\n",
              "      <td>u</td>\n",
              "      <td>g</td>\n",
              "      <td>w</td>\n",
              "      <td>v</td>\n",
              "      <td>3.75</td>\n",
              "      <td>t</td>\n",
              "      <td>t</td>\n",
              "      <td>5</td>\n",
              "      <td>t</td>\n",
              "      <td>g</td>\n",
              "      <td>00100</td>\n",
              "      <td>3</td>\n",
              "      <td>+</td>\n",
              "    </tr>\n",
              "    <tr>\n",
              "      <th>4</th>\n",
              "      <td>b</td>\n",
              "      <td>20.17</td>\n",
              "      <td>5.625</td>\n",
              "      <td>u</td>\n",
              "      <td>g</td>\n",
              "      <td>w</td>\n",
              "      <td>v</td>\n",
              "      <td>1.71</td>\n",
              "      <td>t</td>\n",
              "      <td>f</td>\n",
              "      <td>0</td>\n",
              "      <td>f</td>\n",
              "      <td>s</td>\n",
              "      <td>00120</td>\n",
              "      <td>0</td>\n",
              "      <td>+</td>\n",
              "    </tr>\n",
              "  </tbody>\n",
              "</table>\n",
              "</div>"
            ],
            "text/plain": [
              "  A1     A2     A3 A4 A5 A6 A7    A8 A9 A10  A11 A12 A13    A14  A15 A16\n",
              "0  b  30.83  0.000  u  g  w  v  1.25  t   t    1   f   g  00202    0   +\n",
              "1  a  58.67  4.460  u  g  q  h  3.04  t   t    6   f   g  00043  560   +\n",
              "2  a  24.50  0.500  u  g  q  h  1.50  t   f    0   f   g  00280  824   +\n",
              "3  b  27.83  1.540  u  g  w  v  3.75  t   t    5   t   g  00100    3   +\n",
              "4  b  20.17  5.625  u  g  w  v  1.71  t   f    0   f   s  00120    0   +"
            ]
          },
          "metadata": {
            "tags": []
          },
          "execution_count": 8
        }
      ]
    },
    {
      "cell_type": "code",
      "metadata": {
        "colab": {
          "base_uri": "https://localhost:8080/",
          "height": 204
        },
        "id": "4McJRhwNJ82_",
        "outputId": "28025752-8f90-4eee-9de2-d4839edcf359"
      },
      "source": [
        "#changer le type des variables numériques en types de données flottants :\n",
        "data['A2'] = data['A2'].astype('float')\n",
        "data['A14'] = data['A14'].astype('float')\n",
        "\n",
        "#Recoder la variable cible en binaire :\n",
        "data['A16'] = data['A16'].map({'+':1, '-':0})\n",
        "\n",
        "# display\n",
        "data.head()"
      ],
      "execution_count": 10,
      "outputs": [
        {
          "output_type": "execute_result",
          "data": {
            "text/html": [
              "<div>\n",
              "<style scoped>\n",
              "    .dataframe tbody tr th:only-of-type {\n",
              "        vertical-align: middle;\n",
              "    }\n",
              "\n",
              "    .dataframe tbody tr th {\n",
              "        vertical-align: top;\n",
              "    }\n",
              "\n",
              "    .dataframe thead th {\n",
              "        text-align: right;\n",
              "    }\n",
              "</style>\n",
              "<table border=\"1\" class=\"dataframe\">\n",
              "  <thead>\n",
              "    <tr style=\"text-align: right;\">\n",
              "      <th></th>\n",
              "      <th>A1</th>\n",
              "      <th>A2</th>\n",
              "      <th>A3</th>\n",
              "      <th>A4</th>\n",
              "      <th>A5</th>\n",
              "      <th>A6</th>\n",
              "      <th>A7</th>\n",
              "      <th>A8</th>\n",
              "      <th>A9</th>\n",
              "      <th>A10</th>\n",
              "      <th>A11</th>\n",
              "      <th>A12</th>\n",
              "      <th>A13</th>\n",
              "      <th>A14</th>\n",
              "      <th>A15</th>\n",
              "      <th>A16</th>\n",
              "    </tr>\n",
              "  </thead>\n",
              "  <tbody>\n",
              "    <tr>\n",
              "      <th>0</th>\n",
              "      <td>b</td>\n",
              "      <td>30.83</td>\n",
              "      <td>0.000</td>\n",
              "      <td>u</td>\n",
              "      <td>g</td>\n",
              "      <td>w</td>\n",
              "      <td>v</td>\n",
              "      <td>1.25</td>\n",
              "      <td>t</td>\n",
              "      <td>t</td>\n",
              "      <td>1</td>\n",
              "      <td>f</td>\n",
              "      <td>g</td>\n",
              "      <td>202.0</td>\n",
              "      <td>0</td>\n",
              "      <td>1</td>\n",
              "    </tr>\n",
              "    <tr>\n",
              "      <th>1</th>\n",
              "      <td>a</td>\n",
              "      <td>58.67</td>\n",
              "      <td>4.460</td>\n",
              "      <td>u</td>\n",
              "      <td>g</td>\n",
              "      <td>q</td>\n",
              "      <td>h</td>\n",
              "      <td>3.04</td>\n",
              "      <td>t</td>\n",
              "      <td>t</td>\n",
              "      <td>6</td>\n",
              "      <td>f</td>\n",
              "      <td>g</td>\n",
              "      <td>43.0</td>\n",
              "      <td>560</td>\n",
              "      <td>1</td>\n",
              "    </tr>\n",
              "    <tr>\n",
              "      <th>2</th>\n",
              "      <td>a</td>\n",
              "      <td>24.50</td>\n",
              "      <td>0.500</td>\n",
              "      <td>u</td>\n",
              "      <td>g</td>\n",
              "      <td>q</td>\n",
              "      <td>h</td>\n",
              "      <td>1.50</td>\n",
              "      <td>t</td>\n",
              "      <td>f</td>\n",
              "      <td>0</td>\n",
              "      <td>f</td>\n",
              "      <td>g</td>\n",
              "      <td>280.0</td>\n",
              "      <td>824</td>\n",
              "      <td>1</td>\n",
              "    </tr>\n",
              "    <tr>\n",
              "      <th>3</th>\n",
              "      <td>b</td>\n",
              "      <td>27.83</td>\n",
              "      <td>1.540</td>\n",
              "      <td>u</td>\n",
              "      <td>g</td>\n",
              "      <td>w</td>\n",
              "      <td>v</td>\n",
              "      <td>3.75</td>\n",
              "      <td>t</td>\n",
              "      <td>t</td>\n",
              "      <td>5</td>\n",
              "      <td>t</td>\n",
              "      <td>g</td>\n",
              "      <td>100.0</td>\n",
              "      <td>3</td>\n",
              "      <td>1</td>\n",
              "    </tr>\n",
              "    <tr>\n",
              "      <th>4</th>\n",
              "      <td>b</td>\n",
              "      <td>20.17</td>\n",
              "      <td>5.625</td>\n",
              "      <td>u</td>\n",
              "      <td>g</td>\n",
              "      <td>w</td>\n",
              "      <td>v</td>\n",
              "      <td>1.71</td>\n",
              "      <td>t</td>\n",
              "      <td>f</td>\n",
              "      <td>0</td>\n",
              "      <td>f</td>\n",
              "      <td>s</td>\n",
              "      <td>120.0</td>\n",
              "      <td>0</td>\n",
              "      <td>1</td>\n",
              "    </tr>\n",
              "  </tbody>\n",
              "</table>\n",
              "</div>"
            ],
            "text/plain": [
              "  A1     A2     A3 A4 A5 A6 A7    A8 A9 A10  A11 A12 A13    A14  A15  A16\n",
              "0  b  30.83  0.000  u  g  w  v  1.25  t   t    1   f   g  202.0    0    1\n",
              "1  a  58.67  4.460  u  g  q  h  3.04  t   t    6   f   g   43.0  560    1\n",
              "2  a  24.50  0.500  u  g  q  h  1.50  t   f    0   f   g  280.0  824    1\n",
              "3  b  27.83  1.540  u  g  w  v  3.75  t   t    5   t   g  100.0    3    1\n",
              "4  b  20.17  5.625  u  g  w  v  1.71  t   f    0   f   s  120.0    0    1"
            ]
          },
          "metadata": {
            "tags": []
          },
          "execution_count": 10
        }
      ]
    },
    {
      "cell_type": "code",
      "metadata": {
        "colab": {
          "base_uri": "https://localhost:8080/",
          "height": 204
        },
        "id": "l2soJnG8KCTo",
        "outputId": "8e06130b-73fa-4c4f-dd66-5d81ba854674"
      },
      "source": [
        "# find categorical variables\n",
        "cat_cols = [c for c in data.columns if data[c].dtypes=='O']\n",
        "data[cat_cols].head()"
      ],
      "execution_count": 11,
      "outputs": [
        {
          "output_type": "execute_result",
          "data": {
            "text/html": [
              "<div>\n",
              "<style scoped>\n",
              "    .dataframe tbody tr th:only-of-type {\n",
              "        vertical-align: middle;\n",
              "    }\n",
              "\n",
              "    .dataframe tbody tr th {\n",
              "        vertical-align: top;\n",
              "    }\n",
              "\n",
              "    .dataframe thead th {\n",
              "        text-align: right;\n",
              "    }\n",
              "</style>\n",
              "<table border=\"1\" class=\"dataframe\">\n",
              "  <thead>\n",
              "    <tr style=\"text-align: right;\">\n",
              "      <th></th>\n",
              "      <th>A1</th>\n",
              "      <th>A4</th>\n",
              "      <th>A5</th>\n",
              "      <th>A6</th>\n",
              "      <th>A7</th>\n",
              "      <th>A9</th>\n",
              "      <th>A10</th>\n",
              "      <th>A12</th>\n",
              "      <th>A13</th>\n",
              "    </tr>\n",
              "  </thead>\n",
              "  <tbody>\n",
              "    <tr>\n",
              "      <th>0</th>\n",
              "      <td>b</td>\n",
              "      <td>u</td>\n",
              "      <td>g</td>\n",
              "      <td>w</td>\n",
              "      <td>v</td>\n",
              "      <td>t</td>\n",
              "      <td>t</td>\n",
              "      <td>f</td>\n",
              "      <td>g</td>\n",
              "    </tr>\n",
              "    <tr>\n",
              "      <th>1</th>\n",
              "      <td>a</td>\n",
              "      <td>u</td>\n",
              "      <td>g</td>\n",
              "      <td>q</td>\n",
              "      <td>h</td>\n",
              "      <td>t</td>\n",
              "      <td>t</td>\n",
              "      <td>f</td>\n",
              "      <td>g</td>\n",
              "    </tr>\n",
              "    <tr>\n",
              "      <th>2</th>\n",
              "      <td>a</td>\n",
              "      <td>u</td>\n",
              "      <td>g</td>\n",
              "      <td>q</td>\n",
              "      <td>h</td>\n",
              "      <td>t</td>\n",
              "      <td>f</td>\n",
              "      <td>f</td>\n",
              "      <td>g</td>\n",
              "    </tr>\n",
              "    <tr>\n",
              "      <th>3</th>\n",
              "      <td>b</td>\n",
              "      <td>u</td>\n",
              "      <td>g</td>\n",
              "      <td>w</td>\n",
              "      <td>v</td>\n",
              "      <td>t</td>\n",
              "      <td>t</td>\n",
              "      <td>t</td>\n",
              "      <td>g</td>\n",
              "    </tr>\n",
              "    <tr>\n",
              "      <th>4</th>\n",
              "      <td>b</td>\n",
              "      <td>u</td>\n",
              "      <td>g</td>\n",
              "      <td>w</td>\n",
              "      <td>v</td>\n",
              "      <td>t</td>\n",
              "      <td>f</td>\n",
              "      <td>f</td>\n",
              "      <td>s</td>\n",
              "    </tr>\n",
              "  </tbody>\n",
              "</table>\n",
              "</div>"
            ],
            "text/plain": [
              "  A1 A4 A5 A6 A7 A9 A10 A12 A13\n",
              "0  b  u  g  w  v  t   t   f   g\n",
              "1  a  u  g  q  h  t   t   f   g\n",
              "2  a  u  g  q  h  t   f   f   g\n",
              "3  b  u  g  w  v  t   t   t   g\n",
              "4  b  u  g  w  v  t   f   f   s"
            ]
          },
          "metadata": {
            "tags": []
          },
          "execution_count": 11
        }
      ]
    },
    {
      "cell_type": "code",
      "metadata": {
        "colab": {
          "base_uri": "https://localhost:8080/",
          "height": 204
        },
        "id": "oGvXaMhrKPVh",
        "outputId": "e6145079-7d10-4da1-c07c-78dffed737c5"
      },
      "source": [
        "# find numerical variables\n",
        "num_cols = [c for c in data.columns if data[c].dtypes!='O']\n",
        "data[num_cols].head()"
      ],
      "execution_count": 12,
      "outputs": [
        {
          "output_type": "execute_result",
          "data": {
            "text/html": [
              "<div>\n",
              "<style scoped>\n",
              "    .dataframe tbody tr th:only-of-type {\n",
              "        vertical-align: middle;\n",
              "    }\n",
              "\n",
              "    .dataframe tbody tr th {\n",
              "        vertical-align: top;\n",
              "    }\n",
              "\n",
              "    .dataframe thead th {\n",
              "        text-align: right;\n",
              "    }\n",
              "</style>\n",
              "<table border=\"1\" class=\"dataframe\">\n",
              "  <thead>\n",
              "    <tr style=\"text-align: right;\">\n",
              "      <th></th>\n",
              "      <th>A2</th>\n",
              "      <th>A3</th>\n",
              "      <th>A8</th>\n",
              "      <th>A11</th>\n",
              "      <th>A14</th>\n",
              "      <th>A15</th>\n",
              "      <th>A16</th>\n",
              "    </tr>\n",
              "  </thead>\n",
              "  <tbody>\n",
              "    <tr>\n",
              "      <th>0</th>\n",
              "      <td>30.83</td>\n",
              "      <td>0.000</td>\n",
              "      <td>1.25</td>\n",
              "      <td>1</td>\n",
              "      <td>202.0</td>\n",
              "      <td>0</td>\n",
              "      <td>1</td>\n",
              "    </tr>\n",
              "    <tr>\n",
              "      <th>1</th>\n",
              "      <td>58.67</td>\n",
              "      <td>4.460</td>\n",
              "      <td>3.04</td>\n",
              "      <td>6</td>\n",
              "      <td>43.0</td>\n",
              "      <td>560</td>\n",
              "      <td>1</td>\n",
              "    </tr>\n",
              "    <tr>\n",
              "      <th>2</th>\n",
              "      <td>24.50</td>\n",
              "      <td>0.500</td>\n",
              "      <td>1.50</td>\n",
              "      <td>0</td>\n",
              "      <td>280.0</td>\n",
              "      <td>824</td>\n",
              "      <td>1</td>\n",
              "    </tr>\n",
              "    <tr>\n",
              "      <th>3</th>\n",
              "      <td>27.83</td>\n",
              "      <td>1.540</td>\n",
              "      <td>3.75</td>\n",
              "      <td>5</td>\n",
              "      <td>100.0</td>\n",
              "      <td>3</td>\n",
              "      <td>1</td>\n",
              "    </tr>\n",
              "    <tr>\n",
              "      <th>4</th>\n",
              "      <td>20.17</td>\n",
              "      <td>5.625</td>\n",
              "      <td>1.71</td>\n",
              "      <td>0</td>\n",
              "      <td>120.0</td>\n",
              "      <td>0</td>\n",
              "      <td>1</td>\n",
              "    </tr>\n",
              "  </tbody>\n",
              "</table>\n",
              "</div>"
            ],
            "text/plain": [
              "      A2     A3    A8  A11    A14  A15  A16\n",
              "0  30.83  0.000  1.25    1  202.0    0    1\n",
              "1  58.67  4.460  3.04    6   43.0  560    1\n",
              "2  24.50  0.500  1.50    0  280.0  824    1\n",
              "3  27.83  1.540  3.75    5  100.0    3    1\n",
              "4  20.17  5.625  1.71    0  120.0    0    1"
            ]
          },
          "metadata": {
            "tags": []
          },
          "execution_count": 12
        }
      ]
    },
    {
      "cell_type": "code",
      "metadata": {
        "colab": {
          "base_uri": "https://localhost:8080/"
        },
        "id": "CqFaXCLKLJ57",
        "outputId": "dbdca24a-32fa-44e0-871d-f4910f29aec0"
      },
      "source": [
        "# fill in missing values\n",
        "\n",
        "data[num_cols] = data[num_cols].fillna(0)\n",
        "data[cat_cols] = data[cat_cols].fillna('Missing')\n",
        "\n",
        "data.isnull().sum()"
      ],
      "execution_count": 13,
      "outputs": [
        {
          "output_type": "execute_result",
          "data": {
            "text/plain": [
              "A1     0\n",
              "A2     0\n",
              "A3     0\n",
              "A4     0\n",
              "A5     0\n",
              "A6     0\n",
              "A7     0\n",
              "A8     0\n",
              "A9     0\n",
              "A10    0\n",
              "A11    0\n",
              "A12    0\n",
              "A13    0\n",
              "A14    0\n",
              "A15    0\n",
              "A16    0\n",
              "dtype: int64"
            ]
          },
          "metadata": {
            "tags": []
          },
          "execution_count": 13
        }
      ]
    },
    {
      "cell_type": "markdown",
      "metadata": {
        "id": "xfT1L1yjLZno"
      },
      "source": [
        "## Encodage One-Hot\n",
        "Dans l'encodage one-hot, nous représentons une variable catégorielle comme un groupe de variables binaires, où chaque variable binaire représente une catégorie. La variable binaire indique si la catégorie est présente dans une observation (1) ou non (0). Le tableau suivant montre la représentation encodée one-hot de la variable Sexe avec les catégories Homme et Femme :\n",
        "\n",
        "\n",
        "|Sexe  | Femme  |Homme   |\n",
        "|:-:|---|---|\n",
        "| Femme | 1  | 0  |\n",
        "| Homme  |  0 | 1  |\n",
        "| Homme |  0 | 1  |\n",
        "| Femme |  1 | 0  |\n",
        "\n",
        "\n",
        "Comme le montre le tableau, à partir de la variable Sexe, nous pouvons dériver la variable binaire de Femme, qui montre la valeur de 1 pour les femmes, ou la variable binaire de Homme, qui prend la valeur de 1 pour les hommes dans l'ensemble de données.\n",
        "\n",
        "Pour la variable catégorielle de Couleur avec les valeurs rouge, bleu et vert, nous pouvons créer trois variables appelées rouge, bleu et vert. Ces variables prendront la valeur 1 si l'observation est respectivement rouge, bleue ou verte, ou 0 sinon.\n",
        "\n",
        "\n",
        "Une variable catégorielle avec k catégories uniques peut être codée dans k-1 variables binaires. Pour le Sexe, k est 2 car il contient deux étiquettes (femme  et Homme), par conséquent, nous devons créer une seule variable binaire (k - 1 = 1) pour capturer toutes les informations. Pour la variable de couleur, qui a trois catégories (k=3 ; rouge, bleu et vert), nous devons créer deux (k - 1 = 2) variables binaires pour capturer toutes les informations, de sorte que:\n",
        "\n",
        "* Si l'observation est rouge, elle sera captée par la variable rouge (rouge = 1, bleu = 0).\n",
        "* Si l'observation est bleue, elle sera captée par la variable bleu (rouge = 0, bleu = 1)\n",
        "* Si l'observation est verte, elle sera capturée par la combinaison du rouge et du bleu (rouge = 0, bleu = 0)\n",
        "\n",
        "Il y a quelques occasions dans lesquelles nous pouvons préférer coder les variables catégorielles avec des variables k binaires\n",
        "\n",
        "* Lors de la formation des arbres de décision, car ils n'évaluent pas l'ensemble de l'espace de fonctionnalités en même temps\n",
        "* Lors de la sélection d'entités de manière récursive\n",
        "* Lors de la détermination de l'importance de chaque catégorie au sein d'une variable\n",
        "\n",
        "Dans cette recette, nous allons apprendre à effectuer un encodage à One-hot en utilisant pandas, scikit-learn."
      ]
    },
    {
      "cell_type": "code",
      "metadata": {
        "id": "v0eHjfrdUd2b"
      },
      "source": [
        "import pandas as pd\n",
        "\n",
        "# to split the datasets\n",
        "from sklearn.model_selection import train_test_split\n",
        "\n",
        "# for one hot encoding with sklearn\n",
        "from sklearn.preprocessing import OneHotEncoder"
      ],
      "execution_count": 16,
      "outputs": []
    },
    {
      "cell_type": "code",
      "metadata": {
        "id": "UiCLVWjYUUs1"
      },
      "source": [
        "# make a list with the categorical variables\n",
        "\n",
        "vars_categorical = ['A1', 'A4', 'A5', 'A6', 'A7', 'A9', 'A10', 'A12', 'A13']"
      ],
      "execution_count": 17,
      "outputs": []
    },
    {
      "cell_type": "code",
      "metadata": {
        "colab": {
          "base_uri": "https://localhost:8080/"
        },
        "id": "mlj8gQIyUXbo",
        "outputId": "1d46465b-57f4-444b-e702-b05f0dd1955f"
      },
      "source": [
        "# let's separate into training and testing sets\n",
        "\n",
        "X_train, X_test, y_train, y_test = train_test_split(\n",
        "    data.drop(labels=['A16'], axis=1),  # predictors\n",
        "    data['A16'],  # target\n",
        "    test_size=0.3,  # percentage of obs in test set\n",
        "    random_state=0)  # seed to ensure reproducibility\n",
        "\n",
        "X_train.shape, X_test.shape"
      ],
      "execution_count": 18,
      "outputs": [
        {
          "output_type": "execute_result",
          "data": {
            "text/plain": [
              "((483, 15), (207, 15))"
            ]
          },
          "metadata": {
            "tags": []
          },
          "execution_count": 18
        }
      ]
    },
    {
      "cell_type": "markdown",
      "metadata": {
        "id": "ayb3Om4-LZs7"
      },
      "source": [
        "### One Hot Encoding with pandas"
      ]
    },
    {
      "cell_type": "code",
      "metadata": {
        "colab": {
          "base_uri": "https://localhost:8080/"
        },
        "id": "HmpFK48UUkka",
        "outputId": "6b549770-9a1c-4a60-f1a8-31a6da4824a3"
      },
      "source": [
        "# let's inspect the unique values of A4\n",
        "\n",
        "X_train['A4'].unique()"
      ],
      "execution_count": 19,
      "outputs": [
        {
          "output_type": "execute_result",
          "data": {
            "text/plain": [
              "array(['u', 'y', 'Missing', 'l'], dtype=object)"
            ]
          },
          "metadata": {
            "tags": []
          },
          "execution_count": 19
        }
      ]
    },
    {
      "cell_type": "code",
      "metadata": {
        "colab": {
          "base_uri": "https://localhost:8080/"
        },
        "id": "snjGa78AUo0K",
        "outputId": "04b3efa5-1d23-4e1f-dce5-ba58551a565b"
      },
      "source": [
        "# Encodeons A4 en K-1 variables binaires à l'aide de pandas\n",
        "# let's one hot encode A4\n",
        "\n",
        "tmp = pd.get_dummies(X_train['A4'], drop_first=True)\n",
        "\n",
        "print(tmp.head())"
      ],
      "execution_count": 20,
      "outputs": [
        {
          "output_type": "stream",
          "text": [
            "     l  u  y\n",
            "596  0  1  0\n",
            "303  0  1  0\n",
            "204  0  0  1\n",
            "351  0  0  1\n",
            "118  0  1  0\n"
          ],
          "name": "stdout"
        }
      ]
    },
    {
      "cell_type": "markdown",
      "metadata": {
        "id": "GH9poO_WVhT2"
      },
      "source": [
        "* La fonction get_dummies() des pandas ignore les données manquantes, sauf indication contraire spécifique, auquel cas, elle renverra les données manquantes dans une catégorie supplémentaire : tmp = pd.get_dummies(X_train['A4'],drop_first=True, dummy_na=True)\n",
        "\n",
        "*  Pour encoder la variable en k binaries, utilisez plutôt drop_first=False"
      ]
    },
    {
      "cell_type": "code",
      "metadata": {
        "colab": {
          "base_uri": "https://localhost:8080/"
        },
        "id": "1VIM9W6HU0P9",
        "outputId": "f381bde1-5d21-4dc9-fa24-12d3bd74f84c"
      },
      "source": [
        "\n",
        "# now let's encode all cateogrical variables together: train set\n",
        "\n",
        "X_train_enc = pd.get_dummies(X_train[vars_categorical], drop_first=True)\n",
        "\n",
        "print(X_train_enc.head())"
      ],
      "execution_count": 21,
      "outputs": [
        {
          "output_type": "stream",
          "text": [
            "     A1_a  A1_b  A4_l  A4_u  A4_y  A5_g  ...  A7_z  A9_t  A10_t  A12_t  A13_p  A13_s\n",
            "596     1     0     0     1     0     1  ...     0     1      1      1      0      0\n",
            "303     1     0     0     1     0     1  ...     0     0      0      0      0      0\n",
            "204     0     1     0     0     1     0  ...     0     1      1      0      0      0\n",
            "351     0     1     0     0     1     0  ...     0     0      0      0      0      0\n",
            "118     0     1     0     1     0     1  ...     0     1      1      1      0      0\n",
            "\n",
            "[5 rows x 36 columns]\n"
          ],
          "name": "stdout"
        }
      ]
    },
    {
      "cell_type": "markdown",
      "metadata": {
        "id": "4Oqz4-TeWE69"
      },
      "source": [
        "La fonction get_dummies() de  pandas créera une variable binaire par catégorie. Par conséquent, s'il y a plus de catégories dans l'ensemble de train que dans l'ensemble de test, get_dummies() renverra plus de colonnes dans l'ensemble de train transformé que dans l'ensemble de test transformé. "
      ]
    },
    {
      "cell_type": "code",
      "metadata": {
        "colab": {
          "base_uri": "https://localhost:8080/",
          "height": 224
        },
        "id": "CKtjNMAOU287",
        "outputId": "e466d187-99e4-4569-8687-4722f7d266e9"
      },
      "source": [
        "\n",
        "# and in the test set\n",
        "\n",
        "X_test_enc = pd.get_dummies(X_test[vars_categorical], drop_first=True)\n",
        "\n",
        "X_test_enc.head()"
      ],
      "execution_count": 22,
      "outputs": [
        {
          "output_type": "execute_result",
          "data": {
            "text/html": [
              "<div>\n",
              "<style scoped>\n",
              "    .dataframe tbody tr th:only-of-type {\n",
              "        vertical-align: middle;\n",
              "    }\n",
              "\n",
              "    .dataframe tbody tr th {\n",
              "        vertical-align: top;\n",
              "    }\n",
              "\n",
              "    .dataframe thead th {\n",
              "        text-align: right;\n",
              "    }\n",
              "</style>\n",
              "<table border=\"1\" class=\"dataframe\">\n",
              "  <thead>\n",
              "    <tr style=\"text-align: right;\">\n",
              "      <th></th>\n",
              "      <th>A1_a</th>\n",
              "      <th>A1_b</th>\n",
              "      <th>A4_l</th>\n",
              "      <th>A4_u</th>\n",
              "      <th>A4_y</th>\n",
              "      <th>A5_g</th>\n",
              "      <th>A5_gg</th>\n",
              "      <th>A5_p</th>\n",
              "      <th>A6_aa</th>\n",
              "      <th>A6_c</th>\n",
              "      <th>A6_cc</th>\n",
              "      <th>A6_d</th>\n",
              "      <th>A6_e</th>\n",
              "      <th>A6_ff</th>\n",
              "      <th>A6_i</th>\n",
              "      <th>A6_j</th>\n",
              "      <th>A6_k</th>\n",
              "      <th>A6_m</th>\n",
              "      <th>A6_q</th>\n",
              "      <th>A6_r</th>\n",
              "      <th>A6_w</th>\n",
              "      <th>A6_x</th>\n",
              "      <th>A7_bb</th>\n",
              "      <th>A7_dd</th>\n",
              "      <th>A7_ff</th>\n",
              "      <th>A7_h</th>\n",
              "      <th>A7_j</th>\n",
              "      <th>A7_n</th>\n",
              "      <th>A7_o</th>\n",
              "      <th>A7_v</th>\n",
              "      <th>A7_z</th>\n",
              "      <th>A9_t</th>\n",
              "      <th>A10_t</th>\n",
              "      <th>A12_t</th>\n",
              "      <th>A13_p</th>\n",
              "      <th>A13_s</th>\n",
              "    </tr>\n",
              "  </thead>\n",
              "  <tbody>\n",
              "    <tr>\n",
              "      <th>14</th>\n",
              "      <td>1</td>\n",
              "      <td>0</td>\n",
              "      <td>0</td>\n",
              "      <td>1</td>\n",
              "      <td>0</td>\n",
              "      <td>1</td>\n",
              "      <td>0</td>\n",
              "      <td>0</td>\n",
              "      <td>0</td>\n",
              "      <td>0</td>\n",
              "      <td>0</td>\n",
              "      <td>0</td>\n",
              "      <td>0</td>\n",
              "      <td>0</td>\n",
              "      <td>0</td>\n",
              "      <td>0</td>\n",
              "      <td>0</td>\n",
              "      <td>0</td>\n",
              "      <td>1</td>\n",
              "      <td>0</td>\n",
              "      <td>0</td>\n",
              "      <td>0</td>\n",
              "      <td>0</td>\n",
              "      <td>0</td>\n",
              "      <td>0</td>\n",
              "      <td>0</td>\n",
              "      <td>0</td>\n",
              "      <td>0</td>\n",
              "      <td>0</td>\n",
              "      <td>1</td>\n",
              "      <td>0</td>\n",
              "      <td>1</td>\n",
              "      <td>1</td>\n",
              "      <td>1</td>\n",
              "      <td>0</td>\n",
              "      <td>0</td>\n",
              "    </tr>\n",
              "    <tr>\n",
              "      <th>586</th>\n",
              "      <td>0</td>\n",
              "      <td>1</td>\n",
              "      <td>0</td>\n",
              "      <td>1</td>\n",
              "      <td>0</td>\n",
              "      <td>1</td>\n",
              "      <td>0</td>\n",
              "      <td>0</td>\n",
              "      <td>0</td>\n",
              "      <td>0</td>\n",
              "      <td>0</td>\n",
              "      <td>0</td>\n",
              "      <td>0</td>\n",
              "      <td>0</td>\n",
              "      <td>0</td>\n",
              "      <td>0</td>\n",
              "      <td>0</td>\n",
              "      <td>0</td>\n",
              "      <td>0</td>\n",
              "      <td>0</td>\n",
              "      <td>0</td>\n",
              "      <td>1</td>\n",
              "      <td>0</td>\n",
              "      <td>0</td>\n",
              "      <td>0</td>\n",
              "      <td>1</td>\n",
              "      <td>0</td>\n",
              "      <td>0</td>\n",
              "      <td>0</td>\n",
              "      <td>0</td>\n",
              "      <td>0</td>\n",
              "      <td>1</td>\n",
              "      <td>1</td>\n",
              "      <td>1</td>\n",
              "      <td>0</td>\n",
              "      <td>0</td>\n",
              "    </tr>\n",
              "    <tr>\n",
              "      <th>140</th>\n",
              "      <td>1</td>\n",
              "      <td>0</td>\n",
              "      <td>0</td>\n",
              "      <td>1</td>\n",
              "      <td>0</td>\n",
              "      <td>1</td>\n",
              "      <td>0</td>\n",
              "      <td>0</td>\n",
              "      <td>0</td>\n",
              "      <td>0</td>\n",
              "      <td>1</td>\n",
              "      <td>0</td>\n",
              "      <td>0</td>\n",
              "      <td>0</td>\n",
              "      <td>0</td>\n",
              "      <td>0</td>\n",
              "      <td>0</td>\n",
              "      <td>0</td>\n",
              "      <td>0</td>\n",
              "      <td>0</td>\n",
              "      <td>0</td>\n",
              "      <td>0</td>\n",
              "      <td>0</td>\n",
              "      <td>0</td>\n",
              "      <td>0</td>\n",
              "      <td>1</td>\n",
              "      <td>0</td>\n",
              "      <td>0</td>\n",
              "      <td>0</td>\n",
              "      <td>0</td>\n",
              "      <td>0</td>\n",
              "      <td>1</td>\n",
              "      <td>1</td>\n",
              "      <td>1</td>\n",
              "      <td>0</td>\n",
              "      <td>0</td>\n",
              "    </tr>\n",
              "    <tr>\n",
              "      <th>492</th>\n",
              "      <td>0</td>\n",
              "      <td>1</td>\n",
              "      <td>0</td>\n",
              "      <td>1</td>\n",
              "      <td>0</td>\n",
              "      <td>1</td>\n",
              "      <td>0</td>\n",
              "      <td>0</td>\n",
              "      <td>0</td>\n",
              "      <td>0</td>\n",
              "      <td>0</td>\n",
              "      <td>0</td>\n",
              "      <td>0</td>\n",
              "      <td>0</td>\n",
              "      <td>0</td>\n",
              "      <td>0</td>\n",
              "      <td>0</td>\n",
              "      <td>1</td>\n",
              "      <td>0</td>\n",
              "      <td>0</td>\n",
              "      <td>0</td>\n",
              "      <td>0</td>\n",
              "      <td>0</td>\n",
              "      <td>0</td>\n",
              "      <td>0</td>\n",
              "      <td>0</td>\n",
              "      <td>0</td>\n",
              "      <td>0</td>\n",
              "      <td>0</td>\n",
              "      <td>1</td>\n",
              "      <td>0</td>\n",
              "      <td>1</td>\n",
              "      <td>1</td>\n",
              "      <td>0</td>\n",
              "      <td>0</td>\n",
              "      <td>0</td>\n",
              "    </tr>\n",
              "    <tr>\n",
              "      <th>350</th>\n",
              "      <td>1</td>\n",
              "      <td>0</td>\n",
              "      <td>0</td>\n",
              "      <td>1</td>\n",
              "      <td>0</td>\n",
              "      <td>1</td>\n",
              "      <td>0</td>\n",
              "      <td>0</td>\n",
              "      <td>0</td>\n",
              "      <td>0</td>\n",
              "      <td>0</td>\n",
              "      <td>0</td>\n",
              "      <td>0</td>\n",
              "      <td>0</td>\n",
              "      <td>0</td>\n",
              "      <td>1</td>\n",
              "      <td>0</td>\n",
              "      <td>0</td>\n",
              "      <td>0</td>\n",
              "      <td>0</td>\n",
              "      <td>0</td>\n",
              "      <td>0</td>\n",
              "      <td>0</td>\n",
              "      <td>0</td>\n",
              "      <td>0</td>\n",
              "      <td>0</td>\n",
              "      <td>1</td>\n",
              "      <td>0</td>\n",
              "      <td>0</td>\n",
              "      <td>0</td>\n",
              "      <td>0</td>\n",
              "      <td>0</td>\n",
              "      <td>0</td>\n",
              "      <td>1</td>\n",
              "      <td>0</td>\n",
              "      <td>0</td>\n",
              "    </tr>\n",
              "  </tbody>\n",
              "</table>\n",
              "</div>"
            ],
            "text/plain": [
              "     A1_a  A1_b  A4_l  A4_u  A4_y  A5_g  ...  A7_z  A9_t  A10_t  A12_t  A13_p  A13_s\n",
              "14      1     0     0     1     0     1  ...     0     1      1      1      0      0\n",
              "586     0     1     0     1     0     1  ...     0     1      1      1      0      0\n",
              "140     1     0     0     1     0     1  ...     0     1      1      1      0      0\n",
              "492     0     1     0     1     0     1  ...     0     1      1      0      0      0\n",
              "350     1     0     0     1     0     1  ...     0     0      0      1      0      0\n",
              "\n",
              "[5 rows x 36 columns]"
            ]
          },
          "metadata": {
            "tags": []
          },
          "execution_count": 22
        }
      ]
    },
    {
      "cell_type": "markdown",
      "metadata": {
        "id": "87r5aeuTQYvS"
      },
      "source": [
        "### One Hot Encoding with Scikit-learn"
      ]
    },
    {
      "cell_type": "code",
      "metadata": {
        "id": "EAjxo3YAQYIM"
      },
      "source": [
        "# we create and train the encoder\n",
        "\n",
        "encoder = OneHotEncoder(categories='auto',\n",
        "                        drop='first',  # to return k-1, use frop=false to return k dummies\n",
        "                        sparse=False)"
      ],
      "execution_count": 23,
      "outputs": []
    },
    {
      "cell_type": "code",
      "metadata": {
        "colab": {
          "base_uri": "https://localhost:8080/"
        },
        "id": "u13k6XKPWdUN",
        "outputId": "f8b39c72-343e-4315-dd5d-04db6f31438b"
      },
      "source": [
        "# fit the encoder to the train set: it will learn the categories to encode\n",
        "encoder.fit(X_train[vars_categorical])"
      ],
      "execution_count": 24,
      "outputs": [
        {
          "output_type": "execute_result",
          "data": {
            "text/plain": [
              "OneHotEncoder(categories='auto', drop='first', dtype=<class 'numpy.float64'>,\n",
              "              handle_unknown='error', sparse=False)"
            ]
          },
          "metadata": {
            "tags": []
          },
          "execution_count": 24
        }
      ]
    },
    {
      "cell_type": "markdown",
      "metadata": {
        "id": "_RCPoA24XKD1"
      },
      "source": [
        "La fonction OneHotEncoder() de Scikit-learn n'encodera que les catégories apprises dans le train. S'il y a de nouvelles catégories dans l'ensemble de test, nous pouvons demander à l'encodeur de les ignorer ou de renvoyer une erreur avec l'argument handle_unknown='ignore' ou l'argument handle_unknown='error', respectivement"
      ]
    },
    {
      "cell_type": "code",
      "metadata": {
        "id": "kOMclmc0Wj71"
      },
      "source": [
        "# transform the train and test sets\n",
        "\n",
        "X_train_enc = encoder.transform(X_train[vars_categorical])\n",
        "X_test_enc = encoder.transform(X_test[vars_categorical])"
      ],
      "execution_count": 25,
      "outputs": []
    },
    {
      "cell_type": "code",
      "metadata": {
        "colab": {
          "base_uri": "https://localhost:8080/",
          "height": 204
        },
        "id": "94yYnu9rWmj8",
        "outputId": "72cb9df0-c3bb-44e0-b699-5f61cc764302"
      },
      "source": [
        "# let's inspect the train set\n",
        "\n",
        "pd.DataFrame(X_train_enc).head()"
      ],
      "execution_count": 29,
      "outputs": [
        {
          "output_type": "execute_result",
          "data": {
            "text/html": [
              "<div>\n",
              "<style scoped>\n",
              "    .dataframe tbody tr th:only-of-type {\n",
              "        vertical-align: middle;\n",
              "    }\n",
              "\n",
              "    .dataframe tbody tr th {\n",
              "        vertical-align: top;\n",
              "    }\n",
              "\n",
              "    .dataframe thead th {\n",
              "        text-align: right;\n",
              "    }\n",
              "</style>\n",
              "<table border=\"1\" class=\"dataframe\">\n",
              "  <thead>\n",
              "    <tr style=\"text-align: right;\">\n",
              "      <th></th>\n",
              "      <th>0</th>\n",
              "      <th>1</th>\n",
              "      <th>2</th>\n",
              "      <th>3</th>\n",
              "      <th>4</th>\n",
              "      <th>5</th>\n",
              "      <th>6</th>\n",
              "      <th>7</th>\n",
              "      <th>8</th>\n",
              "      <th>9</th>\n",
              "      <th>10</th>\n",
              "      <th>11</th>\n",
              "      <th>12</th>\n",
              "      <th>13</th>\n",
              "      <th>14</th>\n",
              "      <th>15</th>\n",
              "      <th>16</th>\n",
              "      <th>17</th>\n",
              "      <th>18</th>\n",
              "      <th>19</th>\n",
              "      <th>20</th>\n",
              "      <th>21</th>\n",
              "      <th>22</th>\n",
              "      <th>23</th>\n",
              "      <th>24</th>\n",
              "      <th>25</th>\n",
              "      <th>26</th>\n",
              "      <th>27</th>\n",
              "      <th>28</th>\n",
              "      <th>29</th>\n",
              "      <th>30</th>\n",
              "      <th>31</th>\n",
              "      <th>32</th>\n",
              "      <th>33</th>\n",
              "      <th>34</th>\n",
              "      <th>35</th>\n",
              "    </tr>\n",
              "  </thead>\n",
              "  <tbody>\n",
              "    <tr>\n",
              "      <th>0</th>\n",
              "      <td>1.0</td>\n",
              "      <td>0.0</td>\n",
              "      <td>0.0</td>\n",
              "      <td>1.0</td>\n",
              "      <td>0.0</td>\n",
              "      <td>1.0</td>\n",
              "      <td>0.0</td>\n",
              "      <td>0.0</td>\n",
              "      <td>0.0</td>\n",
              "      <td>1.0</td>\n",
              "      <td>0.0</td>\n",
              "      <td>0.0</td>\n",
              "      <td>0.0</td>\n",
              "      <td>0.0</td>\n",
              "      <td>0.0</td>\n",
              "      <td>0.0</td>\n",
              "      <td>0.0</td>\n",
              "      <td>0.0</td>\n",
              "      <td>0.0</td>\n",
              "      <td>0.0</td>\n",
              "      <td>0.0</td>\n",
              "      <td>0.0</td>\n",
              "      <td>0.0</td>\n",
              "      <td>0.0</td>\n",
              "      <td>0.0</td>\n",
              "      <td>0.0</td>\n",
              "      <td>0.0</td>\n",
              "      <td>0.0</td>\n",
              "      <td>0.0</td>\n",
              "      <td>1.0</td>\n",
              "      <td>0.0</td>\n",
              "      <td>1.0</td>\n",
              "      <td>1.0</td>\n",
              "      <td>1.0</td>\n",
              "      <td>0.0</td>\n",
              "      <td>0.0</td>\n",
              "    </tr>\n",
              "    <tr>\n",
              "      <th>1</th>\n",
              "      <td>1.0</td>\n",
              "      <td>0.0</td>\n",
              "      <td>0.0</td>\n",
              "      <td>1.0</td>\n",
              "      <td>0.0</td>\n",
              "      <td>1.0</td>\n",
              "      <td>0.0</td>\n",
              "      <td>0.0</td>\n",
              "      <td>0.0</td>\n",
              "      <td>0.0</td>\n",
              "      <td>0.0</td>\n",
              "      <td>0.0</td>\n",
              "      <td>0.0</td>\n",
              "      <td>0.0</td>\n",
              "      <td>0.0</td>\n",
              "      <td>0.0</td>\n",
              "      <td>0.0</td>\n",
              "      <td>0.0</td>\n",
              "      <td>1.0</td>\n",
              "      <td>0.0</td>\n",
              "      <td>0.0</td>\n",
              "      <td>0.0</td>\n",
              "      <td>0.0</td>\n",
              "      <td>0.0</td>\n",
              "      <td>0.0</td>\n",
              "      <td>0.0</td>\n",
              "      <td>0.0</td>\n",
              "      <td>0.0</td>\n",
              "      <td>0.0</td>\n",
              "      <td>1.0</td>\n",
              "      <td>0.0</td>\n",
              "      <td>0.0</td>\n",
              "      <td>0.0</td>\n",
              "      <td>0.0</td>\n",
              "      <td>0.0</td>\n",
              "      <td>0.0</td>\n",
              "    </tr>\n",
              "    <tr>\n",
              "      <th>2</th>\n",
              "      <td>0.0</td>\n",
              "      <td>1.0</td>\n",
              "      <td>0.0</td>\n",
              "      <td>0.0</td>\n",
              "      <td>1.0</td>\n",
              "      <td>0.0</td>\n",
              "      <td>0.0</td>\n",
              "      <td>1.0</td>\n",
              "      <td>0.0</td>\n",
              "      <td>0.0</td>\n",
              "      <td>0.0</td>\n",
              "      <td>0.0</td>\n",
              "      <td>0.0</td>\n",
              "      <td>0.0</td>\n",
              "      <td>0.0</td>\n",
              "      <td>0.0</td>\n",
              "      <td>0.0</td>\n",
              "      <td>0.0</td>\n",
              "      <td>0.0</td>\n",
              "      <td>0.0</td>\n",
              "      <td>1.0</td>\n",
              "      <td>0.0</td>\n",
              "      <td>0.0</td>\n",
              "      <td>0.0</td>\n",
              "      <td>0.0</td>\n",
              "      <td>0.0</td>\n",
              "      <td>0.0</td>\n",
              "      <td>0.0</td>\n",
              "      <td>0.0</td>\n",
              "      <td>1.0</td>\n",
              "      <td>0.0</td>\n",
              "      <td>1.0</td>\n",
              "      <td>1.0</td>\n",
              "      <td>0.0</td>\n",
              "      <td>0.0</td>\n",
              "      <td>0.0</td>\n",
              "    </tr>\n",
              "    <tr>\n",
              "      <th>3</th>\n",
              "      <td>0.0</td>\n",
              "      <td>1.0</td>\n",
              "      <td>0.0</td>\n",
              "      <td>0.0</td>\n",
              "      <td>1.0</td>\n",
              "      <td>0.0</td>\n",
              "      <td>0.0</td>\n",
              "      <td>1.0</td>\n",
              "      <td>0.0</td>\n",
              "      <td>0.0</td>\n",
              "      <td>0.0</td>\n",
              "      <td>0.0</td>\n",
              "      <td>0.0</td>\n",
              "      <td>1.0</td>\n",
              "      <td>0.0</td>\n",
              "      <td>0.0</td>\n",
              "      <td>0.0</td>\n",
              "      <td>0.0</td>\n",
              "      <td>0.0</td>\n",
              "      <td>0.0</td>\n",
              "      <td>0.0</td>\n",
              "      <td>0.0</td>\n",
              "      <td>0.0</td>\n",
              "      <td>0.0</td>\n",
              "      <td>1.0</td>\n",
              "      <td>0.0</td>\n",
              "      <td>0.0</td>\n",
              "      <td>0.0</td>\n",
              "      <td>0.0</td>\n",
              "      <td>0.0</td>\n",
              "      <td>0.0</td>\n",
              "      <td>0.0</td>\n",
              "      <td>0.0</td>\n",
              "      <td>0.0</td>\n",
              "      <td>0.0</td>\n",
              "      <td>0.0</td>\n",
              "    </tr>\n",
              "    <tr>\n",
              "      <th>4</th>\n",
              "      <td>0.0</td>\n",
              "      <td>1.0</td>\n",
              "      <td>0.0</td>\n",
              "      <td>1.0</td>\n",
              "      <td>0.0</td>\n",
              "      <td>1.0</td>\n",
              "      <td>0.0</td>\n",
              "      <td>0.0</td>\n",
              "      <td>0.0</td>\n",
              "      <td>0.0</td>\n",
              "      <td>0.0</td>\n",
              "      <td>0.0</td>\n",
              "      <td>0.0</td>\n",
              "      <td>0.0</td>\n",
              "      <td>0.0</td>\n",
              "      <td>0.0</td>\n",
              "      <td>0.0</td>\n",
              "      <td>1.0</td>\n",
              "      <td>0.0</td>\n",
              "      <td>0.0</td>\n",
              "      <td>0.0</td>\n",
              "      <td>0.0</td>\n",
              "      <td>0.0</td>\n",
              "      <td>0.0</td>\n",
              "      <td>0.0</td>\n",
              "      <td>0.0</td>\n",
              "      <td>0.0</td>\n",
              "      <td>0.0</td>\n",
              "      <td>0.0</td>\n",
              "      <td>1.0</td>\n",
              "      <td>0.0</td>\n",
              "      <td>1.0</td>\n",
              "      <td>1.0</td>\n",
              "      <td>1.0</td>\n",
              "      <td>0.0</td>\n",
              "      <td>0.0</td>\n",
              "    </tr>\n",
              "  </tbody>\n",
              "</table>\n",
              "</div>"
            ],
            "text/plain": [
              "    0    1    2    3    4    5    6   ...   29   30   31   32   33   34   35\n",
              "0  1.0  0.0  0.0  1.0  0.0  1.0  0.0  ...  1.0  0.0  1.0  1.0  1.0  0.0  0.0\n",
              "1  1.0  0.0  0.0  1.0  0.0  1.0  0.0  ...  1.0  0.0  0.0  0.0  0.0  0.0  0.0\n",
              "2  0.0  1.0  0.0  0.0  1.0  0.0  0.0  ...  1.0  0.0  1.0  1.0  0.0  0.0  0.0\n",
              "3  0.0  1.0  0.0  0.0  1.0  0.0  0.0  ...  0.0  0.0  0.0  0.0  0.0  0.0  0.0\n",
              "4  0.0  1.0  0.0  1.0  0.0  1.0  0.0  ...  1.0  0.0  1.0  1.0  1.0  0.0  0.0\n",
              "\n",
              "[5 rows x 36 columns]"
            ]
          },
          "metadata": {
            "tags": []
          },
          "execution_count": 29
        }
      ]
    },
    {
      "cell_type": "markdown",
      "metadata": {
        "id": "XsKt7vTBXui5"
      },
      "source": [
        "Malheureusement, les noms des caractéristiques ne sont pas conservés dans le tableau NumPy, par conséquent, identifier quelle caractéristique a été dérivée de quelle variable n'est pas simple."
      ]
    },
    {
      "cell_type": "code",
      "metadata": {
        "colab": {
          "base_uri": "https://localhost:8080/",
          "height": 204
        },
        "id": "r9ZRZYJvWq-8",
        "outputId": "2ea4201f-eeae-430e-bbc9-aa78468ea747"
      },
      "source": [
        "# let's inspect the test set\n",
        "\n",
        "pd.DataFrame(X_test_enc).head()"
      ],
      "execution_count": 27,
      "outputs": [
        {
          "output_type": "execute_result",
          "data": {
            "text/html": [
              "<div>\n",
              "<style scoped>\n",
              "    .dataframe tbody tr th:only-of-type {\n",
              "        vertical-align: middle;\n",
              "    }\n",
              "\n",
              "    .dataframe tbody tr th {\n",
              "        vertical-align: top;\n",
              "    }\n",
              "\n",
              "    .dataframe thead th {\n",
              "        text-align: right;\n",
              "    }\n",
              "</style>\n",
              "<table border=\"1\" class=\"dataframe\">\n",
              "  <thead>\n",
              "    <tr style=\"text-align: right;\">\n",
              "      <th></th>\n",
              "      <th>0</th>\n",
              "      <th>1</th>\n",
              "      <th>2</th>\n",
              "      <th>3</th>\n",
              "      <th>4</th>\n",
              "      <th>5</th>\n",
              "      <th>6</th>\n",
              "      <th>7</th>\n",
              "      <th>8</th>\n",
              "      <th>9</th>\n",
              "      <th>10</th>\n",
              "      <th>11</th>\n",
              "      <th>12</th>\n",
              "      <th>13</th>\n",
              "      <th>14</th>\n",
              "      <th>15</th>\n",
              "      <th>16</th>\n",
              "      <th>17</th>\n",
              "      <th>18</th>\n",
              "      <th>19</th>\n",
              "      <th>20</th>\n",
              "      <th>21</th>\n",
              "      <th>22</th>\n",
              "      <th>23</th>\n",
              "      <th>24</th>\n",
              "      <th>25</th>\n",
              "      <th>26</th>\n",
              "      <th>27</th>\n",
              "      <th>28</th>\n",
              "      <th>29</th>\n",
              "      <th>30</th>\n",
              "      <th>31</th>\n",
              "      <th>32</th>\n",
              "      <th>33</th>\n",
              "      <th>34</th>\n",
              "      <th>35</th>\n",
              "    </tr>\n",
              "  </thead>\n",
              "  <tbody>\n",
              "    <tr>\n",
              "      <th>0</th>\n",
              "      <td>1.0</td>\n",
              "      <td>0.0</td>\n",
              "      <td>0.0</td>\n",
              "      <td>1.0</td>\n",
              "      <td>0.0</td>\n",
              "      <td>1.0</td>\n",
              "      <td>0.0</td>\n",
              "      <td>0.0</td>\n",
              "      <td>0.0</td>\n",
              "      <td>0.0</td>\n",
              "      <td>0.0</td>\n",
              "      <td>0.0</td>\n",
              "      <td>0.0</td>\n",
              "      <td>0.0</td>\n",
              "      <td>0.0</td>\n",
              "      <td>0.0</td>\n",
              "      <td>0.0</td>\n",
              "      <td>0.0</td>\n",
              "      <td>1.0</td>\n",
              "      <td>0.0</td>\n",
              "      <td>0.0</td>\n",
              "      <td>0.0</td>\n",
              "      <td>0.0</td>\n",
              "      <td>0.0</td>\n",
              "      <td>0.0</td>\n",
              "      <td>0.0</td>\n",
              "      <td>0.0</td>\n",
              "      <td>0.0</td>\n",
              "      <td>0.0</td>\n",
              "      <td>1.0</td>\n",
              "      <td>0.0</td>\n",
              "      <td>1.0</td>\n",
              "      <td>1.0</td>\n",
              "      <td>1.0</td>\n",
              "      <td>0.0</td>\n",
              "      <td>0.0</td>\n",
              "    </tr>\n",
              "    <tr>\n",
              "      <th>1</th>\n",
              "      <td>0.0</td>\n",
              "      <td>1.0</td>\n",
              "      <td>0.0</td>\n",
              "      <td>1.0</td>\n",
              "      <td>0.0</td>\n",
              "      <td>1.0</td>\n",
              "      <td>0.0</td>\n",
              "      <td>0.0</td>\n",
              "      <td>0.0</td>\n",
              "      <td>0.0</td>\n",
              "      <td>0.0</td>\n",
              "      <td>0.0</td>\n",
              "      <td>0.0</td>\n",
              "      <td>0.0</td>\n",
              "      <td>0.0</td>\n",
              "      <td>0.0</td>\n",
              "      <td>0.0</td>\n",
              "      <td>0.0</td>\n",
              "      <td>0.0</td>\n",
              "      <td>0.0</td>\n",
              "      <td>0.0</td>\n",
              "      <td>1.0</td>\n",
              "      <td>0.0</td>\n",
              "      <td>0.0</td>\n",
              "      <td>0.0</td>\n",
              "      <td>1.0</td>\n",
              "      <td>0.0</td>\n",
              "      <td>0.0</td>\n",
              "      <td>0.0</td>\n",
              "      <td>0.0</td>\n",
              "      <td>0.0</td>\n",
              "      <td>1.0</td>\n",
              "      <td>1.0</td>\n",
              "      <td>1.0</td>\n",
              "      <td>0.0</td>\n",
              "      <td>0.0</td>\n",
              "    </tr>\n",
              "    <tr>\n",
              "      <th>2</th>\n",
              "      <td>1.0</td>\n",
              "      <td>0.0</td>\n",
              "      <td>0.0</td>\n",
              "      <td>1.0</td>\n",
              "      <td>0.0</td>\n",
              "      <td>1.0</td>\n",
              "      <td>0.0</td>\n",
              "      <td>0.0</td>\n",
              "      <td>0.0</td>\n",
              "      <td>0.0</td>\n",
              "      <td>1.0</td>\n",
              "      <td>0.0</td>\n",
              "      <td>0.0</td>\n",
              "      <td>0.0</td>\n",
              "      <td>0.0</td>\n",
              "      <td>0.0</td>\n",
              "      <td>0.0</td>\n",
              "      <td>0.0</td>\n",
              "      <td>0.0</td>\n",
              "      <td>0.0</td>\n",
              "      <td>0.0</td>\n",
              "      <td>0.0</td>\n",
              "      <td>0.0</td>\n",
              "      <td>0.0</td>\n",
              "      <td>0.0</td>\n",
              "      <td>1.0</td>\n",
              "      <td>0.0</td>\n",
              "      <td>0.0</td>\n",
              "      <td>0.0</td>\n",
              "      <td>0.0</td>\n",
              "      <td>0.0</td>\n",
              "      <td>1.0</td>\n",
              "      <td>1.0</td>\n",
              "      <td>1.0</td>\n",
              "      <td>0.0</td>\n",
              "      <td>0.0</td>\n",
              "    </tr>\n",
              "    <tr>\n",
              "      <th>3</th>\n",
              "      <td>0.0</td>\n",
              "      <td>1.0</td>\n",
              "      <td>0.0</td>\n",
              "      <td>1.0</td>\n",
              "      <td>0.0</td>\n",
              "      <td>1.0</td>\n",
              "      <td>0.0</td>\n",
              "      <td>0.0</td>\n",
              "      <td>0.0</td>\n",
              "      <td>0.0</td>\n",
              "      <td>0.0</td>\n",
              "      <td>0.0</td>\n",
              "      <td>0.0</td>\n",
              "      <td>0.0</td>\n",
              "      <td>0.0</td>\n",
              "      <td>0.0</td>\n",
              "      <td>0.0</td>\n",
              "      <td>1.0</td>\n",
              "      <td>0.0</td>\n",
              "      <td>0.0</td>\n",
              "      <td>0.0</td>\n",
              "      <td>0.0</td>\n",
              "      <td>0.0</td>\n",
              "      <td>0.0</td>\n",
              "      <td>0.0</td>\n",
              "      <td>0.0</td>\n",
              "      <td>0.0</td>\n",
              "      <td>0.0</td>\n",
              "      <td>0.0</td>\n",
              "      <td>1.0</td>\n",
              "      <td>0.0</td>\n",
              "      <td>1.0</td>\n",
              "      <td>1.0</td>\n",
              "      <td>0.0</td>\n",
              "      <td>0.0</td>\n",
              "      <td>0.0</td>\n",
              "    </tr>\n",
              "    <tr>\n",
              "      <th>4</th>\n",
              "      <td>1.0</td>\n",
              "      <td>0.0</td>\n",
              "      <td>0.0</td>\n",
              "      <td>1.0</td>\n",
              "      <td>0.0</td>\n",
              "      <td>1.0</td>\n",
              "      <td>0.0</td>\n",
              "      <td>0.0</td>\n",
              "      <td>0.0</td>\n",
              "      <td>0.0</td>\n",
              "      <td>0.0</td>\n",
              "      <td>0.0</td>\n",
              "      <td>0.0</td>\n",
              "      <td>0.0</td>\n",
              "      <td>0.0</td>\n",
              "      <td>1.0</td>\n",
              "      <td>0.0</td>\n",
              "      <td>0.0</td>\n",
              "      <td>0.0</td>\n",
              "      <td>0.0</td>\n",
              "      <td>0.0</td>\n",
              "      <td>0.0</td>\n",
              "      <td>0.0</td>\n",
              "      <td>0.0</td>\n",
              "      <td>0.0</td>\n",
              "      <td>0.0</td>\n",
              "      <td>1.0</td>\n",
              "      <td>0.0</td>\n",
              "      <td>0.0</td>\n",
              "      <td>0.0</td>\n",
              "      <td>0.0</td>\n",
              "      <td>0.0</td>\n",
              "      <td>0.0</td>\n",
              "      <td>1.0</td>\n",
              "      <td>0.0</td>\n",
              "      <td>0.0</td>\n",
              "    </tr>\n",
              "  </tbody>\n",
              "</table>\n",
              "</div>"
            ],
            "text/plain": [
              "    0    1    2    3    4    5    6   ...   29   30   31   32   33   34   35\n",
              "0  1.0  0.0  0.0  1.0  0.0  1.0  0.0  ...  1.0  0.0  1.0  1.0  1.0  0.0  0.0\n",
              "1  0.0  1.0  0.0  1.0  0.0  1.0  0.0  ...  0.0  0.0  1.0  1.0  1.0  0.0  0.0\n",
              "2  1.0  0.0  0.0  1.0  0.0  1.0  0.0  ...  0.0  0.0  1.0  1.0  1.0  0.0  0.0\n",
              "3  0.0  1.0  0.0  1.0  0.0  1.0  0.0  ...  1.0  0.0  1.0  1.0  0.0  0.0  0.0\n",
              "4  1.0  0.0  0.0  1.0  0.0  1.0  0.0  ...  0.0  0.0  0.0  0.0  1.0  0.0  0.0\n",
              "\n",
              "[5 rows x 36 columns]"
            ]
          },
          "metadata": {
            "tags": []
          },
          "execution_count": 27
        }
      ]
    },
    {
      "cell_type": "markdown",
      "metadata": {
        "id": "H1KH8kv1YPYK"
      },
      "source": [
        "## Encodage à One-Hote des catégories fréquentes\n",
        "L'encodage one-hot représente chaque catégorie d'une variable catégorielle avec une variable binaire. Par conséquent, l'encodage one-hot de variables hautement cardinales ou d'ensembles de données avec plusieurs caractéristiques catégorielles peut étendre considérablement l'espace des fonctionnalités.Pour réduire le nombre de variables binaires, nous pouvons effectuer un encodage One_Hot uniquement pour les catégories les plus fréquentes. Un encodage one-Hot des catégories supérieures équivaut à traiter les catégories restantes, moins fréquentes, comme une seule et unique catégorie , dont nous discuterons dans la recette Regroupement des catégories rares ou peu fréquentes vers la fin de cet article. "
      ]
    },
    {
      "cell_type": "markdown",
      "metadata": {
        "id": "V7g2rpyxaSrX"
      },
      "source": [
        "Les catégories les plus fréquentes doivent être déterminées dans la rame. Comme pour tout algorithme d'apprentissage automatique, il s'agit d'éviter le surapprentissage et les fuites d'informations"
      ]
    },
    {
      "cell_type": "code",
      "metadata": {
        "colab": {
          "base_uri": "https://localhost:8080/"
        },
        "id": "tfMF7xzPaptX",
        "outputId": "1703b950-6f64-4e82-f97b-941d4d12c15d"
      },
      "source": [
        "# let's separate into training and testing set\n",
        "\n",
        "X_train, X_test, y_train, y_test = train_test_split(\n",
        "    data.drop(labels=['A16'], axis=1),  # predictors\n",
        "    data['A16'],  # target\n",
        "    test_size=0.3,  # percentage of obs in test set\n",
        "    random_state=0)  # seed to ensure reproducibility\n",
        "\n",
        "X_train.shape, X_test.shape"
      ],
      "execution_count": 30,
      "outputs": [
        {
          "output_type": "execute_result",
          "data": {
            "text/plain": [
              "((483, 15), (207, 15))"
            ]
          },
          "metadata": {
            "tags": []
          },
          "execution_count": 30
        }
      ]
    },
    {
      "cell_type": "markdown",
      "metadata": {
        "id": "Qjo-ucxcakHm"
      },
      "source": [
        "### Encodage à One-Hote des catégories fréquentes avec Pands"
      ]
    },
    {
      "cell_type": "code",
      "metadata": {
        "colab": {
          "base_uri": "https://localhost:8080/"
        },
        "id": "ttWl2ZE5awbP",
        "outputId": "a4f618c9-ced2-4e58-f48a-0508f2067280"
      },
      "source": [
        "# let's inspect the unique categories of A6\n",
        "\n",
        "X_train['A6'].unique()"
      ],
      "execution_count": 31,
      "outputs": [
        {
          "output_type": "execute_result",
          "data": {
            "text/plain": [
              "array(['c', 'q', 'w', 'ff', 'm', 'i', 'e', 'cc', 'x', 'd', 'k', 'j',\n",
              "       'Missing', 'aa', 'r'], dtype=object)"
            ]
          },
          "metadata": {
            "tags": []
          },
          "execution_count": 31
        }
      ]
    },
    {
      "cell_type": "code",
      "metadata": {
        "colab": {
          "base_uri": "https://localhost:8080/"
        },
        "id": "edeWjFCuayeR",
        "outputId": "db9d83a3-344b-4ec0-b7c3-929a75baf46d"
      },
      "source": [
        "\n",
        "# let's find the top 5 most frequent categories in A6\n",
        "\n",
        "X_train['A6'].value_counts().sort_values(ascending=False).head(5)"
      ],
      "execution_count": 32,
      "outputs": [
        {
          "output_type": "execute_result",
          "data": {
            "text/plain": [
              "c    93\n",
              "q    56\n",
              "w    48\n",
              "i    41\n",
              "k    38\n",
              "Name: A6, dtype: int64"
            ]
          },
          "metadata": {
            "tags": []
          },
          "execution_count": 32
        }
      ]
    },
    {
      "cell_type": "code",
      "metadata": {
        "colab": {
          "base_uri": "https://localhost:8080/"
        },
        "id": "quc4KC7Ka2u6",
        "outputId": "3c92c4e7-ccd5-476c-e339-8621b9502b68"
      },
      "source": [
        "\n",
        "# let's make a list with the most frequent categories in A6\n",
        "\n",
        "top_5 = [\n",
        "    x for x in X_train['A6'].value_counts().sort_values(\n",
        "        ascending=False).head(5).index\n",
        "]\n",
        "\n",
        "top_5"
      ],
      "execution_count": 33,
      "outputs": [
        {
          "output_type": "execute_result",
          "data": {
            "text/plain": [
              "['c', 'q', 'w', 'i', 'k']"
            ]
          },
          "metadata": {
            "tags": []
          },
          "execution_count": 33
        }
      ]
    },
    {
      "cell_type": "code",
      "metadata": {
        "id": "7115LK7vbBtg"
      },
      "source": [
        "# and now let's create 5 binary variables to encode A6\n",
        "# in train and test sets\n",
        "\n",
        "for label in top_5:\n",
        "    X_train['A6' + '_' + label] = np.where(\n",
        "        X_train['A6'] == label, 1, 0)\n",
        "    \n",
        "    X_test['A6' + '_' + label] = np.where(\n",
        "        X_test['A6'] == label, 1, 0)"
      ],
      "execution_count": 34,
      "outputs": []
    },
    {
      "cell_type": "code",
      "metadata": {
        "colab": {
          "base_uri": "https://localhost:8080/"
        },
        "id": "YmZi8_t3bNzB",
        "outputId": "c6c49a07-5110-427e-dfb5-93b9e3e38e60"
      },
      "source": [
        "# let's visualise the result\n",
        "\n",
        "print(X_train[['A6'] + ['A6'+'_'+c for c in top_5]].head(10))"
      ],
      "execution_count": 35,
      "outputs": [
        {
          "output_type": "stream",
          "text": [
            "     A6  A6_c  A6_q  A6_w  A6_i  A6_k\n",
            "596   c     1     0     0     0     0\n",
            "303   q     0     1     0     0     0\n",
            "204   w     0     0     1     0     0\n",
            "351  ff     0     0     0     0     0\n",
            "118   m     0     0     0     0     0\n",
            "247   q     0     1     0     0     0\n",
            "652   i     0     0     0     1     0\n",
            "513   e     0     0     0     0     0\n",
            "230  cc     0     0     0     0     0\n",
            "250   e     0     0     0     0     0\n"
          ],
          "name": "stdout"
        }
      ]
    },
    {
      "cell_type": "markdown",
      "metadata": {
        "id": "3XzXDmAOb1d3"
      },
      "source": [
        "### Encodage à One-Hote des catégories fréquentes avec Feature-Engine\n",
        "\n",
        "Nous pouvons simplifier cette procédure, c'est-à-dire l'encodage One-hot des catégories fréquentes, avec Feature-engine. Tout d'abord, chargeons et divisons l'ensemble de données. "
      ]
    },
    {
      "cell_type": "code",
      "metadata": {
        "colab": {
          "base_uri": "https://localhost:8080/"
        },
        "id": "WeAQGpHVcNJh",
        "outputId": "7c55f385-e2d5-43c5-ae0a-102a5f7f53b8"
      },
      "source": [
        "!pip install feature_engine"
      ],
      "execution_count": 36,
      "outputs": [
        {
          "output_type": "stream",
          "text": [
            "Collecting feature_engine\n",
            "  Downloading feature_engine-1.1.1-py2.py3-none-any.whl (179 kB)\n",
            "\u001b[?25l\r\u001b[K     |█▉                              | 10 kB 27.3 MB/s eta 0:00:01\r\u001b[K     |███▋                            | 20 kB 21.6 MB/s eta 0:00:01\r\u001b[K     |█████▌                          | 30 kB 11.2 MB/s eta 0:00:01\r\u001b[K     |███████▎                        | 40 kB 8.9 MB/s eta 0:00:01\r\u001b[K     |█████████                       | 51 kB 4.9 MB/s eta 0:00:01\r\u001b[K     |███████████                     | 61 kB 5.4 MB/s eta 0:00:01\r\u001b[K     |████████████▊                   | 71 kB 5.4 MB/s eta 0:00:01\r\u001b[K     |██████████████▋                 | 81 kB 6.1 MB/s eta 0:00:01\r\u001b[K     |████████████████▍               | 92 kB 6.1 MB/s eta 0:00:01\r\u001b[K     |██████████████████▏             | 102 kB 5.2 MB/s eta 0:00:01\r\u001b[K     |████████████████████            | 112 kB 5.2 MB/s eta 0:00:01\r\u001b[K     |█████████████████████▉          | 122 kB 5.2 MB/s eta 0:00:01\r\u001b[K     |███████████████████████▊        | 133 kB 5.2 MB/s eta 0:00:01\r\u001b[K     |█████████████████████████▌      | 143 kB 5.2 MB/s eta 0:00:01\r\u001b[K     |███████████████████████████▎    | 153 kB 5.2 MB/s eta 0:00:01\r\u001b[K     |█████████████████████████████▏  | 163 kB 5.2 MB/s eta 0:00:01\r\u001b[K     |███████████████████████████████ | 174 kB 5.2 MB/s eta 0:00:01\r\u001b[K     |████████████████████████████████| 179 kB 5.2 MB/s \n",
            "\u001b[?25hRequirement already satisfied: scipy>=1.4.1 in /usr/local/lib/python3.7/dist-packages (from feature_engine) (1.4.1)\n",
            "Collecting statsmodels>=0.11.1\n",
            "  Downloading statsmodels-0.12.2-cp37-cp37m-manylinux1_x86_64.whl (9.5 MB)\n",
            "\u001b[K     |████████████████████████████████| 9.5 MB 30.6 MB/s \n",
            "\u001b[?25hRequirement already satisfied: pandas>=1.0.3 in /usr/local/lib/python3.7/dist-packages (from feature_engine) (1.1.5)\n",
            "Requirement already satisfied: numpy>=1.18.2 in /usr/local/lib/python3.7/dist-packages (from feature_engine) (1.19.5)\n",
            "Requirement already satisfied: scikit-learn>=0.22.2 in /usr/local/lib/python3.7/dist-packages (from feature_engine) (0.22.2.post1)\n",
            "Requirement already satisfied: python-dateutil>=2.7.3 in /usr/local/lib/python3.7/dist-packages (from pandas>=1.0.3->feature_engine) (2.8.2)\n",
            "Requirement already satisfied: pytz>=2017.2 in /usr/local/lib/python3.7/dist-packages (from pandas>=1.0.3->feature_engine) (2018.9)\n",
            "Requirement already satisfied: six>=1.5 in /usr/local/lib/python3.7/dist-packages (from python-dateutil>=2.7.3->pandas>=1.0.3->feature_engine) (1.15.0)\n",
            "Requirement already satisfied: joblib>=0.11 in /usr/local/lib/python3.7/dist-packages (from scikit-learn>=0.22.2->feature_engine) (1.0.1)\n",
            "Requirement already satisfied: patsy>=0.5 in /usr/local/lib/python3.7/dist-packages (from statsmodels>=0.11.1->feature_engine) (0.5.1)\n",
            "Installing collected packages: statsmodels, feature-engine\n",
            "  Attempting uninstall: statsmodels\n",
            "    Found existing installation: statsmodels 0.10.2\n",
            "    Uninstalling statsmodels-0.10.2:\n",
            "      Successfully uninstalled statsmodels-0.10.2\n",
            "Successfully installed feature-engine-1.1.1 statsmodels-0.12.2\n"
          ],
          "name": "stdout"
        }
      ]
    },
    {
      "cell_type": "code",
      "metadata": {
        "id": "OZOsLWxRcXuh"
      },
      "source": [
        "# for one hot encoding with feature-engine\n",
        "from feature_engine.encoding import OneHotEncoder"
      ],
      "execution_count": 39,
      "outputs": []
    },
    {
      "cell_type": "code",
      "metadata": {
        "colab": {
          "base_uri": "https://localhost:8080/"
        },
        "id": "LuvdriR_dF0n",
        "outputId": "b5352d7e-63e2-4ff3-b4e8-b1c8ec9ac57b"
      },
      "source": [
        "ohe_enc = OneHotEncoder(\n",
        "    \n",
        "    # to indicate how many top categories\n",
        "    top_categories=5,  \n",
        "    \n",
        "    # we can select which variables to encode\n",
        "    variables=['A6', 'A7'],\n",
        "    \n",
        "    # to indicate if we drop one of the binaries\n",
        "    drop_last=False)\n",
        "\n",
        "ohe_enc.fit(X_train)"
      ],
      "execution_count": 40,
      "outputs": [
        {
          "output_type": "execute_result",
          "data": {
            "text/plain": [
              "OneHotEncoder(drop_last=False, drop_last_binary=False, ignore_format=False,\n",
              "              top_categories=5, variables=['A6', 'A7'])"
            ]
          },
          "metadata": {
            "tags": []
          },
          "execution_count": 40
        }
      ]
    },
    {
      "cell_type": "markdown",
      "metadata": {
        "id": "DclWgLUudvoA"
      },
      "source": [
        "OneHotCategoricalEncoder() de Feature-engine encode toutes les variables catégorielles dans l'ensemble de données par défaut, sauf si nous spécifions les variables à encoder "
      ]
    },
    {
      "cell_type": "code",
      "metadata": {
        "colab": {
          "base_uri": "https://localhost:8080/"
        },
        "id": "u18e-LrndPF4",
        "outputId": "e9cace89-44b4-4488-a1c2-804bc6022ccd"
      },
      "source": [
        "# the encoder stores the variables it will encode\n",
        "\n",
        "ohe_enc.variables"
      ],
      "execution_count": 41,
      "outputs": [
        {
          "output_type": "execute_result",
          "data": {
            "text/plain": [
              "['A6', 'A7']"
            ]
          },
          "metadata": {
            "tags": []
          },
          "execution_count": 41
        }
      ]
    },
    {
      "cell_type": "code",
      "metadata": {
        "colab": {
          "base_uri": "https://localhost:8080/"
        },
        "id": "i7AATFnDdRlj",
        "outputId": "f137da3c-4f0b-4268-ef0d-3275f632baf7"
      },
      "source": [
        "# the encoder stores the most frequent labels per variable\n",
        "\n",
        "ohe_enc.encoder_dict_"
      ],
      "execution_count": 42,
      "outputs": [
        {
          "output_type": "execute_result",
          "data": {
            "text/plain": [
              "{'A6': ['c', 'q', 'w', 'i', 'k'], 'A7': ['v', 'h', 'ff', 'bb', 'z']}"
            ]
          },
          "metadata": {
            "tags": []
          },
          "execution_count": 42
        }
      ]
    },
    {
      "cell_type": "code",
      "metadata": {
        "id": "sfTdhfmIdUyP"
      },
      "source": [
        "# let's transform train and test sets\n",
        "\n",
        "X_train_enc = ohe_enc.transform(X_train)\n",
        "X_test_enc = ohe_enc.transform(X_test)"
      ],
      "execution_count": 43,
      "outputs": []
    },
    {
      "cell_type": "code",
      "metadata": {
        "colab": {
          "base_uri": "https://localhost:8080/",
          "height": 204
        },
        "id": "cU5C8CSjdXyH",
        "outputId": "c6c875bb-b5ff-4475-f03a-37a77ffa74b8"
      },
      "source": [
        "# let's inspect the result\n",
        "\n",
        "X_train_enc.head()"
      ],
      "execution_count": 44,
      "outputs": [
        {
          "output_type": "execute_result",
          "data": {
            "text/html": [
              "<div>\n",
              "<style scoped>\n",
              "    .dataframe tbody tr th:only-of-type {\n",
              "        vertical-align: middle;\n",
              "    }\n",
              "\n",
              "    .dataframe tbody tr th {\n",
              "        vertical-align: top;\n",
              "    }\n",
              "\n",
              "    .dataframe thead th {\n",
              "        text-align: right;\n",
              "    }\n",
              "</style>\n",
              "<table border=\"1\" class=\"dataframe\">\n",
              "  <thead>\n",
              "    <tr style=\"text-align: right;\">\n",
              "      <th></th>\n",
              "      <th>A1</th>\n",
              "      <th>A2</th>\n",
              "      <th>A3</th>\n",
              "      <th>A4</th>\n",
              "      <th>A5</th>\n",
              "      <th>A8</th>\n",
              "      <th>A9</th>\n",
              "      <th>A10</th>\n",
              "      <th>A11</th>\n",
              "      <th>A12</th>\n",
              "      <th>A13</th>\n",
              "      <th>A14</th>\n",
              "      <th>A15</th>\n",
              "      <th>A6_c</th>\n",
              "      <th>A6_q</th>\n",
              "      <th>A6_w</th>\n",
              "      <th>A6_i</th>\n",
              "      <th>A6_k</th>\n",
              "      <th>A7_v</th>\n",
              "      <th>A7_h</th>\n",
              "      <th>A7_ff</th>\n",
              "      <th>A7_bb</th>\n",
              "      <th>A7_z</th>\n",
              "    </tr>\n",
              "  </thead>\n",
              "  <tbody>\n",
              "    <tr>\n",
              "      <th>596</th>\n",
              "      <td>a</td>\n",
              "      <td>46.08</td>\n",
              "      <td>3.000</td>\n",
              "      <td>u</td>\n",
              "      <td>g</td>\n",
              "      <td>2.375</td>\n",
              "      <td>t</td>\n",
              "      <td>t</td>\n",
              "      <td>8</td>\n",
              "      <td>t</td>\n",
              "      <td>g</td>\n",
              "      <td>396.0</td>\n",
              "      <td>4159</td>\n",
              "      <td>1</td>\n",
              "      <td>0</td>\n",
              "      <td>0</td>\n",
              "      <td>0</td>\n",
              "      <td>0</td>\n",
              "      <td>1</td>\n",
              "      <td>0</td>\n",
              "      <td>0</td>\n",
              "      <td>0</td>\n",
              "      <td>0</td>\n",
              "    </tr>\n",
              "    <tr>\n",
              "      <th>303</th>\n",
              "      <td>a</td>\n",
              "      <td>15.92</td>\n",
              "      <td>2.875</td>\n",
              "      <td>u</td>\n",
              "      <td>g</td>\n",
              "      <td>0.085</td>\n",
              "      <td>f</td>\n",
              "      <td>f</td>\n",
              "      <td>0</td>\n",
              "      <td>f</td>\n",
              "      <td>g</td>\n",
              "      <td>120.0</td>\n",
              "      <td>0</td>\n",
              "      <td>0</td>\n",
              "      <td>1</td>\n",
              "      <td>0</td>\n",
              "      <td>0</td>\n",
              "      <td>0</td>\n",
              "      <td>1</td>\n",
              "      <td>0</td>\n",
              "      <td>0</td>\n",
              "      <td>0</td>\n",
              "      <td>0</td>\n",
              "    </tr>\n",
              "    <tr>\n",
              "      <th>204</th>\n",
              "      <td>b</td>\n",
              "      <td>36.33</td>\n",
              "      <td>2.125</td>\n",
              "      <td>y</td>\n",
              "      <td>p</td>\n",
              "      <td>0.085</td>\n",
              "      <td>t</td>\n",
              "      <td>t</td>\n",
              "      <td>1</td>\n",
              "      <td>f</td>\n",
              "      <td>g</td>\n",
              "      <td>50.0</td>\n",
              "      <td>1187</td>\n",
              "      <td>0</td>\n",
              "      <td>0</td>\n",
              "      <td>1</td>\n",
              "      <td>0</td>\n",
              "      <td>0</td>\n",
              "      <td>1</td>\n",
              "      <td>0</td>\n",
              "      <td>0</td>\n",
              "      <td>0</td>\n",
              "      <td>0</td>\n",
              "    </tr>\n",
              "    <tr>\n",
              "      <th>351</th>\n",
              "      <td>b</td>\n",
              "      <td>22.17</td>\n",
              "      <td>0.585</td>\n",
              "      <td>y</td>\n",
              "      <td>p</td>\n",
              "      <td>0.000</td>\n",
              "      <td>f</td>\n",
              "      <td>f</td>\n",
              "      <td>0</td>\n",
              "      <td>f</td>\n",
              "      <td>g</td>\n",
              "      <td>100.0</td>\n",
              "      <td>0</td>\n",
              "      <td>0</td>\n",
              "      <td>0</td>\n",
              "      <td>0</td>\n",
              "      <td>0</td>\n",
              "      <td>0</td>\n",
              "      <td>0</td>\n",
              "      <td>0</td>\n",
              "      <td>1</td>\n",
              "      <td>0</td>\n",
              "      <td>0</td>\n",
              "    </tr>\n",
              "    <tr>\n",
              "      <th>118</th>\n",
              "      <td>b</td>\n",
              "      <td>57.83</td>\n",
              "      <td>7.040</td>\n",
              "      <td>u</td>\n",
              "      <td>g</td>\n",
              "      <td>14.000</td>\n",
              "      <td>t</td>\n",
              "      <td>t</td>\n",
              "      <td>6</td>\n",
              "      <td>t</td>\n",
              "      <td>g</td>\n",
              "      <td>360.0</td>\n",
              "      <td>1332</td>\n",
              "      <td>0</td>\n",
              "      <td>0</td>\n",
              "      <td>0</td>\n",
              "      <td>0</td>\n",
              "      <td>0</td>\n",
              "      <td>1</td>\n",
              "      <td>0</td>\n",
              "      <td>0</td>\n",
              "      <td>0</td>\n",
              "      <td>0</td>\n",
              "    </tr>\n",
              "  </tbody>\n",
              "</table>\n",
              "</div>"
            ],
            "text/plain": [
              "    A1     A2     A3 A4 A5      A8  ... A6_k A7_v  A7_h A7_ff A7_bb  A7_z\n",
              "596  a  46.08  3.000  u  g   2.375  ...    0    1     0     0     0     0\n",
              "303  a  15.92  2.875  u  g   0.085  ...    0    1     0     0     0     0\n",
              "204  b  36.33  2.125  y  p   0.085  ...    0    1     0     0     0     0\n",
              "351  b  22.17  0.585  y  p   0.000  ...    0    0     0     1     0     0\n",
              "118  b  57.83  7.040  u  g  14.000  ...    0    1     0     0     0     0\n",
              "\n",
              "[5 rows x 23 columns]"
            ]
          },
          "metadata": {
            "tags": []
          },
          "execution_count": 44
        }
      ]
    },
    {
      "cell_type": "markdown",
      "metadata": {
        "id": "67xW8iAWeG6X"
      },
      "source": [
        "## Remplacement des catégories par des nombres ordinaux"
      ]
    },
    {
      "cell_type": "markdown",
      "metadata": {
        "id": "6S5RpFsbemeB"
      },
      "source": [
        "Le codage ordinal consiste à remplacer les catégories par des chiffres de 1 à k (ou de 0 à k-1, selon l'implémentation), où k est le nombre de catégories distinctes de la variable. Les numéros sont attribués arbitrairement. L'encodage ordinal est mieux adapté aux modèles d'apprentissage automatique non linéaires, qui peuvent naviguer à travers les chiffres assignés arbitrairement pour essayer de trouver des modèles qui se rapportent à la cible.\n",
        "\n",
        "Dans cette recette, nous allons effectuer un encodage ordinal à l'aide de pandas, scikit-learn"
      ]
    },
    {
      "cell_type": "code",
      "metadata": {
        "id": "ClDUwghnfAzB"
      },
      "source": [
        "import pandas as pd\n",
        "\n",
        "# to split the datasets\n",
        "from sklearn.model_selection import train_test_split\n",
        "\n",
        "# for integer encoding using sklearn\n",
        "from sklearn.preprocessing import OrdinalEncoder"
      ],
      "execution_count": 45,
      "outputs": []
    },
    {
      "cell_type": "markdown",
      "metadata": {
        "id": "UE_1xuMofgyg"
      },
      "source": [
        "### Ordinal encoding with pandas"
      ]
    },
    {
      "cell_type": "code",
      "metadata": {
        "colab": {
          "base_uri": "https://localhost:8080/"
        },
        "id": "-_7YU0dXfmSR",
        "outputId": "71dd695e-e74e-49df-dfe8-8cbc4377dca2"
      },
      "source": [
        "\n",
        "# let's create a dictionary with the mappings of categories to numbers for A7\n",
        "\n",
        "ordinal_mapping = {\n",
        "    k: i\n",
        "    for i, k in enumerate(X_train['A7'].unique(), 0)\n",
        "}\n",
        "\n",
        "ordinal_mapping"
      ],
      "execution_count": 46,
      "outputs": [
        {
          "output_type": "execute_result",
          "data": {
            "text/plain": [
              "{'Missing': 7,\n",
              " 'bb': 5,\n",
              " 'dd': 3,\n",
              " 'ff': 1,\n",
              " 'h': 2,\n",
              " 'j': 6,\n",
              " 'n': 8,\n",
              " 'o': 9,\n",
              " 'v': 0,\n",
              " 'z': 4}"
            ]
          },
          "metadata": {
            "tags": []
          },
          "execution_count": 46
        }
      ]
    },
    {
      "cell_type": "code",
      "metadata": {
        "id": "XV6eOHdWfp3R"
      },
      "source": [
        "# replace the labels with the integers\n",
        "\n",
        "X_train['A7'] = X_train['A7'].map(ordinal_mapping)\n",
        "X_test['A7'] = X_test['A7'].map(ordinal_mapping)"
      ],
      "execution_count": 47,
      "outputs": []
    },
    {
      "cell_type": "code",
      "metadata": {
        "colab": {
          "base_uri": "https://localhost:8080/"
        },
        "id": "5oJKD1CnfttR",
        "outputId": "5da2bcb0-bf7e-4335-d147-eef229b55ae1"
      },
      "source": [
        "# let's explore the result\n",
        "\n",
        "X_train['A7'].head(10)"
      ],
      "execution_count": 48,
      "outputs": [
        {
          "output_type": "execute_result",
          "data": {
            "text/plain": [
              "596    0\n",
              "303    0\n",
              "204    0\n",
              "351    1\n",
              "118    0\n",
              "247    2\n",
              "652    0\n",
              "513    3\n",
              "230    0\n",
              "250    4\n",
              "Name: A7, dtype: int64"
            ]
          },
          "metadata": {
            "tags": []
          },
          "execution_count": 48
        }
      ]
    },
    {
      "cell_type": "markdown",
      "metadata": {
        "id": "4259UcfngDfp"
      },
      "source": [
        "### Ordinal encoding with Scikit-learn"
      ]
    },
    {
      "cell_type": "code",
      "metadata": {
        "id": "hJLY-XcdgGjW"
      },
      "source": [
        "# let's create an encoder\n",
        "\n",
        "le = OrdinalEncoder()"
      ],
      "execution_count": 49,
      "outputs": []
    },
    {
      "cell_type": "code",
      "metadata": {
        "colab": {
          "base_uri": "https://localhost:8080/"
        },
        "id": "Ob2Goa9JgP4s",
        "outputId": "bc525f95-5335-4fcc-c5db-ec58619bc896"
      },
      "source": [
        "# let's fit the encoder to the train set\n",
        "le.fit(X_train[vars_categorical])"
      ],
      "execution_count": 50,
      "outputs": [
        {
          "output_type": "execute_result",
          "data": {
            "text/plain": [
              "OrdinalEncoder(categories='auto', dtype=<class 'numpy.float64'>)"
            ]
          },
          "metadata": {
            "tags": []
          },
          "execution_count": 50
        }
      ]
    },
    {
      "cell_type": "code",
      "metadata": {
        "colab": {
          "base_uri": "https://localhost:8080/"
        },
        "id": "HGeMlCQ-gTSC",
        "outputId": "26391c6a-f7fd-4d08-aa72-78ff84e0280b"
      },
      "source": [
        "# we can see the unique classes\n",
        "\n",
        "le.categories_"
      ],
      "execution_count": 51,
      "outputs": [
        {
          "output_type": "execute_result",
          "data": {
            "text/plain": [
              "[array(['Missing', 'a', 'b'], dtype=object),\n",
              " array(['Missing', 'l', 'u', 'y'], dtype=object),\n",
              " array(['Missing', 'g', 'gg', 'p'], dtype=object),\n",
              " array(['Missing', 'aa', 'c', 'cc', 'd', 'e', 'ff', 'i', 'j', 'k', 'm',\n",
              "        'q', 'r', 'w', 'x'], dtype=object),\n",
              " array([0, 1, 2, 3, 4, 5, 6, 7, 8, 9]),\n",
              " array(['f', 't'], dtype=object),\n",
              " array(['f', 't'], dtype=object),\n",
              " array(['f', 't'], dtype=object),\n",
              " array(['g', 'p', 's'], dtype=object)]"
            ]
          },
          "metadata": {
            "tags": []
          },
          "execution_count": 51
        }
      ]
    },
    {
      "cell_type": "code",
      "metadata": {
        "id": "4ltPc3uQgaSZ"
      },
      "source": [
        "# let's transform train and test sets\n",
        "\n",
        "X_train_enc = le.transform(X_train[vars_categorical])\n",
        "X_test_enc = le.transform(X_test[vars_categorical])"
      ],
      "execution_count": 52,
      "outputs": []
    },
    {
      "cell_type": "markdown",
      "metadata": {
        "id": "hpIl5q6DhRpR"
      },
      "source": [
        "## Remplacement des catégories par des décomptes ou la par fréquence des observations"
      ]
    },
    {
      "cell_type": "markdown",
      "metadata": {
        "id": "gaVfu1mfhn2S"
      },
      "source": [
        "En codage de comptage ou de fréquence, nous remplaçons les catégories par le nombre ou le pourcentage d'observations par cette catégorie. C'est-à-dire que si 10 observations sur 100 affichent la catégorie bleue pour la variable couleur, nous remplacerions le bleu par 10 lors du codage de comptage, ou par 0.1 si nous effectuons un codage de fréquence. Ces techniques, qui capturent la représentation de chaque étiquette dans un jeu de données, sont très populaires dans les compétitions de science des données."
      ]
    },
    {
      "cell_type": "markdown",
      "metadata": {
        "id": "T8ealCL_jFc-"
      },
      "source": [
        "Dans cette recette, nous allons effectuer un codage de comptage et de fréquence à l'aide de pandas et de Feature-engine"
      ]
    },
    {
      "cell_type": "code",
      "metadata": {
        "id": "hY1h9IImi22t"
      },
      "source": [
        "import pandas as pd\n",
        "\n",
        "# to split the datasets\n",
        "from sklearn.model_selection import train_test_split\n",
        "\n",
        "# to encode with feature-engine\n",
        "from feature_engine.encoding import CountFrequencyEncoder"
      ],
      "execution_count": 53,
      "outputs": []
    },
    {
      "cell_type": "code",
      "metadata": {
        "colab": {
          "base_uri": "https://localhost:8080/"
        },
        "id": "py0GnRTkjXwF",
        "outputId": "646926dd-3352-42a6-d3f8-eaf3a41bbe3f"
      },
      "source": [
        "# let's separate into training and testing set\n",
        "\n",
        "X_train, X_test, y_train, y_test = train_test_split(\n",
        "    data.drop(labels=['A16'], axis=1),  # predictors\n",
        "    data['A16'],  # target\n",
        "    test_size=0.3,  # percentage of obs in test set\n",
        "    random_state=0)  # seed to ensure reproducibility\n",
        "\n",
        "X_train.shape, X_test.shape"
      ],
      "execution_count": 56,
      "outputs": [
        {
          "output_type": "execute_result",
          "data": {
            "text/plain": [
              "((483, 15), (207, 15))"
            ]
          },
          "metadata": {
            "tags": []
          },
          "execution_count": 56
        }
      ]
    },
    {
      "cell_type": "markdown",
      "metadata": {
        "id": "WtgGTpmzjM1r"
      },
      "source": [
        "### Count encoding with pandas"
      ]
    },
    {
      "cell_type": "code",
      "metadata": {
        "colab": {
          "base_uri": "https://localhost:8080/"
        },
        "id": "3bbYCe3MjP8C",
        "outputId": "c1a626d8-b001-488f-920c-6620c18c332f"
      },
      "source": [
        "# let's obtain the counts for each category in the variable A7\n",
        "\n",
        "count_map = X_train['A7'].value_counts().to_dict()\n",
        "\n",
        "count_map"
      ],
      "execution_count": 57,
      "outputs": [
        {
          "output_type": "execute_result",
          "data": {
            "text/plain": [
              "{'Missing': 4,\n",
              " 'bb': 39,\n",
              " 'dd': 5,\n",
              " 'ff': 41,\n",
              " 'h': 101,\n",
              " 'j': 5,\n",
              " 'n': 3,\n",
              " 'o': 1,\n",
              " 'v': 277,\n",
              " 'z': 7}"
            ]
          },
          "metadata": {
            "tags": []
          },
          "execution_count": 57
        }
      ]
    },
    {
      "cell_type": "code",
      "metadata": {
        "id": "6nZk3mxkjU8z"
      },
      "source": [
        "# replace the labels with the counts\n",
        "\n",
        "X_train['A7'] = X_train['A7'].map(count_map)\n",
        "X_test['A7'] = X_test['A7'].map(count_map)"
      ],
      "execution_count": 58,
      "outputs": []
    },
    {
      "cell_type": "code",
      "metadata": {
        "colab": {
          "base_uri": "https://localhost:8080/"
        },
        "id": "qguzmrnVjiNE",
        "outputId": "0f384f9b-f55c-4443-dc71-9a716ad2810b"
      },
      "source": [
        "# let's explore the result\n",
        "\n",
        "X_train['A7'].head(10)"
      ],
      "execution_count": 59,
      "outputs": [
        {
          "output_type": "execute_result",
          "data": {
            "text/plain": [
              "596    277\n",
              "303    277\n",
              "204    277\n",
              "351     41\n",
              "118    277\n",
              "247    101\n",
              "652    277\n",
              "513      5\n",
              "230    277\n",
              "250      7\n",
              "Name: A7, dtype: int64"
            ]
          },
          "metadata": {
            "tags": []
          },
          "execution_count": 59
        }
      ]
    },
    {
      "cell_type": "code",
      "metadata": {
        "colab": {
          "base_uri": "https://localhost:8080/"
        },
        "id": "Grw_i9zIjlSL",
        "outputId": "d94fc5c5-b1e9-4ff0-9a6c-b21b1420531e"
      },
      "source": [
        "\n",
        "# if instead of the count we would like the frequency\n",
        "# we need only divide the count by the total number of observations:\n",
        "\n",
        "frequency_map = (X_train['A6'].value_counts() / len(X_train) ).to_dict()\n",
        "frequency_map"
      ],
      "execution_count": 60,
      "outputs": [
        {
          "output_type": "execute_result",
          "data": {
            "text/plain": [
              "{'Missing': 0.008281573498964804,\n",
              " 'aa': 0.07039337474120083,\n",
              " 'c': 0.19254658385093168,\n",
              " 'cc': 0.062111801242236024,\n",
              " 'd': 0.043478260869565216,\n",
              " 'e': 0.043478260869565216,\n",
              " 'ff': 0.07867494824016563,\n",
              " 'i': 0.08488612836438923,\n",
              " 'j': 0.016563146997929608,\n",
              " 'k': 0.07867494824016563,\n",
              " 'm': 0.053830227743271224,\n",
              " 'q': 0.11594202898550725,\n",
              " 'r': 0.002070393374741201,\n",
              " 'w': 0.09937888198757763,\n",
              " 'x': 0.049689440993788817}"
            ]
          },
          "metadata": {
            "tags": []
          },
          "execution_count": 60
        }
      ]
    },
    {
      "cell_type": "code",
      "metadata": {
        "id": "tqlA6jTvjozb"
      },
      "source": [
        "# replace the labels with the frequency\n",
        "\n",
        "X_train['A6'] = X_train['A6'].map(frequency_map)\n",
        "X_test['A6'] = X_test['A6'].map(frequency_map)"
      ],
      "execution_count": 61,
      "outputs": []
    },
    {
      "cell_type": "markdown",
      "metadata": {
        "id": "gYTrTLtGjvYk"
      },
      "source": [
        "#### Putting the code into functions to smooth the process"
      ]
    },
    {
      "cell_type": "code",
      "metadata": {
        "id": "6iMjXb3yjuoz"
      },
      "source": [
        "def count_mappings(df, variable):\n",
        "    return df[variable].value_counts().to_dict()\n",
        "\n",
        "\n",
        "def frequency_mappings(df, variable):\n",
        "    return (df[variable].value_counts() / len(df)).to_dict()\n",
        "\n",
        "\n",
        "def encode(train, test, variable, mapping):\n",
        "    X_train[variable] = X_train[variable].map(mapping)\n",
        "    X_test[variable] = X_test[variable].map(mapping)"
      ],
      "execution_count": 62,
      "outputs": []
    },
    {
      "cell_type": "code",
      "metadata": {
        "id": "sX-i3Umoj0tc"
      },
      "source": [
        "# make a list with the categorical variables\n",
        "\n",
        "vars_categorical = ['A1', 'A4', 'A5', 'A6', 'A7', 'A9', 'A10', 'A12', 'A13']"
      ],
      "execution_count": 63,
      "outputs": []
    },
    {
      "cell_type": "code",
      "metadata": {
        "id": "-ly66hQPj3gD"
      },
      "source": [
        "# encode multiple categorical variables with the functions\n",
        "# above\n",
        "\n",
        "for variable in vars_categorical:\n",
        "    mappings = count_mappings(X_train, variable)\n",
        "    encode(X_train, X_test, variable, mappings)"
      ],
      "execution_count": 64,
      "outputs": []
    },
    {
      "cell_type": "markdown",
      "metadata": {
        "id": "nBfHeYgkj6bK"
      },
      "source": [
        "###Count and frequency encoding with Feature-Engine"
      ]
    },
    {
      "cell_type": "code",
      "metadata": {
        "id": "LB817MQFkE37"
      },
      "source": [
        "\n",
        "# let's divide into train and test sets (again)\n",
        "\n",
        "X_train, X_test, y_train, y_test = train_test_split(\n",
        "    data.drop(labels=['A16'], axis=1),  # predictors\n",
        "    data['A16'],  # target\n",
        "    test_size=0.3,  # percentage of obs in test set\n",
        "    random_state=0)  # seed to ensure reproducibility"
      ],
      "execution_count": 65,
      "outputs": []
    },
    {
      "cell_type": "code",
      "metadata": {
        "id": "qzRfffdUkHkS"
      },
      "source": [
        "\n",
        "# let's create an encoder\n",
        "count_enc = CountFrequencyEncoder(\n",
        "    encoding_method='count', # to do frequency ==> encoding_method='frequency'\n",
        "    variables=None)"
      ],
      "execution_count": 66,
      "outputs": []
    },
    {
      "cell_type": "markdown",
      "metadata": {
        "id": "-QqkLVdEktzU"
      },
      "source": [
        "CountFrequencyEncoder détectera et encodera automatiquement toutes les variables catégorielles dans le train. Pour coder uniquement un sous-ensemble des variables catégorielles, nous pouvons passer les noms des variables dans une liste à l'argument variables"
      ]
    },
    {
      "cell_type": "code",
      "metadata": {
        "colab": {
          "base_uri": "https://localhost:8080/"
        },
        "id": "T_nMKOylkRVJ",
        "outputId": "174dd020-b742-4bd7-e991-cb30d8627950"
      },
      "source": [
        "# fit the encoder to the train set\n",
        "count_enc.fit(X_train)"
      ],
      "execution_count": 67,
      "outputs": [
        {
          "output_type": "execute_result",
          "data": {
            "text/plain": [
              "CountFrequencyEncoder(encoding_method='count', ignore_format=False,\n",
              "                      variables=None)"
            ]
          },
          "metadata": {
            "tags": []
          },
          "execution_count": 67
        }
      ]
    },
    {
      "cell_type": "code",
      "metadata": {
        "id": "kDIgioN_kUzK"
      },
      "source": [
        "# the encoder stores the variables it will encode\n",
        "\n",
        "count_enc.variables"
      ],
      "execution_count": 68,
      "outputs": []
    },
    {
      "cell_type": "code",
      "metadata": {
        "colab": {
          "base_uri": "https://localhost:8080/"
        },
        "id": "YnvKPFeMkXDu",
        "outputId": "ee5e0c1d-f4c6-40ff-c616-8d3fb3793fd6"
      },
      "source": [
        "# in the encoder dict contains the counts or frequencies\n",
        "# per category per variable\n",
        "\n",
        "count_enc.encoder_dict_"
      ],
      "execution_count": 69,
      "outputs": [
        {
          "output_type": "execute_result",
          "data": {
            "text/plain": [
              "{'A1': {'Missing': 4, 'a': 144, 'b': 335},\n",
              " 'A10': {'f': 271, 't': 212},\n",
              " 'A12': {'f': 263, 't': 220},\n",
              " 'A13': {'g': 441, 'p': 4, 's': 38},\n",
              " 'A4': {'Missing': 4, 'l': 1, 'u': 363, 'y': 115},\n",
              " 'A5': {'Missing': 4, 'g': 363, 'gg': 1, 'p': 115},\n",
              " 'A6': {'Missing': 4,\n",
              "  'aa': 34,\n",
              "  'c': 93,\n",
              "  'cc': 30,\n",
              "  'd': 21,\n",
              "  'e': 21,\n",
              "  'ff': 38,\n",
              "  'i': 41,\n",
              "  'j': 8,\n",
              "  'k': 38,\n",
              "  'm': 26,\n",
              "  'q': 56,\n",
              "  'r': 1,\n",
              "  'w': 48,\n",
              "  'x': 24},\n",
              " 'A7': {'Missing': 4,\n",
              "  'bb': 39,\n",
              "  'dd': 5,\n",
              "  'ff': 41,\n",
              "  'h': 101,\n",
              "  'j': 5,\n",
              "  'n': 3,\n",
              "  'o': 1,\n",
              "  'v': 277,\n",
              "  'z': 7},\n",
              " 'A9': {'f': 227, 't': 256}}"
            ]
          },
          "metadata": {
            "tags": []
          },
          "execution_count": 69
        }
      ]
    },
    {
      "cell_type": "code",
      "metadata": {
        "id": "_55RXJR-kZ7d"
      },
      "source": [
        "# let's transform train and test sets\n",
        "\n",
        "X_train_enc = count_enc.transform(X_train)\n",
        "X_test_enc = count_enc.transform(X_test)"
      ],
      "execution_count": 70,
      "outputs": []
    },
    {
      "cell_type": "code",
      "metadata": {
        "colab": {
          "base_uri": "https://localhost:8080/",
          "height": 204
        },
        "id": "IUrdXRehkci6",
        "outputId": "8d051176-0482-446d-bf5a-c16d0b0c82c1"
      },
      "source": [
        "# let's inspect the result\n",
        "\n",
        "X_train_enc.head()"
      ],
      "execution_count": 71,
      "outputs": [
        {
          "output_type": "execute_result",
          "data": {
            "text/html": [
              "<div>\n",
              "<style scoped>\n",
              "    .dataframe tbody tr th:only-of-type {\n",
              "        vertical-align: middle;\n",
              "    }\n",
              "\n",
              "    .dataframe tbody tr th {\n",
              "        vertical-align: top;\n",
              "    }\n",
              "\n",
              "    .dataframe thead th {\n",
              "        text-align: right;\n",
              "    }\n",
              "</style>\n",
              "<table border=\"1\" class=\"dataframe\">\n",
              "  <thead>\n",
              "    <tr style=\"text-align: right;\">\n",
              "      <th></th>\n",
              "      <th>A1</th>\n",
              "      <th>A2</th>\n",
              "      <th>A3</th>\n",
              "      <th>A4</th>\n",
              "      <th>A5</th>\n",
              "      <th>A6</th>\n",
              "      <th>A7</th>\n",
              "      <th>A8</th>\n",
              "      <th>A9</th>\n",
              "      <th>A10</th>\n",
              "      <th>A11</th>\n",
              "      <th>A12</th>\n",
              "      <th>A13</th>\n",
              "      <th>A14</th>\n",
              "      <th>A15</th>\n",
              "    </tr>\n",
              "  </thead>\n",
              "  <tbody>\n",
              "    <tr>\n",
              "      <th>596</th>\n",
              "      <td>144</td>\n",
              "      <td>46.08</td>\n",
              "      <td>3.000</td>\n",
              "      <td>363</td>\n",
              "      <td>363</td>\n",
              "      <td>93</td>\n",
              "      <td>277</td>\n",
              "      <td>2.375</td>\n",
              "      <td>256</td>\n",
              "      <td>212</td>\n",
              "      <td>8</td>\n",
              "      <td>220</td>\n",
              "      <td>441</td>\n",
              "      <td>396.0</td>\n",
              "      <td>4159</td>\n",
              "    </tr>\n",
              "    <tr>\n",
              "      <th>303</th>\n",
              "      <td>144</td>\n",
              "      <td>15.92</td>\n",
              "      <td>2.875</td>\n",
              "      <td>363</td>\n",
              "      <td>363</td>\n",
              "      <td>56</td>\n",
              "      <td>277</td>\n",
              "      <td>0.085</td>\n",
              "      <td>227</td>\n",
              "      <td>271</td>\n",
              "      <td>0</td>\n",
              "      <td>263</td>\n",
              "      <td>441</td>\n",
              "      <td>120.0</td>\n",
              "      <td>0</td>\n",
              "    </tr>\n",
              "    <tr>\n",
              "      <th>204</th>\n",
              "      <td>335</td>\n",
              "      <td>36.33</td>\n",
              "      <td>2.125</td>\n",
              "      <td>115</td>\n",
              "      <td>115</td>\n",
              "      <td>48</td>\n",
              "      <td>277</td>\n",
              "      <td>0.085</td>\n",
              "      <td>256</td>\n",
              "      <td>212</td>\n",
              "      <td>1</td>\n",
              "      <td>263</td>\n",
              "      <td>441</td>\n",
              "      <td>50.0</td>\n",
              "      <td>1187</td>\n",
              "    </tr>\n",
              "    <tr>\n",
              "      <th>351</th>\n",
              "      <td>335</td>\n",
              "      <td>22.17</td>\n",
              "      <td>0.585</td>\n",
              "      <td>115</td>\n",
              "      <td>115</td>\n",
              "      <td>38</td>\n",
              "      <td>41</td>\n",
              "      <td>0.000</td>\n",
              "      <td>227</td>\n",
              "      <td>271</td>\n",
              "      <td>0</td>\n",
              "      <td>263</td>\n",
              "      <td>441</td>\n",
              "      <td>100.0</td>\n",
              "      <td>0</td>\n",
              "    </tr>\n",
              "    <tr>\n",
              "      <th>118</th>\n",
              "      <td>335</td>\n",
              "      <td>57.83</td>\n",
              "      <td>7.040</td>\n",
              "      <td>363</td>\n",
              "      <td>363</td>\n",
              "      <td>26</td>\n",
              "      <td>277</td>\n",
              "      <td>14.000</td>\n",
              "      <td>256</td>\n",
              "      <td>212</td>\n",
              "      <td>6</td>\n",
              "      <td>220</td>\n",
              "      <td>441</td>\n",
              "      <td>360.0</td>\n",
              "      <td>1332</td>\n",
              "    </tr>\n",
              "  </tbody>\n",
              "</table>\n",
              "</div>"
            ],
            "text/plain": [
              "      A1     A2     A3   A4   A5  A6   A7  ...   A9  A10  A11  A12  A13    A14   A15\n",
              "596  144  46.08  3.000  363  363  93  277  ...  256  212    8  220  441  396.0  4159\n",
              "303  144  15.92  2.875  363  363  56  277  ...  227  271    0  263  441  120.0     0\n",
              "204  335  36.33  2.125  115  115  48  277  ...  256  212    1  263  441   50.0  1187\n",
              "351  335  22.17  0.585  115  115  38   41  ...  227  271    0  263  441  100.0     0\n",
              "118  335  57.83  7.040  363  363  26  277  ...  256  212    6  220  441  360.0  1332\n",
              "\n",
              "[5 rows x 15 columns]"
            ]
          },
          "metadata": {
            "tags": []
          },
          "execution_count": 71
        }
      ]
    },
    {
      "cell_type": "markdown",
      "metadata": {
        "id": "fxibecJolsGQ"
      },
      "source": [
        "## Encodage avec des entiers de manière ordonnée"
      ]
    },
    {
      "cell_type": "markdown",
      "metadata": {
        "id": "S5rq760xlsOE"
      },
      "source": [
        "Dans la recette Remplacer les catégories par des nombres ordinaux, nous avons remplacé les catégories par des nombres entiers, qui ont été attribués arbitrairement. Cet encodage fonctionne bien avec les algorithmes d'apprentissage automatique non linéaires qui peuvent parcourir les chiffres arbitrairement attribués pour essayer de trouver des modèles qui les relient à la cible. Cependant, cette méthode d'encodage peut ne pas fonctionner aussi bien avec les modèles linéaires.\n",
        "\n",
        "Nous pouvons plutôt attribuer des entiers aux catégories en fonction des valeurs cibles. Pour ce faire, nous procédons comme suit :\n",
        "\n",
        "* Calculer la valeur moyenne de la cible par catégorie\n",
        "* Classez les categorie par ordre croissant avce la moyenne de la cible.\n",
        "* Attribuez des chiffres aux catégories ordonnées, en commençant par 0 pour la première catégorie jusqu'à k-1 pour la dernière catégorie, où k est le nombre de catégories distinctes\n",
        "\n",
        "Cette technique d'encodage crée une relation monotone entre la variable catégorielle et la  cible et rend donc les variables plus adéquates pour une utilisation dans des modèles linéaires"
      ]
    },
    {
      "cell_type": "code",
      "metadata": {
        "id": "1_Q9sZI_pBYw"
      },
      "source": [
        "import pandas as pd\n",
        "\n",
        "import matplotlib.pyplot as plt\n",
        "\n",
        "# to split the datasets\n",
        "from sklearn.model_selection import train_test_split\n",
        "\n",
        "# for encoding with feature-engine\n",
        "from feature_engine.encoding import OrdinalEncoder"
      ],
      "execution_count": 75,
      "outputs": []
    },
    {
      "cell_type": "code",
      "metadata": {
        "colab": {
          "base_uri": "https://localhost:8080/"
        },
        "id": "CHAhdeVPpXDO",
        "outputId": "653729b6-7390-493e-e1bf-8b2715e615f7"
      },
      "source": [
        "\n",
        "# let's separate into training and testing set\n",
        "\n",
        "X_train, X_test, y_train, y_test = train_test_split(\n",
        "    data,  # all data\n",
        "    data['A16'],  # target\n",
        "    test_size=0.3,  # percentage of obs in test set\n",
        "    random_state=0)  # seed to ensure reproducibility\n",
        "\n",
        "X_train.shape, X_test.shape"
      ],
      "execution_count": 86,
      "outputs": [
        {
          "output_type": "execute_result",
          "data": {
            "text/plain": [
              "((483, 16), (207, 16))"
            ]
          },
          "metadata": {
            "tags": []
          },
          "execution_count": 86
        }
      ]
    },
    {
      "cell_type": "code",
      "metadata": {
        "id": "PNO7Sg7TpZ0o"
      },
      "source": [
        "# make a list with the categorical variables\n",
        "\n",
        "vars_categorical = ['A1', 'A4', 'A5', 'A6', 'A7', 'A9', 'A10', 'A12', 'A13']"
      ],
      "execution_count": 87,
      "outputs": []
    },
    {
      "cell_type": "markdown",
      "metadata": {
        "id": "81loGURhpfsH"
      },
      "source": [
        "### Ordered integer encoding with pandas"
      ]
    },
    {
      "cell_type": "markdown",
      "metadata": {
        "id": "vK2DMJ3usd8f"
      },
      "source": [
        "\n",
        "Pour mieux comprendre le concept de relation monotone, traçons la relation des catégories de la variable A7 avec la cible avant et après l'encodage"
      ]
    },
    {
      "cell_type": "code",
      "metadata": {
        "colab": {
          "base_uri": "https://localhost:8080/",
          "height": 295
        },
        "id": "n_rZUBQepinx",
        "outputId": "c629d343-f7eb-4cbc-8422-3b3ebf6f5410"
      },
      "source": [
        "\n",
        "X_train.groupby(['A7'])['A16'].mean().plot()\n",
        "plt.title('Relationship between A7 and the target')\n",
        "plt.ylabel('Mean of target')\n",
        "plt.show()"
      ],
      "execution_count": 88,
      "outputs": [
        {
          "output_type": "display_data",
          "data": {
            "image/png": "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\n",
            "text/plain": [
              "<Figure size 432x288 with 1 Axes>"
            ]
          },
          "metadata": {
            "tags": [],
            "needs_background": "light"
          }
        }
      ]
    },
    {
      "cell_type": "code",
      "metadata": {
        "colab": {
          "base_uri": "https://localhost:8080/"
        },
        "id": "oaj5eRGcrgtX",
        "outputId": "d1c22f8b-4474-45ba-882d-0cd040dce922"
      },
      "source": [
        "# let's order the labels in A7 according to the mean target value\n",
        "\n",
        "X_train.groupby(['A7'])['A16'].mean().sort_values()"
      ],
      "execution_count": 89,
      "outputs": [
        {
          "output_type": "execute_result",
          "data": {
            "text/plain": [
              "A7\n",
              "o          0.000000\n",
              "ff         0.146341\n",
              "j          0.200000\n",
              "dd         0.400000\n",
              "v          0.418773\n",
              "bb         0.512821\n",
              "h          0.603960\n",
              "n          0.666667\n",
              "z          0.714286\n",
              "Missing    1.000000\n",
              "Name: A16, dtype: float64"
            ]
          },
          "metadata": {
            "tags": []
          },
          "execution_count": 89
        }
      ]
    },
    {
      "cell_type": "code",
      "metadata": {
        "colab": {
          "base_uri": "https://localhost:8080/"
        },
        "id": "UrCkB9Kork-2",
        "outputId": "eeb2309e-fc3e-4d3a-beb0-5320cf8c31f9"
      },
      "source": [
        "\n",
        "# let's we generate an ordered list with the labels of A7\n",
        "\n",
        "ordered_labels = X_train.groupby(['A7'])['A16'].mean().sort_values().index\n",
        "\n",
        "ordered_labels"
      ],
      "execution_count": 90,
      "outputs": [
        {
          "output_type": "execute_result",
          "data": {
            "text/plain": [
              "Index(['o', 'ff', 'j', 'dd', 'v', 'bb', 'h', 'n', 'z', 'Missing'], dtype='object', name='A7')"
            ]
          },
          "metadata": {
            "tags": []
          },
          "execution_count": 90
        }
      ]
    },
    {
      "cell_type": "code",
      "metadata": {
        "colab": {
          "base_uri": "https://localhost:8080/"
        },
        "id": "GrMCKuomrnwD",
        "outputId": "efd9916b-2ef9-49c9-e65c-2ba42ca0426c"
      },
      "source": [
        "\n",
        "# next let's create a dictionary with the mappings of categories to numbers\n",
        "\n",
        "ordinal_mapping = {k: i for i, k in enumerate(ordered_labels, 0)}\n",
        "\n",
        "ordinal_mapping"
      ],
      "execution_count": 91,
      "outputs": [
        {
          "output_type": "execute_result",
          "data": {
            "text/plain": [
              "{'Missing': 9,\n",
              " 'bb': 5,\n",
              " 'dd': 3,\n",
              " 'ff': 1,\n",
              " 'h': 6,\n",
              " 'j': 2,\n",
              " 'n': 7,\n",
              " 'o': 0,\n",
              " 'v': 4,\n",
              " 'z': 8}"
            ]
          },
          "metadata": {
            "tags": []
          },
          "execution_count": 91
        }
      ]
    },
    {
      "cell_type": "code",
      "metadata": {
        "colab": {
          "base_uri": "https://localhost:8080/"
        },
        "id": "epI6l1dGrqHP",
        "outputId": "f8b8619a-5c62-4b94-af8b-3dec50a625bd"
      },
      "source": [
        "# replace the labels with the ordered numbers\n",
        "\n",
        "X_train['A7'] = X_train['A7'].map(ordinal_mapping)\n",
        "X_test['A7'] = X_test['A7'].map(ordinal_mapping)"
      ],
      "execution_count": 92,
      "outputs": [
        {
          "output_type": "stream",
          "text": [
            "/usr/local/lib/python3.7/dist-packages/ipykernel_launcher.py:3: SettingWithCopyWarning: \n",
            "A value is trying to be set on a copy of a slice from a DataFrame.\n",
            "Try using .loc[row_indexer,col_indexer] = value instead\n",
            "\n",
            "See the caveats in the documentation: https://pandas.pydata.org/pandas-docs/stable/user_guide/indexing.html#returning-a-view-versus-a-copy\n",
            "  This is separate from the ipykernel package so we can avoid doing imports until\n",
            "/usr/local/lib/python3.7/dist-packages/ipykernel_launcher.py:4: SettingWithCopyWarning: \n",
            "A value is trying to be set on a copy of a slice from a DataFrame.\n",
            "Try using .loc[row_indexer,col_indexer] = value instead\n",
            "\n",
            "See the caveats in the documentation: https://pandas.pydata.org/pandas-docs/stable/user_guide/indexing.html#returning-a-view-versus-a-copy\n",
            "  after removing the cwd from sys.path.\n"
          ],
          "name": "stderr"
        }
      ]
    },
    {
      "cell_type": "code",
      "metadata": {
        "colab": {
          "base_uri": "https://localhost:8080/"
        },
        "id": "j1zSyu9zrsJL",
        "outputId": "525e57c4-c4d3-410f-cdc6-40fde8cbcc07"
      },
      "source": [
        "\n",
        "# let's inspect the encoded variable\n",
        "X_train['A7'].head()"
      ],
      "execution_count": 93,
      "outputs": [
        {
          "output_type": "execute_result",
          "data": {
            "text/plain": [
              "596    4\n",
              "303    4\n",
              "204    4\n",
              "351    1\n",
              "118    4\n",
              "Name: A7, dtype: int64"
            ]
          },
          "metadata": {
            "tags": []
          },
          "execution_count": 93
        }
      ]
    },
    {
      "cell_type": "code",
      "metadata": {
        "colab": {
          "base_uri": "https://localhost:8080/",
          "height": 295
        },
        "id": "hpz5w16_r3qt",
        "outputId": "d2269e2b-cceb-408d-a3f1-3d09fb79e05c"
      },
      "source": [
        "# let's explore the monotonic relationship\n",
        "X_train.groupby(['A7'])['A16'].mean().plot()\n",
        "plt.title('Relationship between A7 and the target')\n",
        "plt.ylabel('Mean of target')\n",
        "plt.show()\n"
      ],
      "execution_count": 94,
      "outputs": [
        {
          "output_type": "display_data",
          "data": {
            "image/png": "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\n",
            "text/plain": [
              "<Figure size 432x288 with 1 Axes>"
            ]
          },
          "metadata": {
            "tags": [],
            "needs_background": "light"
          }
        }
      ]
    },
    {
      "cell_type": "markdown",
      "metadata": {
        "id": "gUOqU5Pys03J"
      },
      "source": [
        "La variable codée montre une relation monotone avec la cible : plus la valeur moyenne de la cible est élevée, plus le chiffre attribué à la catégorie est élevé"
      ]
    },
    {
      "cell_type": "markdown",
      "metadata": {
        "id": "amI8qv8ItoGa"
      },
      "source": [
        "### Ordered integer encoding with Feature-Engine"
      ]
    },
    {
      "cell_type": "markdown",
      "metadata": {
        "id": "oZsqk8gZtwJ0"
      },
      "source": [
        "Maintenant, effectuons un codage ordinal ordonné à l'aide de Feature-engine"
      ]
    },
    {
      "cell_type": "code",
      "metadata": {
        "id": "dr-X3AputxoV"
      },
      "source": [
        "X_train, X_test, y_train, y_test = train_test_split(\n",
        "    data.drop(labels=['A16'], axis=1),  # predictors\n",
        "    data['A16'],  # target\n",
        "    test_size=0.3,  # percentage of obs in test set\n",
        "    random_state=0)  # seed to ensure reproducibility"
      ],
      "execution_count": 95,
      "outputs": []
    },
    {
      "cell_type": "code",
      "metadata": {
        "id": "3pT2LWbSt0Tp"
      },
      "source": [
        "\n",
        "# let's create the encoder\n",
        "ordinal_enc = OrdinalEncoder(\n",
        "    encoding_method='ordered')"
      ],
      "execution_count": 97,
      "outputs": []
    },
    {
      "cell_type": "code",
      "metadata": {
        "colab": {
          "base_uri": "https://localhost:8080/"
        },
        "id": "Z5drwYoUt-Qb",
        "outputId": "784896f9-ebb4-47e6-8ab1-5309d77a8919"
      },
      "source": [
        "\n",
        "# when fitting the transformer, we need to pass the target as well\n",
        "# just like with any Scikit-learn predictor class\n",
        "\n",
        "ordinal_enc.fit(X_train, y_train)"
      ],
      "execution_count": 98,
      "outputs": [
        {
          "output_type": "execute_result",
          "data": {
            "text/plain": [
              "OrdinalEncoder(encoding_method='ordered', ignore_format=False, variables=None)"
            ]
          },
          "metadata": {
            "tags": []
          },
          "execution_count": 98
        }
      ]
    },
    {
      "cell_type": "code",
      "metadata": {
        "id": "PivVGSpluBxK"
      },
      "source": [
        "# the encoder stores the variables that it will encode\n",
        "\n",
        "ordinal_enc.variables"
      ],
      "execution_count": 99,
      "outputs": []
    },
    {
      "cell_type": "code",
      "metadata": {
        "colab": {
          "base_uri": "https://localhost:8080/"
        },
        "id": "kqzBgZkFuEIp",
        "outputId": "b9ff3f33-c4c8-49f8-b5c2-8c99637a5f7e"
      },
      "source": [
        "\n",
        "# in the encoder dict we can observe the numbers that will\n",
        "#replace each category in each variable\n",
        "\n",
        "ordinal_enc.encoder_dict_"
      ],
      "execution_count": 100,
      "outputs": [
        {
          "output_type": "execute_result",
          "data": {
            "text/plain": [
              "{'A1': {'Missing': 2, 'a': 1, 'b': 0},\n",
              " 'A10': {'f': 0, 't': 1},\n",
              " 'A12': {'f': 1, 't': 0},\n",
              " 'A13': {'g': 1, 'p': 2, 's': 0},\n",
              " 'A4': {'Missing': 2, 'l': 3, 'u': 1, 'y': 0},\n",
              " 'A5': {'Missing': 2, 'g': 1, 'gg': 3, 'p': 0},\n",
              " 'A6': {'Missing': 13,\n",
              "  'aa': 6,\n",
              "  'c': 7,\n",
              "  'cc': 11,\n",
              "  'd': 1,\n",
              "  'e': 9,\n",
              "  'ff': 0,\n",
              "  'i': 3,\n",
              "  'j': 2,\n",
              "  'k': 4,\n",
              "  'm': 5,\n",
              "  'q': 10,\n",
              "  'r': 14,\n",
              "  'w': 8,\n",
              "  'x': 12},\n",
              " 'A7': {'Missing': 9,\n",
              "  'bb': 5,\n",
              "  'dd': 3,\n",
              "  'ff': 1,\n",
              "  'h': 6,\n",
              "  'j': 2,\n",
              "  'n': 7,\n",
              "  'o': 0,\n",
              "  'v': 4,\n",
              "  'z': 8},\n",
              " 'A9': {'f': 0, 't': 1}}"
            ]
          },
          "metadata": {
            "tags": []
          },
          "execution_count": 100
        }
      ]
    },
    {
      "cell_type": "code",
      "metadata": {
        "id": "XqYTpDJHuHAS"
      },
      "source": [
        "# let's transform train and test sets\n",
        "\n",
        "X_train_enc = ordinal_enc.transform(X_train)\n",
        "X_test_enc = ordinal_enc.transform(X_test)"
      ],
      "execution_count": 101,
      "outputs": []
    },
    {
      "cell_type": "markdown",
      "metadata": {
        "id": "IzecWPf6ufnO"
      },
      "source": [
        "## Encodage avec la moyenne de la cible"
      ]
    },
    {
      "cell_type": "markdown",
      "metadata": {
        "id": "EAvQHU6Zug5W"
      },
      "source": [
        "L'encodage moyen ou l'encodage cible implique le remplacement des catégories par la valeur cible moyenne pour cette catégorie. Par exemple, si nous avons une variable City, avec les catégories Londres, Manchester et Bristol, et que nous voulons prédire le taux de défaut ; si le taux de défaut pour Londres est de 30 %, nous remplaçons Londres par 0,3 ; si le taux par défaut pour Manchester est de 20 %, nous remplaçons Manchester par 0,2 ; etc. La même chose peut être faite avec une cible continue. "
      ]
    },
    {
      "cell_type": "code",
      "metadata": {
        "id": "MX9Spq5zv0d1"
      },
      "source": [
        "import pandas as pd\n",
        "\n",
        "import matplotlib.pyplot as plt\n",
        "\n",
        "# to split the datasets\n",
        "from sklearn.model_selection import train_test_split\n",
        "\n",
        "# for encoding with feature-engine\n",
        "from feature_engine.encoding import  MeanEncoder"
      ],
      "execution_count": 102,
      "outputs": []
    },
    {
      "cell_type": "code",
      "metadata": {
        "colab": {
          "base_uri": "https://localhost:8080/"
        },
        "id": "Rk9Y7_3cwQZ5",
        "outputId": "31c0011c-357e-4094-ca38-5d04023a4e68"
      },
      "source": [
        "# let's separate into training and testing set\n",
        "\n",
        "X_train, X_test, y_train, y_test = train_test_split(\n",
        "    data,  # all data\n",
        "    data['A16'],  # target\n",
        "    test_size=0.3,  # percentage of obs in test set\n",
        "    random_state=0)  # seed to ensure reproducibility\n",
        "\n",
        "X_train.shape, X_test.shape"
      ],
      "execution_count": 103,
      "outputs": [
        {
          "output_type": "execute_result",
          "data": {
            "text/plain": [
              "((483, 16), (207, 16))"
            ]
          },
          "metadata": {
            "tags": []
          },
          "execution_count": 103
        }
      ]
    },
    {
      "cell_type": "markdown",
      "metadata": {
        "id": "fjv-4lApwTR5"
      },
      "source": [
        "### Target mean encoding with pandas"
      ]
    },
    {
      "cell_type": "code",
      "metadata": {
        "colab": {
          "base_uri": "https://localhost:8080/",
          "height": 295
        },
        "id": "l22dmEYHwUkh",
        "outputId": "0dde3453-7e20-4f64-b3b0-9044899dcfe1"
      },
      "source": [
        "X_train.groupby(['A7'])['A16'].mean().plot()\n",
        "plt.title('Relationship between A7 and the target')\n",
        "plt.ylabel('Mean of target')\n",
        "plt.show()"
      ],
      "execution_count": 104,
      "outputs": [
        {
          "output_type": "display_data",
          "data": {
            "image/png": "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\n",
            "text/plain": [
              "<Figure size 432x288 with 1 Axes>"
            ]
          },
          "metadata": {
            "tags": [],
            "needs_background": "light"
          }
        }
      ]
    },
    {
      "cell_type": "code",
      "metadata": {
        "colab": {
          "base_uri": "https://localhost:8080/"
        },
        "id": "Ty0UuLugxwux",
        "outputId": "a7b25565-d60f-4256-d66f-ae742bdbc5e7"
      },
      "source": [
        "# let's create a dictionary with the target mean per category\n",
        "# for the variable A7\n",
        "\n",
        "ordered_labels = X_train.groupby(['A7'])['A16'].mean().to_dict()\n",
        "\n",
        "ordered_labels"
      ],
      "execution_count": 105,
      "outputs": [
        {
          "output_type": "execute_result",
          "data": {
            "text/plain": [
              "{'Missing': 1.0,\n",
              " 'bb': 0.5128205128205128,\n",
              " 'dd': 0.4,\n",
              " 'ff': 0.14634146341463414,\n",
              " 'h': 0.6039603960396039,\n",
              " 'j': 0.2,\n",
              " 'n': 0.6666666666666666,\n",
              " 'o': 0.0,\n",
              " 'v': 0.4187725631768953,\n",
              " 'z': 0.7142857142857143}"
            ]
          },
          "metadata": {
            "tags": []
          },
          "execution_count": 105
        }
      ]
    },
    {
      "cell_type": "code",
      "metadata": {
        "colab": {
          "base_uri": "https://localhost:8080/"
        },
        "id": "smkzPkTvxzdx",
        "outputId": "4538eb90-8b11-47e8-ab56-19da49d4bb38"
      },
      "source": [
        "# replace the labels with the target mean\n",
        "\n",
        "X_train['A7'] = X_train['A7'].map(ordered_labels)\n",
        "X_test['A7'] = X_test['A7'].map(ordered_labels)"
      ],
      "execution_count": 106,
      "outputs": [
        {
          "output_type": "stream",
          "text": [
            "/usr/local/lib/python3.7/dist-packages/ipykernel_launcher.py:3: SettingWithCopyWarning: \n",
            "A value is trying to be set on a copy of a slice from a DataFrame.\n",
            "Try using .loc[row_indexer,col_indexer] = value instead\n",
            "\n",
            "See the caveats in the documentation: https://pandas.pydata.org/pandas-docs/stable/user_guide/indexing.html#returning-a-view-versus-a-copy\n",
            "  This is separate from the ipykernel package so we can avoid doing imports until\n",
            "/usr/local/lib/python3.7/dist-packages/ipykernel_launcher.py:4: SettingWithCopyWarning: \n",
            "A value is trying to be set on a copy of a slice from a DataFrame.\n",
            "Try using .loc[row_indexer,col_indexer] = value instead\n",
            "\n",
            "See the caveats in the documentation: https://pandas.pydata.org/pandas-docs/stable/user_guide/indexing.html#returning-a-view-versus-a-copy\n",
            "  after removing the cwd from sys.path.\n"
          ],
          "name": "stderr"
        }
      ]
    },
    {
      "cell_type": "code",
      "metadata": {
        "colab": {
          "base_uri": "https://localhost:8080/"
        },
        "id": "L5uujnByx4Xm",
        "outputId": "b278b405-64ff-460f-cf45-f32d6a42a20a"
      },
      "source": [
        "# let's inspect the result\n",
        "\n",
        "X_train['A7'].head()"
      ],
      "execution_count": 107,
      "outputs": [
        {
          "output_type": "execute_result",
          "data": {
            "text/plain": [
              "596    0.418773\n",
              "303    0.418773\n",
              "204    0.418773\n",
              "351    0.146341\n",
              "118    0.418773\n",
              "Name: A7, dtype: float64"
            ]
          },
          "metadata": {
            "tags": []
          },
          "execution_count": 107
        }
      ]
    },
    {
      "cell_type": "code",
      "metadata": {
        "colab": {
          "base_uri": "https://localhost:8080/",
          "height": 295
        },
        "id": "1r2XweruyBSz",
        "outputId": "8a980c2e-7b14-469b-be70-3150eeb2dbc1"
      },
      "source": [
        "X_train.groupby(['A7'])['A16'].mean().plot()\n",
        "plt.title('Relationship between A7 and the target')\n",
        "plt.ylabel('Mean of target')\n",
        "plt.show()"
      ],
      "execution_count": 108,
      "outputs": [
        {
          "output_type": "display_data",
          "data": {
            "image/png": "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\n",
            "text/plain": [
              "<Figure size 432x288 with 1 Axes>"
            ]
          },
          "metadata": {
            "tags": [],
            "needs_background": "light"
          }
        }
      ]
    },
    {
      "cell_type": "markdown",
      "metadata": {
        "id": "e_YlNqfByVz4"
      },
      "source": [
        "# Target mean encoding with Feature-Engine"
      ]
    },
    {
      "cell_type": "code",
      "metadata": {
        "id": "Umk87EfgyZE8"
      },
      "source": [
        "X_train, X_test, y_train, y_test = train_test_split(\n",
        "    data.drop(labels=['A16'], axis=1),  # predictors\n",
        "    data['A16'],  # target\n",
        "    test_size=0.3,  # percentage of obs in test set\n",
        "    random_state=0)  # seed to ensure reproducibility"
      ],
      "execution_count": 109,
      "outputs": []
    },
    {
      "cell_type": "code",
      "metadata": {
        "id": "G2V2yO33yb2A"
      },
      "source": [
        "# let's create the encoder\n",
        "\n",
        "mean_enc = MeanEncoder(variables=None)"
      ],
      "execution_count": 111,
      "outputs": []
    },
    {
      "cell_type": "code",
      "metadata": {
        "colab": {
          "base_uri": "https://localhost:8080/"
        },
        "id": "wHSZ5_veyi4w",
        "outputId": "8bc08f37-07fb-4fa3-c8c8-10a5071c492f"
      },
      "source": [
        "## when fitting the transformer, we need to pass the target as well\n",
        "# just like with any Scikit-learn predictor class\n",
        "\n",
        "mean_enc.fit(X_train, y_train)"
      ],
      "execution_count": 112,
      "outputs": [
        {
          "output_type": "execute_result",
          "data": {
            "text/plain": [
              "MeanEncoder(ignore_format=False, variables=None)"
            ]
          },
          "metadata": {
            "tags": []
          },
          "execution_count": 112
        }
      ]
    },
    {
      "cell_type": "code",
      "metadata": {
        "id": "JNa5jb1Nyv4i"
      },
      "source": [
        "# variables that will be encoded\n",
        "\n",
        "mean_enc.variables"
      ],
      "execution_count": 113,
      "outputs": []
    },
    {
      "cell_type": "code",
      "metadata": {
        "colab": {
          "base_uri": "https://localhost:8080/"
        },
        "id": "bZDp1JQ2yx7J",
        "outputId": "f079c8ea-abc7-4b08-f532-d4eebaac2deb"
      },
      "source": [
        "# in the encoder dict we can observe the target mean per category\n",
        "# per variable\n",
        "\n",
        "mean_enc.encoder_dict_"
      ],
      "execution_count": 114,
      "outputs": [
        {
          "output_type": "execute_result",
          "data": {
            "text/plain": [
              "{'A1': {'Missing': 0.5, 'a': 0.4722222222222222, 'b': 0.4388059701492537},\n",
              " 'A10': {'f': 0.25092250922509224, 't': 0.7028301886792453},\n",
              " 'A12': {'f': 0.4524714828897338, 't': 0.44545454545454544},\n",
              " 'A13': {'g': 0.46485260770975056, 'p': 1.0, 's': 0.21052631578947367},\n",
              " 'A4': {'Missing': 1.0,\n",
              "  'l': 1.0,\n",
              "  'u': 0.512396694214876,\n",
              "  'y': 0.22608695652173913},\n",
              " 'A5': {'Missing': 1.0,\n",
              "  'g': 0.512396694214876,\n",
              "  'gg': 1.0,\n",
              "  'p': 0.22608695652173913},\n",
              " 'A6': {'Missing': 1.0,\n",
              "  'aa': 0.4411764705882353,\n",
              "  'c': 0.45161290322580644,\n",
              "  'cc': 0.7,\n",
              "  'd': 0.19047619047619047,\n",
              "  'e': 0.6190476190476191,\n",
              "  'ff': 0.10526315789473684,\n",
              "  'i': 0.2682926829268293,\n",
              "  'j': 0.25,\n",
              "  'k': 0.2894736842105263,\n",
              "  'm': 0.4230769230769231,\n",
              "  'q': 0.625,\n",
              "  'r': 1.0,\n",
              "  'w': 0.5,\n",
              "  'x': 0.7916666666666666},\n",
              " 'A7': {'Missing': 1.0,\n",
              "  'bb': 0.5128205128205128,\n",
              "  'dd': 0.4,\n",
              "  'ff': 0.14634146341463414,\n",
              "  'h': 0.6039603960396039,\n",
              "  'j': 0.2,\n",
              "  'n': 0.6666666666666666,\n",
              "  'o': 0.0,\n",
              "  'v': 0.4187725631768953,\n",
              "  'z': 0.7142857142857143},\n",
              " 'A9': {'f': 0.07048458149779736, 't': 0.78515625}}"
            ]
          },
          "metadata": {
            "tags": []
          },
          "execution_count": 114
        }
      ]
    },
    {
      "cell_type": "code",
      "metadata": {
        "id": "pn85K63ey0l0"
      },
      "source": [
        "# let's transform train and test set\n",
        "\n",
        "X_train_enc = mean_enc.transform(X_train)\n",
        "X_test_enc = mean_enc.transform(X_test)"
      ],
      "execution_count": 115,
      "outputs": []
    },
    {
      "cell_type": "code",
      "metadata": {
        "colab": {
          "base_uri": "https://localhost:8080/",
          "height": 204
        },
        "id": "o8vcUIqVy2r3",
        "outputId": "c36b3357-a4ce-44b2-ba46-d56be67dcf01"
      },
      "source": [
        "X_train_enc.head()"
      ],
      "execution_count": 116,
      "outputs": [
        {
          "output_type": "execute_result",
          "data": {
            "text/html": [
              "<div>\n",
              "<style scoped>\n",
              "    .dataframe tbody tr th:only-of-type {\n",
              "        vertical-align: middle;\n",
              "    }\n",
              "\n",
              "    .dataframe tbody tr th {\n",
              "        vertical-align: top;\n",
              "    }\n",
              "\n",
              "    .dataframe thead th {\n",
              "        text-align: right;\n",
              "    }\n",
              "</style>\n",
              "<table border=\"1\" class=\"dataframe\">\n",
              "  <thead>\n",
              "    <tr style=\"text-align: right;\">\n",
              "      <th></th>\n",
              "      <th>A1</th>\n",
              "      <th>A2</th>\n",
              "      <th>A3</th>\n",
              "      <th>A4</th>\n",
              "      <th>A5</th>\n",
              "      <th>A6</th>\n",
              "      <th>A7</th>\n",
              "      <th>A8</th>\n",
              "      <th>A9</th>\n",
              "      <th>A10</th>\n",
              "      <th>A11</th>\n",
              "      <th>A12</th>\n",
              "      <th>A13</th>\n",
              "      <th>A14</th>\n",
              "      <th>A15</th>\n",
              "    </tr>\n",
              "  </thead>\n",
              "  <tbody>\n",
              "    <tr>\n",
              "      <th>596</th>\n",
              "      <td>0.472222</td>\n",
              "      <td>46.08</td>\n",
              "      <td>3.000</td>\n",
              "      <td>0.512397</td>\n",
              "      <td>0.512397</td>\n",
              "      <td>0.451613</td>\n",
              "      <td>0.418773</td>\n",
              "      <td>2.375</td>\n",
              "      <td>0.785156</td>\n",
              "      <td>0.702830</td>\n",
              "      <td>8</td>\n",
              "      <td>0.445455</td>\n",
              "      <td>0.464853</td>\n",
              "      <td>396.0</td>\n",
              "      <td>4159</td>\n",
              "    </tr>\n",
              "    <tr>\n",
              "      <th>303</th>\n",
              "      <td>0.472222</td>\n",
              "      <td>15.92</td>\n",
              "      <td>2.875</td>\n",
              "      <td>0.512397</td>\n",
              "      <td>0.512397</td>\n",
              "      <td>0.625000</td>\n",
              "      <td>0.418773</td>\n",
              "      <td>0.085</td>\n",
              "      <td>0.070485</td>\n",
              "      <td>0.250923</td>\n",
              "      <td>0</td>\n",
              "      <td>0.452471</td>\n",
              "      <td>0.464853</td>\n",
              "      <td>120.0</td>\n",
              "      <td>0</td>\n",
              "    </tr>\n",
              "    <tr>\n",
              "      <th>204</th>\n",
              "      <td>0.438806</td>\n",
              "      <td>36.33</td>\n",
              "      <td>2.125</td>\n",
              "      <td>0.226087</td>\n",
              "      <td>0.226087</td>\n",
              "      <td>0.500000</td>\n",
              "      <td>0.418773</td>\n",
              "      <td>0.085</td>\n",
              "      <td>0.785156</td>\n",
              "      <td>0.702830</td>\n",
              "      <td>1</td>\n",
              "      <td>0.452471</td>\n",
              "      <td>0.464853</td>\n",
              "      <td>50.0</td>\n",
              "      <td>1187</td>\n",
              "    </tr>\n",
              "    <tr>\n",
              "      <th>351</th>\n",
              "      <td>0.438806</td>\n",
              "      <td>22.17</td>\n",
              "      <td>0.585</td>\n",
              "      <td>0.226087</td>\n",
              "      <td>0.226087</td>\n",
              "      <td>0.105263</td>\n",
              "      <td>0.146341</td>\n",
              "      <td>0.000</td>\n",
              "      <td>0.070485</td>\n",
              "      <td>0.250923</td>\n",
              "      <td>0</td>\n",
              "      <td>0.452471</td>\n",
              "      <td>0.464853</td>\n",
              "      <td>100.0</td>\n",
              "      <td>0</td>\n",
              "    </tr>\n",
              "    <tr>\n",
              "      <th>118</th>\n",
              "      <td>0.438806</td>\n",
              "      <td>57.83</td>\n",
              "      <td>7.040</td>\n",
              "      <td>0.512397</td>\n",
              "      <td>0.512397</td>\n",
              "      <td>0.423077</td>\n",
              "      <td>0.418773</td>\n",
              "      <td>14.000</td>\n",
              "      <td>0.785156</td>\n",
              "      <td>0.702830</td>\n",
              "      <td>6</td>\n",
              "      <td>0.445455</td>\n",
              "      <td>0.464853</td>\n",
              "      <td>360.0</td>\n",
              "      <td>1332</td>\n",
              "    </tr>\n",
              "  </tbody>\n",
              "</table>\n",
              "</div>"
            ],
            "text/plain": [
              "           A1     A2     A3        A4  ...       A12       A13    A14   A15\n",
              "596  0.472222  46.08  3.000  0.512397  ...  0.445455  0.464853  396.0  4159\n",
              "303  0.472222  15.92  2.875  0.512397  ...  0.452471  0.464853  120.0     0\n",
              "204  0.438806  36.33  2.125  0.226087  ...  0.452471  0.464853   50.0  1187\n",
              "351  0.438806  22.17  0.585  0.226087  ...  0.452471  0.464853  100.0     0\n",
              "118  0.438806  57.83  7.040  0.512397  ...  0.445455  0.464853  360.0  1332\n",
              "\n",
              "[5 rows x 15 columns]"
            ]
          },
          "metadata": {
            "tags": []
          },
          "execution_count": 116
        }
      ]
    },
    {
      "cell_type": "markdown",
      "metadata": {
        "id": "z7IVOahLzpCM"
      },
      "source": [
        "## Encoding with the Weight of Evidence"
      ]
    },
    {
      "cell_type": "markdown",
      "metadata": {
        "id": "PvaXKnO0zpGa"
      },
      "source": [
        "Le Weight of Evidence (WoE) a été développé principalement pour les secteurs du crédit et de la finance afin de faciliter la sélection des variables et l'analyse exploratoire et de construire des modèles linéaires plus prédictifs pour évaluer le risque de défaut de paiement ; c'est-à-dire prédire la probabilité que l'argent prêté à une personne ou à une institution soit perdu\n",
        "\n",
        "Le WoE est calculé comme suit :\n",
        "\n",
        "$$ WoE = log(\\frac{p(Y=1)}{p(Y=0})$$\n",
        "\n",
        "Ici, p(Y=1) est la probabilité qu'un événement se produise. Par conséquent, le WoE prend les valeurs suivantes:\n",
        "* WoE = 0 si p(1) / p(0) = 1, c'est-à-dire si le résultat est aléatoire\n",
        "* WoE > 0 si p(1) > p(0)\n",
        "* WoE < 0 if p(0) > p(1)\n",
        "\n",
        "plus le WoE est élevé, plus l'événement aura de chances de se produire, et en effet, si le W0E est positif, l'événement est susceptible de se produire.\n",
        "\n",
        "La régression logistique modélise une réponse binaire, Y, basée sur des variables prédictives X, en supposant qu'il existe une relation linéaire entre X et le log des probabilités de Y\n",
        "\n",
        "$$log(\\frac{p(Y=1)}{p(Y=0}) = b_0+b_1X_1+b_2X_2....+b_nXn$$\n",
        "\n",
        "ci, log (p(Y=1)/p(Y=0)) est le log odds. Comme vous pouvez le voir, le WoE code les catégories dans la même échelle, c'est-à-dire le log odds, comme résultat de la régression logistique. Par conséquent, en utilisant WoE, les prédicteurs sont préparés et codés dans la même échelle, et les paramètres dans la régression logistique, c'est-à-dire les coefficients, peuvent être directement comparés.\n",
        "\n",
        "Dans cette recette, nous allons effectuer un encodage WoE à l'aide de pandas et de Feature-engine"
      ]
    },
    {
      "cell_type": "code",
      "metadata": {
        "id": "ZLx15lKW3wNO"
      },
      "source": [
        "import numpy as np\n",
        "import pandas as pd\n",
        "\n",
        "import matplotlib.pyplot as plt\n",
        "\n",
        "# to split the datasets\n",
        "from sklearn.model_selection import train_test_split\n",
        "\n",
        "# for encoding using feature-engine\n",
        "from feature_engine.encoding import  WoEEncoder"
      ],
      "execution_count": 117,
      "outputs": []
    },
    {
      "cell_type": "code",
      "metadata": {
        "colab": {
          "base_uri": "https://localhost:8080/"
        },
        "id": "X7sSlxUo37uE",
        "outputId": "a19a577e-3d67-44c9-e36a-c49d1d60d8ac"
      },
      "source": [
        "# let's separate into training and testing set\n",
        "\n",
        "X_train, X_test, y_train, y_test = train_test_split(\n",
        "    data,  # all data\n",
        "    data['A16'],  # target\n",
        "    test_size=0.3,  # percentage of obs in test set\n",
        "    random_state=0)  # seed to ensure reproducibility\n",
        "\n",
        "X_train.shape, X_test.shape"
      ],
      "execution_count": 123,
      "outputs": [
        {
          "output_type": "execute_result",
          "data": {
            "text/plain": [
              "((483, 16), (207, 16))"
            ]
          },
          "metadata": {
            "tags": []
          },
          "execution_count": 123
        }
      ]
    },
    {
      "cell_type": "markdown",
      "metadata": {
        "id": "xBSr7mRR3r8E"
      },
      "source": [
        "\n",
        "### Weight of Evidence with pandas"
      ]
    },
    {
      "cell_type": "code",
      "metadata": {
        "colab": {
          "base_uri": "https://localhost:8080/",
          "height": 295
        },
        "id": "6t2MoRIK3-hr",
        "outputId": "9c49f0e1-64d0-4fd4-82b6-4cbed327b805"
      },
      "source": [
        "X_train.groupby(['A1'])['A16'].mean().plot()\n",
        "plt.title('Relationship between A7 and the target')\n",
        "plt.ylabel('Mean of target')\n",
        "plt.show()"
      ],
      "execution_count": 119,
      "outputs": [
        {
          "output_type": "display_data",
          "data": {
            "image/png": "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\n",
            "text/plain": [
              "<Figure size 432x288 with 1 Axes>"
            ]
          },
          "metadata": {
            "tags": [],
            "needs_background": "light"
          }
        }
      ]
    },
    {
      "cell_type": "code",
      "metadata": {
        "colab": {
          "base_uri": "https://localhost:8080/"
        },
        "id": "lnQwFmXA4Ncb",
        "outputId": "d9da685d-52e6-4bcf-df6d-0051f2ed35c4"
      },
      "source": [
        "# Add inverse of the target to train set\n",
        "X_train['A16_inv'] = 1 - X_train['A16']"
      ],
      "execution_count": 125,
      "outputs": [
        {
          "output_type": "stream",
          "text": [
            "/usr/local/lib/python3.7/dist-packages/ipykernel_launcher.py:2: SettingWithCopyWarning: \n",
            "A value is trying to be set on a copy of a slice from a DataFrame.\n",
            "Try using .loc[row_indexer,col_indexer] = value instead\n",
            "\n",
            "See the caveats in the documentation: https://pandas.pydata.org/pandas-docs/stable/user_guide/indexing.html#returning-a-view-versus-a-copy\n",
            "  \n"
          ],
          "name": "stderr"
        }
      ]
    },
    {
      "cell_type": "code",
      "metadata": {
        "id": "Mre1K9BG4BWT"
      },
      "source": [
        "\n",
        "# total numner of observations with target == 1\n",
        "total_p1 = X_train['A16'].sum()\n",
        "\n",
        "# total numner of observations with target == 0\n",
        "total_p0 = X_train['A16_inv'].sum()\n",
        "\n",
        "p1 = X_train.groupby(['A1'])['A16'].mean() / total_p1\n",
        "p0 = X_train.groupby(['A1'])['A16_inv'].mean() / total_p0\n",
        "\n",
        "woe = dict(np.log(p1 / p0))"
      ],
      "execution_count": 126,
      "outputs": []
    },
    {
      "cell_type": "code",
      "metadata": {
        "colab": {
          "base_uri": "https://localhost:8080/"
        },
        "id": "wn1ij4gY5Fn7",
        "outputId": "bf9c6c3e-0f1b-4d98-e724-d0cf90e457a7"
      },
      "source": [
        "p1"
      ],
      "execution_count": 142,
      "outputs": [
        {
          "output_type": "execute_result",
          "data": {
            "text/plain": [
              "A1\n",
              "Missing    0.002304\n",
              "a          0.002176\n",
              "b          0.002022\n",
              "Name: A16, dtype: float64"
            ]
          },
          "metadata": {
            "tags": []
          },
          "execution_count": 142
        }
      ]
    },
    {
      "cell_type": "code",
      "metadata": {
        "colab": {
          "base_uri": "https://localhost:8080/"
        },
        "id": "E_rm6xQ45UbL",
        "outputId": "053778a6-e633-4392-f9ae-501e9ccaf6ce"
      },
      "source": [
        "# replace the labels with the woe\n",
        "\n",
        "X_train['A1'] = X_train['A1'].map(woe)\n",
        "X_test['A1'] = X_test['A1'].map(woe)"
      ],
      "execution_count": 130,
      "outputs": [
        {
          "output_type": "stream",
          "text": [
            "/usr/local/lib/python3.7/dist-packages/ipykernel_launcher.py:3: SettingWithCopyWarning: \n",
            "A value is trying to be set on a copy of a slice from a DataFrame.\n",
            "Try using .loc[row_indexer,col_indexer] = value instead\n",
            "\n",
            "See the caveats in the documentation: https://pandas.pydata.org/pandas-docs/stable/user_guide/indexing.html#returning-a-view-versus-a-copy\n",
            "  This is separate from the ipykernel package so we can avoid doing imports until\n",
            "/usr/local/lib/python3.7/dist-packages/ipykernel_launcher.py:4: SettingWithCopyWarning: \n",
            "A value is trying to be set on a copy of a slice from a DataFrame.\n",
            "Try using .loc[row_indexer,col_indexer] = value instead\n",
            "\n",
            "See the caveats in the documentation: https://pandas.pydata.org/pandas-docs/stable/user_guide/indexing.html#returning-a-view-versus-a-copy\n",
            "  after removing the cwd from sys.path.\n"
          ],
          "name": "stderr"
        }
      ]
    },
    {
      "cell_type": "code",
      "metadata": {
        "colab": {
          "base_uri": "https://localhost:8080/",
          "height": 295
        },
        "id": "QVHx0g_I5XFu",
        "outputId": "85c579da-bbfc-4890-9c79-71455709d104"
      },
      "source": [
        "X_train.groupby(['A1'])['A16'].mean().plot()\n",
        "plt.title('Relationship between A7 and the target')\n",
        "plt.ylabel('Mean of target')\n",
        "plt.show()"
      ],
      "execution_count": 131,
      "outputs": [
        {
          "output_type": "display_data",
          "data": {
            "image/png": "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\n",
            "text/plain": [
              "<Figure size 432x288 with 1 Axes>"
            ]
          },
          "metadata": {
            "tags": [],
            "needs_background": "light"
          }
        }
      ]
    },
    {
      "cell_type": "markdown",
      "metadata": {
        "id": "JWqsHeM85cvz"
      },
      "source": [
        "### Weight of Evidence with Feature-Engine"
      ]
    },
    {
      "cell_type": "code",
      "metadata": {
        "id": "q_8n5A8N5op2"
      },
      "source": [
        "X_train, X_test, y_train, y_test = train_test_split(\n",
        "    data.drop(labels=['A16'], axis=1),  # predictors\n",
        "    data['A16'],  # target\n",
        "    test_size=0.3,  # percentage of obs in test set\n",
        "    random_state=0)  # seed to ensure reproducibility"
      ],
      "execution_count": 132,
      "outputs": []
    },
    {
      "cell_type": "code",
      "metadata": {
        "id": "R6BaIIsP5rJN"
      },
      "source": [
        "# create the weight of evidence encoder\n",
        "\n",
        "woe_enc = WoEEncoder(\n",
        "    variables=['A1', 'A10', 'A12'])"
      ],
      "execution_count": 137,
      "outputs": []
    },
    {
      "cell_type": "code",
      "metadata": {
        "colab": {
          "base_uri": "https://localhost:8080/"
        },
        "id": "-RCSQ_vW5_rU",
        "outputId": "e02e0aba-8b94-40e7-b843-2fcb554e2a19"
      },
      "source": [
        "# when fitting the transformer, we need to pass the target as well\n",
        "# just like with any Scikit-learn predictor class\n",
        "\n",
        "woe_enc.fit(X_train, y_train)"
      ],
      "execution_count": 138,
      "outputs": [
        {
          "output_type": "execute_result",
          "data": {
            "text/plain": [
              "WoEEncoder(ignore_format=False, variables=['A1', 'A10', 'A12'])"
            ]
          },
          "metadata": {
            "tags": []
          },
          "execution_count": 138
        }
      ]
    },
    {
      "cell_type": "code",
      "metadata": {
        "colab": {
          "base_uri": "https://localhost:8080/"
        },
        "id": "IAE2U86R6Luv",
        "outputId": "0377681b-c664-45aa-87bc-b104432130b2"
      },
      "source": [
        "\n",
        "# let's inspect the variables that will be encoded\n",
        "\n",
        "woe_enc.variables"
      ],
      "execution_count": 139,
      "outputs": [
        {
          "output_type": "execute_result",
          "data": {
            "text/plain": [
              "['A1', 'A10', 'A12']"
            ]
          },
          "metadata": {
            "tags": []
          },
          "execution_count": 139
        }
      ]
    },
    {
      "cell_type": "code",
      "metadata": {
        "colab": {
          "base_uri": "https://localhost:8080/"
        },
        "id": "gdRrBK3b6OBO",
        "outputId": "9a4370cc-5acb-4cbb-aa92-a7f525193ff5"
      },
      "source": [
        "# the encoder stores the woe values per category per variable\n",
        "\n",
        "woe_enc.encoder_dict_"
      ],
      "execution_count": 140,
      "outputs": [
        {
          "output_type": "execute_result",
          "data": {
            "text/plain": [
              "{'A1': {'Missing': 0.20359895524123955,\n",
              "  'a': 0.09237332013101507,\n",
              "  'b': -0.04241042080997339},\n",
              " 'A10': {'f': -0.8900993186244411, 't': 1.064410534795166},\n",
              " 'A12': {'f': 0.012909148776768313, 't': -0.015454610821445114}}"
            ]
          },
          "metadata": {
            "tags": []
          },
          "execution_count": 140
        }
      ]
    },
    {
      "cell_type": "code",
      "metadata": {
        "id": "OZWAnSSg6RDN"
      },
      "source": [
        "# let's transform train and test sets\n",
        "\n",
        "X_train_enc = woe_enc.transform(X_train)\n",
        "X_test_enc = woe_enc.transform(X_test)"
      ],
      "execution_count": 141,
      "outputs": []
    },
    {
      "cell_type": "markdown",
      "metadata": {
        "id": "8gP1ED4a65Xl"
      },
      "source": [
        "## Regroupement des catégories rares ou peu fréquentes"
      ]
    },
    {
      "cell_type": "markdown",
      "metadata": {
        "id": "yiXKGWNz7V-8"
      },
      "source": [
        "\n",
        "Les valeurs rares sont les catégories qui ne sont présentes que dans un petit pourcentage des observations. Il n'y a pas de règle empirique pour déterminer à quel point un petit pourcentage est petit, mais en général, toute valeur inférieure à 5 % peut être considérée comme rare. Des étiquettes peu fréquentes n'apparaissent souvent que sur l'ensemble de train ou uniquement sur  l'ensemble de test, ce qui rend les algorithmes sujets au surapprentissage ou incapables de noter une observation. Pour éviter ces complications, nous pouvons regrouper les catégories peu fréquentes dans une nouvelle catégorie appelée Rare ou Autre"
      ]
    },
    {
      "cell_type": "code",
      "metadata": {
        "id": "fCSw3cNL7_Cp"
      },
      "source": [
        "import numpy as np\n",
        "import pandas as pd\n",
        "\n",
        "# to split the datasets\n",
        "from sklearn.model_selection import train_test_split\n",
        "\n",
        "# for encoding using feature-engine\n",
        "from feature_engine.encoding import RareLabelEncoder"
      ],
      "execution_count": 152,
      "outputs": []
    },
    {
      "cell_type": "code",
      "metadata": {
        "colab": {
          "base_uri": "https://localhost:8080/"
        },
        "id": "Z3_5KaEU8URb",
        "outputId": "0bd19fa1-48d6-4bfb-af18-9fc0a70cc635"
      },
      "source": [
        "# let's separate into training and testing set\n",
        "\n",
        "X_train, X_test, y_train, y_test = train_test_split(\n",
        "    data.drop(labels=['A16'], axis=1),  # predictors\n",
        "    data['A16'],  # target\n",
        "    test_size=0.3,  # percentage of obs in test set\n",
        "    random_state=0)  # seed to ensure reproducibility\n",
        "\n",
        "X_train.shape, X_test.shape"
      ],
      "execution_count": 143,
      "outputs": [
        {
          "output_type": "execute_result",
          "data": {
            "text/plain": [
              "((483, 15), (207, 15))"
            ]
          },
          "metadata": {
            "tags": []
          },
          "execution_count": 143
        }
      ]
    },
    {
      "cell_type": "markdown",
      "metadata": {
        "id": "7Y-Srlza8cj7"
      },
      "source": [
        "### Count encoding with pandas"
      ]
    },
    {
      "cell_type": "code",
      "metadata": {
        "colab": {
          "base_uri": "https://localhost:8080/"
        },
        "id": "MNmuyLsg8d0b",
        "outputId": "c14c8486-a920-41a5-d8c1-5099c9b96655"
      },
      "source": [
        "# let's inspect the frequency of labels in A7\n",
        "\n",
        "X_train['A7'].value_counts() / len(X_train)"
      ],
      "execution_count": 145,
      "outputs": [
        {
          "output_type": "execute_result",
          "data": {
            "text/plain": [
              "v          0.573499\n",
              "h          0.209110\n",
              "ff         0.084886\n",
              "bb         0.080745\n",
              "z          0.014493\n",
              "dd         0.010352\n",
              "j          0.010352\n",
              "Missing    0.008282\n",
              "n          0.006211\n",
              "o          0.002070\n",
              "Name: A7, dtype: float64"
            ]
          },
          "metadata": {
            "tags": []
          },
          "execution_count": 145
        }
      ]
    },
    {
      "cell_type": "code",
      "metadata": {
        "id": "LLwqbJ478jWL"
      },
      "source": [
        "def find_frequent_labels(df, variable, tolerance):\n",
        "    \n",
        "    temp = df[variable].value_counts()  / len(df)\n",
        "    \n",
        "    non_rare = [x for x in temp.loc[temp>tolerance].index.values]\n",
        "    \n",
        "    return non_rare"
      ],
      "execution_count": 146,
      "outputs": []
    },
    {
      "cell_type": "code",
      "metadata": {
        "colab": {
          "base_uri": "https://localhost:8080/"
        },
        "id": "RRU5Zm3Q8mLo",
        "outputId": "6bedeeae-df53-417e-c592-b0ade3333fb2"
      },
      "source": [
        "\n",
        "# frequent categories in A7\n",
        "\n",
        "frequent_cat = find_frequent_labels(X_train, 'A7', 0.05)\n",
        "\n",
        "frequent_cat"
      ],
      "execution_count": 147,
      "outputs": [
        {
          "output_type": "execute_result",
          "data": {
            "text/plain": [
              "['v', 'h', 'ff', 'bb']"
            ]
          },
          "metadata": {
            "tags": []
          },
          "execution_count": 147
        }
      ]
    },
    {
      "cell_type": "code",
      "metadata": {
        "colab": {
          "base_uri": "https://localhost:8080/"
        },
        "id": "_HBiMd-S8p6X",
        "outputId": "a2f4042a-8e5f-43a4-8628-4394fa937cdc"
      },
      "source": [
        "# rare categories in A7\n",
        "\n",
        "[x for x in X_train['A7'].unique() if x not in frequent_cat]"
      ],
      "execution_count": 148,
      "outputs": [
        {
          "output_type": "execute_result",
          "data": {
            "text/plain": [
              "['dd', 'z', 'j', 'Missing', 'n', 'o']"
            ]
          },
          "metadata": {
            "tags": []
          },
          "execution_count": 148
        }
      ]
    },
    {
      "cell_type": "code",
      "metadata": {
        "id": "3l9MjVvO8tFX"
      },
      "source": [
        "\n",
        "# let's group rare labels into a new category called rare\n",
        "\n",
        "X_train['A7'] = np.where(X_train['A7'].isin(frequent_cat), X_train['A7'], 'Rare')\n",
        "    \n",
        "X_test['A7'] = np.where(X_test['A7'].isin(frequent_cat), X_test['A7'], 'Rare')"
      ],
      "execution_count": 149,
      "outputs": []
    },
    {
      "cell_type": "code",
      "metadata": {
        "colab": {
          "base_uri": "https://localhost:8080/"
        },
        "id": "rnFpTEdC81eh",
        "outputId": "426cebe9-16ee-4f2e-a410-6142d08769a7"
      },
      "source": [
        "# let's inspect the results\n",
        "\n",
        "X_train['A7'].value_counts() / len(X_train)"
      ],
      "execution_count": 150,
      "outputs": [
        {
          "output_type": "execute_result",
          "data": {
            "text/plain": [
              "v       0.573499\n",
              "h       0.209110\n",
              "ff      0.084886\n",
              "bb      0.080745\n",
              "Rare    0.051760\n",
              "Name: A7, dtype: float64"
            ]
          },
          "metadata": {
            "tags": []
          },
          "execution_count": 150
        }
      ]
    },
    {
      "cell_type": "markdown",
      "metadata": {
        "id": "qRSuu-kb8-ZH"
      },
      "source": [
        "### One hot encoding with Feature-Engine"
      ]
    },
    {
      "cell_type": "code",
      "metadata": {
        "id": "Yd_5gGEL9CMV"
      },
      "source": [
        "# Rare category encoder\n",
        "\n",
        "rare_encoder = RareLabelEncoder(tol=0.05, n_categories=4)"
      ],
      "execution_count": 153,
      "outputs": []
    },
    {
      "cell_type": "code",
      "metadata": {
        "colab": {
          "base_uri": "https://localhost:8080/"
        },
        "id": "nhUIL0Dw9P55",
        "outputId": "282615a4-bf49-4380-8ad1-26cde74d9798"
      },
      "source": [
        "\n",
        "# let's fit the encoder to the train set\n",
        "\n",
        "rare_encoder.fit(X_train)"
      ],
      "execution_count": 154,
      "outputs": [
        {
          "output_type": "stream",
          "text": [
            "/usr/local/lib/python3.7/dist-packages/feature_engine/encoding/rare_label.py:182: UserWarning: The number of unique categories for variable A1 is less than that indicated in n_categories. Thus, all categories will be considered frequent\n",
            "  \"considered frequent\".format(var)\n",
            "/usr/local/lib/python3.7/dist-packages/feature_engine/encoding/rare_label.py:182: UserWarning: The number of unique categories for variable A4 is less than that indicated in n_categories. Thus, all categories will be considered frequent\n",
            "  \"considered frequent\".format(var)\n",
            "/usr/local/lib/python3.7/dist-packages/feature_engine/encoding/rare_label.py:182: UserWarning: The number of unique categories for variable A5 is less than that indicated in n_categories. Thus, all categories will be considered frequent\n",
            "  \"considered frequent\".format(var)\n",
            "/usr/local/lib/python3.7/dist-packages/feature_engine/encoding/rare_label.py:182: UserWarning: The number of unique categories for variable A9 is less than that indicated in n_categories. Thus, all categories will be considered frequent\n",
            "  \"considered frequent\".format(var)\n",
            "/usr/local/lib/python3.7/dist-packages/feature_engine/encoding/rare_label.py:182: UserWarning: The number of unique categories for variable A10 is less than that indicated in n_categories. Thus, all categories will be considered frequent\n",
            "  \"considered frequent\".format(var)\n",
            "/usr/local/lib/python3.7/dist-packages/feature_engine/encoding/rare_label.py:182: UserWarning: The number of unique categories for variable A12 is less than that indicated in n_categories. Thus, all categories will be considered frequent\n",
            "  \"considered frequent\".format(var)\n",
            "/usr/local/lib/python3.7/dist-packages/feature_engine/encoding/rare_label.py:182: UserWarning: The number of unique categories for variable A13 is less than that indicated in n_categories. Thus, all categories will be considered frequent\n",
            "  \"considered frequent\".format(var)\n"
          ],
          "name": "stderr"
        },
        {
          "output_type": "execute_result",
          "data": {
            "text/plain": [
              "RareLabelEncoder(ignore_format=False, max_n_categories=None, n_categories=4,\n",
              "                 replace_with='Rare', tol=0.05, variables=None)"
            ]
          },
          "metadata": {
            "tags": []
          },
          "execution_count": 154
        }
      ]
    },
    {
      "cell_type": "code",
      "metadata": {
        "id": "xe2QOVpZ9Xwe"
      },
      "source": [
        "rare_encoder.variables"
      ],
      "execution_count": 155,
      "outputs": []
    },
    {
      "cell_type": "code",
      "metadata": {
        "colab": {
          "base_uri": "https://localhost:8080/"
        },
        "id": "N6ARgY6N9pl3",
        "outputId": "e1825bc8-5283-4465-a237-173cae93428f"
      },
      "source": [
        "\n",
        "# in the encoder dict we can observe the number of \n",
        "# observations per category for each variable\n",
        "\n",
        "rare_encoder.encoder_dict_"
      ],
      "execution_count": 156,
      "outputs": [
        {
          "output_type": "execute_result",
          "data": {
            "text/plain": [
              "{'A1': array(['a', 'b', 'Missing'], dtype=object),\n",
              " 'A10': array(['t', 'f'], dtype=object),\n",
              " 'A12': array(['t', 'f'], dtype=object),\n",
              " 'A13': array(['g', 's', 'p'], dtype=object),\n",
              " 'A4': array(['u', 'y', 'Missing', 'l'], dtype=object),\n",
              " 'A5': array(['g', 'p', 'Missing', 'gg'], dtype=object),\n",
              " 'A6': Index(['c', 'q', 'w', 'i', 'ff', 'k', 'aa', 'cc', 'm'], dtype='object'),\n",
              " 'A7': Index(['v', 'h', 'ff', 'bb', 'Rare'], dtype='object'),\n",
              " 'A9': array(['t', 'f'], dtype=object)}"
            ]
          },
          "metadata": {
            "tags": []
          },
          "execution_count": 156
        }
      ]
    },
    {
      "cell_type": "code",
      "metadata": {
        "id": "DmZOuDkI93v2"
      },
      "source": [
        "# let's transform the train and test sets\n",
        "\n",
        "X_train_enc = rare_encoder.transform(X_train)\n",
        "X_test_enc = rare_encoder.transform(X_test)"
      ],
      "execution_count": 157,
      "outputs": []
    },
    {
      "cell_type": "markdown",
      "metadata": {
        "id": "SZLbRZ0i-P3r"
      },
      "source": [
        "## Codage binaire\n",
        "\n",
        "L'encodage binaire est une technique d'encodage catégorique alternative qui utilise un code binaire, c'est-à-dire une séquence de zéros et de uns, pour représenter les différentes catégories de la variable. Comment ça marche? Premièrement, les catégories sont arbitrairement remplacées par des nombres ordinaux, comme le montre l'étape intermédiaire du tableau suivant. Ensuite, ces nombres sont convertis en code binaire. Par exemple, l'entier 1 peut être représenté par la séquence 01, l'entier 2 par 10, l'entier 3 par 00 et 4 par 11. Les chiffres dans les deux positions de la chaîne binaire deviennent les colonnes, qui sont la représentation codée de la variable d'origine\n",
        "\n",
        "|  Color    | Intermediate step  |  1st | 2nd  |\n",
        "|:-:|---|---|---|\n",
        "| Blue  |  1 | 0  | 1  |\n",
        "| Red  |  2 |  1 | 0  |\n",
        "| Green  | 3  |  0 | 0  |\n",
        "| Yellow  | 4  |  1 |  1 |\n",
        "\n",
        "L'encodage binaire encode les données dans moins de dimensions que l'encodage One-Hot. Dans notre exemple, la variable de couleur serait codée en k-1 catégories, c'est-à-dire trois variables par un codage à One-hot, mais avec un codage binaire, nous pouvons représenter la variable avec seulement deux variables. Plus généralement, nous déterminons le nombre de caractéristiques binaires nécessaires pour encoder une variable en log2 (nombre de catégories distinctes) ; dans notre exemple, log2(4) = 2 caractéristiques binaires. De plus, les caractéristiques dérivées sont binaires, ce qui convient aux modèles linéaires. Mais, les caractéristiques dérivées manquent d'interprétabilité humaine, par conséquent, l'utilisation de cette technique dans les organisations est discutable.\n",
        "\n",
        "\n",
        "Dans cette recette, nous allons apprendre à effectuer un encodage binaire à l'aide du package Python CategoryEncoders"
      ]
    },
    {
      "cell_type": "code",
      "metadata": {
        "colab": {
          "base_uri": "https://localhost:8080/"
        },
        "id": "7srRG3xHBD7f",
        "outputId": "e994609d-b6bf-4980-f772-e7642ae44f06"
      },
      "source": [
        "pip install category_encoders"
      ],
      "execution_count": 159,
      "outputs": [
        {
          "output_type": "stream",
          "text": [
            "Collecting category_encoders\n",
            "  Downloading category_encoders-2.2.2-py2.py3-none-any.whl (80 kB)\n",
            "\u001b[?25l\r\u001b[K     |████                            | 10 kB 21.8 MB/s eta 0:00:01\r\u001b[K     |████████▏                       | 20 kB 23.6 MB/s eta 0:00:01\r\u001b[K     |████████████▏                   | 30 kB 20.5 MB/s eta 0:00:01\r\u001b[K     |████████████████▎               | 40 kB 13.0 MB/s eta 0:00:01\r\u001b[K     |████████████████████▎           | 51 kB 5.7 MB/s eta 0:00:01\r\u001b[K     |████████████████████████▍       | 61 kB 5.7 MB/s eta 0:00:01\r\u001b[K     |████████████████████████████▍   | 71 kB 5.5 MB/s eta 0:00:01\r\u001b[K     |████████████████████████████████| 80 kB 3.8 MB/s \n",
            "\u001b[?25hRequirement already satisfied: statsmodels>=0.9.0 in /usr/local/lib/python3.7/dist-packages (from category_encoders) (0.12.2)\n",
            "Requirement already satisfied: patsy>=0.5.1 in /usr/local/lib/python3.7/dist-packages (from category_encoders) (0.5.1)\n",
            "Requirement already satisfied: scikit-learn>=0.20.0 in /usr/local/lib/python3.7/dist-packages (from category_encoders) (0.22.2.post1)\n",
            "Requirement already satisfied: pandas>=0.21.1 in /usr/local/lib/python3.7/dist-packages (from category_encoders) (1.1.5)\n",
            "Requirement already satisfied: numpy>=1.14.0 in /usr/local/lib/python3.7/dist-packages (from category_encoders) (1.19.5)\n",
            "Requirement already satisfied: scipy>=1.0.0 in /usr/local/lib/python3.7/dist-packages (from category_encoders) (1.4.1)\n",
            "Requirement already satisfied: python-dateutil>=2.7.3 in /usr/local/lib/python3.7/dist-packages (from pandas>=0.21.1->category_encoders) (2.8.2)\n",
            "Requirement already satisfied: pytz>=2017.2 in /usr/local/lib/python3.7/dist-packages (from pandas>=0.21.1->category_encoders) (2018.9)\n",
            "Requirement already satisfied: six in /usr/local/lib/python3.7/dist-packages (from patsy>=0.5.1->category_encoders) (1.15.0)\n",
            "Requirement already satisfied: joblib>=0.11 in /usr/local/lib/python3.7/dist-packages (from scikit-learn>=0.20.0->category_encoders) (1.0.1)\n",
            "Installing collected packages: category-encoders\n",
            "Successfully installed category-encoders-2.2.2\n"
          ],
          "name": "stdout"
        }
      ]
    },
    {
      "cell_type": "code",
      "metadata": {
        "id": "VazTE9WuBCll"
      },
      "source": [
        "import pandas as pd\n",
        "\n",
        "# to split the datasets\n",
        "from sklearn.model_selection import train_test_split\n",
        "\n",
        "# for encoding using feature-engine\n",
        "from category_encoders import BinaryEncoder"
      ],
      "execution_count": 160,
      "outputs": []
    },
    {
      "cell_type": "code",
      "metadata": {
        "colab": {
          "base_uri": "https://localhost:8080/"
        },
        "id": "DDWvhF6VBMxR",
        "outputId": "4757b1f0-4c28-4b9e-ed85-6a7aaf5cff2f"
      },
      "source": [
        "\n",
        "# let's separate into training and testing set\n",
        "\n",
        "X_train, X_test, y_train, y_test = train_test_split(\n",
        "    data,  # predictors\n",
        "    data['A16'],  # target\n",
        "    test_size=0.3,  # percentage of obs in test set\n",
        "    random_state=0)  # seed to ensure reproducibility\n",
        "\n",
        "X_train.shape, X_test.shape"
      ],
      "execution_count": 161,
      "outputs": [
        {
          "output_type": "execute_result",
          "data": {
            "text/plain": [
              "((483, 16), (207, 16))"
            ]
          },
          "metadata": {
            "tags": []
          },
          "execution_count": 161
        }
      ]
    },
    {
      "cell_type": "code",
      "metadata": {
        "colab": {
          "base_uri": "https://localhost:8080/"
        },
        "id": "j_i2iH7XBPSg",
        "outputId": "f1f0e722-ba73-4d13-f822-7882e18edd64"
      },
      "source": [
        "X_train['A7'].unique()"
      ],
      "execution_count": 162,
      "outputs": [
        {
          "output_type": "execute_result",
          "data": {
            "text/plain": [
              "array(['v', 'ff', 'h', 'dd', 'z', 'bb', 'j', 'Missing', 'n', 'o'],\n",
              "      dtype=object)"
            ]
          },
          "metadata": {
            "tags": []
          },
          "execution_count": 162
        }
      ]
    },
    {
      "cell_type": "code",
      "metadata": {
        "id": "oP2w537OBR1B"
      },
      "source": [
        "# create the binary encoder\n",
        "\n",
        "encoder = BinaryEncoder(cols=['A7'], drop_invariant=True)"
      ],
      "execution_count": 163,
      "outputs": []
    },
    {
      "cell_type": "code",
      "metadata": {
        "colab": {
          "base_uri": "https://localhost:8080/"
        },
        "id": "WA9xKDRVBUHa",
        "outputId": "4e7955dc-ec87-4076-f8f1-8fca0a3f83a9"
      },
      "source": [
        "# let's fit the transformer to the train set\n",
        "\n",
        "encoder.fit(X_train)"
      ],
      "execution_count": 164,
      "outputs": [
        {
          "output_type": "stream",
          "text": [
            "/usr/local/lib/python3.7/dist-packages/category_encoders/utils.py:21: FutureWarning: is_categorical is deprecated and will be removed in a future version.  Use is_categorical_dtype instead\n",
            "  elif pd.api.types.is_categorical(cols):\n"
          ],
          "name": "stderr"
        },
        {
          "output_type": "execute_result",
          "data": {
            "text/plain": [
              "BinaryEncoder(cols=['A7'], drop_invariant=True, handle_missing='value',\n",
              "              handle_unknown='value', mapping=None, return_df=True, verbose=0)"
            ]
          },
          "metadata": {
            "tags": []
          },
          "execution_count": 164
        }
      ]
    },
    {
      "cell_type": "code",
      "metadata": {
        "colab": {
          "base_uri": "https://localhost:8080/"
        },
        "id": "nC3fStDJBWUT",
        "outputId": "4a10e866-3ec8-4fd9-fb46-75100b86d1af"
      },
      "source": [
        "\n",
        "# let's inspect the information stored in the transformer\n",
        "\n",
        "encoder.base_n_encoder"
      ],
      "execution_count": 165,
      "outputs": [
        {
          "output_type": "execute_result",
          "data": {
            "text/plain": [
              "BaseNEncoder(base=2, cols=['A7'], drop_invariant=True, handle_missing='value',\n",
              "             handle_unknown='value',\n",
              "             mapping=[{'col': 'A7',\n",
              "                       'mapping':      A7_0  A7_1  A7_2  A7_3  A7_4\n",
              " 1      0     0     0     0     1\n",
              " 2      0     0     0     1     0\n",
              " 3      0     0     0     1     1\n",
              " 4      0     0     1     0     0\n",
              " 5      0     0     1     0     1\n",
              " 6      0     0     1     1     0\n",
              " 7      0     0     1     1     1\n",
              " 8      0     1     0     0     0\n",
              " 9      0     1     0     0     1\n",
              " 10     0     1     0     1     0\n",
              "-1      0     0     0     0     0\n",
              "-2      0     0     0     0     0}],\n",
              "             return_df=True, verbose=0)"
            ]
          },
          "metadata": {
            "tags": []
          },
          "execution_count": 165
        }
      ]
    },
    {
      "cell_type": "code",
      "metadata": {
        "id": "6dl7PXP3BZcr"
      },
      "source": [
        "# let's transform train and test sets\n",
        "\n",
        "X_train_enc = encoder.transform(X_train)\n",
        "X_test_enc = encoder.transform(X_test)"
      ],
      "execution_count": 166,
      "outputs": []
    },
    {
      "cell_type": "code",
      "metadata": {
        "colab": {
          "base_uri": "https://localhost:8080/",
          "height": 204
        },
        "id": "xAvRQSjmBcV8",
        "outputId": "e4e2c525-8eee-4e99-df94-d764489648f3"
      },
      "source": [
        "X_train_enc.head()"
      ],
      "execution_count": 167,
      "outputs": [
        {
          "output_type": "execute_result",
          "data": {
            "text/html": [
              "<div>\n",
              "<style scoped>\n",
              "    .dataframe tbody tr th:only-of-type {\n",
              "        vertical-align: middle;\n",
              "    }\n",
              "\n",
              "    .dataframe tbody tr th {\n",
              "        vertical-align: top;\n",
              "    }\n",
              "\n",
              "    .dataframe thead th {\n",
              "        text-align: right;\n",
              "    }\n",
              "</style>\n",
              "<table border=\"1\" class=\"dataframe\">\n",
              "  <thead>\n",
              "    <tr style=\"text-align: right;\">\n",
              "      <th></th>\n",
              "      <th>A1</th>\n",
              "      <th>A2</th>\n",
              "      <th>A3</th>\n",
              "      <th>A4</th>\n",
              "      <th>A5</th>\n",
              "      <th>A6</th>\n",
              "      <th>A7_1</th>\n",
              "      <th>A7_2</th>\n",
              "      <th>A7_3</th>\n",
              "      <th>A7_4</th>\n",
              "      <th>A8</th>\n",
              "      <th>A9</th>\n",
              "      <th>A10</th>\n",
              "      <th>A11</th>\n",
              "      <th>A12</th>\n",
              "      <th>A13</th>\n",
              "      <th>A14</th>\n",
              "      <th>A15</th>\n",
              "      <th>A16</th>\n",
              "    </tr>\n",
              "  </thead>\n",
              "  <tbody>\n",
              "    <tr>\n",
              "      <th>596</th>\n",
              "      <td>a</td>\n",
              "      <td>46.08</td>\n",
              "      <td>3.000</td>\n",
              "      <td>u</td>\n",
              "      <td>g</td>\n",
              "      <td>c</td>\n",
              "      <td>0</td>\n",
              "      <td>0</td>\n",
              "      <td>0</td>\n",
              "      <td>1</td>\n",
              "      <td>2.375</td>\n",
              "      <td>t</td>\n",
              "      <td>t</td>\n",
              "      <td>8</td>\n",
              "      <td>t</td>\n",
              "      <td>g</td>\n",
              "      <td>396.0</td>\n",
              "      <td>4159</td>\n",
              "      <td>1</td>\n",
              "    </tr>\n",
              "    <tr>\n",
              "      <th>303</th>\n",
              "      <td>a</td>\n",
              "      <td>15.92</td>\n",
              "      <td>2.875</td>\n",
              "      <td>u</td>\n",
              "      <td>g</td>\n",
              "      <td>q</td>\n",
              "      <td>0</td>\n",
              "      <td>0</td>\n",
              "      <td>0</td>\n",
              "      <td>1</td>\n",
              "      <td>0.085</td>\n",
              "      <td>f</td>\n",
              "      <td>f</td>\n",
              "      <td>0</td>\n",
              "      <td>f</td>\n",
              "      <td>g</td>\n",
              "      <td>120.0</td>\n",
              "      <td>0</td>\n",
              "      <td>0</td>\n",
              "    </tr>\n",
              "    <tr>\n",
              "      <th>204</th>\n",
              "      <td>b</td>\n",
              "      <td>36.33</td>\n",
              "      <td>2.125</td>\n",
              "      <td>y</td>\n",
              "      <td>p</td>\n",
              "      <td>w</td>\n",
              "      <td>0</td>\n",
              "      <td>0</td>\n",
              "      <td>0</td>\n",
              "      <td>1</td>\n",
              "      <td>0.085</td>\n",
              "      <td>t</td>\n",
              "      <td>t</td>\n",
              "      <td>1</td>\n",
              "      <td>f</td>\n",
              "      <td>g</td>\n",
              "      <td>50.0</td>\n",
              "      <td>1187</td>\n",
              "      <td>1</td>\n",
              "    </tr>\n",
              "    <tr>\n",
              "      <th>351</th>\n",
              "      <td>b</td>\n",
              "      <td>22.17</td>\n",
              "      <td>0.585</td>\n",
              "      <td>y</td>\n",
              "      <td>p</td>\n",
              "      <td>ff</td>\n",
              "      <td>0</td>\n",
              "      <td>0</td>\n",
              "      <td>1</td>\n",
              "      <td>0</td>\n",
              "      <td>0.000</td>\n",
              "      <td>f</td>\n",
              "      <td>f</td>\n",
              "      <td>0</td>\n",
              "      <td>f</td>\n",
              "      <td>g</td>\n",
              "      <td>100.0</td>\n",
              "      <td>0</td>\n",
              "      <td>0</td>\n",
              "    </tr>\n",
              "    <tr>\n",
              "      <th>118</th>\n",
              "      <td>b</td>\n",
              "      <td>57.83</td>\n",
              "      <td>7.040</td>\n",
              "      <td>u</td>\n",
              "      <td>g</td>\n",
              "      <td>m</td>\n",
              "      <td>0</td>\n",
              "      <td>0</td>\n",
              "      <td>0</td>\n",
              "      <td>1</td>\n",
              "      <td>14.000</td>\n",
              "      <td>t</td>\n",
              "      <td>t</td>\n",
              "      <td>6</td>\n",
              "      <td>t</td>\n",
              "      <td>g</td>\n",
              "      <td>360.0</td>\n",
              "      <td>1332</td>\n",
              "      <td>1</td>\n",
              "    </tr>\n",
              "  </tbody>\n",
              "</table>\n",
              "</div>"
            ],
            "text/plain": [
              "    A1     A2     A3 A4 A5  A6  A7_1  ...  A10  A11  A12  A13    A14   A15  A16\n",
              "596  a  46.08  3.000  u  g   c     0  ...    t    8    t    g  396.0  4159    1\n",
              "303  a  15.92  2.875  u  g   q     0  ...    f    0    f    g  120.0     0    0\n",
              "204  b  36.33  2.125  y  p   w     0  ...    t    1    f    g   50.0  1187    1\n",
              "351  b  22.17  0.585  y  p  ff     0  ...    f    0    f    g  100.0     0    0\n",
              "118  b  57.83  7.040  u  g   m     0  ...    t    6    t    g  360.0  1332    1\n",
              "\n",
              "[5 rows x 19 columns]"
            ]
          },
          "metadata": {
            "tags": []
          },
          "execution_count": 167
        }
      ]
    },
    {
      "cell_type": "markdown",
      "metadata": {
        "id": "CnAKnFU7CpaW"
      },
      "source": [
        "## feature hashing"
      ]
    },
    {
      "cell_type": "markdown",
      "metadata": {
        "id": "wOwATiDZCKgS"
      },
      "source": [
        "Avec le hachage de caractéristiques, les catégories d'une variable sont converties en une série de vecteurs binaires à l'aide d'une fonction de hachage. Comment cela marche-t-il? Tout d'abord, nous déterminons, arbitrairement, le nombre de vecteurs binaires pour représenter la catégorie. Par exemple, disons que nous aimerions utiliser cinq vecteurs. Ensuite, nous avons besoin d'une fonction de hachage qui prendra une catégorie et renverra un nombre compris entre 0 et n-1, où n est le nombre de vecteurs binaires. Dans notre exemple, la fonction de hachage doit renvoyer une valeur comprise entre 0 et 4. Disons que notre fonction de hachage renvoie la valeur 3 pour la catégorie bleu. Cela signifie que notre catégorie bleue sera représentée par un 0 dans les vecteurs 0, 1, 2 et 4 et 1 dans le vecteur 3 : [0,0,0,1,0]. N'importe quelle fonction de hachage peut être utilisée tant qu'elle renvoie un nombre compris entre 0 et n-1"
      ]
    },
    {
      "cell_type": "code",
      "metadata": {
        "id": "spOHvO7_CknN"
      },
      "source": [
        "import pandas as pd\n",
        "\n",
        "# to split the datasets\n",
        "from sklearn.model_selection import train_test_split\n",
        "\n",
        "# for encoding using feature-engine\n",
        "from category_encoders import HashingEncoder"
      ],
      "execution_count": 168,
      "outputs": []
    },
    {
      "cell_type": "code",
      "metadata": {
        "colab": {
          "base_uri": "https://localhost:8080/"
        },
        "id": "lubqPHRBCsoL",
        "outputId": "759196d5-9f86-4f3b-8bfc-64a9850fe07e"
      },
      "source": [
        "# let's separate into training and testing set\n",
        "\n",
        "X_train, X_test, y_train, y_test = train_test_split(\n",
        "    data,  # predictors\n",
        "    data['A16'],  # target\n",
        "    test_size=0.3,  # percentage of obs in test set\n",
        "    random_state=0)  # seed to ensure reproducibility\n",
        "\n",
        "X_train.shape, X_test.shape"
      ],
      "execution_count": 169,
      "outputs": [
        {
          "output_type": "execute_result",
          "data": {
            "text/plain": [
              "((483, 16), (207, 16))"
            ]
          },
          "metadata": {
            "tags": []
          },
          "execution_count": 169
        }
      ]
    },
    {
      "cell_type": "code",
      "metadata": {
        "colab": {
          "base_uri": "https://localhost:8080/"
        },
        "id": "oAZnYl0yCvAF",
        "outputId": "e20ff551-e2cd-4f67-989b-75c791f52bf5"
      },
      "source": [
        "X_train['A7'].unique()"
      ],
      "execution_count": 170,
      "outputs": [
        {
          "output_type": "execute_result",
          "data": {
            "text/plain": [
              "array(['v', 'ff', 'h', 'dd', 'z', 'bb', 'j', 'Missing', 'n', 'o'],\n",
              "      dtype=object)"
            ]
          },
          "metadata": {
            "tags": []
          },
          "execution_count": 170
        }
      ]
    },
    {
      "cell_type": "code",
      "metadata": {
        "id": "uARBy8zICxT3"
      },
      "source": [
        "# create the feature hashing encoder\n",
        "\n",
        "encoder = HashingEncoder(cols=['A7'], n_components=4)"
      ],
      "execution_count": 171,
      "outputs": []
    },
    {
      "cell_type": "code",
      "metadata": {
        "colab": {
          "base_uri": "https://localhost:8080/"
        },
        "id": "9HBiWCOvC0Lb",
        "outputId": "123eee59-1cff-479d-b2e0-550c948bc0f4"
      },
      "source": [
        "\n",
        "# fit the transformer to the train set\n",
        "\n",
        "encoder.fit(X_train)"
      ],
      "execution_count": 172,
      "outputs": [
        {
          "output_type": "stream",
          "text": [
            "/usr/local/lib/python3.7/dist-packages/category_encoders/utils.py:21: FutureWarning: is_categorical is deprecated and will be removed in a future version.  Use is_categorical_dtype instead\n",
            "  elif pd.api.types.is_categorical(cols):\n"
          ],
          "name": "stderr"
        },
        {
          "output_type": "execute_result",
          "data": {
            "text/plain": [
              "HashingEncoder(cols=['A7'], drop_invariant=False, hash_method='md5',\n",
              "               max_process=1, max_sample=483, n_components=4, return_df=True,\n",
              "               verbose=0)"
            ]
          },
          "metadata": {
            "tags": []
          },
          "execution_count": 172
        }
      ]
    },
    {
      "cell_type": "code",
      "metadata": {
        "colab": {
          "base_uri": "https://localhost:8080/",
          "height": 35
        },
        "id": "1rorv-WgC3l6",
        "outputId": "e441750c-203a-4f00-fe3d-f4aa2b980995"
      },
      "source": [
        "\n",
        "# let's inspect the hashing method\n",
        "\n",
        "encoder.hash_method"
      ],
      "execution_count": 173,
      "outputs": [
        {
          "output_type": "execute_result",
          "data": {
            "application/vnd.google.colaboratory.intrinsic+json": {
              "type": "string"
            },
            "text/plain": [
              "'md5'"
            ]
          },
          "metadata": {
            "tags": []
          },
          "execution_count": 173
        }
      ]
    },
    {
      "cell_type": "code",
      "metadata": {
        "id": "eAhjVcE4C6Gx"
      },
      "source": [
        "# let's transform train and test sets\n",
        "\n",
        "X_train_enc = encoder.transform(X_train)\n",
        "X_test_enc = encoder.transform(X_test)"
      ],
      "execution_count": 174,
      "outputs": []
    },
    {
      "cell_type": "code",
      "metadata": {
        "colab": {
          "base_uri": "https://localhost:8080/",
          "height": 204
        },
        "id": "_uPPlg3hC9jo",
        "outputId": "053ad09f-a607-4767-aada-961ce563131a"
      },
      "source": [
        "X_train_enc.head()"
      ],
      "execution_count": 176,
      "outputs": [
        {
          "output_type": "execute_result",
          "data": {
            "text/html": [
              "<div>\n",
              "<style scoped>\n",
              "    .dataframe tbody tr th:only-of-type {\n",
              "        vertical-align: middle;\n",
              "    }\n",
              "\n",
              "    .dataframe tbody tr th {\n",
              "        vertical-align: top;\n",
              "    }\n",
              "\n",
              "    .dataframe thead th {\n",
              "        text-align: right;\n",
              "    }\n",
              "</style>\n",
              "<table border=\"1\" class=\"dataframe\">\n",
              "  <thead>\n",
              "    <tr style=\"text-align: right;\">\n",
              "      <th></th>\n",
              "      <th>col_0</th>\n",
              "      <th>col_1</th>\n",
              "      <th>col_2</th>\n",
              "      <th>col_3</th>\n",
              "      <th>A1</th>\n",
              "      <th>A2</th>\n",
              "      <th>A3</th>\n",
              "      <th>A4</th>\n",
              "      <th>A5</th>\n",
              "      <th>A6</th>\n",
              "      <th>A8</th>\n",
              "      <th>A9</th>\n",
              "      <th>A10</th>\n",
              "      <th>A11</th>\n",
              "      <th>A12</th>\n",
              "      <th>A13</th>\n",
              "      <th>A14</th>\n",
              "      <th>A15</th>\n",
              "      <th>A16</th>\n",
              "    </tr>\n",
              "  </thead>\n",
              "  <tbody>\n",
              "    <tr>\n",
              "      <th>596</th>\n",
              "      <td>0</td>\n",
              "      <td>0</td>\n",
              "      <td>1</td>\n",
              "      <td>0</td>\n",
              "      <td>a</td>\n",
              "      <td>46.08</td>\n",
              "      <td>3.000</td>\n",
              "      <td>u</td>\n",
              "      <td>g</td>\n",
              "      <td>c</td>\n",
              "      <td>2.375</td>\n",
              "      <td>t</td>\n",
              "      <td>t</td>\n",
              "      <td>8</td>\n",
              "      <td>t</td>\n",
              "      <td>g</td>\n",
              "      <td>396.0</td>\n",
              "      <td>4159</td>\n",
              "      <td>1</td>\n",
              "    </tr>\n",
              "    <tr>\n",
              "      <th>303</th>\n",
              "      <td>0</td>\n",
              "      <td>0</td>\n",
              "      <td>1</td>\n",
              "      <td>0</td>\n",
              "      <td>a</td>\n",
              "      <td>15.92</td>\n",
              "      <td>2.875</td>\n",
              "      <td>u</td>\n",
              "      <td>g</td>\n",
              "      <td>q</td>\n",
              "      <td>0.085</td>\n",
              "      <td>f</td>\n",
              "      <td>f</td>\n",
              "      <td>0</td>\n",
              "      <td>f</td>\n",
              "      <td>g</td>\n",
              "      <td>120.0</td>\n",
              "      <td>0</td>\n",
              "      <td>0</td>\n",
              "    </tr>\n",
              "    <tr>\n",
              "      <th>204</th>\n",
              "      <td>0</td>\n",
              "      <td>0</td>\n",
              "      <td>1</td>\n",
              "      <td>0</td>\n",
              "      <td>b</td>\n",
              "      <td>36.33</td>\n",
              "      <td>2.125</td>\n",
              "      <td>y</td>\n",
              "      <td>p</td>\n",
              "      <td>w</td>\n",
              "      <td>0.085</td>\n",
              "      <td>t</td>\n",
              "      <td>t</td>\n",
              "      <td>1</td>\n",
              "      <td>f</td>\n",
              "      <td>g</td>\n",
              "      <td>50.0</td>\n",
              "      <td>1187</td>\n",
              "      <td>1</td>\n",
              "    </tr>\n",
              "    <tr>\n",
              "      <th>351</th>\n",
              "      <td>0</td>\n",
              "      <td>1</td>\n",
              "      <td>0</td>\n",
              "      <td>0</td>\n",
              "      <td>b</td>\n",
              "      <td>22.17</td>\n",
              "      <td>0.585</td>\n",
              "      <td>y</td>\n",
              "      <td>p</td>\n",
              "      <td>ff</td>\n",
              "      <td>0.000</td>\n",
              "      <td>f</td>\n",
              "      <td>f</td>\n",
              "      <td>0</td>\n",
              "      <td>f</td>\n",
              "      <td>g</td>\n",
              "      <td>100.0</td>\n",
              "      <td>0</td>\n",
              "      <td>0</td>\n",
              "    </tr>\n",
              "    <tr>\n",
              "      <th>118</th>\n",
              "      <td>0</td>\n",
              "      <td>0</td>\n",
              "      <td>1</td>\n",
              "      <td>0</td>\n",
              "      <td>b</td>\n",
              "      <td>57.83</td>\n",
              "      <td>7.040</td>\n",
              "      <td>u</td>\n",
              "      <td>g</td>\n",
              "      <td>m</td>\n",
              "      <td>14.000</td>\n",
              "      <td>t</td>\n",
              "      <td>t</td>\n",
              "      <td>6</td>\n",
              "      <td>t</td>\n",
              "      <td>g</td>\n",
              "      <td>360.0</td>\n",
              "      <td>1332</td>\n",
              "      <td>1</td>\n",
              "    </tr>\n",
              "  </tbody>\n",
              "</table>\n",
              "</div>"
            ],
            "text/plain": [
              "     col_0  col_1  col_2  col_3 A1     A2  ...  A11 A12 A13    A14   A15 A16\n",
              "596      0      0      1      0  a  46.08  ...    8   t   g  396.0  4159   1\n",
              "303      0      0      1      0  a  15.92  ...    0   f   g  120.0     0   0\n",
              "204      0      0      1      0  b  36.33  ...    1   f   g   50.0  1187   1\n",
              "351      0      1      0      0  b  22.17  ...    0   f   g  100.0     0   0\n",
              "118      0      0      1      0  b  57.83  ...    6   t   g  360.0  1332   1\n",
              "\n",
              "[5 rows x 19 columns]"
            ]
          },
          "metadata": {
            "tags": []
          },
          "execution_count": 176
        }
      ]
    }
  ]
}

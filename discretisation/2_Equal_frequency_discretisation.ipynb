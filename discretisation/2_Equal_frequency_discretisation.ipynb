{
  "nbformat": 4,
  "nbformat_minor": 0,
  "metadata": {
    "colab": {
      "name": "2-Equal-frequency-discretisation.ipynb",
      "provenance": [],
      "collapsed_sections": []
    },
    "kernelspec": {
      "name": "python3",
      "display_name": "Python 3"
    },
    "language_info": {
      "name": "python"
    }
  },
  "cells": [
    {
      "cell_type": "code",
      "metadata": {
        "id": "df0Ywy_idVJq"
      },
      "source": [
        ""
      ],
      "execution_count": null,
      "outputs": []
    },
    {
      "cell_type": "markdown",
      "metadata": {
        "id": "4TB4UHmadZxb"
      },
      "source": [
        "# Discrétisation par intervalles de fréquence égale\n",
        "\n",
        "La discrétisation à fréquence égale divise les valeurs de la variable en intervalles qui portent la même proportion d'observations. La largeur d'intervalle est déterminée par des quantiles, et par conséquent différents intervalles peuvent avoir des largeurs différentes. En résumé, la discrétisation à fréquence égale par quantiles consiste à diviser la variable continue en N quantiles, N à définir par l'utilisateur. Cette technique de discrétisation est particulièrement utile pour les variables asymétriques car elle répartit les observations sur les différentes classes de manière égale. Dans cette recette, nous effectuerons une discrétisation à fréquence égale à l'aide de pandas, scikit-learn.\n",
        "\n",
        "Commençons par importer les bibliothèques Python nécessaires et préparons l'ensemble de données :"
      ]
    },
    {
      "cell_type": "code",
      "metadata": {
        "id": "9UJwQ1_xeiqF"
      },
      "source": [
        "import pandas as pd\n",
        "\n",
        "# for plotting\n",
        "import matplotlib.pyplot as plt\n",
        "\n",
        "# the dataset for the demo\n",
        "from sklearn.datasets import load_boston\n",
        "\n",
        "from sklearn.model_selection import train_test_split\n",
        "\n",
        "# for discretization\n",
        "from sklearn.preprocessing import KBinsDiscretizer\n"
      ],
      "execution_count": 1,
      "outputs": []
    },
    {
      "cell_type": "markdown",
      "metadata": {
        "id": "_Ff3LesPew0g"
      },
      "source": [
        "Chargeons les variables prédictives et cibles de l'ensemble de données Boston House Prices dans une dataframe"
      ]
    },
    {
      "cell_type": "code",
      "metadata": {
        "colab": {
          "base_uri": "https://localhost:8080/",
          "height": 204
        },
        "id": "7qr8Jh_Dez8Y",
        "outputId": "2749fcba-a333-4351-8033-b301c4557fbb"
      },
      "source": [
        "# load the the Boston House price data from Scikit-learn\n",
        "boston_dataset = load_boston()\n",
        "\n",
        "# create a dataframe with the independent variables\n",
        "data = pd.DataFrame(boston_dataset.data,\n",
        "                    columns=boston_dataset.feature_names)\n",
        "\n",
        "# add the target\n",
        "data['MEDV'] = boston_dataset.target\n",
        "\n",
        "data.head()"
      ],
      "execution_count": 2,
      "outputs": [
        {
          "output_type": "execute_result",
          "data": {
            "text/html": [
              "<div>\n",
              "<style scoped>\n",
              "    .dataframe tbody tr th:only-of-type {\n",
              "        vertical-align: middle;\n",
              "    }\n",
              "\n",
              "    .dataframe tbody tr th {\n",
              "        vertical-align: top;\n",
              "    }\n",
              "\n",
              "    .dataframe thead th {\n",
              "        text-align: right;\n",
              "    }\n",
              "</style>\n",
              "<table border=\"1\" class=\"dataframe\">\n",
              "  <thead>\n",
              "    <tr style=\"text-align: right;\">\n",
              "      <th></th>\n",
              "      <th>CRIM</th>\n",
              "      <th>ZN</th>\n",
              "      <th>INDUS</th>\n",
              "      <th>CHAS</th>\n",
              "      <th>NOX</th>\n",
              "      <th>RM</th>\n",
              "      <th>AGE</th>\n",
              "      <th>DIS</th>\n",
              "      <th>RAD</th>\n",
              "      <th>TAX</th>\n",
              "      <th>PTRATIO</th>\n",
              "      <th>B</th>\n",
              "      <th>LSTAT</th>\n",
              "      <th>MEDV</th>\n",
              "    </tr>\n",
              "  </thead>\n",
              "  <tbody>\n",
              "    <tr>\n",
              "      <th>0</th>\n",
              "      <td>0.00632</td>\n",
              "      <td>18.0</td>\n",
              "      <td>2.31</td>\n",
              "      <td>0.0</td>\n",
              "      <td>0.538</td>\n",
              "      <td>6.575</td>\n",
              "      <td>65.2</td>\n",
              "      <td>4.0900</td>\n",
              "      <td>1.0</td>\n",
              "      <td>296.0</td>\n",
              "      <td>15.3</td>\n",
              "      <td>396.90</td>\n",
              "      <td>4.98</td>\n",
              "      <td>24.0</td>\n",
              "    </tr>\n",
              "    <tr>\n",
              "      <th>1</th>\n",
              "      <td>0.02731</td>\n",
              "      <td>0.0</td>\n",
              "      <td>7.07</td>\n",
              "      <td>0.0</td>\n",
              "      <td>0.469</td>\n",
              "      <td>6.421</td>\n",
              "      <td>78.9</td>\n",
              "      <td>4.9671</td>\n",
              "      <td>2.0</td>\n",
              "      <td>242.0</td>\n",
              "      <td>17.8</td>\n",
              "      <td>396.90</td>\n",
              "      <td>9.14</td>\n",
              "      <td>21.6</td>\n",
              "    </tr>\n",
              "    <tr>\n",
              "      <th>2</th>\n",
              "      <td>0.02729</td>\n",
              "      <td>0.0</td>\n",
              "      <td>7.07</td>\n",
              "      <td>0.0</td>\n",
              "      <td>0.469</td>\n",
              "      <td>7.185</td>\n",
              "      <td>61.1</td>\n",
              "      <td>4.9671</td>\n",
              "      <td>2.0</td>\n",
              "      <td>242.0</td>\n",
              "      <td>17.8</td>\n",
              "      <td>392.83</td>\n",
              "      <td>4.03</td>\n",
              "      <td>34.7</td>\n",
              "    </tr>\n",
              "    <tr>\n",
              "      <th>3</th>\n",
              "      <td>0.03237</td>\n",
              "      <td>0.0</td>\n",
              "      <td>2.18</td>\n",
              "      <td>0.0</td>\n",
              "      <td>0.458</td>\n",
              "      <td>6.998</td>\n",
              "      <td>45.8</td>\n",
              "      <td>6.0622</td>\n",
              "      <td>3.0</td>\n",
              "      <td>222.0</td>\n",
              "      <td>18.7</td>\n",
              "      <td>394.63</td>\n",
              "      <td>2.94</td>\n",
              "      <td>33.4</td>\n",
              "    </tr>\n",
              "    <tr>\n",
              "      <th>4</th>\n",
              "      <td>0.06905</td>\n",
              "      <td>0.0</td>\n",
              "      <td>2.18</td>\n",
              "      <td>0.0</td>\n",
              "      <td>0.458</td>\n",
              "      <td>7.147</td>\n",
              "      <td>54.2</td>\n",
              "      <td>6.0622</td>\n",
              "      <td>3.0</td>\n",
              "      <td>222.0</td>\n",
              "      <td>18.7</td>\n",
              "      <td>396.90</td>\n",
              "      <td>5.33</td>\n",
              "      <td>36.2</td>\n",
              "    </tr>\n",
              "  </tbody>\n",
              "</table>\n",
              "</div>"
            ],
            "text/plain": [
              "      CRIM    ZN  INDUS  CHAS    NOX  ...    TAX  PTRATIO       B  LSTAT  MEDV\n",
              "0  0.00632  18.0   2.31   0.0  0.538  ...  296.0     15.3  396.90   4.98  24.0\n",
              "1  0.02731   0.0   7.07   0.0  0.469  ...  242.0     17.8  396.90   9.14  21.6\n",
              "2  0.02729   0.0   7.07   0.0  0.469  ...  242.0     17.8  392.83   4.03  34.7\n",
              "3  0.03237   0.0   2.18   0.0  0.458  ...  222.0     18.7  394.63   2.94  33.4\n",
              "4  0.06905   0.0   2.18   0.0  0.458  ...  222.0     18.7  396.90   5.33  36.2\n",
              "\n",
              "[5 rows x 14 columns]"
            ]
          },
          "metadata": {
            "tags": []
          },
          "execution_count": 2
        }
      ]
    },
    {
      "cell_type": "markdown",
      "metadata": {
        "id": "zUADz56efCCh"
      },
      "source": [
        "Les limites des intervalles, c'est-à-dire les quantiles, doivent être apprises à l'aide de variables dans le train, puis utilisées pour discrétiser les variables dans le train et les tests."
      ]
    },
    {
      "cell_type": "code",
      "metadata": {
        "colab": {
          "base_uri": "https://localhost:8080/"
        },
        "id": "1kFZASVDe5bZ",
        "outputId": "d37e5018-948c-451f-cecc-42f42725f1e2"
      },
      "source": [
        "\n",
        "# let's separate into training and testing set\n",
        "\n",
        "X_train, X_test, y_train, y_test = train_test_split(\n",
        "    data.drop('MEDV', axis=1), data['MEDV'], test_size=0.3, random_state=0)\n",
        "\n",
        "X_train.shape, X_test.shape"
      ],
      "execution_count": 3,
      "outputs": [
        {
          "output_type": "execute_result",
          "data": {
            "text/plain": [
              "((354, 13), (152, 13))"
            ]
          },
          "metadata": {
            "tags": []
          },
          "execution_count": 3
        }
      ]
    },
    {
      "cell_type": "markdown",
      "metadata": {
        "id": "4hmbnLhvfktH"
      },
      "source": [
        "## Discrétisation par intervalles de fréquence égale avec Pandas"
      ]
    },
    {
      "cell_type": "markdown",
      "metadata": {
        "id": "F4sKb8X3fSVo"
      },
      "source": [
        "Pour diviser la variable LSTAT en 10 quantiles, nous utilisons pandas qcut(), qui renvoie à la fois la variable discrétisée et les limites quantiles, que nous capturons respectivement comme une colonne dans la dataframe et une variable individuelle"
      ]
    },
    {
      "cell_type": "code",
      "metadata": {
        "id": "FUXlSZqOfrqo"
      },
      "source": [
        "# let's use pandas qcut (quantile cut) and I indicate that\n",
        "# we want 10 bins.\n",
        "\n",
        "# retbins = True indicates that I want to capture the limits\n",
        "# of the intervals (so I can then use them to cut the test set)\n",
        "\n",
        "X_train['lstat_disc'], intervals = pd.qcut(\n",
        "    X_train['LSTAT'], 10, labels=None, retbins=True, precision=3, duplicates='raise')"
      ],
      "execution_count": 4,
      "outputs": []
    },
    {
      "cell_type": "markdown",
      "metadata": {
        "id": "4raB29m0gRxA"
      },
      "source": [
        "Si nous imprimons les valeurs des intervalles avec la commande print(intervals), nous obtenons la sortie suivante :"
      ]
    },
    {
      "cell_type": "code",
      "metadata": {
        "colab": {
          "base_uri": "https://localhost:8080/"
        },
        "id": "wFllFaLkfy8A",
        "outputId": "300d363d-3a29-4c68-ad70-a08b0d2600d0"
      },
      "source": [
        "# let's visualize the interval edges\n",
        "\n",
        "intervals"
      ],
      "execution_count": 5,
      "outputs": [
        {
          "output_type": "execute_result",
          "data": {
            "text/plain": [
              "array([ 1.73 ,  4.623,  6.202,  7.528,  9.5  , 11.16 , 13.26 , 15.565,\n",
              "       18.06 , 22.453, 36.98 ])"
            ]
          },
          "metadata": {
            "tags": []
          },
          "execution_count": 5
        }
      ]
    },
    {
      "cell_type": "markdown",
      "metadata": {
        "id": "82ceT4Ylga9R"
      },
      "source": [
        "Imprimons les 10 premières observations de la variable discrétisée et d'origine, côte à côte :"
      ]
    },
    {
      "cell_type": "code",
      "metadata": {
        "colab": {
          "base_uri": "https://localhost:8080/"
        },
        "id": "6ahHcAaZf21I",
        "outputId": "6722c60e-4346-436f-8bdf-089bf7d1f3f0"
      },
      "source": [
        "# let's have a look at the result: compare original\n",
        "# and discretized variable\n",
        "\n",
        "print(X_train[['LSTAT', 'lstat_disc']].head(10))"
      ],
      "execution_count": 6,
      "outputs": [
        {
          "output_type": "stream",
          "text": [
            "     LSTAT       lstat_disc\n",
            "141  34.41  (22.453, 36.98]\n",
            "272   7.73     (7.528, 9.5]\n",
            "135  16.96  (15.565, 18.06]\n",
            "298   4.97   (4.623, 6.202]\n",
            "122  17.93  (15.565, 18.06]\n",
            "22   18.72  (18.06, 22.453]\n",
            "68   13.09   (11.16, 13.26]\n",
            "20   21.02  (18.06, 22.453]\n",
            "437  26.45  (22.453, 36.98]\n",
            "14   10.26     (9.5, 11.16]\n"
          ],
          "name": "stdout"
        }
      ]
    },
    {
      "cell_type": "code",
      "metadata": {
        "colab": {
          "base_uri": "https://localhost:8080/"
        },
        "id": "pprgMdVHf6Hg",
        "outputId": "8a8608fd-c8a0-4905-d32d-d97f718ec582"
      },
      "source": [
        "# let's check the percentage of observations per interval\n",
        "# they should be roughly the same\n",
        "\n",
        "X_train['lstat_disc'].value_counts() / len(X_train)"
      ],
      "execution_count": 7,
      "outputs": [
        {
          "output_type": "execute_result",
          "data": {
            "text/plain": [
              "(7.528, 9.5]       0.104520\n",
              "(22.453, 36.98]    0.101695\n",
              "(15.565, 18.06]    0.101695\n",
              "(13.26, 15.565]    0.101695\n",
              "(1.729, 4.623]     0.101695\n",
              "(11.16, 13.26]     0.098870\n",
              "(6.202, 7.528]     0.098870\n",
              "(4.623, 6.202]     0.098870\n",
              "(18.06, 22.453]    0.096045\n",
              "(9.5, 11.16]       0.096045\n",
              "Name: lstat_disc, dtype: float64"
            ]
          },
          "metadata": {
            "tags": []
          },
          "execution_count": 7
        }
      ]
    },
    {
      "cell_type": "markdown",
      "metadata": {
        "id": "5db0H15tk2k-"
      },
      "source": [
        "Notez comment différents intervalles ont une proportion similaire d'observations dans la sortie du bloc de code précédent\n",
        "\n",
        "\n",
        "Maintenant, discrétisons LSTAT dans l'ensemble de test, en utilisant la méthode pandas cut() et les limites d'intervalle déterminées à l'étape précédente."
      ]
    },
    {
      "cell_type": "code",
      "metadata": {
        "id": "n0jlTfFMf8rY"
      },
      "source": [
        "# and now let's discretise LSTAT in the test set\n",
        "# note how we now use pandas cut() instead of qcut() and\n",
        "# pass the intervals we determined for the train set\n",
        "\n",
        "X_test['lstat_disc'] = pd.cut(x = X_test['LSTAT'], bins=intervals)"
      ],
      "execution_count": 8,
      "outputs": []
    },
    {
      "cell_type": "code",
      "metadata": {
        "colab": {
          "base_uri": "https://localhost:8080/"
        },
        "id": "xOGvHdIlf_RA",
        "outputId": "65b91213-472f-48a1-9c7b-0feae2547a89"
      },
      "source": [
        "# let's check the percentage of observations per interval\n",
        "# should be roughly the same\n",
        "\n",
        "X_test['lstat_disc'].value_counts() / len(X_test)"
      ],
      "execution_count": 9,
      "outputs": [
        {
          "output_type": "execute_result",
          "data": {
            "text/plain": [
              "(7.528, 9.5]       0.131579\n",
              "(22.453, 36.98]    0.118421\n",
              "(13.26, 15.565]    0.118421\n",
              "(11.16, 13.26]     0.111842\n",
              "(15.565, 18.06]    0.098684\n",
              "(4.623, 6.202]     0.098684\n",
              "(9.5, 11.16]       0.092105\n",
              "(1.73, 4.623]      0.085526\n",
              "(18.06, 22.453]    0.078947\n",
              "(6.202, 7.528]     0.059211\n",
              "Name: lstat_disc, dtype: float64"
            ]
          },
          "metadata": {
            "tags": []
          },
          "execution_count": 9
        }
      ]
    },
    {
      "cell_type": "code",
      "metadata": {
        "colab": {
          "base_uri": "https://localhost:8080/",
          "height": 204
        },
        "id": "ZKn9tWCrgBn2",
        "outputId": "12e2a971-8c8a-463c-b364-5f41a144bf5d"
      },
      "source": [
        "X_train.head()"
      ],
      "execution_count": 10,
      "outputs": [
        {
          "output_type": "execute_result",
          "data": {
            "text/html": [
              "<div>\n",
              "<style scoped>\n",
              "    .dataframe tbody tr th:only-of-type {\n",
              "        vertical-align: middle;\n",
              "    }\n",
              "\n",
              "    .dataframe tbody tr th {\n",
              "        vertical-align: top;\n",
              "    }\n",
              "\n",
              "    .dataframe thead th {\n",
              "        text-align: right;\n",
              "    }\n",
              "</style>\n",
              "<table border=\"1\" class=\"dataframe\">\n",
              "  <thead>\n",
              "    <tr style=\"text-align: right;\">\n",
              "      <th></th>\n",
              "      <th>CRIM</th>\n",
              "      <th>ZN</th>\n",
              "      <th>INDUS</th>\n",
              "      <th>CHAS</th>\n",
              "      <th>NOX</th>\n",
              "      <th>RM</th>\n",
              "      <th>AGE</th>\n",
              "      <th>DIS</th>\n",
              "      <th>RAD</th>\n",
              "      <th>TAX</th>\n",
              "      <th>PTRATIO</th>\n",
              "      <th>B</th>\n",
              "      <th>LSTAT</th>\n",
              "      <th>lstat_disc</th>\n",
              "    </tr>\n",
              "  </thead>\n",
              "  <tbody>\n",
              "    <tr>\n",
              "      <th>141</th>\n",
              "      <td>1.62864</td>\n",
              "      <td>0.0</td>\n",
              "      <td>21.89</td>\n",
              "      <td>0.0</td>\n",
              "      <td>0.624</td>\n",
              "      <td>5.019</td>\n",
              "      <td>100.0</td>\n",
              "      <td>1.4394</td>\n",
              "      <td>4.0</td>\n",
              "      <td>437.0</td>\n",
              "      <td>21.2</td>\n",
              "      <td>396.90</td>\n",
              "      <td>34.41</td>\n",
              "      <td>(22.453, 36.98]</td>\n",
              "    </tr>\n",
              "    <tr>\n",
              "      <th>272</th>\n",
              "      <td>0.11460</td>\n",
              "      <td>20.0</td>\n",
              "      <td>6.96</td>\n",
              "      <td>0.0</td>\n",
              "      <td>0.464</td>\n",
              "      <td>6.538</td>\n",
              "      <td>58.7</td>\n",
              "      <td>3.9175</td>\n",
              "      <td>3.0</td>\n",
              "      <td>223.0</td>\n",
              "      <td>18.6</td>\n",
              "      <td>394.96</td>\n",
              "      <td>7.73</td>\n",
              "      <td>(7.528, 9.5]</td>\n",
              "    </tr>\n",
              "    <tr>\n",
              "      <th>135</th>\n",
              "      <td>0.55778</td>\n",
              "      <td>0.0</td>\n",
              "      <td>21.89</td>\n",
              "      <td>0.0</td>\n",
              "      <td>0.624</td>\n",
              "      <td>6.335</td>\n",
              "      <td>98.2</td>\n",
              "      <td>2.1107</td>\n",
              "      <td>4.0</td>\n",
              "      <td>437.0</td>\n",
              "      <td>21.2</td>\n",
              "      <td>394.67</td>\n",
              "      <td>16.96</td>\n",
              "      <td>(15.565, 18.06]</td>\n",
              "    </tr>\n",
              "    <tr>\n",
              "      <th>298</th>\n",
              "      <td>0.06466</td>\n",
              "      <td>70.0</td>\n",
              "      <td>2.24</td>\n",
              "      <td>0.0</td>\n",
              "      <td>0.400</td>\n",
              "      <td>6.345</td>\n",
              "      <td>20.1</td>\n",
              "      <td>7.8278</td>\n",
              "      <td>5.0</td>\n",
              "      <td>358.0</td>\n",
              "      <td>14.8</td>\n",
              "      <td>368.24</td>\n",
              "      <td>4.97</td>\n",
              "      <td>(4.623, 6.202]</td>\n",
              "    </tr>\n",
              "    <tr>\n",
              "      <th>122</th>\n",
              "      <td>0.09299</td>\n",
              "      <td>0.0</td>\n",
              "      <td>25.65</td>\n",
              "      <td>0.0</td>\n",
              "      <td>0.581</td>\n",
              "      <td>5.961</td>\n",
              "      <td>92.9</td>\n",
              "      <td>2.0869</td>\n",
              "      <td>2.0</td>\n",
              "      <td>188.0</td>\n",
              "      <td>19.1</td>\n",
              "      <td>378.09</td>\n",
              "      <td>17.93</td>\n",
              "      <td>(15.565, 18.06]</td>\n",
              "    </tr>\n",
              "  </tbody>\n",
              "</table>\n",
              "</div>"
            ],
            "text/plain": [
              "        CRIM    ZN  INDUS  CHAS  ...  PTRATIO       B  LSTAT       lstat_disc\n",
              "141  1.62864   0.0  21.89   0.0  ...     21.2  396.90  34.41  (22.453, 36.98]\n",
              "272  0.11460  20.0   6.96   0.0  ...     18.6  394.96   7.73     (7.528, 9.5]\n",
              "135  0.55778   0.0  21.89   0.0  ...     21.2  394.67  16.96  (15.565, 18.06]\n",
              "298  0.06466  70.0   2.24   0.0  ...     14.8  368.24   4.97   (4.623, 6.202]\n",
              "122  0.09299   0.0  25.65   0.0  ...     19.1  378.09  17.93  (15.565, 18.06]\n",
              "\n",
              "[5 rows x 14 columns]"
            ]
          },
          "metadata": {
            "tags": []
          },
          "execution_count": 10
        }
      ]
    },
    {
      "cell_type": "code",
      "metadata": {
        "colab": {
          "base_uri": "https://localhost:8080/",
          "height": 334
        },
        "id": "SLjPRmclgBx3",
        "outputId": "69750ead-acd6-4f76-9ba2-cc7caabfb5ae"
      },
      "source": [
        "\n",
        "# if the distributions in train and test set are similar, we should expect similar propotion of\n",
        "# observations in the different intervals in the train and test set\n",
        "# let's see that below\n",
        "\n",
        "# determine proportion of observations per interval\n",
        "t1 = X_train['lstat_disc'].value_counts() / len(X_train)\n",
        "t2 = X_test['lstat_disc'].value_counts() / len(X_test)\n",
        "\n",
        "# concatenate aggregated views\n",
        "tmp = pd.concat([t1, t2], axis=1)\n",
        "tmp.columns = ['train', 'test']\n",
        "\n",
        "# plot\n",
        "tmp.plot.bar()\n",
        "plt.xticks(rotation=45)\n",
        "plt.ylabel('Number of observations per bin')"
      ],
      "execution_count": 11,
      "outputs": [
        {
          "output_type": "execute_result",
          "data": {
            "text/plain": [
              "Text(0, 0.5, 'Number of observations per bin')"
            ]
          },
          "metadata": {
            "tags": []
          },
          "execution_count": 11
        },
        {
          "output_type": "display_data",
          "data": {
            "image/png": "[encoded data removed]",
            "text/plain": [
              "<Figure size 432x288 with 1 Axes>"
            ]
          },
          "metadata": {
            "tags": [],
            "needs_background": "light"
          }
        }
      ]
    },
    {
      "cell_type": "markdown",
      "metadata": {
        "id": "DtIgL79FleAm"
      },
      "source": [
        "## Discrétisation par intervalles de fréquence égale avec scikit-learn\n",
        "Faisons maintenant la discrétisation à fréquence égale avec scikit-learn. Tout d'abord, divisons les données d'origine en ensembles d'apprentissage et de test. Ensuite, nous mettons en place un discrétiseur :"
      ]
    },
    {
      "cell_type": "code",
      "metadata": {
        "colab": {
          "base_uri": "https://localhost:8080/"
        },
        "id": "CJHUvA_Tl_MD",
        "outputId": "84564ac1-de14-4179-d858-1236d9f15d08"
      },
      "source": [
        "# let's separate into training and testing set\n",
        "\n",
        "X_train, X_test, y_train, y_test = train_test_split(\n",
        "    data.drop('MEDV', axis=1), data['MEDV'], test_size=0.3, random_state=0)\n",
        "\n",
        "X_train.shape, X_test.shape"
      ],
      "execution_count": 12,
      "outputs": [
        {
          "output_type": "execute_result",
          "data": {
            "text/plain": [
              "((354, 13), (152, 13))"
            ]
          },
          "metadata": {
            "tags": []
          },
          "execution_count": 12
        }
      ]
    },
    {
      "cell_type": "markdown",
      "metadata": {
        "id": "iM3T2Hpzm1uQ"
      },
      "source": [
        "Créons un discrétiseur à fréquence égale en définissant la stratégie sur quantile et le nombre de cases à 10 :"
      ]
    },
    {
      "cell_type": "code",
      "metadata": {
        "colab": {
          "base_uri": "https://localhost:8080/"
        },
        "id": "8EIh4oPMmCNE",
        "outputId": "53d5ffbb-003d-4979-821a-e014b4bc901e"
      },
      "source": [
        "# let's set up a discretizer based on quantiles to sort values in 10 bins\n",
        "\n",
        "disc = KBinsDiscretizer(n_bins=10, encode='ordinal', strategy='quantile')\n",
        "\n",
        "# fit the discretizer so that it learns the interval edges\n",
        "disc.fit(X_train[['LSTAT', 'DIS', 'RM']])"
      ],
      "execution_count": 13,
      "outputs": [
        {
          "output_type": "execute_result",
          "data": {
            "text/plain": [
              "KBinsDiscretizer(encode='ordinal', n_bins=10, strategy='quantile')"
            ]
          },
          "metadata": {
            "tags": []
          },
          "execution_count": 13
        }
      ]
    },
    {
      "cell_type": "markdown",
      "metadata": {
        "id": "JUXXNJIKnDgJ"
      },
      "source": [
        "KBinsDiscretiser () de Scikit-learn discrétisera toutes les variables de l'ensemble de données, nous devons donc utiliser le transformateur uniquement dans la tranche de la dataframe qui contient les variables d'intérêt"
      ]
    },
    {
      "cell_type": "code",
      "metadata": {
        "colab": {
          "base_uri": "https://localhost:8080/"
        },
        "id": "D19IFuWYmEg0",
        "outputId": "a317af56-1e9f-44c1-eba8-ff752dfe5638"
      },
      "source": [
        "# the interval edges are stored in a transformer attribute:\n",
        "\n",
        "disc.bin_edges_"
      ],
      "execution_count": 14,
      "outputs": [
        {
          "output_type": "execute_result",
          "data": {
            "text/plain": [
              "array([array([ 1.73 ,  4.623,  6.202,  7.528,  9.5  , 11.16 , 13.26 , 15.565,\n",
              "       18.06 , 22.453, 36.98 ]),\n",
              "       array([ 1.1742 ,  1.66132,  1.9793 ,  2.26121,  2.64774,  3.2157 ,\n",
              "        3.7965 ,  4.45352,  5.40702,  6.8147 , 12.1265 ]),\n",
              "       array([3.561 , 5.5783, 5.8532, 5.9628, 6.1048, 6.2155, 6.3946, 6.5632,\n",
              "       6.794 , 7.185 , 8.78  ])], dtype=object)"
            ]
          },
          "metadata": {
            "tags": []
          },
          "execution_count": 14
        }
      ]
    },
    {
      "cell_type": "code",
      "metadata": {
        "colab": {
          "base_uri": "https://localhost:8080/",
          "height": 204
        },
        "id": "HV87ldXDmHIM",
        "outputId": "dab448a7-0f6d-47b3-c239-5d0f2d74de82"
      },
      "source": [
        "\n",
        "# let's transform the train set, remember it returns a NumPy array\n",
        "train_t = disc.transform(X_train[['LSTAT', 'DIS', 'RM']])\n",
        "\n",
        "# let's transform the array to a dataframe\n",
        "train_t = pd.DataFrame(train_t, columns = ['LSTAT', 'DIS', 'RM'])\n",
        "\n",
        "train_t.head()"
      ],
      "execution_count": 15,
      "outputs": [
        {
          "output_type": "execute_result",
          "data": {
            "text/html": [
              "<div>\n",
              "<style scoped>\n",
              "    .dataframe tbody tr th:only-of-type {\n",
              "        vertical-align: middle;\n",
              "    }\n",
              "\n",
              "    .dataframe tbody tr th {\n",
              "        vertical-align: top;\n",
              "    }\n",
              "\n",
              "    .dataframe thead th {\n",
              "        text-align: right;\n",
              "    }\n",
              "</style>\n",
              "<table border=\"1\" class=\"dataframe\">\n",
              "  <thead>\n",
              "    <tr style=\"text-align: right;\">\n",
              "      <th></th>\n",
              "      <th>LSTAT</th>\n",
              "      <th>DIS</th>\n",
              "      <th>RM</th>\n",
              "    </tr>\n",
              "  </thead>\n",
              "  <tbody>\n",
              "    <tr>\n",
              "      <th>0</th>\n",
              "      <td>9.0</td>\n",
              "      <td>0.0</td>\n",
              "      <td>0.0</td>\n",
              "    </tr>\n",
              "    <tr>\n",
              "      <th>1</th>\n",
              "      <td>3.0</td>\n",
              "      <td>6.0</td>\n",
              "      <td>6.0</td>\n",
              "    </tr>\n",
              "    <tr>\n",
              "      <th>2</th>\n",
              "      <td>7.0</td>\n",
              "      <td>2.0</td>\n",
              "      <td>5.0</td>\n",
              "    </tr>\n",
              "    <tr>\n",
              "      <th>3</th>\n",
              "      <td>1.0</td>\n",
              "      <td>9.0</td>\n",
              "      <td>5.0</td>\n",
              "    </tr>\n",
              "    <tr>\n",
              "      <th>4</th>\n",
              "      <td>7.0</td>\n",
              "      <td>2.0</td>\n",
              "      <td>2.0</td>\n",
              "    </tr>\n",
              "  </tbody>\n",
              "</table>\n",
              "</div>"
            ],
            "text/plain": [
              "   LSTAT  DIS   RM\n",
              "0    9.0  0.0  0.0\n",
              "1    3.0  6.0  6.0\n",
              "2    7.0  2.0  5.0\n",
              "3    1.0  9.0  5.0\n",
              "4    7.0  2.0  2.0"
            ]
          },
          "metadata": {
            "tags": []
          },
          "execution_count": 15
        }
      ]
    },
    {
      "cell_type": "code",
      "metadata": {
        "id": "Fy8u-adymJ88"
      },
      "source": [
        "\n",
        "# let's do the same for the test set\n",
        "\n",
        "test_t = disc.transform(X_test[['LSTAT', 'DIS', 'RM']])\n",
        "\n",
        "test_t = pd.DataFrame(test_t, columns = ['LSTAT', 'DIS', 'RM'])"
      ],
      "execution_count": 17,
      "outputs": []
    },
    {
      "cell_type": "code",
      "metadata": {
        "colab": {
          "base_uri": "https://localhost:8080/",
          "height": 305
        },
        "id": "4NfGVBo_meJn",
        "outputId": "e8d1958a-0dc9-4cd2-82f7-9e734c2779df"
      },
      "source": [
        "\n",
        "# if the distributions in train and test set are similar, we should expect similar propotion of\n",
        "# observations in the different intervals in the train and test set\n",
        "\n",
        "# LSTAT\n",
        "\n",
        "t1 = train_t.groupby(['LSTAT'])['LSTAT'].count() / len(train_t)\n",
        "t2 = test_t.groupby(['LSTAT'])['LSTAT'].count() / len(test_t)\n",
        "\n",
        "tmp = pd.concat([t1, t2], axis=1)\n",
        "tmp.columns = ['train', 'test']\n",
        "tmp.plot.bar()\n",
        "plt.xticks(rotation=45)\n",
        "plt.ylabel('Number of observations per bin')"
      ],
      "execution_count": 18,
      "outputs": [
        {
          "output_type": "execute_result",
          "data": {
            "text/plain": [
              "Text(0, 0.5, 'Number of observations per bin')"
            ]
          },
          "metadata": {
            "tags": []
          },
          "execution_count": 18
        },
        {
          "output_type": "display_data",
          "data": {
            "image/png": "[encoded data removed]",
            "text/plain": [
              "<Figure size 432x288 with 1 Axes>"
            ]
          },
          "metadata": {
            "tags": [],
            "needs_background": "light"
          }
        }
      ]
    },
    {
      "cell_type": "code",
      "metadata": {
        "colab": {
          "base_uri": "https://localhost:8080/",
          "height": 296
        },
        "id": "BGLRfdRImhsW",
        "outputId": "5f76c6f1-3617-4233-c886-c22eb6b8dab3"
      },
      "source": [
        "# DIS\n",
        "\n",
        "t1 = train_t.groupby(['DIS'])['DIS'].count() / len(train_t)\n",
        "t2 = test_t.groupby(['DIS'])['DIS'].count() / len(test_t)\n",
        "\n",
        "tmp = pd.concat([t1, t2], axis=1)\n",
        "tmp.columns = ['train', 'test']\n",
        "tmp.plot.bar()\n",
        "plt.xticks(rotation=0)\n",
        "plt.ylabel('Number of observations per bin')"
      ],
      "execution_count": 19,
      "outputs": [
        {
          "output_type": "execute_result",
          "data": {
            "text/plain": [
              "Text(0, 0.5, 'Number of observations per bin')"
            ]
          },
          "metadata": {
            "tags": []
          },
          "execution_count": 19
        },
        {
          "output_type": "display_data",
          "data": {
            "image/png": "[encoded data removed]",
            "text/plain": [
              "<Figure size 432x288 with 1 Axes>"
            ]
          },
          "metadata": {
            "tags": [],
            "needs_background": "light"
          }
        }
      ]
    },
    {
      "cell_type": "code",
      "metadata": {
        "colab": {
          "base_uri": "https://localhost:8080/",
          "height": 296
        },
        "id": "pOov1T5Zmlan",
        "outputId": "4c274452-87e4-4bb6-fb90-29bd2af848f9"
      },
      "source": [
        "\n",
        "# RM\n",
        "\n",
        "t1 = train_t.groupby(['RM'])['RM'].count() / len(train_t)\n",
        "t2 = test_t.groupby(['RM'])['RM'].count() / len(test_t)\n",
        "\n",
        "tmp = pd.concat([t1, t2], axis=1)\n",
        "tmp.columns = ['train', 'test']\n",
        "tmp.plot.bar()\n",
        "plt.xticks(rotation=0)\n",
        "plt.ylabel('Number of observations per bin')"
      ],
      "execution_count": 20,
      "outputs": [
        {
          "output_type": "execute_result",
          "data": {
            "text/plain": [
              "Text(0, 0.5, 'Number of observations per bin')"
            ]
          },
          "metadata": {
            "tags": []
          },
          "execution_count": 20
        },
        {
          "output_type": "display_data",
          "data": {
            "image/png": "[encoded data removed]",
            "text/plain": [
              "<Figure size 432x288 with 1 Axes>"
            ]
          },
          "metadata": {
            "tags": [],
            "needs_background": "light"
          }
        }
      ]
    },
    {
      "cell_type": "markdown",
      "metadata": {
        "id": "Nq3FGQbhn2qC"
      },
      "source": [
        "Avec une discrétisation à fréquence égale, nous avons trié les valeurs des variables en intervalles avec une proportion d'observations similaire. Les limites d'intervalle ont été déterminées par les quantiles. Tout d'abord, nous avons défini arbitrairement le nombre de cases à 10. Ensuite, nous avons utilisé la méthode qcut() de pandas pour déterminer les limites des intervalles et trier la variable LSTAT du train dans ces intervalles. Ensuite, en utilisant la méthode cut() des pandas et les limites d'intervalle déterminées avec la méthode qcut() des pandas, nous avons discrétisé LSTAT dans l'ensemble de test\n",
        "\n",
        "Enfin, nous avons utilisé pandas value_counts() pour compter le nombre d'observations par intervalle et l'avons divisé par le nombre total d'observations, obtenu avec la méthode Python len(), pour déterminer la proportion d'observations par intervalle.\n",
        "\n",
        "Enfin, nous avons discrétisé les variables avec KBinsDiscretizer() de scikit-learn, en indiquant 10 comme nombre de d'intervale et en définissant la stratégie sur quantile. Avec la méthode fit(), le transformateur apprenait et stockait les limites des intervalles dans son attribut bin_edges_, et avec la méthode transform(), le discrétiseur triait les valeurs des variables sur chaque intervalle."
      ]
    }
  ]
}
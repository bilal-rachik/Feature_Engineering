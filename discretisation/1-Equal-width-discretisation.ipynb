{
  "nbformat": 4,
  "nbformat_minor": 0,
  "metadata": {
    "colab": {
      "name": "Discretization.ipynb",
      "provenance": [],
      "collapsed_sections": []
    },
    "kernelspec": {
      "name": "python3",
      "display_name": "Python 3"
    },
    "language_info": {
      "name": "python"
    }
  },
  "cells": [
    {
      "cell_type": "markdown",
      "metadata": {
        "id": "zJWaFwCBAWmv"
      },
      "source": [
        "# la discrétisation des variables\n",
        "La discrétisation est le processus de transformation de variables continues en variables discrètes en créant un ensemble d'intervalles contigus, qui s'étendent sur la plage des valeurs des variables. La discrétisation est utilisée pour modifier la distribution des variables asymétriques et minimiser l'influence des valeurs aberrantes, et ainsi améliorer les performances de certains modèles d'apprentissage automatique.\n",
        "\n",
        "Comment la discrétisation minimise-t-elle l'effet des valeurs aberrantes ? La discrétisation place les valeurs aberrantes dans les intervalles inférieurs ou supérieurs, ainsi que les valeurs inlier restantes de la distribution. Par conséquent, ces observations aberrantes ne diffèrent plus du reste des valeurs aux extrémités de la distribution, car elles sont maintenant toutes ensemble dans le même intervalle. De plus, si vous triez les observations sur des cases avec une fréquence égale, la discrétisation répartit les valeurs de la variable asymétrique de manière plus homogène sur la plage de valeurs.\n",
        "\n",
        "Dans ce chapitre, nous discuterons des approches supervisées et non supervisées pour transformer des variables continues en variables discrètes. Les méthodes de discrétisation non supervisées n'utilisent aucune information, autre que la distribution variable, pour créer les cases contiguës. Les méthodes supervisées, en revanche, utilisent des informations cibles pour créer les intervalles.\n",
        "\n",
        "Cet article couvrira les recettes suivantes:\n",
        "* Discrétisation de la variable en intervalles de largeur égale\n",
        "* Discrétisation des valeurs des variables par intervalles de fréquence égale\n",
        "* Discrétisation suivie d'un encodage catégoriel\n",
        "* Discrétisation des valeurs des variables à des intervalles arbitraires\n",
        "* Discrétisation avec le clustering k-means\n",
        "* Discrétisation des variables avec des  arbres de décision"
      ]
    },
    {
      "cell_type": "markdown",
      "metadata": {
        "id": "i5hLidZrEI9b"
      },
      "source": [
        "## Discrétisation de la variable en intervalles de largeur égale\n",
        "\n",
        "Dans la discrétisation à largeur égale, les valeurs des variables sont triées par intervalles de même largeur. Le nombre d'intervalles est décidé arbitrairement et la largeur est déterminée par la plage de valeurs de la variable et le nombre de cases à créer, donc pour la variable X, la largeur d'intervalle est donnée comme suit :\n",
        "\n",
        "$$ width = \\frac {Max(x) -Min(x)}{Bins} $$\n",
        "\n",
        "Par exemple, si les valeurs de la variable varient entre 0 et 100, on peut créer cinq bacs comme ceci : width = (100-0) / 5 = 20 ; les bacs seront 0-20, 20-40, 40-60, 80-100. Les premier et dernier bacs (0-20 et 80-100) peuvent être étendus pour prendre en compte les valeurs aberrantes, c'est-à-dire que les valeurs inférieures à 0 ou supérieures à 100 seraient également placées dans ces bacs, en étendant les limites à moins et plus infini.\n",
        "\n",
        "Dans cette recette, nous allons effectuer une discrétisation à largeur égale à l'aide de pandas, scikit-learn et Feature-engine.\n",
        "\n",
        "Commençons par importer les bibliothèques Python nécessaires et préparons l'ensemble de données :\n"
      ]
    },
    {
      "cell_type": "code",
      "metadata": {
        "id": "u5RwH_ubFThK"
      },
      "source": [
        "import numpy as np\n",
        "import pandas as pd\n",
        "\n",
        "# for plotting\n",
        "import matplotlib.pyplot as plt\n",
        "\n",
        "# the dataset for the demo\n",
        "from sklearn.datasets import load_boston\n",
        "\n",
        "from sklearn.model_selection import train_test_split\n",
        "\n",
        "# for discretization\n",
        "from sklearn.preprocessing import KBinsDiscretizer\n",
        "#from feature_engine.discretisers import EqualWidthDiscretiser"
      ],
      "execution_count": 1,
      "outputs": []
    },
    {
      "cell_type": "markdown",
      "metadata": {
        "id": "kN4pOPbJFo-A"
      },
      "source": [
        "Chargeons les variables prédictives et cibles de l'ensemble de données Boston House Prices dans un data frame :"
      ]
    },
    {
      "cell_type": "code",
      "metadata": {
        "colab": {
          "base_uri": "https://localhost:8080/",
          "height": 204
        },
        "id": "rkHmPMViFuKz",
        "outputId": "d8df8975-83ec-4ac9-90b6-2ab9abe5905f"
      },
      "source": [
        "# load the the Boston House price data from Scikit-learn\n",
        "boston_dataset = load_boston()\n",
        "\n",
        "# create a dataframe with the independent variables\n",
        "data = pd.DataFrame(boston_dataset.data,\n",
        "                    columns=boston_dataset.feature_names)\n",
        "\n",
        "# add the target\n",
        "data['MEDV'] = boston_dataset.target\n",
        "\n",
        "data.head()"
      ],
      "execution_count": 2,
      "outputs": [
        {
          "output_type": "execute_result",
          "data": {
            "text/html": [
              "<div>\n",
              "<style scoped>\n",
              "    .dataframe tbody tr th:only-of-type {\n",
              "        vertical-align: middle;\n",
              "    }\n",
              "\n",
              "    .dataframe tbody tr th {\n",
              "        vertical-align: top;\n",
              "    }\n",
              "\n",
              "    .dataframe thead th {\n",
              "        text-align: right;\n",
              "    }\n",
              "</style>\n",
              "<table border=\"1\" class=\"dataframe\">\n",
              "  <thead>\n",
              "    <tr style=\"text-align: right;\">\n",
              "      <th></th>\n",
              "      <th>CRIM</th>\n",
              "      <th>ZN</th>\n",
              "      <th>INDUS</th>\n",
              "      <th>CHAS</th>\n",
              "      <th>NOX</th>\n",
              "      <th>RM</th>\n",
              "      <th>AGE</th>\n",
              "      <th>DIS</th>\n",
              "      <th>RAD</th>\n",
              "      <th>TAX</th>\n",
              "      <th>PTRATIO</th>\n",
              "      <th>B</th>\n",
              "      <th>LSTAT</th>\n",
              "      <th>MEDV</th>\n",
              "    </tr>\n",
              "  </thead>\n",
              "  <tbody>\n",
              "    <tr>\n",
              "      <th>0</th>\n",
              "      <td>0.00632</td>\n",
              "      <td>18.0</td>\n",
              "      <td>2.31</td>\n",
              "      <td>0.0</td>\n",
              "      <td>0.538</td>\n",
              "      <td>6.575</td>\n",
              "      <td>65.2</td>\n",
              "      <td>4.0900</td>\n",
              "      <td>1.0</td>\n",
              "      <td>296.0</td>\n",
              "      <td>15.3</td>\n",
              "      <td>396.90</td>\n",
              "      <td>4.98</td>\n",
              "      <td>24.0</td>\n",
              "    </tr>\n",
              "    <tr>\n",
              "      <th>1</th>\n",
              "      <td>0.02731</td>\n",
              "      <td>0.0</td>\n",
              "      <td>7.07</td>\n",
              "      <td>0.0</td>\n",
              "      <td>0.469</td>\n",
              "      <td>6.421</td>\n",
              "      <td>78.9</td>\n",
              "      <td>4.9671</td>\n",
              "      <td>2.0</td>\n",
              "      <td>242.0</td>\n",
              "      <td>17.8</td>\n",
              "      <td>396.90</td>\n",
              "      <td>9.14</td>\n",
              "      <td>21.6</td>\n",
              "    </tr>\n",
              "    <tr>\n",
              "      <th>2</th>\n",
              "      <td>0.02729</td>\n",
              "      <td>0.0</td>\n",
              "      <td>7.07</td>\n",
              "      <td>0.0</td>\n",
              "      <td>0.469</td>\n",
              "      <td>7.185</td>\n",
              "      <td>61.1</td>\n",
              "      <td>4.9671</td>\n",
              "      <td>2.0</td>\n",
              "      <td>242.0</td>\n",
              "      <td>17.8</td>\n",
              "      <td>392.83</td>\n",
              "      <td>4.03</td>\n",
              "      <td>34.7</td>\n",
              "    </tr>\n",
              "    <tr>\n",
              "      <th>3</th>\n",
              "      <td>0.03237</td>\n",
              "      <td>0.0</td>\n",
              "      <td>2.18</td>\n",
              "      <td>0.0</td>\n",
              "      <td>0.458</td>\n",
              "      <td>6.998</td>\n",
              "      <td>45.8</td>\n",
              "      <td>6.0622</td>\n",
              "      <td>3.0</td>\n",
              "      <td>222.0</td>\n",
              "      <td>18.7</td>\n",
              "      <td>394.63</td>\n",
              "      <td>2.94</td>\n",
              "      <td>33.4</td>\n",
              "    </tr>\n",
              "    <tr>\n",
              "      <th>4</th>\n",
              "      <td>0.06905</td>\n",
              "      <td>0.0</td>\n",
              "      <td>2.18</td>\n",
              "      <td>0.0</td>\n",
              "      <td>0.458</td>\n",
              "      <td>7.147</td>\n",
              "      <td>54.2</td>\n",
              "      <td>6.0622</td>\n",
              "      <td>3.0</td>\n",
              "      <td>222.0</td>\n",
              "      <td>18.7</td>\n",
              "      <td>396.90</td>\n",
              "      <td>5.33</td>\n",
              "      <td>36.2</td>\n",
              "    </tr>\n",
              "  </tbody>\n",
              "</table>\n",
              "</div>"
            ],
            "text/plain": [
              "      CRIM    ZN  INDUS  CHAS    NOX  ...    TAX  PTRATIO       B  LSTAT  MEDV\n",
              "0  0.00632  18.0   2.31   0.0  0.538  ...  296.0     15.3  396.90   4.98  24.0\n",
              "1  0.02731   0.0   7.07   0.0  0.469  ...  242.0     17.8  396.90   9.14  21.6\n",
              "2  0.02729   0.0   7.07   0.0  0.469  ...  242.0     17.8  392.83   4.03  34.7\n",
              "3  0.03237   0.0   2.18   0.0  0.458  ...  222.0     18.7  394.63   2.94  33.4\n",
              "4  0.06905   0.0   2.18   0.0  0.458  ...  222.0     18.7  396.90   5.33  36.2\n",
              "\n",
              "[5 rows x 14 columns]"
            ]
          },
          "metadata": {
            "tags": []
          },
          "execution_count": 2
        }
      ]
    },
    {
      "cell_type": "markdown",
      "metadata": {
        "id": "_im9rLwPF_0v"
      },
      "source": [
        "Les limites des intervalles doivent être apprises à l'aide de variables dans l'ensemble d'apprentissage uniquement, puis utilisées pour discrétiser les variables dans les ensembles d'apprentissage et de test.\n"
      ]
    },
    {
      "cell_type": "code",
      "metadata": {
        "colab": {
          "base_uri": "https://localhost:8080/"
        },
        "id": "gO-auxRRGC7A",
        "outputId": "0e896089-c153-4e14-891d-902d430b664b"
      },
      "source": [
        "\n",
        "# let's separate into training and testing set\n",
        "X_train, X_test, y_train, y_test = train_test_split(\n",
        "    data.drop('MEDV', axis=1), data['MEDV'], test_size=0.3, random_state=0)\n",
        "\n",
        "X_train.shape, X_test.shape"
      ],
      "execution_count": 3,
      "outputs": [
        {
          "output_type": "execute_result",
          "data": {
            "text/plain": [
              "((354, 13), (152, 13))"
            ]
          },
          "metadata": {
            "tags": []
          },
          "execution_count": 3
        }
      ]
    },
    {
      "cell_type": "markdown",
      "metadata": {
        "id": "pw3PG4pyGLhw"
      },
      "source": [
        "### Discrétisation à largeur égale avec les pandas\n",
        "Nous allons diviser la variable continue LSTAT en 10 intervalles. La largeur des intervalles est donnée par la plage de valeurs divisée par le nombre d'intervalles.\n",
        "\n",
        "Calculons la plage de la variable LSTAT, c'est-à-dire la différence entre ses valeurs maximale et minimale"
      ]
    },
    {
      "cell_type": "code",
      "metadata": {
        "colab": {
          "base_uri": "https://localhost:8080/"
        },
        "id": "KDF-794UGmJn",
        "outputId": "f8d34196-cb3e-4f81-e707-46f73ea49dbf"
      },
      "source": [
        "# let's capture the value range of the variable LSTAT\n",
        "\n",
        "lstat_range = X_train['LSTAT'].max() - X_train['LSTAT'].min()\n",
        "\n",
        "lstat_range"
      ],
      "execution_count": 4,
      "outputs": [
        {
          "output_type": "execute_result",
          "data": {
            "text/plain": [
              "35.25"
            ]
          },
          "metadata": {
            "tags": []
          },
          "execution_count": 4
        }
      ]
    },
    {
      "cell_type": "markdown",
      "metadata": {
        "id": "tRkz_Y-NG83D"
      },
      "source": [
        "Déterminons la largeur de l'intervalle, qui est la plage de valeurs de la variable divisée par le nombre de cases"
      ]
    },
    {
      "cell_type": "code",
      "metadata": {
        "colab": {
          "base_uri": "https://localhost:8080/"
        },
        "id": "pcqjAmYjGtER",
        "outputId": "79bb3e9b-029b-4c56-c663-ddba6a7f28e7"
      },
      "source": [
        "# let's divide the range into 10 equal-width bins\n",
        "\n",
        "lstat_range / 10"
      ],
      "execution_count": 5,
      "outputs": [
        {
          "output_type": "execute_result",
          "data": {
            "text/plain": [
              "3.525"
            ]
          },
          "metadata": {
            "tags": []
          },
          "execution_count": 5
        }
      ]
    },
    {
      "cell_type": "markdown",
      "metadata": {
        "id": "_K7VG434HO2h"
      },
      "source": [
        "La valeur de lstat_range divisée par dix est 3,525. Avec int(), nous capturons la partie entière du nombre, qui est 3"
      ]
    },
    {
      "cell_type": "code",
      "metadata": {
        "colab": {
          "base_uri": "https://localhost:8080/"
        },
        "id": "d-IO5dbrH5g5",
        "outputId": "8ce70283-f88d-454d-be51-1251b65c0e58"
      },
      "source": [
        "\n",
        "# now let's capture the lower and upper boundaries\n",
        "\n",
        "min_value = int(np.floor( X_train['LSTAT'].min()))\n",
        "max_value = int(np.ceil( X_train['LSTAT'].max()))\n",
        "\n",
        "# let's round the bin width\n",
        "inter_width = int(lstat_range / 10)\n",
        "\n",
        "min_value, max_value, inter_width"
      ],
      "execution_count": 6,
      "outputs": [
        {
          "output_type": "execute_result",
          "data": {
            "text/plain": [
              "(1, 37, 3)"
            ]
          },
          "metadata": {
            "tags": []
          },
          "execution_count": 6
        }
      ]
    },
    {
      "cell_type": "markdown",
      "metadata": {
        "id": "UX--A4FHIQ40"
      },
      "source": [
        "Pour diviser une série de pandas en intervalles, nous utiliserons la méthode cut() des pandas, qui prend comme arguments les limites des intervalles"
      ]
    },
    {
      "cell_type": "code",
      "metadata": {
        "colab": {
          "base_uri": "https://localhost:8080/"
        },
        "id": "rcqtcu66IdKw",
        "outputId": "e72f660b-75f4-4b71-b2d0-5bf6ab6bb42d"
      },
      "source": [
        "# let's capture the interval limits, so we can pass them to the pandas cut()\n",
        "# function to generate the bins\n",
        "\n",
        "intervals = [i for i in range(min_value, max_value+inter_width, inter_width)]\n",
        "\n",
        "intervals"
      ],
      "execution_count": 8,
      "outputs": [
        {
          "output_type": "execute_result",
          "data": {
            "text/plain": [
              "[1, 4, 7, 10, 13, 16, 19, 22, 25, 28, 31, 34, 37]"
            ]
          },
          "metadata": {
            "tags": []
          },
          "execution_count": 8
        }
      ]
    },
    {
      "cell_type": "markdown",
      "metadata": {
        "id": "H5xoazFaIm97"
      },
      "source": [
        "Discrétisons LSTAT et capturons la variable discrétisée dans une nouvelle colonne dans la dataframe"
      ]
    },
    {
      "cell_type": "code",
      "metadata": {
        "colab": {
          "base_uri": "https://localhost:8080/"
        },
        "id": "9FkK315HIkSi",
        "outputId": "8f6e91c8-0a55-4ebc-eba6-e96c28c092f2"
      },
      "source": [
        "# discretise LSTAT\n",
        "\n",
        "X_train['lstat_disc'] = pd.cut(x=X_train['LSTAT'],\n",
        "                               bins=intervals,\n",
        "                               include_lowest=True)\n",
        "\n",
        "\n",
        "print(X_train[['LSTAT', 'lstat_disc']].head(10))\n",
        "#Nous définissons include_lowest=True pour inclure la valeur la plus basse dans le premier intervalle."
      ],
      "execution_count": 9,
      "outputs": [
        {
          "output_type": "stream",
          "text": [
            "     LSTAT    lstat_disc\n",
            "141  34.41  (34.0, 37.0]\n",
            "272   7.73   (7.0, 10.0]\n",
            "135  16.96  (16.0, 19.0]\n",
            "298   4.97    (4.0, 7.0]\n",
            "122  17.93  (16.0, 19.0]\n",
            "22   18.72  (16.0, 19.0]\n",
            "68   13.09  (13.0, 16.0]\n",
            "20   21.02  (19.0, 22.0]\n",
            "437  26.45  (25.0, 28.0]\n",
            "14   10.26  (10.0, 13.0]\n"
          ],
          "name": "stdout"
        }
      ]
    },
    {
      "cell_type": "code",
      "metadata": {
        "colab": {
          "base_uri": "https://localhost:8080/"
        },
        "id": "dAUg9_HZJaG0",
        "outputId": "880863ef-b4da-46c8-8009-05113af7581c"
      },
      "source": [
        "# let's check the number of observations per bin\n",
        "\n",
        "X_train['lstat_disc'].value_counts()"
      ],
      "execution_count": 10,
      "outputs": [
        {
          "output_type": "execute_result",
          "data": {
            "text/plain": [
              "(4.0, 7.0]      67\n",
              "(7.0, 10.0]     63\n",
              "(10.0, 13.0]    49\n",
              "(16.0, 19.0]    45\n",
              "(13.0, 16.0]    44\n",
              "(0.999, 4.0]    28\n",
              "(19.0, 22.0]    21\n",
              "(22.0, 25.0]    17\n",
              "(28.0, 31.0]     9\n",
              "(25.0, 28.0]     7\n",
              "(34.0, 37.0]     4\n",
              "(31.0, 34.0]     0\n",
              "Name: lstat_disc, dtype: int64"
            ]
          },
          "metadata": {
            "tags": []
          },
          "execution_count": 10
        }
      ]
    },
    {
      "cell_type": "markdown",
      "metadata": {
        "id": "ezzVewmsJ9Bk"
      },
      "source": [
        "Dans la sortie du code précédent, nous pouvons voir que différents intervalles ont un nombre différent d'observations.\n",
        "\n"
      ]
    },
    {
      "cell_type": "code",
      "metadata": {
        "colab": {
          "base_uri": "https://localhost:8080/",
          "height": 339
        },
        "id": "hBqOh5Q0JeiD",
        "outputId": "23994fd7-d4c5-4af2-819e-d10375053c4c"
      },
      "source": [
        "# let's plot the number of observations per bin\n",
        "\n",
        "X_train.groupby('lstat_disc')['LSTAT'].count().plot.bar()\n",
        "plt.xticks(rotation=45)\n",
        "plt.ylabel('Number of observations per bin')"
      ],
      "execution_count": 11,
      "outputs": [
        {
          "output_type": "execute_result",
          "data": {
            "text/plain": [
              "Text(0, 0.5, 'Number of observations per bin')"
            ]
          },
          "metadata": {
            "tags": []
          },
          "execution_count": 11
        },
        {
          "output_type": "display_data",
          "data": {
            "image/png": "[encoded data removed]",
            "text/plain": [
              "<Figure size 432x288 with 1 Axes>"
            ]
          },
          "metadata": {
            "tags": [],
            "needs_background": "light"
          }
        }
      ]
    },
    {
      "cell_type": "markdown",
      "metadata": {
        "id": "gm0WwrnAKIu2"
      },
      "source": [
        "Maintenant, discrétisons LSTAT dans l'ensemble de test en utilisant la méthode cut() des pandas"
      ]
    },
    {
      "cell_type": "code",
      "metadata": {
        "colab": {
          "base_uri": "https://localhost:8080/",
          "height": 204
        },
        "id": "ALzt6LkQJpIs",
        "outputId": "66e50be4-183e-4cf0-a39b-883965f4e579"
      },
      "source": [
        "# let's discretise the variables in the test set\n",
        "\n",
        "X_test['lstat_disc'] = pd.cut(x=X_test['LSTAT'],\n",
        "                              bins=intervals,\n",
        "                              include_lowest=True)\n",
        "\n",
        "X_test.head()"
      ],
      "execution_count": 12,
      "outputs": [
        {
          "output_type": "execute_result",
          "data": {
            "text/html": [
              "<div>\n",
              "<style scoped>\n",
              "    .dataframe tbody tr th:only-of-type {\n",
              "        vertical-align: middle;\n",
              "    }\n",
              "\n",
              "    .dataframe tbody tr th {\n",
              "        vertical-align: top;\n",
              "    }\n",
              "\n",
              "    .dataframe thead th {\n",
              "        text-align: right;\n",
              "    }\n",
              "</style>\n",
              "<table border=\"1\" class=\"dataframe\">\n",
              "  <thead>\n",
              "    <tr style=\"text-align: right;\">\n",
              "      <th></th>\n",
              "      <th>CRIM</th>\n",
              "      <th>ZN</th>\n",
              "      <th>INDUS</th>\n",
              "      <th>CHAS</th>\n",
              "      <th>NOX</th>\n",
              "      <th>RM</th>\n",
              "      <th>AGE</th>\n",
              "      <th>DIS</th>\n",
              "      <th>RAD</th>\n",
              "      <th>TAX</th>\n",
              "      <th>PTRATIO</th>\n",
              "      <th>B</th>\n",
              "      <th>LSTAT</th>\n",
              "      <th>lstat_disc</th>\n",
              "    </tr>\n",
              "  </thead>\n",
              "  <tbody>\n",
              "    <tr>\n",
              "      <th>329</th>\n",
              "      <td>0.06724</td>\n",
              "      <td>0.0</td>\n",
              "      <td>3.24</td>\n",
              "      <td>0.0</td>\n",
              "      <td>0.460</td>\n",
              "      <td>6.333</td>\n",
              "      <td>17.2</td>\n",
              "      <td>5.2146</td>\n",
              "      <td>4.0</td>\n",
              "      <td>430.0</td>\n",
              "      <td>16.9</td>\n",
              "      <td>375.21</td>\n",
              "      <td>7.34</td>\n",
              "      <td>(7.0, 10.0]</td>\n",
              "    </tr>\n",
              "    <tr>\n",
              "      <th>371</th>\n",
              "      <td>9.23230</td>\n",
              "      <td>0.0</td>\n",
              "      <td>18.10</td>\n",
              "      <td>0.0</td>\n",
              "      <td>0.631</td>\n",
              "      <td>6.216</td>\n",
              "      <td>100.0</td>\n",
              "      <td>1.1691</td>\n",
              "      <td>24.0</td>\n",
              "      <td>666.0</td>\n",
              "      <td>20.2</td>\n",
              "      <td>366.15</td>\n",
              "      <td>9.53</td>\n",
              "      <td>(7.0, 10.0]</td>\n",
              "    </tr>\n",
              "    <tr>\n",
              "      <th>219</th>\n",
              "      <td>0.11425</td>\n",
              "      <td>0.0</td>\n",
              "      <td>13.89</td>\n",
              "      <td>1.0</td>\n",
              "      <td>0.550</td>\n",
              "      <td>6.373</td>\n",
              "      <td>92.4</td>\n",
              "      <td>3.3633</td>\n",
              "      <td>5.0</td>\n",
              "      <td>276.0</td>\n",
              "      <td>16.4</td>\n",
              "      <td>393.74</td>\n",
              "      <td>10.50</td>\n",
              "      <td>(10.0, 13.0]</td>\n",
              "    </tr>\n",
              "    <tr>\n",
              "      <th>403</th>\n",
              "      <td>24.80170</td>\n",
              "      <td>0.0</td>\n",
              "      <td>18.10</td>\n",
              "      <td>0.0</td>\n",
              "      <td>0.693</td>\n",
              "      <td>5.349</td>\n",
              "      <td>96.0</td>\n",
              "      <td>1.7028</td>\n",
              "      <td>24.0</td>\n",
              "      <td>666.0</td>\n",
              "      <td>20.2</td>\n",
              "      <td>396.90</td>\n",
              "      <td>19.77</td>\n",
              "      <td>(19.0, 22.0]</td>\n",
              "    </tr>\n",
              "    <tr>\n",
              "      <th>78</th>\n",
              "      <td>0.05646</td>\n",
              "      <td>0.0</td>\n",
              "      <td>12.83</td>\n",
              "      <td>0.0</td>\n",
              "      <td>0.437</td>\n",
              "      <td>6.232</td>\n",
              "      <td>53.7</td>\n",
              "      <td>5.0141</td>\n",
              "      <td>5.0</td>\n",
              "      <td>398.0</td>\n",
              "      <td>18.7</td>\n",
              "      <td>386.40</td>\n",
              "      <td>12.34</td>\n",
              "      <td>(10.0, 13.0]</td>\n",
              "    </tr>\n",
              "  </tbody>\n",
              "</table>\n",
              "</div>"
            ],
            "text/plain": [
              "         CRIM   ZN  INDUS  CHAS  ...  PTRATIO       B  LSTAT    lstat_disc\n",
              "329   0.06724  0.0   3.24   0.0  ...     16.9  375.21   7.34   (7.0, 10.0]\n",
              "371   9.23230  0.0  18.10   0.0  ...     20.2  366.15   9.53   (7.0, 10.0]\n",
              "219   0.11425  0.0  13.89   1.0  ...     16.4  393.74  10.50  (10.0, 13.0]\n",
              "403  24.80170  0.0  18.10   0.0  ...     20.2  396.90  19.77  (19.0, 22.0]\n",
              "78    0.05646  0.0  12.83   0.0  ...     18.7  386.40  12.34  (10.0, 13.0]\n",
              "\n",
              "[5 rows x 14 columns]"
            ]
          },
          "metadata": {
            "tags": []
          },
          "execution_count": 12
        }
      ]
    },
    {
      "cell_type": "markdown",
      "metadata": {
        "id": "nB38po6NKcTc"
      },
      "source": [
        "Si la distribution des variables dans les ensembles de train et de test est similaire, nous devrions nous attendre à une proportion similaire d'observations sur les intervalles LSTAT dans le train et les ensembles de test\n",
        "\n",
        "Traçons la proportion d'observations sur les intervalles LSTAT dans les ensembles d'apprentissage et de test"
      ]
    },
    {
      "cell_type": "code",
      "metadata": {
        "colab": {
          "base_uri": "https://localhost:8080/",
          "height": 324
        },
        "id": "p9xiiu00JtAc",
        "outputId": "f130ab72-1bdd-4b2c-c676-c668f46fb61a"
      },
      "source": [
        "# if the distributions in train and test set are similar, we should expect similar propotion of\n",
        "# observations in the different intervals in the train and test set\n",
        "# let's see that below\n",
        "\n",
        "# determine proportion of observations in each bin\n",
        "t1 = X_train['lstat_disc'].value_counts() / len(X_train)\n",
        "t2 = X_test['lstat_disc'].value_counts() / len(X_test)\n",
        "\n",
        "# concatenate aggregated views\n",
        "tmp = pd.concat([t1, t2], axis=1)\n",
        "tmp.columns = ['train', 'test']\n",
        "\n",
        "# plot\n",
        "tmp.plot.bar()\n",
        "plt.xticks(rotation=45)\n",
        "plt.ylabel('Number of observations per bin')"
      ],
      "execution_count": 13,
      "outputs": [
        {
          "output_type": "execute_result",
          "data": {
            "text/plain": [
              "Text(0, 0.5, 'Number of observations per bin')"
            ]
          },
          "metadata": {
            "tags": []
          },
          "execution_count": 13
        },
        {
          "output_type": "display_data",
          "data": {
            "image/png": "[encoded data removed]",
            "text/plain": [
              "<Figure size 432x288 with 1 Axes>"
            ]
          },
          "metadata": {
            "tags": [],
            "needs_background": "light"
          }
        }
      ]
    },
    {
      "cell_type": "markdown",
      "metadata": {
        "id": "6jUjjmciKu3s"
      },
      "source": [
        "Nous pouvons voir dans la sortie que la proportion d'observations par intervalle est à peu près la même dans les ensembles de train et de test"
      ]
    },
    {
      "cell_type": "markdown",
      "metadata": {
        "id": "zF7wwsTbLAtE"
      },
      "source": [
        "### Discrétisation à largeur égale avec Scikit-Learn\n",
        "\n",
        "\n",
        "Faisons maintenant une discrétisation à largeur égale avec scikit-learn. Tout d'abord, divisons les données d'origine en ensembles d'apprentissage et de test"
      ]
    },
    {
      "cell_type": "code",
      "metadata": {
        "colab": {
          "base_uri": "https://localhost:8080/"
        },
        "id": "H72uxnUaLT26",
        "outputId": "521c062c-05af-438f-d8be-3d241a75ac63"
      },
      "source": [
        "# let's separate into training and testing set\n",
        "\n",
        "X_train, X_test, y_train, y_test = train_test_split(\n",
        "    data.drop('MEDV', axis=1), data['MEDV'], test_size=0.3, random_state=0)\n",
        "\n",
        "X_train.shape, X_test.shape"
      ],
      "execution_count": 14,
      "outputs": [
        {
          "output_type": "execute_result",
          "data": {
            "text/plain": [
              "((354, 13), (152, 13))"
            ]
          },
          "metadata": {
            "tags": []
          },
          "execution_count": 14
        }
      ]
    },
    {
      "cell_type": "markdown",
      "metadata": {
        "id": "QGFXdLgcL_Rt"
      },
      "source": [
        "Créons un discrétiseur de largeur égale avec scikit-learn en définissant sa stratégie sur uniform"
      ]
    },
    {
      "cell_type": "code",
      "metadata": {
        "colab": {
          "base_uri": "https://localhost:8080/"
        },
        "id": "q8c36gS2LWuF",
        "outputId": "d5b89377-a6e5-49c7-d2c6-09527f9efc99"
      },
      "source": [
        "# let's set up an equal-width discretizer into 10 intervals\n",
        "\n",
        "disc = KBinsDiscretizer(n_bins=10, encode='ordinal', strategy='uniform')\n",
        "\n",
        "# let's fit the discretizer so it learns the interval limits\n",
        "disc.fit(X_train[['LSTAT', 'DIS', 'RM']])"
      ],
      "execution_count": 15,
      "outputs": [
        {
          "output_type": "execute_result",
          "data": {
            "text/plain": [
              "KBinsDiscretizer(encode='ordinal', n_bins=10, strategy='uniform')"
            ]
          },
          "metadata": {
            "tags": []
          },
          "execution_count": 15
        }
      ]
    },
    {
      "cell_type": "code",
      "metadata": {
        "colab": {
          "base_uri": "https://localhost:8080/"
        },
        "id": "-8m6QiSPLZD8",
        "outputId": "ea9b03b5-8de8-4a4c-9126-514d4aa53f55"
      },
      "source": [
        "# the interval limits are stored in the bin_edges_attribute\n",
        "\n",
        "disc.bin_edges_"
      ],
      "execution_count": 16,
      "outputs": [
        {
          "output_type": "execute_result",
          "data": {
            "text/plain": [
              "array([array([ 1.73 ,  5.255,  8.78 , 12.305, 15.83 , 19.355, 22.88 , 26.405,\n",
              "       29.93 , 33.455, 36.98 ]),\n",
              "       array([ 1.1742 ,  2.26943,  3.36466,  4.45989,  5.55512,  6.65035,\n",
              "        7.74558,  8.84081,  9.93604, 11.03127, 12.1265 ]),\n",
              "       array([3.561 , 4.0829, 4.6048, 5.1267, 5.6486, 6.1705, 6.6924, 7.2143,\n",
              "       7.7362, 8.2581, 8.78  ])], dtype=object)"
            ]
          },
          "metadata": {
            "tags": []
          },
          "execution_count": 16
        }
      ]
    },
    {
      "cell_type": "markdown",
      "metadata": {
        "id": "wN0lICU7Unko"
      },
      "source": [
        ""
      ]
    },
    {
      "cell_type": "markdown",
      "metadata": {
        "id": "UUygT0KoMgTU"
      },
      "source": [
        "N'oubliez pas que scikit-learn renvoie des tableaux NumPy. Pour convertir le tableau en un pandasdataframe, nous pouvons exécuter train_t = pd.DataFrame(train_t, colonnes =['LSTAT', 'DIS', 'RM'])"
      ]
    },
    {
      "cell_type": "code",
      "metadata": {
        "colab": {
          "base_uri": "https://localhost:8080/",
          "height": 204
        },
        "id": "5IqLYO6LLbkM",
        "outputId": "3f1264ff-f789-46e2-f051-7c92c14b71e1"
      },
      "source": [
        "\n",
        "# let's transform the train set, remember that Sklearn returns Numpy arrays\n",
        "train_t = disc.transform(X_train[['LSTAT', 'DIS', 'RM']])\n",
        "\n",
        "# transform array to dataframe\n",
        "train_t = pd.DataFrame(train_t, columns = ['LSTAT', 'DIS', 'RM'])\n",
        "\n",
        "train_t.head()"
      ],
      "execution_count": 17,
      "outputs": [
        {
          "output_type": "execute_result",
          "data": {
            "text/html": [
              "<div>\n",
              "<style scoped>\n",
              "    .dataframe tbody tr th:only-of-type {\n",
              "        vertical-align: middle;\n",
              "    }\n",
              "\n",
              "    .dataframe tbody tr th {\n",
              "        vertical-align: top;\n",
              "    }\n",
              "\n",
              "    .dataframe thead th {\n",
              "        text-align: right;\n",
              "    }\n",
              "</style>\n",
              "<table border=\"1\" class=\"dataframe\">\n",
              "  <thead>\n",
              "    <tr style=\"text-align: right;\">\n",
              "      <th></th>\n",
              "      <th>LSTAT</th>\n",
              "      <th>DIS</th>\n",
              "      <th>RM</th>\n",
              "    </tr>\n",
              "  </thead>\n",
              "  <tbody>\n",
              "    <tr>\n",
              "      <th>0</th>\n",
              "      <td>9.0</td>\n",
              "      <td>0.0</td>\n",
              "      <td>2.0</td>\n",
              "    </tr>\n",
              "    <tr>\n",
              "      <th>1</th>\n",
              "      <td>1.0</td>\n",
              "      <td>2.0</td>\n",
              "      <td>5.0</td>\n",
              "    </tr>\n",
              "    <tr>\n",
              "      <th>2</th>\n",
              "      <td>4.0</td>\n",
              "      <td>0.0</td>\n",
              "      <td>5.0</td>\n",
              "    </tr>\n",
              "    <tr>\n",
              "      <th>3</th>\n",
              "      <td>0.0</td>\n",
              "      <td>6.0</td>\n",
              "      <td>5.0</td>\n",
              "    </tr>\n",
              "    <tr>\n",
              "      <th>4</th>\n",
              "      <td>4.0</td>\n",
              "      <td>0.0</td>\n",
              "      <td>4.0</td>\n",
              "    </tr>\n",
              "  </tbody>\n",
              "</table>\n",
              "</div>"
            ],
            "text/plain": [
              "   LSTAT  DIS   RM\n",
              "0    9.0  0.0  2.0\n",
              "1    1.0  2.0  5.0\n",
              "2    4.0  0.0  5.0\n",
              "3    0.0  6.0  5.0\n",
              "4    4.0  0.0  4.0"
            ]
          },
          "metadata": {
            "tags": []
          },
          "execution_count": 17
        }
      ]
    },
    {
      "cell_type": "code",
      "metadata": {
        "id": "juCy1bwlLe0M"
      },
      "source": [
        "\n",
        "# same thing for test set\n",
        "\n",
        "test_t = disc.transform(X_test[['LSTAT', 'DIS', 'RM']])\n",
        "\n",
        "test_t = pd.DataFrame(test_t, columns = ['LSTAT', 'DIS', 'RM'])"
      ],
      "execution_count": 18,
      "outputs": []
    },
    {
      "cell_type": "code",
      "metadata": {
        "colab": {
          "base_uri": "https://localhost:8080/",
          "height": 305
        },
        "id": "EY9MbedpLiBE",
        "outputId": "6c21f55b-7d5d-47f9-82d3-774fad04355b"
      },
      "source": [
        "\n",
        "# if the distributions in train and test set are similar, we should expect similar propotion of\n",
        "# observations in the different intervals in the train and test set\n",
        "\n",
        "# LSTAT\n",
        "\n",
        "t1 = train_t.groupby(['LSTAT'])['LSTAT'].count() / len(train_t)\n",
        "t2 = test_t.groupby(['LSTAT'])['LSTAT'].count() / len(test_t)\n",
        "\n",
        "tmp = pd.concat([t1, t2], axis=1)\n",
        "tmp.columns = ['train', 'test']\n",
        "tmp.plot.bar()\n",
        "plt.xticks(rotation=45)\n",
        "plt.ylabel('Number of observations per bin')"
      ],
      "execution_count": 19,
      "outputs": [
        {
          "output_type": "execute_result",
          "data": {
            "text/plain": [
              "Text(0, 0.5, 'Number of observations per bin')"
            ]
          },
          "metadata": {
            "tags": []
          },
          "execution_count": 19
        },
        {
          "output_type": "display_data",
          "data": {
            "image/png": "[encoded data removed]",
            "text/plain": [
              "<Figure size 432x288 with 1 Axes>"
            ]
          },
          "metadata": {
            "tags": [],
            "needs_background": "light"
          }
        }
      ]
    },
    {
      "cell_type": "code",
      "metadata": {
        "colab": {
          "base_uri": "https://localhost:8080/",
          "height": 296
        },
        "id": "a9vGmoz_Lp2E",
        "outputId": "8f2f5c32-9ab2-41bb-bf3a-5b1ed9e458fc"
      },
      "source": [
        "# DIS\n",
        "\n",
        "t1 = train_t.groupby(['DIS'])['DIS'].count() / len(train_t)\n",
        "t2 = test_t.groupby(['DIS'])['DIS'].count() / len(test_t)\n",
        "\n",
        "tmp = pd.concat([t1, t2], axis=1)\n",
        "tmp.columns = ['train', 'test']\n",
        "tmp.plot.bar()\n",
        "plt.xticks(rotation=0)\n",
        "plt.ylabel('Number of observations per bin')"
      ],
      "execution_count": 20,
      "outputs": [
        {
          "output_type": "execute_result",
          "data": {
            "text/plain": [
              "Text(0, 0.5, 'Number of observations per bin')"
            ]
          },
          "metadata": {
            "tags": []
          },
          "execution_count": 20
        },
        {
          "output_type": "display_data",
          "data": {
            "image/png": "[encoded data removed]",
            "text/plain": [
              "<Figure size 432x288 with 1 Axes>"
            ]
          },
          "metadata": {
            "tags": [],
            "needs_background": "light"
          }
        }
      ]
    },
    {
      "cell_type": "code",
      "metadata": {
        "colab": {
          "base_uri": "https://localhost:8080/",
          "height": 296
        },
        "id": "-rrOhD0TLsmf",
        "outputId": "8d2a676a-1857-4722-c186-11624b7288f8"
      },
      "source": [
        "# RM\n",
        "\n",
        "t1 = train_t.groupby(['RM'])['RM'].count() / len(train_t)\n",
        "t2 = test_t.groupby(['RM'])['RM'].count() / len(test_t)\n",
        "\n",
        "tmp = pd.concat([t1, t2], axis=1)\n",
        "tmp.columns = ['train', 'test']\n",
        "tmp.plot.bar()\n",
        "plt.xticks(rotation=0)\n",
        "plt.ylabel('Number of observations per bin')"
      ],
      "execution_count": 21,
      "outputs": [
        {
          "output_type": "execute_result",
          "data": {
            "text/plain": [
              "Text(0, 0.5, 'Number of observations per bin')"
            ]
          },
          "metadata": {
            "tags": []
          },
          "execution_count": 21
        },
        {
          "output_type": "display_data",
          "data": {
            "image/png": "[encoded data removed]",
            "text/plain": [
              "<Figure size 432x288 with 1 Axes>"
            ]
          },
          "metadata": {
            "tags": [],
            "needs_background": "light"
          }
        }
      ]
    },
    {
      "cell_type": "markdown",
      "metadata": {
        "id": "swRii6ldUogH"
      },
      "source": [
        "Dans cette recette, nous avons effectué une discrétisation de largeur égale, c'est-à-dire que nous avons trié les valeurs des variables en intervalles équidistants. Nous avons arbitrairement défini le nombre de cases à 10, puis calculé la différence entre la valeur maximale et minimale de la variable LSTAT, en utilisant les méthodes pandas max() et min(). Avec les méthodes floor() et ceil() de NumPy, nous avons obtenu respectivement les valeurs minimales et maximales arrondies vers le bas ou vers le haut. Nous avons ensuite estimé la longueur de l'intervalle en divisant la plage de valeurs, c'est-à-dire la valeur maximale moins les valeurs minimales, par le nombre de cases. Enfin, nous avons capturé les limites d'intervalle dans une liste, en utilisant les valeurs minimales et maximales, et la largeur d'intervalle dans une liste.\n",
        "\n",
        "Pour discrétiser la variable LSTAT, nous avons utilisé la méthode pandas cut() et les limites d'intervalle que nous avons créées avec la compréhension de liste, pour allouer les valeurs des variables dans chaque intervalle. Nous avons ensuite utilisé la méthode value_counts() des pandas pour compter le nombre d'observations par intervalle.\n",
        "\n",
        "Pour comparer la distribution des observations dans les intervalles de largeur égale dans le train et l'ensemble de test, nous avons produit un graphique à barres avec le pourcentage d'observations par intervalle dans chaque ensemble de données. Pour créer ce graphique, nous avons utilisé la méthode value_counts() des pandas pour compter le nombre d'observations par intervalle et divisé ces nombres par le nombre total d'observations dans le train ou les ensembles de test, que nous avons calculés à l'aide de la méthode len(), pour déterminer le pourcentage d'observations par intervalle. Pour tracer ces proportions, nous avons d'abord concaténé la série train et test à l'aide de la fonction concat() des pandas dans une base de données temporaire, puis nous lui avons attribué les noms de colonne de train et test. Enfin, nous avons utilisé pandas'plot.bar() pour afficher un graphique à barres. Nous avons fait pivoter les étiquettes avec la méthode xticks() de Matplotlib et ajouté la légende y avec ylabel().\n",
        "\n",
        "Enfin, nous avons discrétisé trois variables continues dans des bacs de largeur égale avec KBinsDiscretizer() de scikit-learn, en indiquant le nombre de bacs comme argument et en définissant la stratégie sur uniforme. Avec la méthode fit () et le train défini comme argument, le transformateur a appris les limites des intervalles pour chaque variable dans la dataframe, et avec la méthode transform (), le transformateur a trié les valeurs dans chaque intervalle, renvoyant un tableau NumPy avec les variables discrétisées. Les valeurs des variables discrétisées sont également des chiffres représentant les intervalles.\n"
      ]
    }
  ]
}
{
  "nbformat": 4,
  "nbformat_minor": 0,
  "metadata": {
    "colab": {
      "name": "6-Discretisation-with-decision-trees.ipynb",
      "provenance": [],
      "collapsed_sections": [],
      "toc_visible": true
    },
    "kernelspec": {
      "name": "python3",
      "display_name": "Python 3"
    },
    "language_info": {
      "name": "python"
    }
  },
  "cells": [
    {
      "cell_type": "markdown",
      "metadata": {
        "id": "4rvOrSUE91Dr"
      },
      "source": [
        "# Utilisation des arbres de décision pour la discrétisation\n",
        "\n",
        "La discrétisation avec des arbres de décision consiste à utiliser un arbre de décision pour identifier les cases optimales dans lesquelles trier les valeurs des variables.L'arbre de décision est construit en utilisant la variable à discrétiser et la cible. Lorsqu'un arbre de décision fait une prédiction, il attribue une observation à l'une des N feuilles d'extrémité, par conséquent, tout arbre de décision générera une sortie discrète, dont les valeurs sont les prédictions à chacune de ses N feuilles. La discrétisation avec des arbres de décision crée une relation monotone entre les bacs et la cible. Dans cette recette, nous allons effectuer une discrétisation basée sur un arbre de décision à l'aide de scikit-learn.\n"
      ]
    },
    {
      "cell_type": "markdown",
      "metadata": {
        "id": "4qBCf4sIAbNC"
      },
      "source": [
        "Nous utiliserons l'ensemble de données Boston House Prices de scikit-learn. La cible dans cet ensemble de données est continue, par conséquent, nous allons former un arbre de décision pour la régression avecDecisionTreeRegressor() à partir de scikit-learn\n"
      ]
    },
    {
      "cell_type": "code",
      "metadata": {
        "id": "r8N4M0iaAeTq"
      },
      "source": [
        "import pandas as pd\n",
        "\n",
        "import matplotlib.pyplot as plt\n",
        "\n",
        "# the dataset for the demo\n",
        "from sklearn.datasets import load_boston\n",
        "\n",
        "from sklearn.model_selection import train_test_split\n",
        "\n",
        "from sklearn.tree import DecisionTreeRegressor, export_graphviz\n",
        "from sklearn.model_selection import GridSearchCV"
      ],
      "execution_count": 1,
      "outputs": []
    },
    {
      "cell_type": "markdown",
      "metadata": {
        "id": "Lt-aaQ2rB4IB"
      },
      "source": [
        "Chargeons l'ensemble de données Boston House Prices dans une base de données pandas"
      ]
    },
    {
      "cell_type": "code",
      "metadata": {
        "colab": {
          "base_uri": "https://localhost:8080/",
          "height": 204
        },
        "id": "EjctXgyvAhfS",
        "outputId": "f58e6f24-d338-47b7-89b9-555c8031bcd0"
      },
      "source": [
        "# load the the Boston House price data from Scikit-learn\n",
        "boston_dataset = load_boston()\n",
        "\n",
        "# create a dataframe with the independent variables\n",
        "data = pd.DataFrame(boston_dataset.data,\n",
        "                    columns=boston_dataset.feature_names)\n",
        "\n",
        "# add the target\n",
        "data['MEDV'] = boston_dataset.target\n",
        "\n",
        "data.head()"
      ],
      "execution_count": 2,
      "outputs": [
        {
          "output_type": "execute_result",
          "data": {
            "text/html": [
              "<div>\n",
              "<style scoped>\n",
              "    .dataframe tbody tr th:only-of-type {\n",
              "        vertical-align: middle;\n",
              "    }\n",
              "\n",
              "    .dataframe tbody tr th {\n",
              "        vertical-align: top;\n",
              "    }\n",
              "\n",
              "    .dataframe thead th {\n",
              "        text-align: right;\n",
              "    }\n",
              "</style>\n",
              "<table border=\"1\" class=\"dataframe\">\n",
              "  <thead>\n",
              "    <tr style=\"text-align: right;\">\n",
              "      <th></th>\n",
              "      <th>CRIM</th>\n",
              "      <th>ZN</th>\n",
              "      <th>INDUS</th>\n",
              "      <th>CHAS</th>\n",
              "      <th>NOX</th>\n",
              "      <th>RM</th>\n",
              "      <th>AGE</th>\n",
              "      <th>DIS</th>\n",
              "      <th>RAD</th>\n",
              "      <th>TAX</th>\n",
              "      <th>PTRATIO</th>\n",
              "      <th>B</th>\n",
              "      <th>LSTAT</th>\n",
              "      <th>MEDV</th>\n",
              "    </tr>\n",
              "  </thead>\n",
              "  <tbody>\n",
              "    <tr>\n",
              "      <th>0</th>\n",
              "      <td>0.00632</td>\n",
              "      <td>18.0</td>\n",
              "      <td>2.31</td>\n",
              "      <td>0.0</td>\n",
              "      <td>0.538</td>\n",
              "      <td>6.575</td>\n",
              "      <td>65.2</td>\n",
              "      <td>4.0900</td>\n",
              "      <td>1.0</td>\n",
              "      <td>296.0</td>\n",
              "      <td>15.3</td>\n",
              "      <td>396.90</td>\n",
              "      <td>4.98</td>\n",
              "      <td>24.0</td>\n",
              "    </tr>\n",
              "    <tr>\n",
              "      <th>1</th>\n",
              "      <td>0.02731</td>\n",
              "      <td>0.0</td>\n",
              "      <td>7.07</td>\n",
              "      <td>0.0</td>\n",
              "      <td>0.469</td>\n",
              "      <td>6.421</td>\n",
              "      <td>78.9</td>\n",
              "      <td>4.9671</td>\n",
              "      <td>2.0</td>\n",
              "      <td>242.0</td>\n",
              "      <td>17.8</td>\n",
              "      <td>396.90</td>\n",
              "      <td>9.14</td>\n",
              "      <td>21.6</td>\n",
              "    </tr>\n",
              "    <tr>\n",
              "      <th>2</th>\n",
              "      <td>0.02729</td>\n",
              "      <td>0.0</td>\n",
              "      <td>7.07</td>\n",
              "      <td>0.0</td>\n",
              "      <td>0.469</td>\n",
              "      <td>7.185</td>\n",
              "      <td>61.1</td>\n",
              "      <td>4.9671</td>\n",
              "      <td>2.0</td>\n",
              "      <td>242.0</td>\n",
              "      <td>17.8</td>\n",
              "      <td>392.83</td>\n",
              "      <td>4.03</td>\n",
              "      <td>34.7</td>\n",
              "    </tr>\n",
              "    <tr>\n",
              "      <th>3</th>\n",
              "      <td>0.03237</td>\n",
              "      <td>0.0</td>\n",
              "      <td>2.18</td>\n",
              "      <td>0.0</td>\n",
              "      <td>0.458</td>\n",
              "      <td>6.998</td>\n",
              "      <td>45.8</td>\n",
              "      <td>6.0622</td>\n",
              "      <td>3.0</td>\n",
              "      <td>222.0</td>\n",
              "      <td>18.7</td>\n",
              "      <td>394.63</td>\n",
              "      <td>2.94</td>\n",
              "      <td>33.4</td>\n",
              "    </tr>\n",
              "    <tr>\n",
              "      <th>4</th>\n",
              "      <td>0.06905</td>\n",
              "      <td>0.0</td>\n",
              "      <td>2.18</td>\n",
              "      <td>0.0</td>\n",
              "      <td>0.458</td>\n",
              "      <td>7.147</td>\n",
              "      <td>54.2</td>\n",
              "      <td>6.0622</td>\n",
              "      <td>3.0</td>\n",
              "      <td>222.0</td>\n",
              "      <td>18.7</td>\n",
              "      <td>396.90</td>\n",
              "      <td>5.33</td>\n",
              "      <td>36.2</td>\n",
              "    </tr>\n",
              "  </tbody>\n",
              "</table>\n",
              "</div>"
            ],
            "text/plain": [
              "      CRIM    ZN  INDUS  CHAS    NOX  ...    TAX  PTRATIO       B  LSTAT  MEDV\n",
              "0  0.00632  18.0   2.31   0.0  0.538  ...  296.0     15.3  396.90   4.98  24.0\n",
              "1  0.02731   0.0   7.07   0.0  0.469  ...  242.0     17.8  396.90   9.14  21.6\n",
              "2  0.02729   0.0   7.07   0.0  0.469  ...  242.0     17.8  392.83   4.03  34.7\n",
              "3  0.03237   0.0   2.18   0.0  0.458  ...  222.0     18.7  394.63   2.94  33.4\n",
              "4  0.06905   0.0   2.18   0.0  0.458  ...  222.0     18.7  396.90   5.33  36.2\n",
              "\n",
              "[5 rows x 14 columns]"
            ]
          },
          "metadata": {
            "tags": []
          },
          "execution_count": 2
        }
      ]
    },
    {
      "cell_type": "code",
      "metadata": {
        "colab": {
          "base_uri": "https://localhost:8080/"
        },
        "id": "VVOc88Z8AkO7",
        "outputId": "e6731cab-211e-4a23-939e-1f6b4eca246c"
      },
      "source": [
        "# let's separate into training and testing set\n",
        "\n",
        "X_train, X_test, y_train, y_test = train_test_split(\n",
        "    data.drop('MEDV', axis=1), data['MEDV'], test_size=0.3, random_state=0)\n",
        "\n",
        "X_train.shape, X_test.shape"
      ],
      "execution_count": 3,
      "outputs": [
        {
          "output_type": "execute_result",
          "data": {
            "text/plain": [
              "((354, 13), (152, 13))"
            ]
          },
          "metadata": {
            "tags": []
          },
          "execution_count": 3
        }
      ]
    },
    {
      "cell_type": "code",
      "metadata": {
        "colab": {
          "base_uri": "https://localhost:8080/",
          "height": 359
        },
        "id": "Ej-ByK1_Amwz",
        "outputId": "fdc294d0-f0e3-47b7-c9da-5d447d15c9a6"
      },
      "source": [
        "# example: build Regression tree using LSTAT to predict MEDV\n",
        "\n",
        "tree_model = DecisionTreeRegressor(max_depth=3, random_state=0)\n",
        "\n",
        "tree_model.fit(X_train['LSTAT'].to_frame(), y_train)\n",
        "\n",
        "X_train['lstat_tree'] = tree_model.predict(X_train['LSTAT'].to_frame())\n",
        "\n",
        "X_train[['LSTAT', 'lstat_tree']].head(10)"
      ],
      "execution_count": 4,
      "outputs": [
        {
          "output_type": "execute_result",
          "data": {
            "text/html": [
              "<div>\n",
              "<style scoped>\n",
              "    .dataframe tbody tr th:only-of-type {\n",
              "        vertical-align: middle;\n",
              "    }\n",
              "\n",
              "    .dataframe tbody tr th {\n",
              "        vertical-align: top;\n",
              "    }\n",
              "\n",
              "    .dataframe thead th {\n",
              "        text-align: right;\n",
              "    }\n",
              "</style>\n",
              "<table border=\"1\" class=\"dataframe\">\n",
              "  <thead>\n",
              "    <tr style=\"text-align: right;\">\n",
              "      <th></th>\n",
              "      <th>LSTAT</th>\n",
              "      <th>lstat_tree</th>\n",
              "    </tr>\n",
              "  </thead>\n",
              "  <tbody>\n",
              "    <tr>\n",
              "      <th>141</th>\n",
              "      <td>34.41</td>\n",
              "      <td>12.917241</td>\n",
              "    </tr>\n",
              "    <tr>\n",
              "      <th>272</th>\n",
              "      <td>7.73</td>\n",
              "      <td>27.153846</td>\n",
              "    </tr>\n",
              "    <tr>\n",
              "      <th>135</th>\n",
              "      <td>16.96</td>\n",
              "      <td>16.361818</td>\n",
              "    </tr>\n",
              "    <tr>\n",
              "      <th>298</th>\n",
              "      <td>4.97</td>\n",
              "      <td>32.042857</td>\n",
              "    </tr>\n",
              "    <tr>\n",
              "      <th>122</th>\n",
              "      <td>17.93</td>\n",
              "      <td>16.361818</td>\n",
              "    </tr>\n",
              "    <tr>\n",
              "      <th>22</th>\n",
              "      <td>18.72</td>\n",
              "      <td>16.361818</td>\n",
              "    </tr>\n",
              "    <tr>\n",
              "      <th>68</th>\n",
              "      <td>13.09</td>\n",
              "      <td>20.555000</td>\n",
              "    </tr>\n",
              "    <tr>\n",
              "      <th>20</th>\n",
              "      <td>21.02</td>\n",
              "      <td>12.917241</td>\n",
              "    </tr>\n",
              "    <tr>\n",
              "      <th>437</th>\n",
              "      <td>26.45</td>\n",
              "      <td>12.917241</td>\n",
              "    </tr>\n",
              "    <tr>\n",
              "      <th>14</th>\n",
              "      <td>10.26</td>\n",
              "      <td>20.555000</td>\n",
              "    </tr>\n",
              "  </tbody>\n",
              "</table>\n",
              "</div>"
            ],
            "text/plain": [
              "     LSTAT  lstat_tree\n",
              "141  34.41   12.917241\n",
              "272   7.73   27.153846\n",
              "135  16.96   16.361818\n",
              "298   4.97   32.042857\n",
              "122  17.93   16.361818\n",
              "22   18.72   16.361818\n",
              "68   13.09   20.555000\n",
              "20   21.02   12.917241\n",
              "437  26.45   12.917241\n",
              "14   10.26   20.555000"
            ]
          },
          "metadata": {
            "tags": []
          },
          "execution_count": 4
        }
      ]
    },
    {
      "cell_type": "markdown",
      "metadata": {
        "id": "gDYm6qVPDlZI"
      },
      "source": [
        "Si nous créions un arbre de classification, nous utiliserions predict_proba() et conserverions la deuxième colonne du tableau, qui correspond à la probabilité que la cible soit 1 ; par conséquent, nous exécuterions tree_model.predict_proba(X_train['LSTAT'].to_frame())[:,1]"
      ]
    },
    {
      "cell_type": "code",
      "metadata": {
        "colab": {
          "base_uri": "https://localhost:8080/"
        },
        "id": "mxIWvqbkApuq",
        "outputId": "5191690b-7d90-4be9-80f4-d8f991342856"
      },
      "source": [
        "# let's explore how many end points (the bins) the tree created\n",
        "\n",
        "X_train['lstat_tree'].nunique()"
      ],
      "execution_count": 6,
      "outputs": [
        {
          "output_type": "execute_result",
          "data": {
            "text/plain": [
              "8"
            ]
          },
          "metadata": {
            "tags": []
          },
          "execution_count": 6
        }
      ]
    },
    {
      "cell_type": "code",
      "metadata": {
        "colab": {
          "base_uri": "https://localhost:8080/"
        },
        "id": "sbGIfgTXA8ne",
        "outputId": "75a3ab98-38a3-444f-cb73-c893240c25f4"
      },
      "source": [
        "\n",
        "# let's explore which end points (the predictions) the tree created\n",
        "\n",
        "X_train['lstat_tree'].unique()"
      ],
      "execution_count": 7,
      "outputs": [
        {
          "output_type": "execute_result",
          "data": {
            "text/plain": [
              "array([12.91724138, 27.15384615, 16.36181818, 32.04285714, 20.555     ,\n",
              "       34.88333333, 23.71388889, 41.80740741])"
            ]
          },
          "metadata": {
            "tags": []
          },
          "execution_count": 7
        }
      ]
    },
    {
      "cell_type": "markdown",
      "metadata": {
        "id": "_REXQC10D7xA"
      },
      "source": [
        "L'arbre de décision a produit huit prédictions distinctes différentes pour toutes les observations de la variable LSTAT"
      ]
    },
    {
      "cell_type": "code",
      "metadata": {
        "colab": {
          "base_uri": "https://localhost:8080/",
          "height": 313
        },
        "id": "8S2GrXVyBPQC",
        "outputId": "76adc907-b83d-4e6c-dbf8-47b1348a231a"
      },
      "source": [
        "# monotonic relationship with target: train set\n",
        "\n",
        "pd.concat([X_train, y_train], axis=1).groupby(['lstat_tree'])['MEDV'].mean().plot()\n",
        "plt.title('Monotonic relationship between discretised LSTAT and target')\n",
        "plt.ylabel('MEDV')"
      ],
      "execution_count": 8,
      "outputs": [
        {
          "output_type": "execute_result",
          "data": {
            "text/plain": [
              "Text(0, 0.5, 'MEDV')"
            ]
          },
          "metadata": {
            "tags": []
          },
          "execution_count": 8
        },
        {
          "output_type": "display_data",
          "data": {
            "image/png": "[encoded data removed]",
            "text/plain": [
              "<Figure size 432x288 with 1 Axes>"
            ]
          },
          "metadata": {
            "tags": [],
            "needs_background": "light"
          }
        }
      ]
    },
    {
      "cell_type": "code",
      "metadata": {
        "colab": {
          "base_uri": "https://localhost:8080/",
          "height": 313
        },
        "id": "yU6cmAEJBU3a",
        "outputId": "93d1452e-3726-4ca1-fdd9-fd31360842b3"
      },
      "source": [
        "# monotonic relationship with target: test set\n",
        "\n",
        "X_test['lstat_tree'] = tree_model.predict(X_test['LSTAT'].to_frame())\n",
        "\n",
        "pd.concat([X_test, y_test], axis=1).groupby(['lstat_tree'])['MEDV'].mean().plot()\n",
        "plt.title('Monotonic relationship between discretised LSTAT and target')\n",
        "plt.ylabel('MEDV')"
      ],
      "execution_count": 9,
      "outputs": [
        {
          "output_type": "execute_result",
          "data": {
            "text/plain": [
              "Text(0, 0.5, 'MEDV')"
            ]
          },
          "metadata": {
            "tags": []
          },
          "execution_count": 9
        },
        {
          "output_type": "display_data",
          "data": {
            "image/png": "[encoded data removed]",
            "text/plain": [
              "<Figure size 432x288 with 1 Axes>"
            ]
          },
          "metadata": {
            "tags": [],
            "needs_background": "light"
          }
        }
      ]
    },
    {
      "cell_type": "markdown",
      "metadata": {
        "id": "UIQl2GRqESgP"
      },
      "source": [
        "Nous pouvons observer la relation monotone entre les intervalles dérivés de l'arbre et la cible MEDV dans la sortie du bloc de code précédent"
      ]
    },
    {
      "cell_type": "code",
      "metadata": {
        "colab": {
          "base_uri": "https://localhost:8080/",
          "height": 398
        },
        "id": "3JPkzkiQBYVs",
        "outputId": "66e4b4bb-3430-49ae-fcfc-2aa6fc556aa2"
      },
      "source": [
        "# plot number of observations per bin\n",
        "\n",
        "X_test.groupby(['lstat_tree'])['LSTAT'].count().plot.bar()"
      ],
      "execution_count": 10,
      "outputs": [
        {
          "output_type": "execute_result",
          "data": {
            "text/plain": [
              "<matplotlib.axes._subplots.AxesSubplot at 0x7fc96383c410>"
            ]
          },
          "metadata": {
            "tags": []
          },
          "execution_count": 10
        },
        {
          "output_type": "display_data",
          "data": {
            "image/png": "[encoded data removed]",
            "text/plain": [
              "<Figure size 432x288 with 1 Axes>"
            ]
          },
          "metadata": {
            "tags": [],
            "needs_background": "light"
          }
        }
      ]
    },
    {
      "cell_type": "markdown",
      "metadata": {
        "id": "ZxPhl3HcERkK"
      },
      "source": [
        "Pour effectuer une discrétisation avec des arbres de décision, nous avons d'abord chargé l'ensemble de données et l'avons divisé en ensembles de train et de test à l'aide de la fonction scikit-learn train_test_split(). Ensuite, nous avons choisi une variable, LSTAT, et avons ajusté un arbre de décision pour la régression à l'aide de DecisionTreeRegressor() de scikit-learn. Nous avons utilisé to_frame() pour transformer la série pandas avec la variable en un cadre de données et rendre les données compatibles avec les prédicteurs scikit-learn. Nous avons utilisé la méthode fit() pour que l'arbre apprenne à prédire la cible MEDV à partir de LSTAT. Avec la méthode predict(), l'arbre a estimé la cible à partir de LSTAT dans les ensembles d'apprentissage et de test. L'arbre de décision a renvoyé huit valeurs distinctes, qui étaient ses prédictions. Ces sorties représentaient les cases de la variable discrétisée.\n",
        "\n",
        "Pour visualiser la relation monotone entre les sorties de l'arbre et la cible, nous avons tracé des intervale prédites par l'arbre en fonction de la valeur cible moyenne pour chacune de ces cases. Nous avons d'abord concaténé l'ensemble de test et la cible à l'aide de la méthode concat() de pandas. Ensuite, nous avons utilisé la méthode groupby() de pandas pour regrouper les observations par intervale, puis nous avons calculé la moyenne de MEDV dans chaque intervale. Avec la méthode plot() des pandas, nous avons tracé la relation entre les bacs et MEDV"
      ]
    }
  ]
}
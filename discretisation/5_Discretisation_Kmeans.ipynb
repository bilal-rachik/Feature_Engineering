{
  "nbformat": 4,
  "nbformat_minor": 0,
  "metadata": {
    "colab": {
      "name": "5-Discretisation-Kmeans.ipynb",
      "provenance": [],
      "collapsed_sections": []
    },
    "kernelspec": {
      "name": "python3",
      "display_name": "Python 3"
    },
    "language_info": {
      "name": "python"
    }
  },
  "cells": [
    {
      "cell_type": "markdown",
      "metadata": {
        "id": "h67dGKel0vW5"
      },
      "source": [
        "# discrétisation avec k-means clustering\n",
        "\n",
        "Dans la discrétisation utilisant le clustering à k-means, les intervalles sont les clusters identifiés par l'algorithme K-means. Le nombre de clusters (k) est défini par l'utilisateur. L'algorithme de clustering k-means comporte deux étapes principales. Dans l'étape d'initialisation, k observations sont choisies au hasard comme centres initiaux des k clusters, et les points de données restants sont affectés au cluster le plus proche. Dans l'étape d'itération, les centres des clusters sont recalculés comme les points moyens de toutes les observations au sein du cluster, et les observations sont réaffectées au cluster le plus proche nouvellement créé. L'étape d'itération continue jusqu'à ce que les centres k optimaux soient trouvés. Dans cette recette, nous allons effectuer une discrétisation K-means avec scikit-learn, en utilisant l'ensemble de données Boston House Prices\n",
        "\n",
        "Commençons par importer les bibliothèques Python nécessaires et préparons l'ensemble de données :"
      ]
    },
    {
      "cell_type": "code",
      "metadata": {
        "id": "qpGB6bZB17Up"
      },
      "source": [
        "import pandas as pd\n",
        "\n",
        "import matplotlib.pyplot as plt\n",
        "\n",
        "# the dataset for the demo\n",
        "from sklearn.datasets import load_boston\n",
        "\n",
        "from sklearn.model_selection import train_test_split\n",
        "\n",
        "from sklearn.preprocessing import KBinsDiscretizer"
      ],
      "execution_count": 1,
      "outputs": []
    },
    {
      "cell_type": "code",
      "metadata": {
        "colab": {
          "base_uri": "https://localhost:8080/",
          "height": 204
        },
        "id": "4mrW_tNN1_DL",
        "outputId": "9b94b626-1e91-4cae-e8ed-acce4416d176"
      },
      "source": [
        "# load the the Boston House price data from Scikit-learn\n",
        "boston_dataset = load_boston()\n",
        "\n",
        "# create a dataframe with the independent variables\n",
        "data = pd.DataFrame(boston_dataset.data,\n",
        "                    columns=boston_dataset.feature_names)\n",
        "\n",
        "# add the target\n",
        "data['MEDV'] = boston_dataset.target\n",
        "\n",
        "data.head()"
      ],
      "execution_count": 2,
      "outputs": [
        {
          "output_type": "execute_result",
          "data": {
            "text/html": [
              "<div>\n",
              "<style scoped>\n",
              "    .dataframe tbody tr th:only-of-type {\n",
              "        vertical-align: middle;\n",
              "    }\n",
              "\n",
              "    .dataframe tbody tr th {\n",
              "        vertical-align: top;\n",
              "    }\n",
              "\n",
              "    .dataframe thead th {\n",
              "        text-align: right;\n",
              "    }\n",
              "</style>\n",
              "<table border=\"1\" class=\"dataframe\">\n",
              "  <thead>\n",
              "    <tr style=\"text-align: right;\">\n",
              "      <th></th>\n",
              "      <th>CRIM</th>\n",
              "      <th>ZN</th>\n",
              "      <th>INDUS</th>\n",
              "      <th>CHAS</th>\n",
              "      <th>NOX</th>\n",
              "      <th>RM</th>\n",
              "      <th>AGE</th>\n",
              "      <th>DIS</th>\n",
              "      <th>RAD</th>\n",
              "      <th>TAX</th>\n",
              "      <th>PTRATIO</th>\n",
              "      <th>B</th>\n",
              "      <th>LSTAT</th>\n",
              "      <th>MEDV</th>\n",
              "    </tr>\n",
              "  </thead>\n",
              "  <tbody>\n",
              "    <tr>\n",
              "      <th>0</th>\n",
              "      <td>0.00632</td>\n",
              "      <td>18.0</td>\n",
              "      <td>2.31</td>\n",
              "      <td>0.0</td>\n",
              "      <td>0.538</td>\n",
              "      <td>6.575</td>\n",
              "      <td>65.2</td>\n",
              "      <td>4.0900</td>\n",
              "      <td>1.0</td>\n",
              "      <td>296.0</td>\n",
              "      <td>15.3</td>\n",
              "      <td>396.90</td>\n",
              "      <td>4.98</td>\n",
              "      <td>24.0</td>\n",
              "    </tr>\n",
              "    <tr>\n",
              "      <th>1</th>\n",
              "      <td>0.02731</td>\n",
              "      <td>0.0</td>\n",
              "      <td>7.07</td>\n",
              "      <td>0.0</td>\n",
              "      <td>0.469</td>\n",
              "      <td>6.421</td>\n",
              "      <td>78.9</td>\n",
              "      <td>4.9671</td>\n",
              "      <td>2.0</td>\n",
              "      <td>242.0</td>\n",
              "      <td>17.8</td>\n",
              "      <td>396.90</td>\n",
              "      <td>9.14</td>\n",
              "      <td>21.6</td>\n",
              "    </tr>\n",
              "    <tr>\n",
              "      <th>2</th>\n",
              "      <td>0.02729</td>\n",
              "      <td>0.0</td>\n",
              "      <td>7.07</td>\n",
              "      <td>0.0</td>\n",
              "      <td>0.469</td>\n",
              "      <td>7.185</td>\n",
              "      <td>61.1</td>\n",
              "      <td>4.9671</td>\n",
              "      <td>2.0</td>\n",
              "      <td>242.0</td>\n",
              "      <td>17.8</td>\n",
              "      <td>392.83</td>\n",
              "      <td>4.03</td>\n",
              "      <td>34.7</td>\n",
              "    </tr>\n",
              "    <tr>\n",
              "      <th>3</th>\n",
              "      <td>0.03237</td>\n",
              "      <td>0.0</td>\n",
              "      <td>2.18</td>\n",
              "      <td>0.0</td>\n",
              "      <td>0.458</td>\n",
              "      <td>6.998</td>\n",
              "      <td>45.8</td>\n",
              "      <td>6.0622</td>\n",
              "      <td>3.0</td>\n",
              "      <td>222.0</td>\n",
              "      <td>18.7</td>\n",
              "      <td>394.63</td>\n",
              "      <td>2.94</td>\n",
              "      <td>33.4</td>\n",
              "    </tr>\n",
              "    <tr>\n",
              "      <th>4</th>\n",
              "      <td>0.06905</td>\n",
              "      <td>0.0</td>\n",
              "      <td>2.18</td>\n",
              "      <td>0.0</td>\n",
              "      <td>0.458</td>\n",
              "      <td>7.147</td>\n",
              "      <td>54.2</td>\n",
              "      <td>6.0622</td>\n",
              "      <td>3.0</td>\n",
              "      <td>222.0</td>\n",
              "      <td>18.7</td>\n",
              "      <td>396.90</td>\n",
              "      <td>5.33</td>\n",
              "      <td>36.2</td>\n",
              "    </tr>\n",
              "  </tbody>\n",
              "</table>\n",
              "</div>"
            ],
            "text/plain": [
              "      CRIM    ZN  INDUS  CHAS    NOX  ...    TAX  PTRATIO       B  LSTAT  MEDV\n",
              "0  0.00632  18.0   2.31   0.0  0.538  ...  296.0     15.3  396.90   4.98  24.0\n",
              "1  0.02731   0.0   7.07   0.0  0.469  ...  242.0     17.8  396.90   9.14  21.6\n",
              "2  0.02729   0.0   7.07   0.0  0.469  ...  242.0     17.8  392.83   4.03  34.7\n",
              "3  0.03237   0.0   2.18   0.0  0.458  ...  222.0     18.7  394.63   2.94  33.4\n",
              "4  0.06905   0.0   2.18   0.0  0.458  ...  222.0     18.7  396.90   5.33  36.2\n",
              "\n",
              "[5 rows x 14 columns]"
            ]
          },
          "metadata": {
            "tags": []
          },
          "execution_count": 2
        }
      ]
    },
    {
      "cell_type": "markdown",
      "metadata": {
        "id": "dbp8OcQe3JKq"
      },
      "source": [
        "Les clusters optimaux de k-means doivent être déterminés à l'aide de l'ensemble d'apprentissage, divisons donc les données en ensembles d'apprentissage et de test\n"
      ]
    },
    {
      "cell_type": "code",
      "metadata": {
        "colab": {
          "base_uri": "https://localhost:8080/"
        },
        "id": "4hmKUlMt2Brk",
        "outputId": "bc33a986-308a-4536-a67e-c1a3d4966ad9"
      },
      "source": [
        "# let's separate into training and testing set\n",
        "\n",
        "X_train, X_test, y_train, y_test = train_test_split(\n",
        "    data.drop('MEDV', axis=1), data['MEDV'], test_size=0.3, random_state=0)\n",
        "\n",
        "X_train.shape, X_test.shape"
      ],
      "execution_count": 3,
      "outputs": [
        {
          "output_type": "execute_result",
          "data": {
            "text/plain": [
              "((354, 13), (152, 13))"
            ]
          },
          "metadata": {
            "tags": []
          },
          "execution_count": 3
        }
      ]
    },
    {
      "cell_type": "markdown",
      "metadata": {
        "id": "VlNmFNyv3VHD"
      },
      "source": [
        "Créons un discrétiseur qui utilise le clustering k-means pour créer 10 intervalles en définissant la stratégie sur kmeans :"
      ]
    },
    {
      "cell_type": "markdown",
      "metadata": {
        "id": "LSzIEt9Q3wFg"
      },
      "source": [
        ""
      ]
    },
    {
      "cell_type": "code",
      "metadata": {
        "colab": {
          "base_uri": "https://localhost:8080/"
        },
        "id": "pPymFUnD2JUr",
        "outputId": "c782abdd-f3be-4326-d104-9cd0b49bdff9"
      },
      "source": [
        "# set up a k-means discretizer\n",
        "disc = KBinsDiscretizer(n_bins=10, encode='ordinal', strategy='kmeans')\n",
        "\n",
        "# fit the discretizer to the train set so that it learns the \n",
        "# interval boundaries\n",
        "disc.fit(X_train[['LSTAT', 'DIS', 'RM']])"
      ],
      "execution_count": 5,
      "outputs": [
        {
          "output_type": "execute_result",
          "data": {
            "text/plain": [
              "KBinsDiscretizer(encode='ordinal', n_bins=10, strategy='kmeans')"
            ]
          },
          "metadata": {
            "tags": []
          },
          "execution_count": 5
        }
      ]
    },
    {
      "cell_type": "code",
      "metadata": {
        "colab": {
          "base_uri": "https://localhost:8080/"
        },
        "id": "ZgxQoRIm2rgW",
        "outputId": "0a91d858-7ee6-4579-f263-8df30ecdc72a"
      },
      "source": [
        "# we can inspect the bin boundaries here:\n",
        "\n",
        "disc.bin_edges_"
      ],
      "execution_count": 6,
      "outputs": [
        {
          "output_type": "execute_result",
          "data": {
            "text/plain": [
              "array([array([ 1.73      ,  5.45330009,  8.65519753, 12.03266667, 15.46755102,\n",
              "       18.89709647, 22.15778075, 25.54037815, 28.75339286, 32.6525    ,\n",
              "       36.98      ]),\n",
              "       array([ 1.1742    ,  2.26301884,  3.30153104,  4.48057886,  5.60712611,\n",
              "        6.6482802 ,  7.56131797,  8.45406587,  9.7820881 , 11.37686667,\n",
              "       12.1265    ]),\n",
              "       array([3.561     , 3.987125  , 4.73948864, 5.32155682, 5.77285276,\n",
              "       6.14207435, 6.503811  , 6.91447956, 7.43717157, 8.1095049 ,\n",
              "       8.78      ])], dtype=object)"
            ]
          },
          "metadata": {
            "tags": []
          },
          "execution_count": 6
        }
      ]
    },
    {
      "cell_type": "code",
      "metadata": {
        "colab": {
          "base_uri": "https://localhost:8080/"
        },
        "id": "16BwHWTd2v3Y",
        "outputId": "bb2d4a72-3770-4c32-8203-24723f699d60"
      },
      "source": [
        "# let's transform the train set, remember that it returns a NumPy array\n",
        "train_t = disc.transform(X_train[['LSTAT', 'DIS', 'RM']])\n",
        "\n",
        "# let's transform the array to a dataframe\n",
        "train_t = pd.DataFrame(train_t, columns = ['LSTAT', 'DIS', 'RM'])\n",
        "\n",
        "print(train_t.head())"
      ],
      "execution_count": 7,
      "outputs": [
        {
          "output_type": "stream",
          "text": [
            "   LSTAT  DIS   RM\n",
            "0    9.0  0.0  2.0\n",
            "1    1.0  2.0  6.0\n",
            "2    4.0  0.0  5.0\n",
            "3    0.0  6.0  5.0\n",
            "4    4.0  0.0  4.0\n"
          ],
          "name": "stdout"
        }
      ]
    },
    {
      "cell_type": "code",
      "metadata": {
        "id": "KT6KGLYA2yb2"
      },
      "source": [
        "# let's do the same for the test set\n",
        "\n",
        "test_t = disc.transform(X_test[['LSTAT', 'DIS', 'RM']])\n",
        "\n",
        "test_t = pd.DataFrame(test_t, columns = ['LSTAT', 'DIS', 'RM'])"
      ],
      "execution_count": 8,
      "outputs": []
    },
    {
      "cell_type": "code",
      "metadata": {
        "colab": {
          "base_uri": "https://localhost:8080/",
          "height": 305
        },
        "id": "RWxAT0Eg20vu",
        "outputId": "3fac39fa-7bfe-4857-9445-be5abb421667"
      },
      "source": [
        "# if the distributions in train and test set are similar, we should expect similar propotion of\n",
        "# observations in the different intervals in the train and test set\n",
        "\n",
        "# LSTAT\n",
        "\n",
        "t1 = train_t.groupby(['LSTAT'])['LSTAT'].count() / len(train_t)\n",
        "t2 = test_t.groupby(['LSTAT'])['LSTAT'].count() / len(test_t)\n",
        "\n",
        "tmp = pd.concat([t1, t2], axis=1)\n",
        "tmp.columns = ['train', 'test']\n",
        "tmp.plot.bar()\n",
        "plt.xticks(rotation=45)\n",
        "plt.ylabel('Number of observations per bin')"
      ],
      "execution_count": 9,
      "outputs": [
        {
          "output_type": "execute_result",
          "data": {
            "text/plain": [
              "Text(0, 0.5, 'Number of observations per bin')"
            ]
          },
          "metadata": {
            "tags": []
          },
          "execution_count": 9
        },
        {
          "output_type": "display_data",
          "data": {
            "image/png": "[encoded data removed]",
            "text/plain": [
              "<Figure size 432x288 with 1 Axes>"
            ]
          },
          "metadata": {
            "tags": [],
            "needs_background": "light"
          }
        }
      ]
    },
    {
      "cell_type": "code",
      "metadata": {
        "colab": {
          "base_uri": "https://localhost:8080/",
          "height": 296
        },
        "id": "rm2aDil923eI",
        "outputId": "a961dd90-a2d7-4faf-a8b9-8e45d36408ce"
      },
      "source": [
        "# DIS\n",
        "\n",
        "t1 = train_t.groupby(['DIS'])['DIS'].count() / len(train_t)\n",
        "t2 = test_t.groupby(['DIS'])['DIS'].count() / len(test_t)\n",
        "\n",
        "tmp = pd.concat([t1, t2], axis=1)\n",
        "tmp.columns = ['train', 'test']\n",
        "tmp.plot.bar()\n",
        "plt.xticks(rotation=0)\n",
        "plt.ylabel('Number of observations per bin')"
      ],
      "execution_count": 10,
      "outputs": [
        {
          "output_type": "execute_result",
          "data": {
            "text/plain": [
              "Text(0, 0.5, 'Number of observations per bin')"
            ]
          },
          "metadata": {
            "tags": []
          },
          "execution_count": 10
        },
        {
          "output_type": "display_data",
          "data": {
            "image/png": "[encoded data removed]",
            "text/plain": [
              "<Figure size 432x288 with 1 Axes>"
            ]
          },
          "metadata": {
            "tags": [],
            "needs_background": "light"
          }
        }
      ]
    },
    {
      "cell_type": "code",
      "metadata": {
        "colab": {
          "base_uri": "https://localhost:8080/",
          "height": 296
        },
        "id": "K6odI60E26n0",
        "outputId": "ddd165b4-faa9-441a-e2ba-ddeaef24956b"
      },
      "source": [
        "\n",
        "# RM\n",
        "\n",
        "t1 = train_t.groupby(['RM'])['RM'].count() / len(train_t)\n",
        "t2 = test_t.groupby(['RM'])['RM'].count() / len(test_t)\n",
        "\n",
        "tmp = pd.concat([t1, t2], axis=1)\n",
        "tmp.columns = ['train', 'test']\n",
        "tmp.plot.bar()\n",
        "plt.xticks(rotation=0)\n",
        "plt.ylabel('Number of observations per bin')"
      ],
      "execution_count": 11,
      "outputs": [
        {
          "output_type": "execute_result",
          "data": {
            "text/plain": [
              "Text(0, 0.5, 'Number of observations per bin')"
            ]
          },
          "metadata": {
            "tags": []
          },
          "execution_count": 11
        },
        {
          "output_type": "display_data",
          "data": {
            "image/png": "[encoded data removed]",
            "text/plain": [
              "<Figure size 432x288 with 1 Axes>"
            ]
          },
          "metadata": {
            "tags": [],
            "needs_background": "light"
          }
        }
      ]
    },
    {
      "cell_type": "markdown",
      "metadata": {
        "id": "r-2N8esy3xER"
      },
      "source": [
        "Pour effectuer la discrétisation k-means, nous avons utilisé KBinsDiscretizer() de scikit-learn, en définissant la stratégie sur kmeans et le nombre de clusters sur 10 dans l'argument n_bins. Avec la méthode fit(), le transformateur a appris les limites du cluster en utilisant le k-means algorithme. Avec la méthode transform(), le discrétiseur a trié les valeurs de la variable dans leur cluster correspondant, renvoyant un tableau NumPy avec les variables discrétisées, que nous avons converties en un dataframe"
      ]
    }
  ]
}
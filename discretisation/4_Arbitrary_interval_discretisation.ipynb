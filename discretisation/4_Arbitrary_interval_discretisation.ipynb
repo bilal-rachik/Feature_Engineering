{
  "nbformat": 4,
  "nbformat_minor": 0,
  "metadata": {
    "colab": {
      "name": "4-Arbitrary-interval-discretisation.ipynb",
      "provenance": [],
      "collapsed_sections": []
    },
    "kernelspec": {
      "name": "python3",
      "display_name": "Python 3"
    },
    "language_info": {
      "name": "python"
    }
  },
  "cells": [
    {
      "cell_type": "markdown",
      "metadata": {
        "id": "FTbM4H3MxkP8"
      },
      "source": [
        "# Discrétisation des variables à des intervalles arbitraires\n",
        "\n",
        "Dans les recettes précédentes, nous avons vu comment créer des intervalles basés sur des valeurs et une répartition variables. Parfois, cependant, nous voulons diviser les variables en intervalles, dont les limites sont arbitrairement déterminées par l'utilisateur. Dans cette recette, nous allons apprendre à discrétiser une variable en intervalles prédéfinis par l'utilisateur à l'aide de pandas et de l'ensemble de données BostonHouse Prices de scikit-learn"
      ]
    },
    {
      "cell_type": "code",
      "metadata": {
        "id": "OSY2rrjyyGzk"
      },
      "source": [
        "import numpy as np\n",
        "import pandas as pd\n",
        "\n",
        "# for plotting\n",
        "import matplotlib.pyplot as plt\n",
        "\n",
        "# the dataset for the demo\n",
        "from sklearn.datasets import load_boston\n",
        "\n",
        "from sklearn.model_selection import train_test_split"
      ],
      "execution_count": 2,
      "outputs": []
    },
    {
      "cell_type": "code",
      "metadata": {
        "colab": {
          "base_uri": "https://localhost:8080/",
          "height": 204
        },
        "id": "ZFcQgHpLyAUO",
        "outputId": "ce1e44c0-4bbf-41ab-d88f-d469c29d42e6"
      },
      "source": [
        "# load the the Boston House price data from Scikit-learn\n",
        "boston_dataset = load_boston()\n",
        "\n",
        "# create a dataframe with the independent variables\n",
        "data = pd.DataFrame(boston_dataset.data,\n",
        "                    columns=boston_dataset.feature_names)\n",
        "\n",
        "# add the target\n",
        "data['MEDV'] = boston_dataset.target\n",
        "\n",
        "data.head()"
      ],
      "execution_count": 3,
      "outputs": [
        {
          "output_type": "execute_result",
          "data": {
            "text/html": [
              "<div>\n",
              "<style scoped>\n",
              "    .dataframe tbody tr th:only-of-type {\n",
              "        vertical-align: middle;\n",
              "    }\n",
              "\n",
              "    .dataframe tbody tr th {\n",
              "        vertical-align: top;\n",
              "    }\n",
              "\n",
              "    .dataframe thead th {\n",
              "        text-align: right;\n",
              "    }\n",
              "</style>\n",
              "<table border=\"1\" class=\"dataframe\">\n",
              "  <thead>\n",
              "    <tr style=\"text-align: right;\">\n",
              "      <th></th>\n",
              "      <th>CRIM</th>\n",
              "      <th>ZN</th>\n",
              "      <th>INDUS</th>\n",
              "      <th>CHAS</th>\n",
              "      <th>NOX</th>\n",
              "      <th>RM</th>\n",
              "      <th>AGE</th>\n",
              "      <th>DIS</th>\n",
              "      <th>RAD</th>\n",
              "      <th>TAX</th>\n",
              "      <th>PTRATIO</th>\n",
              "      <th>B</th>\n",
              "      <th>LSTAT</th>\n",
              "      <th>MEDV</th>\n",
              "    </tr>\n",
              "  </thead>\n",
              "  <tbody>\n",
              "    <tr>\n",
              "      <th>0</th>\n",
              "      <td>0.00632</td>\n",
              "      <td>18.0</td>\n",
              "      <td>2.31</td>\n",
              "      <td>0.0</td>\n",
              "      <td>0.538</td>\n",
              "      <td>6.575</td>\n",
              "      <td>65.2</td>\n",
              "      <td>4.0900</td>\n",
              "      <td>1.0</td>\n",
              "      <td>296.0</td>\n",
              "      <td>15.3</td>\n",
              "      <td>396.90</td>\n",
              "      <td>4.98</td>\n",
              "      <td>24.0</td>\n",
              "    </tr>\n",
              "    <tr>\n",
              "      <th>1</th>\n",
              "      <td>0.02731</td>\n",
              "      <td>0.0</td>\n",
              "      <td>7.07</td>\n",
              "      <td>0.0</td>\n",
              "      <td>0.469</td>\n",
              "      <td>6.421</td>\n",
              "      <td>78.9</td>\n",
              "      <td>4.9671</td>\n",
              "      <td>2.0</td>\n",
              "      <td>242.0</td>\n",
              "      <td>17.8</td>\n",
              "      <td>396.90</td>\n",
              "      <td>9.14</td>\n",
              "      <td>21.6</td>\n",
              "    </tr>\n",
              "    <tr>\n",
              "      <th>2</th>\n",
              "      <td>0.02729</td>\n",
              "      <td>0.0</td>\n",
              "      <td>7.07</td>\n",
              "      <td>0.0</td>\n",
              "      <td>0.469</td>\n",
              "      <td>7.185</td>\n",
              "      <td>61.1</td>\n",
              "      <td>4.9671</td>\n",
              "      <td>2.0</td>\n",
              "      <td>242.0</td>\n",
              "      <td>17.8</td>\n",
              "      <td>392.83</td>\n",
              "      <td>4.03</td>\n",
              "      <td>34.7</td>\n",
              "    </tr>\n",
              "    <tr>\n",
              "      <th>3</th>\n",
              "      <td>0.03237</td>\n",
              "      <td>0.0</td>\n",
              "      <td>2.18</td>\n",
              "      <td>0.0</td>\n",
              "      <td>0.458</td>\n",
              "      <td>6.998</td>\n",
              "      <td>45.8</td>\n",
              "      <td>6.0622</td>\n",
              "      <td>3.0</td>\n",
              "      <td>222.0</td>\n",
              "      <td>18.7</td>\n",
              "      <td>394.63</td>\n",
              "      <td>2.94</td>\n",
              "      <td>33.4</td>\n",
              "    </tr>\n",
              "    <tr>\n",
              "      <th>4</th>\n",
              "      <td>0.06905</td>\n",
              "      <td>0.0</td>\n",
              "      <td>2.18</td>\n",
              "      <td>0.0</td>\n",
              "      <td>0.458</td>\n",
              "      <td>7.147</td>\n",
              "      <td>54.2</td>\n",
              "      <td>6.0622</td>\n",
              "      <td>3.0</td>\n",
              "      <td>222.0</td>\n",
              "      <td>18.7</td>\n",
              "      <td>396.90</td>\n",
              "      <td>5.33</td>\n",
              "      <td>36.2</td>\n",
              "    </tr>\n",
              "  </tbody>\n",
              "</table>\n",
              "</div>"
            ],
            "text/plain": [
              "      CRIM    ZN  INDUS  CHAS    NOX  ...    TAX  PTRATIO       B  LSTAT  MEDV\n",
              "0  0.00632  18.0   2.31   0.0  0.538  ...  296.0     15.3  396.90   4.98  24.0\n",
              "1  0.02731   0.0   7.07   0.0  0.469  ...  242.0     17.8  396.90   9.14  21.6\n",
              "2  0.02729   0.0   7.07   0.0  0.469  ...  242.0     17.8  392.83   4.03  34.7\n",
              "3  0.03237   0.0   2.18   0.0  0.458  ...  222.0     18.7  394.63   2.94  33.4\n",
              "4  0.06905   0.0   2.18   0.0  0.458  ...  222.0     18.7  396.90   5.33  36.2\n",
              "\n",
              "[5 rows x 14 columns]"
            ]
          },
          "metadata": {
            "tags": []
          },
          "execution_count": 3
        }
      ]
    },
    {
      "cell_type": "markdown",
      "metadata": {
        "id": "D0xQikLFye71"
      },
      "source": [
        "Traçons un histogramme de la variable LSTAT pour connaître la distribution"
      ]
    },
    {
      "cell_type": "code",
      "metadata": {
        "colab": {
          "base_uri": "https://localhost:8080/",
          "height": 282
        },
        "id": "X-tZ6tHJyER9",
        "outputId": "a4dff962-dfad-4c95-d6c4-cc9aa2419bf7"
      },
      "source": [
        "# let's plot a histogram to understand the value range of \n",
        "#the variable LSTAT\n",
        "\n",
        "data['LSTAT'].hist(bins=30)"
      ],
      "execution_count": 4,
      "outputs": [
        {
          "output_type": "execute_result",
          "data": {
            "text/plain": [
              "<matplotlib.axes._subplots.AxesSubplot at 0x7ff11529a490>"
            ]
          },
          "metadata": {
            "tags": []
          },
          "execution_count": 4
        },
        {
          "output_type": "display_data",
          "data": {
            "image/png": "[encoded data removed]",
            "text/plain": [
              "<Figure size 432x288 with 1 Axes>"
            ]
          },
          "metadata": {
            "tags": [],
            "needs_background": "light"
          }
        }
      ]
    },
    {
      "cell_type": "markdown",
      "metadata": {
        "id": "YiTdqBpTyzpu"
      },
      "source": [
        "Les valeurs LSTAT varient de 0 à environ 40"
      ]
    },
    {
      "cell_type": "markdown",
      "metadata": {
        "id": "-DKmYgjgy_zL"
      },
      "source": [
        "Créons une liste avec les limites d'intervalle arbitraires, en définissant la limite supérieure à l'infini pour accueillir des valeurs plus importantes"
      ]
    },
    {
      "cell_type": "code",
      "metadata": {
        "id": "4H-l3x8ZyMUj"
      },
      "source": [
        "# bin boundaries - we will use with pandas cut()\n",
        "intervals = [0, 10, 20, 30, np.Inf]\n",
        "\n",
        "# bin labels - we will use with pandas cut()\n",
        "labels = ['0-10', '10-20', '20-30', '>30']"
      ],
      "execution_count": 6,
      "outputs": []
    },
    {
      "cell_type": "code",
      "metadata": {
        "colab": {
          "base_uri": "https://localhost:8080/"
        },
        "id": "uqyEVsgNyQt7",
        "outputId": "c273ef95-3e4e-456f-de61-13e06b248d64"
      },
      "source": [
        "# discretize LSTAT\n",
        "\n",
        "# create a discretized version of the variable where the values are the\n",
        "# strings we created in the previous cell\n",
        "data['lstat_labels'] = pd.cut(\n",
        "    data['LSTAT'], bins=intervals, labels=labels, include_lowest=True)\n",
        "\n",
        "# let's create a version of the discretized variable were the values are\n",
        "# the interval limits\n",
        "data['lstat_intervals'] = pd.cut(\n",
        "    data['LSTAT'], bins=intervals, labels=None, include_lowest=True)\n",
        "\n",
        "# plot the original and 2 versions of the discretized variable\n",
        "print(data[['LSTAT', 'lstat_labels', 'lstat_intervals']].head())"
      ],
      "execution_count": 7,
      "outputs": [
        {
          "output_type": "stream",
          "text": [
            "   LSTAT lstat_labels lstat_intervals\n",
            "0   4.98         0-10  (-0.001, 10.0]\n",
            "1   9.14         0-10  (-0.001, 10.0]\n",
            "2   4.03         0-10  (-0.001, 10.0]\n",
            "3   2.94         0-10  (-0.001, 10.0]\n",
            "4   5.33         0-10  (-0.001, 10.0]\n"
          ],
          "name": "stdout"
        }
      ]
    },
    {
      "cell_type": "code",
      "metadata": {
        "colab": {
          "base_uri": "https://localhost:8080/"
        },
        "id": "mLj9BEpdyUbO",
        "outputId": "a15f0941-1ea1-4a44-b136-96b584aebdec"
      },
      "source": [
        "# let's check the number of observations per bin\n",
        "\n",
        "data['lstat_intervals'].value_counts()"
      ],
      "execution_count": 8,
      "outputs": [
        {
          "output_type": "execute_result",
          "data": {
            "text/plain": [
              "(-0.001, 10.0]    219\n",
              "(10.0, 20.0]      213\n",
              "(20.0, 30.0]       62\n",
              "(30.0, inf]        12\n",
              "Name: lstat_intervals, dtype: int64"
            ]
          },
          "metadata": {
            "tags": []
          },
          "execution_count": 8
        }
      ]
    },
    {
      "cell_type": "code",
      "metadata": {
        "id": "DhyBtaJpzXIL"
      },
      "source": [
        ""
      ],
      "execution_count": null,
      "outputs": []
    },
    {
      "cell_type": "markdown",
      "metadata": {
        "id": "GfJPQClczXUF"
      },
      "source": [
        "Nous avons trié les valeurs d'une variable dans des intervalles définis par l'utilisateur à l'aide de l'ensemble de données Boston House Prices. Nous avons d'abord tracé un histogramme de la variable LSTAT, pour avoir une idée de la plage de valeurs de la variable. Ensuite, nous avons arbitrairement déterminé et capturé les limites des intervalles dans une liste : nous avons créé des intervalles qui varient de 0 à 10, 10 à 20, 20 à 30 et plus de 30, en définissant la limite supérieure à l'infini avec np.Inf. Ensuite, nous avons créé une liste avec les noms d'intervalle sous forme de chaînes. En utilisant la méthode cut() de pandas et en passant la liste avec les limites d'intervalle, nous avons trié les valeurs des variables dans les bacs prédéfinis. Nous avons exécuté la commande deux fois ; dans la première exécution, nous définissons l'argument labels sur la liste qui contenait les noms d'étiquettes sous forme de chaînes, et dans la seconde exécution, nous définissons l'argument labels sur None. Nous avons capturé la sortie renvoyée dans deux variables, la première affichant les limites d'intervalle en tant que valeurs et la seconde avec des noms d'intervalle en tant que valeurs. Enfin, nous avons compté le nombre d'observations par variable à l'aide de la méthode pandas value_counts()."
      ]
    }
  ]
}
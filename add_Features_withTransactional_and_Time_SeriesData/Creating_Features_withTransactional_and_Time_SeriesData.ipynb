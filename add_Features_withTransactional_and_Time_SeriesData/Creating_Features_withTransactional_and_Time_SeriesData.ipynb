{
  "nbformat": 4,
  "nbformat_minor": 0,
  "metadata": {
    "colab": {
      "name": "Creating_Features_withTransactional_and_Time_SeriesData.ipynb",
      "provenance": [],
      "collapsed_sections": []
    },
    "kernelspec": {
      "name": "python3",
      "display_name": "Python 3"
    },
    "language_info": {
      "name": "python"
    }
  },
  "cells": [
    {
      "cell_type": "markdown",
      "metadata": {
        "id": "ivxPZsKTTjY4"
      },
      "source": [
        "# Création des features avec des données transactionnelles et temporelles.\n",
        "Dans ce repo, nous avons discuté de plusieurs techniques d'ingénierie de caractéristiques que nous pouvons utiliser pour concevoir des variables dans des données tabulaires, où chaque observation est indépendante et n'affiche qu'une valeur pour chaque variable disponible. Cependant, les données peuvent également contenir plusieurs valeurs qui ne sont pas indépendantes pour chaque entité. Par exemple, il peut y avoir plusieurs enregistrements pour chaque client avec les détails des transactions au sein de notre organisation, telles que les achats, les paiements, les réclamations, les dépôts et les retraits. Dans d'autres cas, les valeurs des variables peuvent changer quotidiennement, comme les cours des actions ou la consommation d'énergie. Les premières sources de données sont appelées données transactionnelles, tandis que les secondes sources de données sont des séries temporelles. Les séries temporelles et les données transactionnelles contiennent des observations horodatées, ce qui signifie qu'elles partagent une dimension temporelle.\n",
        "\n",
        "Nous créons souvent des fonctionnalités qui agrègent ou résument les informations à partir des points de données historiques des séries chronologiques ou des transactions. Par exemple, nous pouvons créer des fonctionnalités qui capturent le montant maximum dépensé par le client au cours de la semaine dernière, le nombre de transactions qu'il a effectuées ou le temps entre les transactions. Le nombre de fonctionnalités que nous pouvons créer et les manières dont nous pouvons agréger ces informations sont énormes. Dans cet article, nous discuterons des manières les plus courantes de créer des vues agrégées de données historiques à l'aide de pandas. Ensuite, nous ferons une plongée peu profonde dans Featuretools, une bibliothèque conçue pour automatiser la création de fonctionnalités à partir de données transactionnelles. Enfin, nous vous indiquerons d'autres bibliothèques Python conçues spécifiquement pour analyser la complexité du signal.\n",
        "\n",
        "\n",
        "Dans ce chapitre, nous aborderons les recettes suivantes :\n",
        "\n",
        "* Agréger des transactions avec des opérations mathématiques\n",
        "* Agréger des transactions dans une fenêtre temporelle\n",
        "* Détermination du nombre de maxima et de minima locaux\n",
        "* Dérivation du temps écoulé entre les événements horodatés\n",
        "* Création d'entités à partir de transactions avec Featuretools\n",
        "\n",
        "Nous utiliserons les bibliothèques Python pandas, NumPy, SciPy et Matplotlib, qui peuvent toutes être installées à l'aide de la distribution gratuite Anaconda Python.\n",
        "\n",
        "Nous utiliserons également la bibliothèque Python open source Featuretools, qui peut être installée à l'aide de pip ou conda.\n",
        "\n",
        "Tout au long des recettes, nous travaillerons avec un jeu de données de transaction client fictif fourni avec Featuretools et le jeu de données de prévision énergétique Appliances, disponible dans le référentiel UCI Machine Learning: http://archive.ics.uci.edu/ml/datasets/Appliances+energy+prediction"
      ]
    },
    {
      "cell_type": "markdown",
      "metadata": {
        "id": "2ixCa1V7WpEW"
      },
      "source": [
        "## Agréger des transactions avec des opérations mathématiques\n",
        "\n",
        "Auparavant, nous avons mentionné que nous pouvons agréger les informations des points de données historiques en observations uniques telles que le montant maximum dépensé pour une transaction, le nombre total de transactions ou la valeur moyenne de toutes les transactions, pour ne citer que quelques exemples. Ces agrégations sont faites avec des opérations mathématiques de base, telles que le maximum, la moyenne ... Comme vous pouvez le voir, les opérations mathématiques sont un moyen simple mais puissant d'obtenir une vue résumée des données historiques.\n",
        "\n",
        "Dans cette recette, nous allons créer un ensemble de données aplati en agrégeant plusieurs transactions à l'aide d'opérations mathématiques courantes. Nous utiliserons pandas pour le faire\n",
        "\n",
        "Dans cette recette, nous utiliserons le jeu de données de transaction client fictif fourni avec Featuretools. Cet ensemble de données contient des informations sur les transactions de cinq clients différents. Ces données contiennent un identifiant unique pour distinguer les clients, un identifiant unique pour chaque transaction, l'heure de la transaction, et le montant de la transaction, c'est-à-dire le montant de l'achat. Nous dériverons des caractéristiques de la variable de montant d'achat en effectuant des opérations mathématiques avec pandas.\n"
      ]
    },
    {
      "cell_type": "markdown",
      "metadata": {
        "id": "0Hud6KlXl1fv"
      },
      "source": [
        "Commençons par importer les bibliothèques et préparer le jeu de données"
      ]
    },
    {
      "cell_type": "code",
      "metadata": {
        "id": "gnsoCfzZgF9s"
      },
      "source": [
        "#!python -m pip install featuretools"
      ],
      "execution_count": null,
      "outputs": []
    },
    {
      "cell_type": "code",
      "metadata": {
        "id": "492lSoQXgCS_"
      },
      "source": [
        "\n",
        "import pandas as pd\n",
        "import featuretools as ft"
      ],
      "execution_count": null,
      "outputs": []
    },
    {
      "cell_type": "code",
      "metadata": {
        "id": "ckPEJcMnlSH2"
      },
      "source": [
        "# load data from feature tools\n",
        "\n",
        "data_dict = ft.demo.load_mock_customer()"
      ],
      "execution_count": null,
      "outputs": []
    },
    {
      "cell_type": "code",
      "metadata": {
        "colab": {
          "base_uri": "https://localhost:8080/"
        },
        "id": "R3o2FpY2lVxd",
        "outputId": "ea019711-71a9-4667-eb2c-1d118f6bdf5c"
      },
      "source": [
        "\n",
        "# each table in the dictionaty is a pandas dataframe\n",
        "\n",
        "type(data_dict[\"transactions\"])"
      ],
      "execution_count": null,
      "outputs": [
        {
          "output_type": "execute_result",
          "data": {
            "text/plain": [
              "pandas.core.frame.DataFrame"
            ]
          },
          "metadata": {},
          "execution_count": 6
        }
      ]
    },
    {
      "cell_type": "markdown",
      "metadata": {
        "id": "abdrY6A_mHRP"
      },
      "source": [
        "Fusionnons les trois tables différentes de l'ensemble de données fictif de Featuretools dans un cadre de données pandas"
      ]
    },
    {
      "cell_type": "code",
      "metadata": {
        "colab": {
          "base_uri": "https://localhost:8080/"
        },
        "id": "NiXnqDz-lZ8V",
        "outputId": "940930f5-71bb-4823-ae81-bcd93a050852"
      },
      "source": [
        "# capture all 3 data tables into a pandas dataframe\n",
        "\n",
        "data = data_dict[\"transactions\"].merge(\n",
        "    data_dict[\"sessions\"]).merge(data_dict[\"customers\"])\n",
        "\n",
        "data.shape"
      ],
      "execution_count": null,
      "outputs": [
        {
          "output_type": "execute_result",
          "data": {
            "text/plain": [
              "(500, 11)"
            ]
          },
          "metadata": {},
          "execution_count": 7
        }
      ]
    },
    {
      "cell_type": "markdown",
      "metadata": {
        "id": "VxpKjhtemYRu"
      },
      "source": [
        "Maintenant, nous allons sélectionner les colonnes qui identifient chaque client unique, chaque transaction unique, l'heure de la transaction et le montant dépensé par transaction"
      ]
    },
    {
      "cell_type": "code",
      "metadata": {
        "id": "TDrrzr2YldkF"
      },
      "source": [
        "# select the columns with which we will work in this recipe\n",
        "\n",
        "cols = ['customer_id',\n",
        "        'transaction_id',\n",
        "        'transaction_time',\n",
        "        'amount'\n",
        "        ]\n",
        "\n",
        "data = data[cols]"
      ],
      "execution_count": null,
      "outputs": []
    },
    {
      "cell_type": "code",
      "metadata": {
        "colab": {
          "base_uri": "https://localhost:8080/",
          "height": 204
        },
        "id": "ip4mIqNplf5E",
        "outputId": "8690a87e-48d2-4e82-92dc-f21da825767d"
      },
      "source": [
        "# display data\n",
        "\n",
        "data.head()"
      ],
      "execution_count": null,
      "outputs": [
        {
          "output_type": "execute_result",
          "data": {
            "text/html": [
              "<div>\n",
              "<style scoped>\n",
              "    .dataframe tbody tr th:only-of-type {\n",
              "        vertical-align: middle;\n",
              "    }\n",
              "\n",
              "    .dataframe tbody tr th {\n",
              "        vertical-align: top;\n",
              "    }\n",
              "\n",
              "    .dataframe thead th {\n",
              "        text-align: right;\n",
              "    }\n",
              "</style>\n",
              "<table border=\"1\" class=\"dataframe\">\n",
              "  <thead>\n",
              "    <tr style=\"text-align: right;\">\n",
              "      <th></th>\n",
              "      <th>customer_id</th>\n",
              "      <th>transaction_id</th>\n",
              "      <th>transaction_time</th>\n",
              "      <th>amount</th>\n",
              "    </tr>\n",
              "  </thead>\n",
              "  <tbody>\n",
              "    <tr>\n",
              "      <th>0</th>\n",
              "      <td>2</td>\n",
              "      <td>298</td>\n",
              "      <td>2014-01-01 00:00:00</td>\n",
              "      <td>127.64</td>\n",
              "    </tr>\n",
              "    <tr>\n",
              "      <th>1</th>\n",
              "      <td>2</td>\n",
              "      <td>2</td>\n",
              "      <td>2014-01-01 00:01:05</td>\n",
              "      <td>109.48</td>\n",
              "    </tr>\n",
              "    <tr>\n",
              "      <th>2</th>\n",
              "      <td>2</td>\n",
              "      <td>308</td>\n",
              "      <td>2014-01-01 00:02:10</td>\n",
              "      <td>95.06</td>\n",
              "    </tr>\n",
              "    <tr>\n",
              "      <th>3</th>\n",
              "      <td>2</td>\n",
              "      <td>116</td>\n",
              "      <td>2014-01-01 00:03:15</td>\n",
              "      <td>78.92</td>\n",
              "    </tr>\n",
              "    <tr>\n",
              "      <th>4</th>\n",
              "      <td>2</td>\n",
              "      <td>371</td>\n",
              "      <td>2014-01-01 00:04:20</td>\n",
              "      <td>31.54</td>\n",
              "    </tr>\n",
              "  </tbody>\n",
              "</table>\n",
              "</div>"
            ],
            "text/plain": [
              "   customer_id  transaction_id    transaction_time  amount\n",
              "0            2             298 2014-01-01 00:00:00  127.64\n",
              "1            2               2 2014-01-01 00:01:05  109.48\n",
              "2            2             308 2014-01-01 00:02:10   95.06\n",
              "3            2             116 2014-01-01 00:03:15   78.92\n",
              "4            2             371 2014-01-01 00:04:20   31.54"
            ]
          },
          "metadata": {},
          "execution_count": 9
        }
      ]
    },
    {
      "cell_type": "code",
      "metadata": {
        "colab": {
          "base_uri": "https://localhost:8080/"
        },
        "id": "v7ZXtQGQljnW",
        "outputId": "6ac2f2ff-d7ce-46bd-ca43-c19dee907b31"
      },
      "source": [
        "print('Number of customers: {}'.format(data['customer_id'].nunique()))\n",
        "print('Number of transactions: {}'.format(data['transaction_id'].nunique()))"
      ],
      "execution_count": null,
      "outputs": [
        {
          "output_type": "stream",
          "name": "stdout",
          "text": [
            "Number of customers: 5\n",
            "Number of transactions: 500\n"
          ]
        }
      ]
    },
    {
      "cell_type": "code",
      "metadata": {
        "colab": {
          "base_uri": "https://localhost:8080/"
        },
        "id": "ab7VrzljlmFl",
        "outputId": "0e9fa5a5-8ab5-49ac-c73d-e6e65d2773ab"
      },
      "source": [
        "\n",
        "# dispay number of transactions per customer\n",
        "data.groupby('customer_id')['transaction_id'].count()"
      ],
      "execution_count": null,
      "outputs": [
        {
          "output_type": "execute_result",
          "data": {
            "text/plain": [
              "customer_id\n",
              "1    126\n",
              "2     93\n",
              "3     93\n",
              "4    109\n",
              "5     79\n",
              "Name: transaction_id, dtype: int64"
            ]
          },
          "metadata": {},
          "execution_count": 11
        }
      ]
    },
    {
      "cell_type": "markdown",
      "metadata": {
        "id": "Kd7XOcb_lsV2"
      },
      "source": [
        "### Aggregation with pandas"
      ]
    },
    {
      "cell_type": "markdown",
      "metadata": {
        "id": "Gu-fIN0Emube"
      },
      "source": [
        "Maintenant, nous devons créer une vue unique par client qui résume leur activité d'achat. Pour ce faire, nous supprimerons la dimension temporelle des transactions pour capturer le comportement historique dans différentes variables, obtenant ainsi un vecteur de caractéristiques par client"
      ]
    },
    {
      "cell_type": "markdown",
      "metadata": {
        "id": "efU3xNgqm49H"
      },
      "source": [
        "Commençons par faire une liste des fonctions que nous utiliserons pour résumer les données"
      ]
    },
    {
      "cell_type": "code",
      "metadata": {
        "colab": {
          "base_uri": "https://localhost:8080/",
          "height": 235
        },
        "id": "m2JML4qum8Nq",
        "outputId": "c5cd9003-0bf0-476a-ee31-88bd3ac86b80"
      },
      "source": [
        "# make a list of the operations we want to perform\n",
        "operations = ['sum', 'max', 'min', 'mean', 'median', 'std', 'count']\n",
        "\n",
        "# make a list of the new feature names\n",
        "feature_names = [\n",
        "    'total_amount', 'max_amount', 'min_amount', 'mean_amount', 'median_amount',\n",
        "    'std_amount', 'number of transactions'\n",
        "]\n",
        "\n",
        "df = pd.DataFrame()\n",
        "\n",
        "# capture new features in a pandas dataframe\n",
        "df[feature_names] = data.groupby('customer_id')['amount'].agg(operations)\n",
        "\n",
        "df"
      ],
      "execution_count": null,
      "outputs": [
        {
          "output_type": "execute_result",
          "data": {
            "text/html": [
              "<div>\n",
              "<style scoped>\n",
              "    .dataframe tbody tr th:only-of-type {\n",
              "        vertical-align: middle;\n",
              "    }\n",
              "\n",
              "    .dataframe tbody tr th {\n",
              "        vertical-align: top;\n",
              "    }\n",
              "\n",
              "    .dataframe thead th {\n",
              "        text-align: right;\n",
              "    }\n",
              "</style>\n",
              "<table border=\"1\" class=\"dataframe\">\n",
              "  <thead>\n",
              "    <tr style=\"text-align: right;\">\n",
              "      <th></th>\n",
              "      <th>total_amount</th>\n",
              "      <th>max_amount</th>\n",
              "      <th>min_amount</th>\n",
              "      <th>mean_amount</th>\n",
              "      <th>median_amount</th>\n",
              "      <th>std_amount</th>\n",
              "      <th>number of transactions</th>\n",
              "    </tr>\n",
              "    <tr>\n",
              "      <th>customer_id</th>\n",
              "      <th></th>\n",
              "      <th></th>\n",
              "      <th></th>\n",
              "      <th></th>\n",
              "      <th></th>\n",
              "      <th></th>\n",
              "      <th></th>\n",
              "    </tr>\n",
              "  </thead>\n",
              "  <tbody>\n",
              "    <tr>\n",
              "      <th>1</th>\n",
              "      <td>9025.62</td>\n",
              "      <td>139.43</td>\n",
              "      <td>5.81</td>\n",
              "      <td>71.631905</td>\n",
              "      <td>69.715</td>\n",
              "      <td>40.442059</td>\n",
              "      <td>126</td>\n",
              "    </tr>\n",
              "    <tr>\n",
              "      <th>2</th>\n",
              "      <td>7200.28</td>\n",
              "      <td>146.81</td>\n",
              "      <td>8.73</td>\n",
              "      <td>77.422366</td>\n",
              "      <td>75.960</td>\n",
              "      <td>37.705178</td>\n",
              "      <td>93</td>\n",
              "    </tr>\n",
              "    <tr>\n",
              "      <th>3</th>\n",
              "      <td>6236.62</td>\n",
              "      <td>149.15</td>\n",
              "      <td>5.89</td>\n",
              "      <td>67.060430</td>\n",
              "      <td>58.930</td>\n",
              "      <td>43.683296</td>\n",
              "      <td>93</td>\n",
              "    </tr>\n",
              "    <tr>\n",
              "      <th>4</th>\n",
              "      <td>8727.68</td>\n",
              "      <td>149.95</td>\n",
              "      <td>5.73</td>\n",
              "      <td>80.070459</td>\n",
              "      <td>81.410</td>\n",
              "      <td>45.068765</td>\n",
              "      <td>109</td>\n",
              "    </tr>\n",
              "    <tr>\n",
              "      <th>5</th>\n",
              "      <td>6349.66</td>\n",
              "      <td>149.02</td>\n",
              "      <td>7.55</td>\n",
              "      <td>80.375443</td>\n",
              "      <td>78.870</td>\n",
              "      <td>44.095630</td>\n",
              "      <td>79</td>\n",
              "    </tr>\n",
              "  </tbody>\n",
              "</table>\n",
              "</div>"
            ],
            "text/plain": [
              "             total_amount  max_amount  ...  std_amount  number of transactions\n",
              "customer_id                            ...                                    \n",
              "1                 9025.62      139.43  ...   40.442059                     126\n",
              "2                 7200.28      146.81  ...   37.705178                      93\n",
              "3                 6236.62      149.15  ...   43.683296                      93\n",
              "4                 8727.68      149.95  ...   45.068765                     109\n",
              "5                 6349.66      149.02  ...   44.095630                      79\n",
              "\n",
              "[5 rows x 7 columns]"
            ]
          },
          "metadata": {},
          "execution_count": 12
        }
      ]
    },
    {
      "cell_type": "markdown",
      "metadata": {
        "id": "5w98Rf8ynO73"
      },
      "source": [
        "### Aggregation with Featuretools\n",
        "\n",
        "Nous pouvons également agréger les données transactionnelles à l'aide de la bibliothèque Featuretools. Pour ce faire, importons les bibliothèques requises et chargeons le jeu de données, comme nous l'avons fait aux étapes précédente de cette recette. Pour travailler avec Featuretools, nous devons transformer le cadre de données en un ensemble d'entités.Commençons"
      ]
    },
    {
      "cell_type": "markdown",
      "metadata": {
        "id": "FAzMXJLbomEp"
      },
      "source": [
        "Créons un ensemble d'entités et donnons-lui un nom représentatif et ajoutons la trame de données à l'ensemble d'entités en indiquant que le transaction_id est l'identifiant de transaction unique et en définissant l'heure de la transaction comme index temporel de l'ensemble d'entités"
      ]
    },
    {
      "cell_type": "code",
      "metadata": {
        "colab": {
          "base_uri": "https://localhost:8080/"
        },
        "id": "XwpxNSaknr-z",
        "outputId": "8cec23da-48a7-4d7b-a57b-22adca17d0ba"
      },
      "source": [
        "# in order for feature tools to work, we need to create\n",
        "# entity sets\n",
        "\n",
        "# create and entity set and give it a name\n",
        "es = ft.EntitySet(id=\"customer_data\")\n",
        "\n",
        "# add transactions table to the entity set\n",
        "# basically we pass the entire dataframe indicating\n",
        "# the transaction_id as unique identifier\n",
        "# and the transaction time as the time index\n",
        "# there is one unique timestamp per transaction\n",
        "es.entity_from_dataframe(entity_id='transactions',\n",
        "                         dataframe=data[cols],\n",
        "                         index=\"transaction_id\",\n",
        "                         time_index='transaction_time')\n",
        "\n",
        "# display the entity set\n",
        "es"
      ],
      "execution_count": null,
      "outputs": [
        {
          "output_type": "execute_result",
          "data": {
            "text/plain": [
              "Entityset: customer_data\n",
              "  Entities:\n",
              "    transactions [Rows: 500, Columns: 4]\n",
              "  Relationships:\n",
              "    No relationships"
            ]
          },
          "metadata": {},
          "execution_count": 13
        }
      ]
    },
    {
      "cell_type": "markdown",
      "metadata": {
        "id": "nhwpCDYkptEW"
      },
      "source": [
        "Featuretools doit identifier l'index de temps et l'index de transaction unique pour effectuer ses opérations"
      ]
    },
    {
      "cell_type": "markdown",
      "metadata": {
        "id": "D1mg467TqCpY"
      },
      "source": [
        "Pour indiquer que chaque client est lié à certaines transactions au sein de l'ensemble d'entités, nous devons créer une nouvelle entité à l'aide de la méthode normalize_entity(), donner un nom à l'entité - dans ce cas, les clients - et spécifier l'identifiant unique pour les clients"
      ]
    },
    {
      "cell_type": "code",
      "metadata": {
        "colab": {
          "base_uri": "https://localhost:8080/"
        },
        "id": "169nGzQvn6nI",
        "outputId": "165c91b8-fe97-437f-9186-7a399a9e5812"
      },
      "source": [
        "# now we indicate that within the entity set\n",
        "# there is another table, with customer data,\n",
        "# each customer identified with a unique\n",
        "# customer id\n",
        "\n",
        "es.normalize_entity(base_entity_id=\"transactions\",\n",
        "                    new_entity_id=\"customers\",\n",
        "                    index=\"customer_id\")"
      ],
      "execution_count": null,
      "outputs": [
        {
          "output_type": "execute_result",
          "data": {
            "text/plain": [
              "Entityset: customer_data\n",
              "  Entities:\n",
              "    transactions [Rows: 500, Columns: 4]\n",
              "    customers [Rows: 5, Columns: 2]\n",
              "  Relationships:\n",
              "    transactions.customer_id -> customers.customer_id"
            ]
          },
          "metadata": {},
          "execution_count": 14
        }
      ]
    },
    {
      "cell_type": "markdown",
      "metadata": {
        "id": "5l-OdmMirGCY"
      },
      "source": [
        "Pour créer ces fonctionnalités, nous allons utiliser le transformateur dfs() de Featuretools et spécifier l'entité sur laquelle les données doivent être agrégées, c'est-à-dire les clients, puis passer la liste des opérations mathématiques qui doivent être utilisées pour créer les nouvelles fonctionnalités ( nous avons créé une liste avec des opérations mathématiques à l'étape précédente :"
      ]
    },
    {
      "cell_type": "code",
      "metadata": {
        "id": "3xngqHIjrZg4",
        "colab": {
          "base_uri": "https://localhost:8080/"
        },
        "outputId": "4c878808-6ff3-40f3-b3d1-b073c27eac36"
      },
      "source": [
        "# let's print out the operations we want to perform\n",
        "# we created this list in cell 9\n",
        "\n",
        "operations"
      ],
      "execution_count": null,
      "outputs": [
        {
          "output_type": "execute_result",
          "data": {
            "text/plain": [
              "['sum', 'max', 'min', 'mean', 'median', 'std', 'count']"
            ]
          },
          "metadata": {},
          "execution_count": 18
        }
      ]
    },
    {
      "cell_type": "code",
      "metadata": {
        "colab": {
          "base_uri": "https://localhost:8080/"
        },
        "id": "I4fgaaDYoG3R",
        "outputId": "b0685964-9e2d-4509-825e-156776911f73"
      },
      "source": [
        "# set up the feature creation object\n",
        "# to aggregate transactions at customer level\n",
        "\n",
        "feature_matrix, features = ft.dfs(entityset=es,\n",
        "                                  target_entity=\"customers\",\n",
        "                                  agg_primitives=operations,\n",
        "                                  trans_primitives=[],\n",
        "                                  verbose=True,\n",
        "                                  )\n",
        "\n",
        "# display name of created features\n",
        "features"
      ],
      "execution_count": null,
      "outputs": [
        {
          "output_type": "stream",
          "name": "stdout",
          "text": [
            "Built 7 features\n",
            "Elapsed: 00:00 | Progress: 100%|██████████\n"
          ]
        },
        {
          "output_type": "execute_result",
          "data": {
            "text/plain": [
              "[<Feature: COUNT(transactions)>,\n",
              " <Feature: MAX(transactions.amount)>,\n",
              " <Feature: MEAN(transactions.amount)>,\n",
              " <Feature: MEDIAN(transactions.amount)>,\n",
              " <Feature: MIN(transactions.amount)>,\n",
              " <Feature: STD(transactions.amount)>,\n",
              " <Feature: SUM(transactions.amount)>]"
            ]
          },
          "metadata": {},
          "execution_count": 16
        }
      ]
    },
    {
      "cell_type": "code",
      "metadata": {
        "id": "U8z10fpLrYKL"
      },
      "source": [
        ""
      ],
      "execution_count": null,
      "outputs": []
    },
    {
      "cell_type": "code",
      "metadata": {
        "colab": {
          "base_uri": "https://localhost:8080/",
          "height": 235
        },
        "id": "mYQgiFpRoKMq",
        "outputId": "f7f15c57-dff2-43dd-ddf1-8ee9f1793dc9"
      },
      "source": [
        "# dataframe with the new features\n",
        "feature_matrix"
      ],
      "execution_count": null,
      "outputs": [
        {
          "output_type": "execute_result",
          "data": {
            "text/html": [
              "<div>\n",
              "<style scoped>\n",
              "    .dataframe tbody tr th:only-of-type {\n",
              "        vertical-align: middle;\n",
              "    }\n",
              "\n",
              "    .dataframe tbody tr th {\n",
              "        vertical-align: top;\n",
              "    }\n",
              "\n",
              "    .dataframe thead th {\n",
              "        text-align: right;\n",
              "    }\n",
              "</style>\n",
              "<table border=\"1\" class=\"dataframe\">\n",
              "  <thead>\n",
              "    <tr style=\"text-align: right;\">\n",
              "      <th></th>\n",
              "      <th>COUNT(transactions)</th>\n",
              "      <th>MAX(transactions.amount)</th>\n",
              "      <th>MEAN(transactions.amount)</th>\n",
              "      <th>MEDIAN(transactions.amount)</th>\n",
              "      <th>MIN(transactions.amount)</th>\n",
              "      <th>STD(transactions.amount)</th>\n",
              "      <th>SUM(transactions.amount)</th>\n",
              "    </tr>\n",
              "    <tr>\n",
              "      <th>customer_id</th>\n",
              "      <th></th>\n",
              "      <th></th>\n",
              "      <th></th>\n",
              "      <th></th>\n",
              "      <th></th>\n",
              "      <th></th>\n",
              "      <th></th>\n",
              "    </tr>\n",
              "  </thead>\n",
              "  <tbody>\n",
              "    <tr>\n",
              "      <th>2</th>\n",
              "      <td>93</td>\n",
              "      <td>146.81</td>\n",
              "      <td>77.422366</td>\n",
              "      <td>75.960</td>\n",
              "      <td>8.73</td>\n",
              "      <td>37.705178</td>\n",
              "      <td>7200.28</td>\n",
              "    </tr>\n",
              "    <tr>\n",
              "      <th>5</th>\n",
              "      <td>79</td>\n",
              "      <td>149.02</td>\n",
              "      <td>80.375443</td>\n",
              "      <td>78.870</td>\n",
              "      <td>7.55</td>\n",
              "      <td>44.095630</td>\n",
              "      <td>6349.66</td>\n",
              "    </tr>\n",
              "    <tr>\n",
              "      <th>4</th>\n",
              "      <td>109</td>\n",
              "      <td>149.95</td>\n",
              "      <td>80.070459</td>\n",
              "      <td>81.410</td>\n",
              "      <td>5.73</td>\n",
              "      <td>45.068765</td>\n",
              "      <td>8727.68</td>\n",
              "    </tr>\n",
              "    <tr>\n",
              "      <th>1</th>\n",
              "      <td>126</td>\n",
              "      <td>139.43</td>\n",
              "      <td>71.631905</td>\n",
              "      <td>69.715</td>\n",
              "      <td>5.81</td>\n",
              "      <td>40.442059</td>\n",
              "      <td>9025.62</td>\n",
              "    </tr>\n",
              "    <tr>\n",
              "      <th>3</th>\n",
              "      <td>93</td>\n",
              "      <td>149.15</td>\n",
              "      <td>67.060430</td>\n",
              "      <td>58.930</td>\n",
              "      <td>5.89</td>\n",
              "      <td>43.683296</td>\n",
              "      <td>6236.62</td>\n",
              "    </tr>\n",
              "  </tbody>\n",
              "</table>\n",
              "</div>"
            ],
            "text/plain": [
              "             COUNT(transactions)  ...  SUM(transactions.amount)\n",
              "customer_id                       ...                          \n",
              "2                             93  ...                   7200.28\n",
              "5                             79  ...                   6349.66\n",
              "4                            109  ...                   8727.68\n",
              "1                            126  ...                   9025.62\n",
              "3                             93  ...                   6236.62\n",
              "\n",
              "[5 rows x 7 columns]"
            ]
          },
          "metadata": {},
          "execution_count": 17
        }
      ]
    },
    {
      "cell_type": "markdown",
      "metadata": {
        "id": "ukt4LW52yX5x"
      },
      "source": [
        "## Agréger des transactions dans une fenêtre temporelle.\n",
        "\n",
        "Lorsque nous voulons prédire un événement à un moment donné, souvent, les transactions ou les valeurs plus proches de l'événement ont tendance à être plus pertinentes. Ensuite, si nous voulons prédire si un client sera désabonné la semaine prochaine, les informations des dernières semaines ou des derniers mois ont tendance à être plus informatives que les transactions du client au cours des 5 dernières années.\n",
        "\n",
        "Nous pouvons utiliser des opérations mathématiques pour résumer des données historiques, tout comme nous l'avons fait dans la recette précédente, mais uniquement pour une certaine fenêtre temporelle. De cette façon, nous pouvons créer des fonctionnalités telles que le montant maximum dépensé la semaine dernière ou le nombre de transactions le mois dernier, pour ne citer que quelques exemples. Dans cette recette, nous allons résumer les données de séries temporelles sur des fenêtres temporelles trop discrètes à l'aide de pandas\n",
        "\n",
        "\n",
        "Dans cette recette, nous utiliserons l'ensemble de données de prévision énergétique des appareils du référentiel UCI MachineLearning. Nous travaillerons avec les variables Appareils et lumières, qui contiennent des enregistrements de l'électricité consommée par les appareils ou les lumières dans un seul ménage à des intervalles de 10 minutes pendant une période de 5 mois.\n",
        "\n",
        "Commençons par importer les bibliothèques et préparer le jeu de données:\n"
      ]
    },
    {
      "cell_type": "code",
      "metadata": {
        "id": "ogVmLhCa1Cgt"
      },
      "source": [
        "import pandas as pd\n",
        "import matplotlib.pyplot as plt"
      ],
      "execution_count": 19,
      "outputs": []
    },
    {
      "cell_type": "code",
      "metadata": {
        "colab": {
          "base_uri": "https://localhost:8080/",
          "height": 359
        },
        "id": "zcL9-jZS1GmS",
        "outputId": "b8b32eb2-48c3-4590-bcab-456618a4e22e"
      },
      "source": [
        "\n",
        "# load the appliances energy prediction data set\n",
        "\n",
        "cols = ['date', 'Appliances', 'lights']\n",
        "\n",
        "data = pd.read_csv('http://archive.ics.uci.edu/ml/machine-learning-databases/00374/energydata_complete.csv', usecols=cols)\n",
        "\n",
        "data.head(10)"
      ],
      "execution_count": 34,
      "outputs": [
        {
          "output_type": "execute_result",
          "data": {
            "text/html": [
              "<div>\n",
              "<style scoped>\n",
              "    .dataframe tbody tr th:only-of-type {\n",
              "        vertical-align: middle;\n",
              "    }\n",
              "\n",
              "    .dataframe tbody tr th {\n",
              "        vertical-align: top;\n",
              "    }\n",
              "\n",
              "    .dataframe thead th {\n",
              "        text-align: right;\n",
              "    }\n",
              "</style>\n",
              "<table border=\"1\" class=\"dataframe\">\n",
              "  <thead>\n",
              "    <tr style=\"text-align: right;\">\n",
              "      <th></th>\n",
              "      <th>date</th>\n",
              "      <th>Appliances</th>\n",
              "      <th>lights</th>\n",
              "    </tr>\n",
              "  </thead>\n",
              "  <tbody>\n",
              "    <tr>\n",
              "      <th>0</th>\n",
              "      <td>2016-01-11 17:00:00</td>\n",
              "      <td>60</td>\n",
              "      <td>30</td>\n",
              "    </tr>\n",
              "    <tr>\n",
              "      <th>1</th>\n",
              "      <td>2016-01-11 17:10:00</td>\n",
              "      <td>60</td>\n",
              "      <td>30</td>\n",
              "    </tr>\n",
              "    <tr>\n",
              "      <th>2</th>\n",
              "      <td>2016-01-11 17:20:00</td>\n",
              "      <td>50</td>\n",
              "      <td>30</td>\n",
              "    </tr>\n",
              "    <tr>\n",
              "      <th>3</th>\n",
              "      <td>2016-01-11 17:30:00</td>\n",
              "      <td>50</td>\n",
              "      <td>40</td>\n",
              "    </tr>\n",
              "    <tr>\n",
              "      <th>4</th>\n",
              "      <td>2016-01-11 17:40:00</td>\n",
              "      <td>60</td>\n",
              "      <td>40</td>\n",
              "    </tr>\n",
              "    <tr>\n",
              "      <th>5</th>\n",
              "      <td>2016-01-11 17:50:00</td>\n",
              "      <td>50</td>\n",
              "      <td>40</td>\n",
              "    </tr>\n",
              "    <tr>\n",
              "      <th>6</th>\n",
              "      <td>2016-01-11 18:00:00</td>\n",
              "      <td>60</td>\n",
              "      <td>50</td>\n",
              "    </tr>\n",
              "    <tr>\n",
              "      <th>7</th>\n",
              "      <td>2016-01-11 18:10:00</td>\n",
              "      <td>60</td>\n",
              "      <td>50</td>\n",
              "    </tr>\n",
              "    <tr>\n",
              "      <th>8</th>\n",
              "      <td>2016-01-11 18:20:00</td>\n",
              "      <td>60</td>\n",
              "      <td>40</td>\n",
              "    </tr>\n",
              "    <tr>\n",
              "      <th>9</th>\n",
              "      <td>2016-01-11 18:30:00</td>\n",
              "      <td>70</td>\n",
              "      <td>40</td>\n",
              "    </tr>\n",
              "  </tbody>\n",
              "</table>\n",
              "</div>"
            ],
            "text/plain": [
              "                  date  Appliances  lights\n",
              "0  2016-01-11 17:00:00          60      30\n",
              "1  2016-01-11 17:10:00          60      30\n",
              "2  2016-01-11 17:20:00          50      30\n",
              "3  2016-01-11 17:30:00          50      40\n",
              "4  2016-01-11 17:40:00          60      40\n",
              "5  2016-01-11 17:50:00          50      40\n",
              "6  2016-01-11 18:00:00          60      50\n",
              "7  2016-01-11 18:10:00          60      50\n",
              "8  2016-01-11 18:20:00          60      40\n",
              "9  2016-01-11 18:30:00          70      40"
            ]
          },
          "metadata": {},
          "execution_count": 34
        }
      ]
    },
    {
      "cell_type": "code",
      "metadata": {
        "colab": {
          "base_uri": "https://localhost:8080/"
        },
        "id": "pfE1ND6b4Gft",
        "outputId": "6d67e0bc-9fb0-4224-89f9-dc886315078c"
      },
      "source": [
        "data.shape"
      ],
      "execution_count": 21,
      "outputs": [
        {
          "output_type": "execute_result",
          "data": {
            "text/plain": [
              "(19735, 3)"
            ]
          },
          "metadata": {},
          "execution_count": 21
        }
      ]
    },
    {
      "cell_type": "code",
      "metadata": {
        "colab": {
          "base_uri": "https://localhost:8080/"
        },
        "id": "ncBbo_ii4JFj",
        "outputId": "e8be3f24-cadd-46e6-8811-e599387c2491"
      },
      "source": [
        "\n",
        "data.dtypes"
      ],
      "execution_count": 22,
      "outputs": [
        {
          "output_type": "execute_result",
          "data": {
            "text/plain": [
              "date          object\n",
              "Appliances     int64\n",
              "lights         int64\n",
              "dtype: object"
            ]
          },
          "metadata": {},
          "execution_count": 22
        }
      ]
    },
    {
      "cell_type": "code",
      "metadata": {
        "colab": {
          "base_uri": "https://localhost:8080/",
          "height": 312
        },
        "id": "16uoGD0Y4VJ0",
        "outputId": "aef9b0ae-851c-4a1d-cec4-649569e68872"
      },
      "source": [
        "# Make histogram of electirivy consumption by appliances\n",
        "\n",
        "data['Appliances'].hist(bins=30)\n",
        "plt.title('Energy consumption by Appliances in Kh')\n",
        "plt.xlabel('Energy consumption in Kh')\n",
        "plt.ylabel('Number of rows')"
      ],
      "execution_count": 23,
      "outputs": [
        {
          "output_type": "execute_result",
          "data": {
            "text/plain": [
              "Text(0, 0.5, 'Number of rows')"
            ]
          },
          "metadata": {},
          "execution_count": 23
        },
        {
          "output_type": "display_data",
          "data": {
            "image/png": "[encoded data removed]",
            "text/plain": [
              "<Figure size 432x288 with 1 Axes>"
            ]
          },
          "metadata": {
            "needs_background": "light"
          }
        }
      ]
    },
    {
      "cell_type": "code",
      "metadata": {
        "colab": {
          "base_uri": "https://localhost:8080/",
          "height": 315
        },
        "id": "RC0HI7ex4dhs",
        "outputId": "0e31c346-b77b-46fd-d1dd-950230774266"
      },
      "source": [
        "# Make histogram of electirivy consumption by lights\n",
        "\n",
        "data['lights'].value_counts().plot.bar()\n",
        "plt.title('Energy consumption by lights in Kh')\n",
        "plt.xlabel('Energy consumption in Kh')\n",
        "plt.ylabel('Number of rows')"
      ],
      "execution_count": 24,
      "outputs": [
        {
          "output_type": "execute_result",
          "data": {
            "text/plain": [
              "Text(0, 0.5, 'Number of rows')"
            ]
          },
          "metadata": {},
          "execution_count": 24
        },
        {
          "output_type": "display_data",
          "data": {
            "image/png": "[encoded data removed]",
            "text/plain": [
              "<Figure size 432x288 with 1 Axes>"
            ]
          },
          "metadata": {
            "needs_background": "light"
          }
        }
      ]
    },
    {
      "cell_type": "code",
      "metadata": {
        "colab": {
          "base_uri": "https://localhost:8080/"
        },
        "id": "SvQpeSPU4nwd",
        "outputId": "e80103a6-e0ad-46bd-ae05-61155102ced8"
      },
      "source": [
        "# check maximun and minimum dates\n",
        "data['date'].agg(['min', 'max'])"
      ],
      "execution_count": 25,
      "outputs": [
        {
          "output_type": "execute_result",
          "data": {
            "text/plain": [
              "min    2016-01-11 17:00:00\n",
              "max    2016-05-27 18:00:00\n",
              "Name: date, dtype: object"
            ]
          },
          "metadata": {},
          "execution_count": 25
        }
      ]
    },
    {
      "cell_type": "markdown",
      "metadata": {
        "id": "7IXOmLaG358-"
      },
      "source": [
        "Pour le moment, le type de données de la variable date est un objet. Modifions-le pour qu'il s'agisse d'une datetime:"
      ]
    },
    {
      "cell_type": "code",
      "metadata": {
        "id": "Z4lhDgrr4sdT"
      },
      "source": [
        "# parse the date column as datetime data type\n",
        "\n",
        "data['date'] = pd.to_datetime(data['date'])"
      ],
      "execution_count": 35,
      "outputs": []
    },
    {
      "cell_type": "code",
      "metadata": {
        "colab": {
          "base_uri": "https://localhost:8080/",
          "height": 324
        },
        "id": "O8wgFz4x4wGT",
        "outputId": "3877d0f2-27e2-4069-ce2d-de75b0820fe6"
      },
      "source": [
        "# plot consumption per timepoint by appliances\n",
        "\n",
        "# I create a copy of the dataframe, not to alter the original dataframe structure\n",
        "# which s the one I will use in the recipe in the book\n",
        "\n",
        "tmp = data.copy()\n",
        "tmp.index = tmp['date']\n",
        "\n",
        "tmp['Appliances'].plot(figsize=(12, 4))\n",
        "plt.ylabel('Energy in Kh')\n",
        "plt.title('Energy consumption by Appliances in time')"
      ],
      "execution_count": 27,
      "outputs": [
        {
          "output_type": "execute_result",
          "data": {
            "text/plain": [
              "Text(0.5, 1.0, 'Energy consumption by Appliances in time')"
            ]
          },
          "metadata": {},
          "execution_count": 27
        },
        {
          "output_type": "display_data",
          "data": {
            "image/png": "[encoded data removed]",
            "text/plain": [
              "<Figure size 864x288 with 1 Axes>"
            ]
          },
          "metadata": {
            "needs_background": "light"
          }
        }
      ]
    },
    {
      "cell_type": "code",
      "metadata": {
        "colab": {
          "base_uri": "https://localhost:8080/",
          "height": 324
        },
        "id": "_S2GAQYT4-kU",
        "outputId": "0a91025a-7f72-4619-f80b-037a242b9862"
      },
      "source": [
        "# plot consumption per timepoint by lights\n",
        "\n",
        "tmp['lights'].plot(figsize=(12,4))\n",
        "plt.ylabel('Energy in Kh')\n",
        "plt.title('Energy consumption by lights in time')"
      ],
      "execution_count": 28,
      "outputs": [
        {
          "output_type": "execute_result",
          "data": {
            "text/plain": [
              "Text(0.5, 1.0, 'Energy consumption by lights in time')"
            ]
          },
          "metadata": {},
          "execution_count": 28
        },
        {
          "output_type": "display_data",
          "data": {
            "image/png": "[encoded data removed]",
            "text/plain": [
              "<Figure size 864x288 with 1 Axes>"
            ]
          },
          "metadata": {
            "needs_background": "light"
          }
        }
      ]
    },
    {
      "cell_type": "markdown",
      "metadata": {
        "id": "gn6vk2535IM1"
      },
      "source": [
        "### Determine statistical parameters per hr\n",
        "\n",
        "Créons de nouvelles fonctionnalités qui capturent la consommation d'énergie moyenne des appareils et des lumières au cours des 60 dernières minutes, où six observations couvrent les 60 minutes et l'agrégation est effectuée sur la variable de date. Ensuite, affichons les 10 premières lignes du résultat"
      ]
    },
    {
      "cell_type": "markdown",
      "metadata": {
        "id": "Z1I6wwDM64tq"
      },
      "source": [
        "#### Single operation"
      ]
    },
    {
      "cell_type": "code",
      "metadata": {
        "colab": {
          "base_uri": "https://localhost:8080/",
          "height": 359
        },
        "id": "00MFqnoR5FVm",
        "outputId": "866c2bab-1d99-486f-a195-4d3dbb62f9e1"
      },
      "source": [
        "# aggregate the data in 60 min views\n",
        "# the value displayed by the features represents the average of\n",
        "# the current and 5 precedent rows of data\n",
        "\n",
        "data_rolled = data.rolling(window=6, on='date').mean()\n",
        "\n",
        "data_rolled.head(10)"
      ],
      "execution_count": 29,
      "outputs": [
        {
          "output_type": "execute_result",
          "data": {
            "text/html": [
              "<div>\n",
              "<style scoped>\n",
              "    .dataframe tbody tr th:only-of-type {\n",
              "        vertical-align: middle;\n",
              "    }\n",
              "\n",
              "    .dataframe tbody tr th {\n",
              "        vertical-align: top;\n",
              "    }\n",
              "\n",
              "    .dataframe thead th {\n",
              "        text-align: right;\n",
              "    }\n",
              "</style>\n",
              "<table border=\"1\" class=\"dataframe\">\n",
              "  <thead>\n",
              "    <tr style=\"text-align: right;\">\n",
              "      <th></th>\n",
              "      <th>date</th>\n",
              "      <th>Appliances</th>\n",
              "      <th>lights</th>\n",
              "    </tr>\n",
              "  </thead>\n",
              "  <tbody>\n",
              "    <tr>\n",
              "      <th>0</th>\n",
              "      <td>2016-01-11 17:00:00</td>\n",
              "      <td>NaN</td>\n",
              "      <td>NaN</td>\n",
              "    </tr>\n",
              "    <tr>\n",
              "      <th>1</th>\n",
              "      <td>2016-01-11 17:10:00</td>\n",
              "      <td>NaN</td>\n",
              "      <td>NaN</td>\n",
              "    </tr>\n",
              "    <tr>\n",
              "      <th>2</th>\n",
              "      <td>2016-01-11 17:20:00</td>\n",
              "      <td>NaN</td>\n",
              "      <td>NaN</td>\n",
              "    </tr>\n",
              "    <tr>\n",
              "      <th>3</th>\n",
              "      <td>2016-01-11 17:30:00</td>\n",
              "      <td>NaN</td>\n",
              "      <td>NaN</td>\n",
              "    </tr>\n",
              "    <tr>\n",
              "      <th>4</th>\n",
              "      <td>2016-01-11 17:40:00</td>\n",
              "      <td>NaN</td>\n",
              "      <td>NaN</td>\n",
              "    </tr>\n",
              "    <tr>\n",
              "      <th>5</th>\n",
              "      <td>2016-01-11 17:50:00</td>\n",
              "      <td>55.000000</td>\n",
              "      <td>35.000000</td>\n",
              "    </tr>\n",
              "    <tr>\n",
              "      <th>6</th>\n",
              "      <td>2016-01-11 18:00:00</td>\n",
              "      <td>55.000000</td>\n",
              "      <td>38.333333</td>\n",
              "    </tr>\n",
              "    <tr>\n",
              "      <th>7</th>\n",
              "      <td>2016-01-11 18:10:00</td>\n",
              "      <td>55.000000</td>\n",
              "      <td>41.666667</td>\n",
              "    </tr>\n",
              "    <tr>\n",
              "      <th>8</th>\n",
              "      <td>2016-01-11 18:20:00</td>\n",
              "      <td>56.666667</td>\n",
              "      <td>43.333333</td>\n",
              "    </tr>\n",
              "    <tr>\n",
              "      <th>9</th>\n",
              "      <td>2016-01-11 18:30:00</td>\n",
              "      <td>60.000000</td>\n",
              "      <td>43.333333</td>\n",
              "    </tr>\n",
              "  </tbody>\n",
              "</table>\n",
              "</div>"
            ],
            "text/plain": [
              "                 date  Appliances     lights\n",
              "0 2016-01-11 17:00:00         NaN        NaN\n",
              "1 2016-01-11 17:10:00         NaN        NaN\n",
              "2 2016-01-11 17:20:00         NaN        NaN\n",
              "3 2016-01-11 17:30:00         NaN        NaN\n",
              "4 2016-01-11 17:40:00         NaN        NaN\n",
              "5 2016-01-11 17:50:00   55.000000  35.000000\n",
              "6 2016-01-11 18:00:00   55.000000  38.333333\n",
              "7 2016-01-11 18:10:00   55.000000  41.666667\n",
              "8 2016-01-11 18:20:00   56.666667  43.333333\n",
              "9 2016-01-11 18:30:00   60.000000  43.333333"
            ]
          },
          "metadata": {},
          "execution_count": 29
        }
      ]
    },
    {
      "cell_type": "markdown",
      "metadata": {
        "id": "dxtt8cxy6YMf"
      },
      "source": [
        "Nous pouvons créer les mêmes fonctionnalités en spécifiant la fenêtre temporelle sous forme de chaîne à la place. Nous pouvons le faire en utilisant data_rolled =data.rolling(window='60min', on='date',min_periods=6).mean()"
      ]
    },
    {
      "cell_type": "markdown",
      "metadata": {
        "id": "3Qcm2WAQ7Bm2"
      },
      "source": [
        "#### Multiple built-in operations"
      ]
    },
    {
      "cell_type": "markdown",
      "metadata": {
        "id": "kCD-gTWz6sVv"
      },
      "source": [
        "Nous pouvons accélérer le processus de création de fonctionnalités en agrégeant plusieurs opérations dans chaque fenêtre de temps"
      ]
    },
    {
      "cell_type": "code",
      "metadata": {
        "id": "odlNxX5g7Ddw"
      },
      "source": [
        "# now let's create multiple summaries in for every 60 min window\n",
        "\n",
        "# make a list of the operations we want to perform\n",
        "operations = ['sum', 'max', 'min', 'mean', 'median', 'std']"
      ],
      "execution_count": 31,
      "outputs": []
    },
    {
      "cell_type": "code",
      "metadata": {
        "colab": {
          "base_uri": "https://localhost:8080/"
        },
        "id": "VJJx0PIj9iUD",
        "outputId": "f82c89a3-e103-4bc9-c79e-d6c8eb9fb9e0"
      },
      "source": [
        "# create a dictionary with the operations to apply to each variable\n",
        "# in this example we will apply all operations to both variables\n",
        "\n",
        "op_dict = {key: operations for key in ['Appliances', 'lights']}\n",
        "op_dict"
      ],
      "execution_count": 32,
      "outputs": [
        {
          "output_type": "execute_result",
          "data": {
            "text/plain": [
              "{'Appliances': ['sum', 'max', 'min', 'mean', 'median', 'std'],\n",
              " 'lights': ['sum', 'max', 'min', 'mean', 'median', 'std']}"
            ]
          },
          "metadata": {},
          "execution_count": 32
        }
      ]
    },
    {
      "cell_type": "code",
      "metadata": {
        "colab": {
          "base_uri": "https://localhost:8080/",
          "height": 421
        },
        "id": "mCf2gCYW9nh-",
        "outputId": "bbb915ee-f1e8-462d-e648-62071c3d9b9c"
      },
      "source": [
        "# create the aggregations\n",
        "\n",
        "data_rolled = data.set_index('date').rolling(window='60min').agg(op_dict)\n",
        "\n",
        "data_rolled.head(10)"
      ],
      "execution_count": 38,
      "outputs": [
        {
          "output_type": "execute_result",
          "data": {
            "text/html": [
              "<div>\n",
              "<style scoped>\n",
              "    .dataframe tbody tr th:only-of-type {\n",
              "        vertical-align: middle;\n",
              "    }\n",
              "\n",
              "    .dataframe tbody tr th {\n",
              "        vertical-align: top;\n",
              "    }\n",
              "\n",
              "    .dataframe thead tr th {\n",
              "        text-align: left;\n",
              "    }\n",
              "\n",
              "    .dataframe thead tr:last-of-type th {\n",
              "        text-align: right;\n",
              "    }\n",
              "</style>\n",
              "<table border=\"1\" class=\"dataframe\">\n",
              "  <thead>\n",
              "    <tr>\n",
              "      <th></th>\n",
              "      <th colspan=\"6\" halign=\"left\">Appliances</th>\n",
              "      <th colspan=\"6\" halign=\"left\">lights</th>\n",
              "    </tr>\n",
              "    <tr>\n",
              "      <th></th>\n",
              "      <th>sum</th>\n",
              "      <th>max</th>\n",
              "      <th>min</th>\n",
              "      <th>mean</th>\n",
              "      <th>median</th>\n",
              "      <th>std</th>\n",
              "      <th>sum</th>\n",
              "      <th>max</th>\n",
              "      <th>min</th>\n",
              "      <th>mean</th>\n",
              "      <th>median</th>\n",
              "      <th>std</th>\n",
              "    </tr>\n",
              "    <tr>\n",
              "      <th>date</th>\n",
              "      <th></th>\n",
              "      <th></th>\n",
              "      <th></th>\n",
              "      <th></th>\n",
              "      <th></th>\n",
              "      <th></th>\n",
              "      <th></th>\n",
              "      <th></th>\n",
              "      <th></th>\n",
              "      <th></th>\n",
              "      <th></th>\n",
              "      <th></th>\n",
              "    </tr>\n",
              "  </thead>\n",
              "  <tbody>\n",
              "    <tr>\n",
              "      <th>2016-01-11 17:00:00</th>\n",
              "      <td>60.0</td>\n",
              "      <td>60.0</td>\n",
              "      <td>60.0</td>\n",
              "      <td>60.000000</td>\n",
              "      <td>60.0</td>\n",
              "      <td>NaN</td>\n",
              "      <td>30.0</td>\n",
              "      <td>30.0</td>\n",
              "      <td>30.0</td>\n",
              "      <td>30.000000</td>\n",
              "      <td>30.0</td>\n",
              "      <td>NaN</td>\n",
              "    </tr>\n",
              "    <tr>\n",
              "      <th>2016-01-11 17:10:00</th>\n",
              "      <td>120.0</td>\n",
              "      <td>60.0</td>\n",
              "      <td>60.0</td>\n",
              "      <td>60.000000</td>\n",
              "      <td>60.0</td>\n",
              "      <td>0.000000</td>\n",
              "      <td>60.0</td>\n",
              "      <td>30.0</td>\n",
              "      <td>30.0</td>\n",
              "      <td>30.000000</td>\n",
              "      <td>30.0</td>\n",
              "      <td>0.000000</td>\n",
              "    </tr>\n",
              "    <tr>\n",
              "      <th>2016-01-11 17:20:00</th>\n",
              "      <td>170.0</td>\n",
              "      <td>60.0</td>\n",
              "      <td>50.0</td>\n",
              "      <td>56.666667</td>\n",
              "      <td>60.0</td>\n",
              "      <td>5.773503</td>\n",
              "      <td>90.0</td>\n",
              "      <td>30.0</td>\n",
              "      <td>30.0</td>\n",
              "      <td>30.000000</td>\n",
              "      <td>30.0</td>\n",
              "      <td>0.000000</td>\n",
              "    </tr>\n",
              "    <tr>\n",
              "      <th>2016-01-11 17:30:00</th>\n",
              "      <td>220.0</td>\n",
              "      <td>60.0</td>\n",
              "      <td>50.0</td>\n",
              "      <td>55.000000</td>\n",
              "      <td>55.0</td>\n",
              "      <td>5.773503</td>\n",
              "      <td>130.0</td>\n",
              "      <td>40.0</td>\n",
              "      <td>30.0</td>\n",
              "      <td>32.500000</td>\n",
              "      <td>30.0</td>\n",
              "      <td>5.000000</td>\n",
              "    </tr>\n",
              "    <tr>\n",
              "      <th>2016-01-11 17:40:00</th>\n",
              "      <td>280.0</td>\n",
              "      <td>60.0</td>\n",
              "      <td>50.0</td>\n",
              "      <td>56.000000</td>\n",
              "      <td>60.0</td>\n",
              "      <td>5.477226</td>\n",
              "      <td>170.0</td>\n",
              "      <td>40.0</td>\n",
              "      <td>30.0</td>\n",
              "      <td>34.000000</td>\n",
              "      <td>30.0</td>\n",
              "      <td>5.477226</td>\n",
              "    </tr>\n",
              "    <tr>\n",
              "      <th>2016-01-11 17:50:00</th>\n",
              "      <td>330.0</td>\n",
              "      <td>60.0</td>\n",
              "      <td>50.0</td>\n",
              "      <td>55.000000</td>\n",
              "      <td>55.0</td>\n",
              "      <td>5.477226</td>\n",
              "      <td>210.0</td>\n",
              "      <td>40.0</td>\n",
              "      <td>30.0</td>\n",
              "      <td>35.000000</td>\n",
              "      <td>35.0</td>\n",
              "      <td>5.477226</td>\n",
              "    </tr>\n",
              "    <tr>\n",
              "      <th>2016-01-11 18:00:00</th>\n",
              "      <td>330.0</td>\n",
              "      <td>60.0</td>\n",
              "      <td>50.0</td>\n",
              "      <td>55.000000</td>\n",
              "      <td>55.0</td>\n",
              "      <td>5.477226</td>\n",
              "      <td>230.0</td>\n",
              "      <td>50.0</td>\n",
              "      <td>30.0</td>\n",
              "      <td>38.333333</td>\n",
              "      <td>40.0</td>\n",
              "      <td>7.527727</td>\n",
              "    </tr>\n",
              "    <tr>\n",
              "      <th>2016-01-11 18:10:00</th>\n",
              "      <td>330.0</td>\n",
              "      <td>60.0</td>\n",
              "      <td>50.0</td>\n",
              "      <td>55.000000</td>\n",
              "      <td>55.0</td>\n",
              "      <td>5.477226</td>\n",
              "      <td>250.0</td>\n",
              "      <td>50.0</td>\n",
              "      <td>30.0</td>\n",
              "      <td>41.666667</td>\n",
              "      <td>40.0</td>\n",
              "      <td>7.527727</td>\n",
              "    </tr>\n",
              "    <tr>\n",
              "      <th>2016-01-11 18:20:00</th>\n",
              "      <td>340.0</td>\n",
              "      <td>60.0</td>\n",
              "      <td>50.0</td>\n",
              "      <td>56.666667</td>\n",
              "      <td>60.0</td>\n",
              "      <td>5.163978</td>\n",
              "      <td>260.0</td>\n",
              "      <td>50.0</td>\n",
              "      <td>40.0</td>\n",
              "      <td>43.333333</td>\n",
              "      <td>40.0</td>\n",
              "      <td>5.163978</td>\n",
              "    </tr>\n",
              "    <tr>\n",
              "      <th>2016-01-11 18:30:00</th>\n",
              "      <td>360.0</td>\n",
              "      <td>70.0</td>\n",
              "      <td>50.0</td>\n",
              "      <td>60.000000</td>\n",
              "      <td>60.0</td>\n",
              "      <td>6.324555</td>\n",
              "      <td>260.0</td>\n",
              "      <td>50.0</td>\n",
              "      <td>40.0</td>\n",
              "      <td>43.333333</td>\n",
              "      <td>40.0</td>\n",
              "      <td>5.163978</td>\n",
              "    </tr>\n",
              "  </tbody>\n",
              "</table>\n",
              "</div>"
            ],
            "text/plain": [
              "                    Appliances              ...     lights                 \n",
              "                           sum   max   min  ...       mean median       std\n",
              "date                                        ...                            \n",
              "2016-01-11 17:00:00       60.0  60.0  60.0  ...  30.000000   30.0       NaN\n",
              "2016-01-11 17:10:00      120.0  60.0  60.0  ...  30.000000   30.0  0.000000\n",
              "2016-01-11 17:20:00      170.0  60.0  50.0  ...  30.000000   30.0  0.000000\n",
              "2016-01-11 17:30:00      220.0  60.0  50.0  ...  32.500000   30.0  5.000000\n",
              "2016-01-11 17:40:00      280.0  60.0  50.0  ...  34.000000   30.0  5.477226\n",
              "2016-01-11 17:50:00      330.0  60.0  50.0  ...  35.000000   35.0  5.477226\n",
              "2016-01-11 18:00:00      330.0  60.0  50.0  ...  38.333333   40.0  7.527727\n",
              "2016-01-11 18:10:00      330.0  60.0  50.0  ...  41.666667   40.0  7.527727\n",
              "2016-01-11 18:20:00      340.0  60.0  50.0  ...  43.333333   40.0  5.163978\n",
              "2016-01-11 18:30:00      360.0  70.0  50.0  ...  43.333333   40.0  5.163978\n",
              "\n",
              "[10 rows x 12 columns]"
            ]
          },
          "metadata": {},
          "execution_count": 38
        }
      ]
    },
    {
      "cell_type": "markdown",
      "metadata": {
        "id": "BH6tESKA-w2J"
      },
      "source": [
        "Notez que chaque observation dans la nouvelle base de données est la moyenne des six observations précédentes. Cela signifie qu'ils ne sont pas indépendants et peuvent être très similaires. Plus les fenêtres temporelles sont grandes, plus les agrégations résultantes ont tendance à être similaires "
      ]
    },
    {
      "cell_type": "markdown",
      "metadata": {
        "id": "jWqQNwr1ASat"
      },
      "source": [
        "#### User defined operations"
      ]
    },
    {
      "cell_type": "code",
      "metadata": {
        "id": "sNkJgLU_AWqb"
      },
      "source": [
        "from scipy.signal import find_peaks"
      ],
      "execution_count": 39,
      "outputs": []
    },
    {
      "cell_type": "code",
      "metadata": {
        "id": "2l42D0kjAZHP"
      },
      "source": [
        "def find_no_peaks(x):\n",
        "    peaks, _ = find_peaks(x)\n",
        "    return len(peaks)\n",
        "\n",
        "def find_no_valleys(x):\n",
        "    valleys, _ = find_peaks(1/x)\n",
        "    return len(valleys)"
      ],
      "execution_count": 40,
      "outputs": []
    },
    {
      "cell_type": "code",
      "metadata": {
        "id": "2Yt0nUqlAb8-"
      },
      "source": [
        "\n",
        "# calculate number of local minima and maxima per day\n",
        "# ==> more or less 144 time intervals represent 24 hs\n",
        "\n",
        "data_rolled = data.set_index('date').rolling(window=144).agg([find_no_peaks, find_no_valleys])"
      ],
      "execution_count": 41,
      "outputs": []
    },
    {
      "cell_type": "markdown",
      "metadata": {
        "id": "9vne___3A8Xq"
      },
      "source": [
        "## Détermination du nombre de maxima et de minima locaux\n",
        "\n",
        "Les séries temporelles peuvent être considérées comme un signal, tel qu'un son ou des électrocardiogrammes, et nous pouvons ainsi extraire des caractéristiques qui capturent une partie de la complexité du signal. Des exemples de complexité de signal incluent les valeurs maximales ou moyennes, comme nous en avons discuté dans les recettes précédentes.\n",
        "\n",
        "Dans cette recette, nous déterminerons manuellement le nombre de maxima et de minima locaux en utilisant le module de signal de SciPy en combinaison avec des pandas. Ensuite, nous vous indiquerons un package Python qui extrait automatiquement ces paramètres et d'autres paramètres complexes de traitement du signal que vous pouvez explorer et utiliser pour étendre votre ensemble d'outils.\n",
        "\n",
        "Les maxima locaux ou minima locaux, également appelés extrema, sont les valeurs les plus grandes ou les plus petites d'une fonction, soit dans une certaine plage, soit dans l'ensemble du domaine de la fonction. Ils signalent un changement dans la tendance de la fonction. Ici, les maxima locaux viennent après une augmentation et avant une diminution des valeurs de la fonction, alors que les minima locaux viennent après une diminution et avant une augmentation des valeurs de la fonction.\n",
        "\n",
        "Pour trouver les extrema locaux, nous utiliserons la fonction find_peaks du module de signal de SciPy, qui trouve tous les maxima locaux en effectuant une simple comparaison des valeurs voisines"
      ]
    },
    {
      "cell_type": "code",
      "metadata": {
        "id": "pVf5Set3DMle"
      },
      "source": [
        "import numpy as np\n",
        "import pandas as pd\n",
        "import matplotlib.pyplot as plt\n",
        "from scipy.signal import find_peaks"
      ],
      "execution_count": 42,
      "outputs": []
    },
    {
      "cell_type": "code",
      "metadata": {
        "colab": {
          "base_uri": "https://localhost:8080/",
          "height": 394
        },
        "id": "sdLtNvAyDPFB",
        "outputId": "0d5a665d-1c45-4e26-ad02-12c008961baa"
      },
      "source": [
        "# load the appliances energy prediction data set\n",
        "\n",
        "data = pd.read_csv('http://archive.ics.uci.edu/ml/machine-learning-databases/00374/energydata_complete.csv')\n",
        "\n",
        "data.head()"
      ],
      "execution_count": 45,
      "outputs": [
        {
          "output_type": "execute_result",
          "data": {
            "text/html": [
              "<div>\n",
              "<style scoped>\n",
              "    .dataframe tbody tr th:only-of-type {\n",
              "        vertical-align: middle;\n",
              "    }\n",
              "\n",
              "    .dataframe tbody tr th {\n",
              "        vertical-align: top;\n",
              "    }\n",
              "\n",
              "    .dataframe thead th {\n",
              "        text-align: right;\n",
              "    }\n",
              "</style>\n",
              "<table border=\"1\" class=\"dataframe\">\n",
              "  <thead>\n",
              "    <tr style=\"text-align: right;\">\n",
              "      <th></th>\n",
              "      <th>date</th>\n",
              "      <th>Appliances</th>\n",
              "      <th>lights</th>\n",
              "      <th>T1</th>\n",
              "      <th>RH_1</th>\n",
              "      <th>T2</th>\n",
              "      <th>RH_2</th>\n",
              "      <th>T3</th>\n",
              "      <th>RH_3</th>\n",
              "      <th>T4</th>\n",
              "      <th>RH_4</th>\n",
              "      <th>T5</th>\n",
              "      <th>RH_5</th>\n",
              "      <th>T6</th>\n",
              "      <th>RH_6</th>\n",
              "      <th>T7</th>\n",
              "      <th>RH_7</th>\n",
              "      <th>T8</th>\n",
              "      <th>RH_8</th>\n",
              "      <th>T9</th>\n",
              "      <th>RH_9</th>\n",
              "      <th>T_out</th>\n",
              "      <th>Press_mm_hg</th>\n",
              "      <th>RH_out</th>\n",
              "      <th>Windspeed</th>\n",
              "      <th>Visibility</th>\n",
              "      <th>Tdewpoint</th>\n",
              "      <th>rv1</th>\n",
              "      <th>rv2</th>\n",
              "    </tr>\n",
              "  </thead>\n",
              "  <tbody>\n",
              "    <tr>\n",
              "      <th>0</th>\n",
              "      <td>2016-01-11 17:00:00</td>\n",
              "      <td>60</td>\n",
              "      <td>30</td>\n",
              "      <td>19.89</td>\n",
              "      <td>47.596667</td>\n",
              "      <td>19.2</td>\n",
              "      <td>44.790000</td>\n",
              "      <td>19.79</td>\n",
              "      <td>44.730000</td>\n",
              "      <td>19.000000</td>\n",
              "      <td>45.566667</td>\n",
              "      <td>17.166667</td>\n",
              "      <td>55.20</td>\n",
              "      <td>7.026667</td>\n",
              "      <td>84.256667</td>\n",
              "      <td>17.200000</td>\n",
              "      <td>41.626667</td>\n",
              "      <td>18.2</td>\n",
              "      <td>48.900000</td>\n",
              "      <td>17.033333</td>\n",
              "      <td>45.53</td>\n",
              "      <td>6.600000</td>\n",
              "      <td>733.5</td>\n",
              "      <td>92.0</td>\n",
              "      <td>7.000000</td>\n",
              "      <td>63.000000</td>\n",
              "      <td>5.3</td>\n",
              "      <td>13.275433</td>\n",
              "      <td>13.275433</td>\n",
              "    </tr>\n",
              "    <tr>\n",
              "      <th>1</th>\n",
              "      <td>2016-01-11 17:10:00</td>\n",
              "      <td>60</td>\n",
              "      <td>30</td>\n",
              "      <td>19.89</td>\n",
              "      <td>46.693333</td>\n",
              "      <td>19.2</td>\n",
              "      <td>44.722500</td>\n",
              "      <td>19.79</td>\n",
              "      <td>44.790000</td>\n",
              "      <td>19.000000</td>\n",
              "      <td>45.992500</td>\n",
              "      <td>17.166667</td>\n",
              "      <td>55.20</td>\n",
              "      <td>6.833333</td>\n",
              "      <td>84.063333</td>\n",
              "      <td>17.200000</td>\n",
              "      <td>41.560000</td>\n",
              "      <td>18.2</td>\n",
              "      <td>48.863333</td>\n",
              "      <td>17.066667</td>\n",
              "      <td>45.56</td>\n",
              "      <td>6.483333</td>\n",
              "      <td>733.6</td>\n",
              "      <td>92.0</td>\n",
              "      <td>6.666667</td>\n",
              "      <td>59.166667</td>\n",
              "      <td>5.2</td>\n",
              "      <td>18.606195</td>\n",
              "      <td>18.606195</td>\n",
              "    </tr>\n",
              "    <tr>\n",
              "      <th>2</th>\n",
              "      <td>2016-01-11 17:20:00</td>\n",
              "      <td>50</td>\n",
              "      <td>30</td>\n",
              "      <td>19.89</td>\n",
              "      <td>46.300000</td>\n",
              "      <td>19.2</td>\n",
              "      <td>44.626667</td>\n",
              "      <td>19.79</td>\n",
              "      <td>44.933333</td>\n",
              "      <td>18.926667</td>\n",
              "      <td>45.890000</td>\n",
              "      <td>17.166667</td>\n",
              "      <td>55.09</td>\n",
              "      <td>6.560000</td>\n",
              "      <td>83.156667</td>\n",
              "      <td>17.200000</td>\n",
              "      <td>41.433333</td>\n",
              "      <td>18.2</td>\n",
              "      <td>48.730000</td>\n",
              "      <td>17.000000</td>\n",
              "      <td>45.50</td>\n",
              "      <td>6.366667</td>\n",
              "      <td>733.7</td>\n",
              "      <td>92.0</td>\n",
              "      <td>6.333333</td>\n",
              "      <td>55.333333</td>\n",
              "      <td>5.1</td>\n",
              "      <td>28.642668</td>\n",
              "      <td>28.642668</td>\n",
              "    </tr>\n",
              "    <tr>\n",
              "      <th>3</th>\n",
              "      <td>2016-01-11 17:30:00</td>\n",
              "      <td>50</td>\n",
              "      <td>40</td>\n",
              "      <td>19.89</td>\n",
              "      <td>46.066667</td>\n",
              "      <td>19.2</td>\n",
              "      <td>44.590000</td>\n",
              "      <td>19.79</td>\n",
              "      <td>45.000000</td>\n",
              "      <td>18.890000</td>\n",
              "      <td>45.723333</td>\n",
              "      <td>17.166667</td>\n",
              "      <td>55.09</td>\n",
              "      <td>6.433333</td>\n",
              "      <td>83.423333</td>\n",
              "      <td>17.133333</td>\n",
              "      <td>41.290000</td>\n",
              "      <td>18.1</td>\n",
              "      <td>48.590000</td>\n",
              "      <td>17.000000</td>\n",
              "      <td>45.40</td>\n",
              "      <td>6.250000</td>\n",
              "      <td>733.8</td>\n",
              "      <td>92.0</td>\n",
              "      <td>6.000000</td>\n",
              "      <td>51.500000</td>\n",
              "      <td>5.0</td>\n",
              "      <td>45.410389</td>\n",
              "      <td>45.410389</td>\n",
              "    </tr>\n",
              "    <tr>\n",
              "      <th>4</th>\n",
              "      <td>2016-01-11 17:40:00</td>\n",
              "      <td>60</td>\n",
              "      <td>40</td>\n",
              "      <td>19.89</td>\n",
              "      <td>46.333333</td>\n",
              "      <td>19.2</td>\n",
              "      <td>44.530000</td>\n",
              "      <td>19.79</td>\n",
              "      <td>45.000000</td>\n",
              "      <td>18.890000</td>\n",
              "      <td>45.530000</td>\n",
              "      <td>17.200000</td>\n",
              "      <td>55.09</td>\n",
              "      <td>6.366667</td>\n",
              "      <td>84.893333</td>\n",
              "      <td>17.200000</td>\n",
              "      <td>41.230000</td>\n",
              "      <td>18.1</td>\n",
              "      <td>48.590000</td>\n",
              "      <td>17.000000</td>\n",
              "      <td>45.40</td>\n",
              "      <td>6.133333</td>\n",
              "      <td>733.9</td>\n",
              "      <td>92.0</td>\n",
              "      <td>5.666667</td>\n",
              "      <td>47.666667</td>\n",
              "      <td>4.9</td>\n",
              "      <td>10.084097</td>\n",
              "      <td>10.084097</td>\n",
              "    </tr>\n",
              "  </tbody>\n",
              "</table>\n",
              "</div>"
            ],
            "text/plain": [
              "                  date  Appliances  lights  ...  Tdewpoint        rv1        rv2\n",
              "0  2016-01-11 17:00:00          60      30  ...        5.3  13.275433  13.275433\n",
              "1  2016-01-11 17:10:00          60      30  ...        5.2  18.606195  18.606195\n",
              "2  2016-01-11 17:20:00          50      30  ...        5.1  28.642668  28.642668\n",
              "3  2016-01-11 17:30:00          50      40  ...        5.0  45.410389  45.410389\n",
              "4  2016-01-11 17:40:00          60      40  ...        4.9  10.084097  10.084097\n",
              "\n",
              "[5 rows x 29 columns]"
            ]
          },
          "metadata": {},
          "execution_count": 45
        }
      ]
    },
    {
      "cell_type": "code",
      "metadata": {
        "colab": {
          "base_uri": "https://localhost:8080/"
        },
        "id": "ziB2BT_nDml9",
        "outputId": "f290e67b-0e31-45cd-b5dc-e8b1913d9c18"
      },
      "source": [
        "# check maximun and minimum dates\n",
        "data['date'].agg(['min', 'max'])"
      ],
      "execution_count": 46,
      "outputs": [
        {
          "output_type": "execute_result",
          "data": {
            "text/plain": [
              "min    2016-01-11 17:00:00\n",
              "max    2016-05-27 18:00:00\n",
              "Name: date, dtype: object"
            ]
          },
          "metadata": {},
          "execution_count": 46
        }
      ]
    },
    {
      "cell_type": "code",
      "metadata": {
        "colab": {
          "base_uri": "https://localhost:8080/"
        },
        "id": "j0Kz9h_fDpAw",
        "outputId": "91f8f48d-0705-4179-8920-b858296af8c1"
      },
      "source": [
        "# check the data type of the date variable\n",
        "data['date'].dtypes"
      ],
      "execution_count": 48,
      "outputs": [
        {
          "output_type": "execute_result",
          "data": {
            "text/plain": [
              "dtype('O')"
            ]
          },
          "metadata": {},
          "execution_count": 48
        }
      ]
    },
    {
      "cell_type": "markdown",
      "metadata": {
        "id": "HCZoEEdlEI4T"
      },
      "source": [
        "Maintenant, nous devons extraire la partie jour, mois et heure de la variable datetime dans de nouvelles colonnes"
      ]
    },
    {
      "cell_type": "code",
      "metadata": {
        "colab": {
          "base_uri": "https://localhost:8080/",
          "height": 204
        },
        "id": "NJBfquZoDts0",
        "outputId": "eea7ca58-141a-490a-e774-a8947d27f56a"
      },
      "source": [
        "# extract datetime derived features\n",
        "\n",
        "# parse as datetime data type\n",
        "data['date'] = pd.to_datetime(data['date'])\n",
        "\n",
        "# new feature names\n",
        "cols = ['day', 'month', 'hr']\n",
        "\n",
        "# create the date and time features\n",
        "data[cols] = pd.DataFrame([(x.day, x.month, x.hour) for x in data['date']])\n",
        "\n",
        "data[['date', 'Appliances', 'lights'] + cols].head()"
      ],
      "execution_count": 49,
      "outputs": [
        {
          "output_type": "execute_result",
          "data": {
            "text/html": [
              "<div>\n",
              "<style scoped>\n",
              "    .dataframe tbody tr th:only-of-type {\n",
              "        vertical-align: middle;\n",
              "    }\n",
              "\n",
              "    .dataframe tbody tr th {\n",
              "        vertical-align: top;\n",
              "    }\n",
              "\n",
              "    .dataframe thead th {\n",
              "        text-align: right;\n",
              "    }\n",
              "</style>\n",
              "<table border=\"1\" class=\"dataframe\">\n",
              "  <thead>\n",
              "    <tr style=\"text-align: right;\">\n",
              "      <th></th>\n",
              "      <th>date</th>\n",
              "      <th>Appliances</th>\n",
              "      <th>lights</th>\n",
              "      <th>day</th>\n",
              "      <th>month</th>\n",
              "      <th>hr</th>\n",
              "    </tr>\n",
              "  </thead>\n",
              "  <tbody>\n",
              "    <tr>\n",
              "      <th>0</th>\n",
              "      <td>2016-01-11 17:00:00</td>\n",
              "      <td>60</td>\n",
              "      <td>30</td>\n",
              "      <td>11</td>\n",
              "      <td>1</td>\n",
              "      <td>17</td>\n",
              "    </tr>\n",
              "    <tr>\n",
              "      <th>1</th>\n",
              "      <td>2016-01-11 17:10:00</td>\n",
              "      <td>60</td>\n",
              "      <td>30</td>\n",
              "      <td>11</td>\n",
              "      <td>1</td>\n",
              "      <td>17</td>\n",
              "    </tr>\n",
              "    <tr>\n",
              "      <th>2</th>\n",
              "      <td>2016-01-11 17:20:00</td>\n",
              "      <td>50</td>\n",
              "      <td>30</td>\n",
              "      <td>11</td>\n",
              "      <td>1</td>\n",
              "      <td>17</td>\n",
              "    </tr>\n",
              "    <tr>\n",
              "      <th>3</th>\n",
              "      <td>2016-01-11 17:30:00</td>\n",
              "      <td>50</td>\n",
              "      <td>40</td>\n",
              "      <td>11</td>\n",
              "      <td>1</td>\n",
              "      <td>17</td>\n",
              "    </tr>\n",
              "    <tr>\n",
              "      <th>4</th>\n",
              "      <td>2016-01-11 17:40:00</td>\n",
              "      <td>60</td>\n",
              "      <td>40</td>\n",
              "      <td>11</td>\n",
              "      <td>1</td>\n",
              "      <td>17</td>\n",
              "    </tr>\n",
              "  </tbody>\n",
              "</table>\n",
              "</div>"
            ],
            "text/plain": [
              "                 date  Appliances  lights  day  month  hr\n",
              "0 2016-01-11 17:00:00          60      30   11      1  17\n",
              "1 2016-01-11 17:10:00          60      30   11      1  17\n",
              "2 2016-01-11 17:20:00          50      30   11      1  17\n",
              "3 2016-01-11 17:30:00          50      40   11      1  17\n",
              "4 2016-01-11 17:40:00          60      40   11      1  17"
            ]
          },
          "metadata": {},
          "execution_count": 49
        }
      ]
    },
    {
      "cell_type": "code",
      "metadata": {
        "colab": {
          "base_uri": "https://localhost:8080/"
        },
        "id": "w-ASKQfKDyVO",
        "outputId": "bace9469-1d73-45e0-859e-dfd0b2d60344"
      },
      "source": [
        "# inspect month\n",
        "data['month'].unique()"
      ],
      "execution_count": 50,
      "outputs": [
        {
          "output_type": "execute_result",
          "data": {
            "text/plain": [
              "array([1, 2, 3, 4, 5])"
            ]
          },
          "metadata": {},
          "execution_count": 50
        }
      ]
    },
    {
      "cell_type": "code",
      "metadata": {
        "id": "pTdL_In8D03K"
      },
      "source": [
        "# make the datetime variable the index of the series\n",
        "\n",
        "data.index = data['date']"
      ],
      "execution_count": 51,
      "outputs": []
    },
    {
      "cell_type": "markdown",
      "metadata": {
        "id": "0xjd3trJEWn5"
      },
      "source": [
        "Faisons un plot avec l'énergie moyenne consommée par les appareils par heure"
      ]
    },
    {
      "cell_type": "code",
      "metadata": {
        "colab": {
          "base_uri": "https://localhost:8080/",
          "height": 312
        },
        "id": "akF6N1OOD36q",
        "outputId": "039f3bd5-5195-463b-f7ba-047c91706c63"
      },
      "source": [
        "# Explore mean energy consumption by appliances\n",
        "# per hr of the day throughout the 5 months\n",
        "\n",
        "data.groupby('hr')['Appliances'].mean().plot()\n",
        "plt.ylabel('Energy in Kh')\n",
        "plt.title('Daily Cycle of Energy Consumption by Appliances')"
      ],
      "execution_count": 52,
      "outputs": [
        {
          "output_type": "execute_result",
          "data": {
            "text/plain": [
              "Text(0.5, 1.0, 'Daily Cycle of Energy Consumption by Appliances')"
            ]
          },
          "metadata": {},
          "execution_count": 52
        },
        {
          "output_type": "display_data",
          "data": {
            "image/png": "[encoded data removed]",
            "text/plain": [
              "<Figure size 432x288 with 1 Axes>"
            ]
          },
          "metadata": {
            "needs_background": "light"
          }
        }
      ]
    },
    {
      "cell_type": "markdown",
      "metadata": {
        "id": "Homh0yl6En_4"
      },
      "source": [
        "Le graphique suivant montre l'énergie moyenne consommée par heure tout au long de la journée, où la consommation d'énergie de référence tout au long de la nuit est inférieure à 60 Kh"
      ]
    },
    {
      "cell_type": "markdown",
      "metadata": {
        "id": "sRE4Cml9E-Hv"
      },
      "source": [
        "Faisons un graphique de l'énergie moyenne consommée par les appareils par jour tout au long des 5 mois de données que nous avons collectées"
      ]
    },
    {
      "cell_type": "code",
      "metadata": {
        "colab": {
          "base_uri": "https://localhost:8080/",
          "height": 312
        },
        "id": "pk2_KLfqFFFO",
        "outputId": "40d53803-970b-4e94-c0c4-73a3a2a7b639"
      },
      "source": [
        "# Plot mean energy consumption by appliances per day\n",
        "# throughout the 5 months\n",
        "\n",
        "# we are going to work with this data\n",
        "\n",
        "data.groupby(['month', 'day'])['Appliances'].mean().plot(figsize=(12, 4))\n",
        "plt.ylabel('Energy in Kh')\n",
        "plt.title('Mean daily Energy Consumption')"
      ],
      "execution_count": 53,
      "outputs": [
        {
          "output_type": "execute_result",
          "data": {
            "text/plain": [
              "Text(0.5, 1.0, 'Mean daily Energy Consumption')"
            ]
          },
          "metadata": {},
          "execution_count": 53
        },
        {
          "output_type": "display_data",
          "data": {
            "image/png": "[encoded data removed]",
            "text/plain": [
              "<Figure size 864x288 with 1 Axes>"
            ]
          },
          "metadata": {
            "needs_background": "light"
          }
        }
      ]
    },
    {
      "cell_type": "markdown",
      "metadata": {
        "id": "QnJnfOmMFWcP"
      },
      "source": [
        "Dans le graphique suivant, nous pouvons voir qu'il y a plusieurs minima locaux et maxima l'énergie moyenne qui a été consommée par jour dans nos 5 mois d'enregistrements"
      ]
    },
    {
      "cell_type": "markdown",
      "metadata": {
        "id": "s7v-MM_rJsd1"
      },
      "source": [
        "Créons une série de pandas avec l'énergie moyenne consommée par les appareils électroménagers par jour tout au long des 5 mois"
      ]
    },
    {
      "cell_type": "code",
      "metadata": {
        "id": "9iwaH0-pFeI6"
      },
      "source": [
        "# create a pandas series with the mean energy consumed by appliances\n",
        "# per day throughout the 5 months\n",
        "\n",
        "daily_ec = data.groupby(['month', 'day'])['Appliances'].mean()"
      ],
      "execution_count": 54,
      "outputs": []
    },
    {
      "cell_type": "markdown",
      "metadata": {
        "id": "B-NxCvEzJ0Nt"
      },
      "source": [
        "Déterminons les maxima locaux dans la série chronologique précédente, mais avec la contrainte que les maxima locaux ne peuvent pas afficher des valeurs inférieures à la consommation d'énergie de base de 60 Kh"
      ]
    },
    {
      "cell_type": "code",
      "metadata": {
        "colab": {
          "base_uri": "https://localhost:8080/",
          "height": 279
        },
        "id": "jJp58vCmFhQk",
        "outputId": "33ee7a43-c845-409e-9c80-ae6103f0be1f"
      },
      "source": [
        "# Determine the days of peak electricity consumption\n",
        "# throughout the 5 months\n",
        "# that is, find the local maxima\n",
        "\n",
        "# find the peaks (local maxima)\n",
        "# returns an array with the location of the maxima in the pandas\n",
        "# series\n",
        "peaks, _ = find_peaks(daily_ec, height=60)\n",
        "\n",
        "# plot the peaks\n",
        "#---------------\n",
        "plt.figure(figsize=(12, 4))\n",
        "\n",
        "# plot the time series with the mean energy consumed per day\n",
        "daily_ec.plot()\n",
        "\n",
        "# Overlay on top of the time series a series of red dots,\n",
        "# at the location of the local maxima, using the peak variable\n",
        "# for the x coordinate and the value of the peak for the y coordinate\n",
        "plt.plot(peaks, daily_ec.values[peaks], \"o\", color='red')\n",
        "\n",
        "# add a line at the baseline electricity consumption of 60 Kh\n",
        "plt.plot(np.full_like(daily_ec, 60), \"--\", color=\"gray\")\n",
        "\n",
        "# display the plot\n",
        "plt.show()"
      ],
      "execution_count": 55,
      "outputs": [
        {
          "output_type": "display_data",
          "data": {
            "image/png": "[encoded data removed]",
            "text/plain": [
              "<Figure size 864x288 with 1 Axes>"
            ]
          },
          "metadata": {
            "needs_background": "light"
          }
        }
      ]
    },
    {
      "cell_type": "code",
      "metadata": {
        "colab": {
          "base_uri": "https://localhost:8080/"
        },
        "id": "7AsXksqQKhZs",
        "outputId": "5e93d0ff-0c81-4326-bfb5-810fc60382fb"
      },
      "source": [
        "# peaks contains the indeces of the array\n",
        "# with the days of maximum electricity consumption\n",
        "peaks"
      ],
      "execution_count": 56,
      "outputs": [
        {
          "output_type": "execute_result",
          "data": {
            "text/plain": [
              "array([  3,   6,   9,  13,  15,  19,  21,  23,  26,  28,  32,  35,  39,\n",
              "        42,  45,  49,  51,  53,  56,  59,  61,  63,  65,  68,  72,  74,\n",
              "        77,  84,  88,  92,  96, 100, 102, 110, 116, 119, 121, 123, 125,\n",
              "       128, 131, 134, 136])"
            ]
          },
          "metadata": {},
          "execution_count": 56
        }
      ]
    },
    {
      "cell_type": "markdown",
      "metadata": {
        "id": "x_sv3f7MKVue"
      },
      "source": [
        "Maintenant, trouvons les minima locaux en utilisant la même fonction et de  l'inverse de la série temporelle"
      ]
    },
    {
      "cell_type": "code",
      "metadata": {
        "colab": {
          "base_uri": "https://localhost:8080/",
          "height": 296
        },
        "id": "oL1bnfIsLFKs",
        "outputId": "fae3e46e-4d10-4b41-b6c5-68f2f7d43a8e"
      },
      "source": [
        "# determine the days of minimum electricity consumption\n",
        "# throughout the 5 months\n",
        "# that is, the local minima\n",
        "\n",
        "# we use the same function, find_peaks, which means that we need to \n",
        "# turn the time series upside-dowm, which we do with the reciprocal function\n",
        "valleys, _ = find_peaks(1 / daily_ec, height=(0, 1/60))\n",
        "\n",
        "# plot the local minima\n",
        "plt.figure(figsize=(12, 4))\n",
        "\n",
        "# plot the time series with the mean energy consumed per day\n",
        "daily_ec.plot()\n",
        "\n",
        "# Overlay on top of the time series a series of green dots,\n",
        "# at the location of the local minima, using the valleys variable\n",
        "# for the x coordinate and the value of the local minima for the y coordinate\n",
        "plt.plot(valleys, daily_ec.values[valleys], \"o\", color='green')\n",
        "\n",
        "# add a line at the baseline electricity consumption\n",
        "plt.plot(np.full_like(daily_ec, 60), \"--\", color=\"gray\")"
      ],
      "execution_count": 58,
      "outputs": [
        {
          "output_type": "execute_result",
          "data": {
            "text/plain": [
              "[<matplotlib.lines.Line2D at 0x7f6826954990>]"
            ]
          },
          "metadata": {},
          "execution_count": 58
        },
        {
          "output_type": "display_data",
          "data": {
            "image/png": "[encoded data removed]",
            "text/plain": [
              "<Figure size 864x288 with 1 Axes>"
            ]
          },
          "metadata": {
            "needs_background": "light"
          }
        }
      ]
    },
    {
      "cell_type": "code",
      "metadata": {
        "colab": {
          "base_uri": "https://localhost:8080/",
          "height": 279
        },
        "id": "J65Sg3TVLUEL",
        "outputId": "b027f8f9-6344-4d6d-c7f1-8b82f3c8b60f"
      },
      "source": [
        "# now, let's determine both local minima and maxima\n",
        "# and overlay them in a plot\n",
        "\n",
        "peaks, _ = find_peaks(daily_ec, height=60)\n",
        "valleys, _ = find_peaks(1 / daily_ec, height=(0, 1/60))\n",
        "\n",
        "plt.figure(figsize=(12, 4))\n",
        "daily_ec.plot()\n",
        "plt.plot(peaks, daily_ec.values[peaks], \"o\", color='red')\n",
        "plt.plot(valleys, daily_ec.values[valleys], \"o\", color='green')\n",
        "plt.plot(np.full_like(daily_ec, 60), \"--\", color=\"gray\")\n",
        "plt.show()"
      ],
      "execution_count": 62,
      "outputs": [
        {
          "output_type": "display_data",
          "data": {
            "image/png": "[encoded data removed]",
            "text/plain": [
              "<Figure size 864x288 with 1 Axes>"
            ]
          },
          "metadata": {
            "needs_background": "light"
          }
        }
      ]
    },
    {
      "cell_type": "markdown",
      "metadata": {
        "id": "yzAMTPjjL22-"
      },
      "source": [
        "Nous pouvons compter le nombre de maxima et de minima locaux dans une fenêtre temporelle de la série temporelle pour commencer à avoir un aperçu de sa complexité, tout comme nous l'avons fait dans la section Il y a plus dans la recette précédente, Agréger des transactions dans une fenêtre temporelle"
      ]
    },
    {
      "cell_type": "markdown",
      "metadata": {
        "id": "U2Uprtk7MCUM"
      },
      "source": [
        "#### There is more\n",
        "\n",
        "Dans cette recette, nous avons identifié les maxima et minima locaux dans une série chronologique pour un seul ménage.Mais comment pourrions-nous déterminer les maxima et minima locaux pour plusieurs maisons ? Nous pouvons combiner l'utilisation de pandas groupby(), pandas agg() et des fonctions définies par l'utilisateur pour atteindre cet objectif. Pour montrer comment procéder, nous utiliserons l'ensemble de données de transactions client de Featuretools. Commençons"
      ]
    },
    {
      "cell_type": "code",
      "metadata": {
        "colab": {
          "base_uri": "https://localhost:8080/",
          "height": 204
        },
        "id": "_-w1B4YSMmzm",
        "outputId": "2089ff45-b230-4c2c-f52e-ae834f96ef7f"
      },
      "source": [
        "import featuretools as ft\n",
        "\n",
        "# let's load the example data set from feature tools\n",
        "data_dict = ft.demo.load_mock_customer()\n",
        "\n",
        "data = data_dict[\"transactions\"].merge(\n",
        "    data_dict[\"sessions\"]).merge(data_dict[\"customers\"])\n",
        "\n",
        "cols = ['customer_id',\n",
        "        'transaction_id',\n",
        "        'transaction_time',\n",
        "        'amount',\n",
        "        ]\n",
        "\n",
        "data = data[cols]\n",
        "\n",
        "data.head()"
      ],
      "execution_count": 70,
      "outputs": [
        {
          "output_type": "execute_result",
          "data": {
            "text/html": [
              "<div>\n",
              "<style scoped>\n",
              "    .dataframe tbody tr th:only-of-type {\n",
              "        vertical-align: middle;\n",
              "    }\n",
              "\n",
              "    .dataframe tbody tr th {\n",
              "        vertical-align: top;\n",
              "    }\n",
              "\n",
              "    .dataframe thead th {\n",
              "        text-align: right;\n",
              "    }\n",
              "</style>\n",
              "<table border=\"1\" class=\"dataframe\">\n",
              "  <thead>\n",
              "    <tr style=\"text-align: right;\">\n",
              "      <th></th>\n",
              "      <th>customer_id</th>\n",
              "      <th>transaction_id</th>\n",
              "      <th>transaction_time</th>\n",
              "      <th>amount</th>\n",
              "    </tr>\n",
              "  </thead>\n",
              "  <tbody>\n",
              "    <tr>\n",
              "      <th>0</th>\n",
              "      <td>2</td>\n",
              "      <td>298</td>\n",
              "      <td>2014-01-01 00:00:00</td>\n",
              "      <td>127.64</td>\n",
              "    </tr>\n",
              "    <tr>\n",
              "      <th>1</th>\n",
              "      <td>2</td>\n",
              "      <td>2</td>\n",
              "      <td>2014-01-01 00:01:05</td>\n",
              "      <td>109.48</td>\n",
              "    </tr>\n",
              "    <tr>\n",
              "      <th>2</th>\n",
              "      <td>2</td>\n",
              "      <td>308</td>\n",
              "      <td>2014-01-01 00:02:10</td>\n",
              "      <td>95.06</td>\n",
              "    </tr>\n",
              "    <tr>\n",
              "      <th>3</th>\n",
              "      <td>2</td>\n",
              "      <td>116</td>\n",
              "      <td>2014-01-01 00:03:15</td>\n",
              "      <td>78.92</td>\n",
              "    </tr>\n",
              "    <tr>\n",
              "      <th>4</th>\n",
              "      <td>2</td>\n",
              "      <td>371</td>\n",
              "      <td>2014-01-01 00:04:20</td>\n",
              "      <td>31.54</td>\n",
              "    </tr>\n",
              "  </tbody>\n",
              "</table>\n",
              "</div>"
            ],
            "text/plain": [
              "   customer_id  transaction_id    transaction_time  amount\n",
              "0            2             298 2014-01-01 00:00:00  127.64\n",
              "1            2               2 2014-01-01 00:01:05  109.48\n",
              "2            2             308 2014-01-01 00:02:10   95.06\n",
              "3            2             116 2014-01-01 00:03:15   78.92\n",
              "4            2             371 2014-01-01 00:04:20   31.54"
            ]
          },
          "metadata": {},
          "execution_count": 70
        }
      ]
    },
    {
      "cell_type": "code",
      "metadata": {
        "colab": {
          "base_uri": "https://localhost:8080/"
        },
        "id": "2m3gRcKaMrEE",
        "outputId": "0028f180-24d3-4dd8-e3de-ed8fdf9d9a95"
      },
      "source": [
        "data['transaction_time'].agg(['min', 'max'])"
      ],
      "execution_count": 64,
      "outputs": [
        {
          "output_type": "execute_result",
          "data": {
            "text/plain": [
              "min   2014-01-01 00:00:00\n",
              "max   2014-01-01 09:00:35\n",
              "Name: transaction_time, dtype: datetime64[ns]"
            ]
          },
          "metadata": {},
          "execution_count": 64
        }
      ]
    },
    {
      "cell_type": "code",
      "metadata": {
        "colab": {
          "base_uri": "https://localhost:8080/"
        },
        "id": "cP2L7eoCMuUQ",
        "outputId": "6de70dcb-32c7-4278-efb9-e600e9c66d98"
      },
      "source": [
        "data['transaction_time'].dtypes"
      ],
      "execution_count": 65,
      "outputs": [
        {
          "output_type": "execute_result",
          "data": {
            "text/plain": [
              "dtype('<M8[ns]')"
            ]
          },
          "metadata": {},
          "execution_count": 65
        }
      ]
    },
    {
      "cell_type": "code",
      "metadata": {
        "colab": {
          "base_uri": "https://localhost:8080/",
          "height": 204
        },
        "id": "8UvQoG_7MxFy",
        "outputId": "ec0acfe6-9eb4-49b5-e7ea-c9f1b5f41201"
      },
      "source": [
        "# let's create a feature with the hour of the transaction\n",
        "\n",
        "data['hr'] = data['transaction_time'].dt.hour\n",
        "\n",
        "data.head()"
      ],
      "execution_count": 71,
      "outputs": [
        {
          "output_type": "execute_result",
          "data": {
            "text/html": [
              "<div>\n",
              "<style scoped>\n",
              "    .dataframe tbody tr th:only-of-type {\n",
              "        vertical-align: middle;\n",
              "    }\n",
              "\n",
              "    .dataframe tbody tr th {\n",
              "        vertical-align: top;\n",
              "    }\n",
              "\n",
              "    .dataframe thead th {\n",
              "        text-align: right;\n",
              "    }\n",
              "</style>\n",
              "<table border=\"1\" class=\"dataframe\">\n",
              "  <thead>\n",
              "    <tr style=\"text-align: right;\">\n",
              "      <th></th>\n",
              "      <th>customer_id</th>\n",
              "      <th>transaction_id</th>\n",
              "      <th>transaction_time</th>\n",
              "      <th>amount</th>\n",
              "      <th>hr</th>\n",
              "    </tr>\n",
              "  </thead>\n",
              "  <tbody>\n",
              "    <tr>\n",
              "      <th>0</th>\n",
              "      <td>2</td>\n",
              "      <td>298</td>\n",
              "      <td>2014-01-01 00:00:00</td>\n",
              "      <td>127.64</td>\n",
              "      <td>0</td>\n",
              "    </tr>\n",
              "    <tr>\n",
              "      <th>1</th>\n",
              "      <td>2</td>\n",
              "      <td>2</td>\n",
              "      <td>2014-01-01 00:01:05</td>\n",
              "      <td>109.48</td>\n",
              "      <td>0</td>\n",
              "    </tr>\n",
              "    <tr>\n",
              "      <th>2</th>\n",
              "      <td>2</td>\n",
              "      <td>308</td>\n",
              "      <td>2014-01-01 00:02:10</td>\n",
              "      <td>95.06</td>\n",
              "      <td>0</td>\n",
              "    </tr>\n",
              "    <tr>\n",
              "      <th>3</th>\n",
              "      <td>2</td>\n",
              "      <td>116</td>\n",
              "      <td>2014-01-01 00:03:15</td>\n",
              "      <td>78.92</td>\n",
              "      <td>0</td>\n",
              "    </tr>\n",
              "    <tr>\n",
              "      <th>4</th>\n",
              "      <td>2</td>\n",
              "      <td>371</td>\n",
              "      <td>2014-01-01 00:04:20</td>\n",
              "      <td>31.54</td>\n",
              "      <td>0</td>\n",
              "    </tr>\n",
              "  </tbody>\n",
              "</table>\n",
              "</div>"
            ],
            "text/plain": [
              "   customer_id  transaction_id    transaction_time  amount  hr\n",
              "0            2             298 2014-01-01 00:00:00  127.64   0\n",
              "1            2               2 2014-01-01 00:01:05  109.48   0\n",
              "2            2             308 2014-01-01 00:02:10   95.06   0\n",
              "3            2             116 2014-01-01 00:03:15   78.92   0\n",
              "4            2             371 2014-01-01 00:04:20   31.54   0"
            ]
          },
          "metadata": {},
          "execution_count": 71
        }
      ]
    },
    {
      "cell_type": "code",
      "metadata": {
        "colab": {
          "base_uri": "https://localhost:8080/",
          "height": 1000
        },
        "id": "YMRKinaEM3C8",
        "outputId": "8f30154b-bea4-47db-9fa8-7cdf96b1c221"
      },
      "source": [
        "# let's plot the amount per transaction ==>\n",
        "# one plot per customer\n",
        "# this step is not in the book\n",
        "\n",
        "for customer in data['customer_id'].unique():\n",
        "\n",
        "    # make a small df with one customer\n",
        "    tmp = data[data['customer_id'] == customer]\n",
        "\n",
        "    # add the transaction time as index\n",
        "    tmp.index = tmp['transaction_time']\n",
        "\n",
        "    # plot the amount spent in time\n",
        "    tmp['amount'].plot()\n",
        "    plt.show()"
      ],
      "execution_count": 67,
      "outputs": [
        {
          "output_type": "display_data",
          "data": {
            "image/png": "[encoded data removed]",
            "text/plain": [
              "<Figure size 432x288 with 1 Axes>"
            ]
          },
          "metadata": {
            "needs_background": "light"
          }
        },
        {
          "output_type": "display_data",
          "data": {
            "image/png": "[encoded data removed]",
            "text/plain": [
              "<Figure size 432x288 with 1 Axes>"
            ]
          },
          "metadata": {
            "needs_background": "light"
          }
        },
        {
          "output_type": "display_data",
          "data": {
            "image/png": "[encoded data removed]",
            "text/plain": [
              "<Figure size 432x288 with 1 Axes>"
            ]
          },
          "metadata": {
            "needs_background": "light"
          }
        },
        {
          "output_type": "display_data",
          "data": {
            "image/png": "[encoded data removed]",
            "text/plain": [
              "<Figure size 432x288 with 1 Axes>"
            ]
          },
          "metadata": {
            "needs_background": "light"
          }
        },
        {
          "output_type": "display_data",
          "data": {
            "image/png": "[encoded data removed]",
            "text/plain": [
              "<Figure size 432x288 with 1 Axes>"
            ]
          },
          "metadata": {
            "needs_background": "light"
          }
        }
      ]
    },
    {
      "cell_type": "code",
      "metadata": {
        "id": "ach22yulNNAm"
      },
      "source": [
        "# let's create a function that finds a plots\n",
        "# the local maxima of a customer amount spent\n",
        "# per transaction time series\n",
        "\n",
        "# this function and following cell are not in the book\n",
        "\n",
        "# x is a pandas series\n",
        "def find_and_plot_peaks(x, customer):\n",
        "\n",
        "    # find local maxima\n",
        "    peaks, _ = find_peaks(x)\n",
        "\n",
        "    # plot the peaks\n",
        "    plt.figure(figsize=(4, 3))\n",
        "    plt.plot(x.values)\n",
        "    plt.plot(peaks, x.values[peaks], \"x\")\n",
        "    plt.title('Customer number {}'.format(customer))\n",
        "    plt.show()"
      ],
      "execution_count": 72,
      "outputs": []
    },
    {
      "cell_type": "code",
      "metadata": {
        "colab": {
          "base_uri": "https://localhost:8080/",
          "height": 1000
        },
        "id": "Y5aRvsweNY1V",
        "outputId": "5e718a86-1839-4066-92f8-4d83e9c140d8"
      },
      "source": [
        "# now let's plot the local maxima for the time series with \n",
        "# the mean amount spent per hour ==>\n",
        "\n",
        "# one plot per customer\n",
        "\n",
        "# this code is intended to get the reader familiar with the data\n",
        "# and therefore facilitate the understanding of the recipe code\n",
        "\n",
        "for customer in data['customer_id'].unique():\n",
        "    \n",
        "    # small df with a single customer data\n",
        "    tmp = data[data['customer_id']==customer]\n",
        "    \n",
        "    # aggregate the mean amount spent per hr\n",
        "    tmp = tmp.groupby('hr')['amount'].mean()\n",
        "    pd.DataFrame(tmp).reset_index(inplace=True, drop=False)\n",
        "    \n",
        "    # find and plot the local maxima\n",
        "    find_and_plot_peaks(tmp, customer)"
      ],
      "execution_count": 73,
      "outputs": [
        {
          "output_type": "display_data",
          "data": {
            "image/png": "[encoded data removed]",
            "text/plain": [
              "<Figure size 288x216 with 1 Axes>"
            ]
          },
          "metadata": {
            "needs_background": "light"
          }
        },
        {
          "output_type": "display_data",
          "data": {
            "image/png": "[encoded data removed]",
            "text/plain": [
              "<Figure size 288x216 with 1 Axes>"
            ]
          },
          "metadata": {
            "needs_background": "light"
          }
        },
        {
          "output_type": "display_data",
          "data": {
            "image/png": "[encoded data removed]",
            "text/plain": [
              "<Figure size 288x216 with 1 Axes>"
            ]
          },
          "metadata": {
            "needs_background": "light"
          }
        },
        {
          "output_type": "display_data",
          "data": {
            "image/png": "[encoded data removed]",
            "text/plain": [
              "<Figure size 288x216 with 1 Axes>"
            ]
          },
          "metadata": {
            "needs_background": "light"
          }
        },
        {
          "output_type": "display_data",
          "data": {
            "image/png": "[encoded data removed]",
            "text/plain": [
              "<Figure size 288x216 with 1 Axes>"
            ]
          },
          "metadata": {
            "needs_background": "light"
          }
        }
      ]
    },
    {
      "cell_type": "code",
      "metadata": {
        "id": "087HieVeNu6v"
      },
      "source": [
        "\n",
        "# create functions that take a time series\n",
        "# and return number of local maxima or local minima\n",
        "\n",
        "\n",
        "def find_no_peaks(x):\n",
        "    peaks, _ = find_peaks(x)\n",
        "    return len(peaks)\n",
        "\n",
        "\n",
        "def find_no_valleys(x):\n",
        "    valleys, _ = find_peaks(1/x)\n",
        "    return len(valleys)"
      ],
      "execution_count": 74,
      "outputs": []
    },
    {
      "cell_type": "code",
      "metadata": {
        "colab": {
          "base_uri": "https://localhost:8080/"
        },
        "id": "j_QIdy3aNzu3",
        "outputId": "06cb7783-7bc0-4d9c-bf5f-c2cf3600b346"
      },
      "source": [
        "# select a single customer data to test function\n",
        "\n",
        "tmp = data[data['customer_id'] == 3]\n",
        "tmp = tmp.groupby('hr')['amount'].mean()\n",
        "tmp"
      ],
      "execution_count": 75,
      "outputs": [
        {
          "output_type": "execute_result",
          "data": {
            "text/plain": [
              "hr\n",
              "1     62.791333\n",
              "4     55.579412\n",
              "5     81.747500\n",
              "6     62.019333\n",
              "8     69.403939\n",
              "9    148.310000\n",
              "Name: amount, dtype: float64"
            ]
          },
          "metadata": {},
          "execution_count": 75
        }
      ]
    },
    {
      "cell_type": "code",
      "metadata": {
        "colab": {
          "base_uri": "https://localhost:8080/"
        },
        "id": "bcI3cVx2N4Fr",
        "outputId": "52e1c222-8b16-4645-e3a5-a18edd82adbe"
      },
      "source": [
        "# test local maxima function\n",
        "\n",
        "find_no_peaks(tmp)"
      ],
      "execution_count": 76,
      "outputs": [
        {
          "output_type": "execute_result",
          "data": {
            "text/plain": [
              "1"
            ]
          },
          "metadata": {},
          "execution_count": 76
        }
      ]
    },
    {
      "cell_type": "code",
      "metadata": {
        "colab": {
          "base_uri": "https://localhost:8080/"
        },
        "id": "yTPX_kN4N6qf",
        "outputId": "afe5e4ce-df26-4966-bb10-4ae646d27849"
      },
      "source": [
        "\n",
        "# test local minima function\n",
        "\n",
        "find_no_valleys(tmp)"
      ],
      "execution_count": 77,
      "outputs": [
        {
          "output_type": "execute_result",
          "data": {
            "text/plain": [
              "2"
            ]
          },
          "metadata": {},
          "execution_count": 77
        }
      ]
    },
    {
      "cell_type": "code",
      "metadata": {
        "colab": {
          "base_uri": "https://localhost:8080/",
          "height": 235
        },
        "id": "Iq-VA2s3OEkB",
        "outputId": "9e9df955-d823-4577-8389-4ab6225ad2e3"
      },
      "source": [
        "# find both local maxima and minima in all customers\n",
        "\n",
        "data.groupby(['customer_id', 'hr'])['amount'].mean().groupby(\n",
        "    'customer_id').agg([find_no_peaks, find_no_valleys])"
      ],
      "execution_count": 78,
      "outputs": [
        {
          "output_type": "execute_result",
          "data": {
            "text/html": [
              "<div>\n",
              "<style scoped>\n",
              "    .dataframe tbody tr th:only-of-type {\n",
              "        vertical-align: middle;\n",
              "    }\n",
              "\n",
              "    .dataframe tbody tr th {\n",
              "        vertical-align: top;\n",
              "    }\n",
              "\n",
              "    .dataframe thead th {\n",
              "        text-align: right;\n",
              "    }\n",
              "</style>\n",
              "<table border=\"1\" class=\"dataframe\">\n",
              "  <thead>\n",
              "    <tr style=\"text-align: right;\">\n",
              "      <th></th>\n",
              "      <th>find_no_peaks</th>\n",
              "      <th>find_no_valleys</th>\n",
              "    </tr>\n",
              "    <tr>\n",
              "      <th>customer_id</th>\n",
              "      <th></th>\n",
              "      <th></th>\n",
              "    </tr>\n",
              "  </thead>\n",
              "  <tbody>\n",
              "    <tr>\n",
              "      <th>1</th>\n",
              "      <td>2</td>\n",
              "      <td>2</td>\n",
              "    </tr>\n",
              "    <tr>\n",
              "      <th>2</th>\n",
              "      <td>1</td>\n",
              "      <td>0</td>\n",
              "    </tr>\n",
              "    <tr>\n",
              "      <th>3</th>\n",
              "      <td>1</td>\n",
              "      <td>2</td>\n",
              "    </tr>\n",
              "    <tr>\n",
              "      <th>4</th>\n",
              "      <td>1</td>\n",
              "      <td>2</td>\n",
              "    </tr>\n",
              "    <tr>\n",
              "      <th>5</th>\n",
              "      <td>1</td>\n",
              "      <td>1</td>\n",
              "    </tr>\n",
              "  </tbody>\n",
              "</table>\n",
              "</div>"
            ],
            "text/plain": [
              "             find_no_peaks  find_no_valleys\n",
              "customer_id                                \n",
              "1                        2                2\n",
              "2                        1                0\n",
              "3                        1                2\n",
              "4                        1                2\n",
              "5                        1                1"
            ]
          },
          "metadata": {},
          "execution_count": 78
        }
      ]
    },
    {
      "cell_type": "markdown",
      "metadata": {
        "id": "OgNcl1N1Oaen"
      },
      "source": [
        "## Dérivation du temps écoulé entre les événements horodatés\n",
        "\n",
        "Dans les recettes précédentes, nous avons effectué des opérations mathématiques sur les valeurs de la série temporelle pour obtenir de nouvelles fonctionnalités qui résument les informations sur la variable, telles que les valeurs moyennes et maximales ou la somme cumulée. Il est également possible d'effectuer ces opérations mathématiques sur l'horodatage et d'obtenir des informations sur le temps entre les transactions ou le temps entre des événements spécifiques.\n",
        "\n",
        "Dans cette recette, nous allons calculer le temps entre les transactions, c'est-à-dire le temps entre les enregistrements successifs des valeurs des variables. Ensuite, nous déterminerons le temps entre des événements spécifiques, tels que le temps entre les pics de consommation d'énergie, pour démontrer la puissance des pandas lorsqu'il s'agit d'agréger des données de séries chronologiques"
      ]
    },
    {
      "cell_type": "code",
      "metadata": {
        "id": "f4B-ar2XPEBG"
      },
      "source": [
        "import numpy as np\n",
        "import pandas as pd\n",
        "import matplotlib.pyplot as plt\n",
        "from scipy.signal import find_peaks"
      ],
      "execution_count": 79,
      "outputs": []
    },
    {
      "cell_type": "code",
      "metadata": {
        "colab": {
          "base_uri": "https://localhost:8080/",
          "height": 394
        },
        "id": "vj7uha31PM0S",
        "outputId": "5871e9c0-2ab4-4dd6-e7ff-17e8405aad41"
      },
      "source": [
        "# load the appliances energy prediction data set\n",
        "\n",
        "data = pd.read_csv('http://archive.ics.uci.edu/ml/machine-learning-databases/00374/energydata_complete.csv')\n",
        "\n",
        "data.head()"
      ],
      "execution_count": 80,
      "outputs": [
        {
          "output_type": "execute_result",
          "data": {
            "text/html": [
              "<div>\n",
              "<style scoped>\n",
              "    .dataframe tbody tr th:only-of-type {\n",
              "        vertical-align: middle;\n",
              "    }\n",
              "\n",
              "    .dataframe tbody tr th {\n",
              "        vertical-align: top;\n",
              "    }\n",
              "\n",
              "    .dataframe thead th {\n",
              "        text-align: right;\n",
              "    }\n",
              "</style>\n",
              "<table border=\"1\" class=\"dataframe\">\n",
              "  <thead>\n",
              "    <tr style=\"text-align: right;\">\n",
              "      <th></th>\n",
              "      <th>date</th>\n",
              "      <th>Appliances</th>\n",
              "      <th>lights</th>\n",
              "      <th>T1</th>\n",
              "      <th>RH_1</th>\n",
              "      <th>T2</th>\n",
              "      <th>RH_2</th>\n",
              "      <th>T3</th>\n",
              "      <th>RH_3</th>\n",
              "      <th>T4</th>\n",
              "      <th>RH_4</th>\n",
              "      <th>T5</th>\n",
              "      <th>RH_5</th>\n",
              "      <th>T6</th>\n",
              "      <th>RH_6</th>\n",
              "      <th>T7</th>\n",
              "      <th>RH_7</th>\n",
              "      <th>T8</th>\n",
              "      <th>RH_8</th>\n",
              "      <th>T9</th>\n",
              "      <th>RH_9</th>\n",
              "      <th>T_out</th>\n",
              "      <th>Press_mm_hg</th>\n",
              "      <th>RH_out</th>\n",
              "      <th>Windspeed</th>\n",
              "      <th>Visibility</th>\n",
              "      <th>Tdewpoint</th>\n",
              "      <th>rv1</th>\n",
              "      <th>rv2</th>\n",
              "    </tr>\n",
              "  </thead>\n",
              "  <tbody>\n",
              "    <tr>\n",
              "      <th>0</th>\n",
              "      <td>2016-01-11 17:00:00</td>\n",
              "      <td>60</td>\n",
              "      <td>30</td>\n",
              "      <td>19.89</td>\n",
              "      <td>47.596667</td>\n",
              "      <td>19.2</td>\n",
              "      <td>44.790000</td>\n",
              "      <td>19.79</td>\n",
              "      <td>44.730000</td>\n",
              "      <td>19.000000</td>\n",
              "      <td>45.566667</td>\n",
              "      <td>17.166667</td>\n",
              "      <td>55.20</td>\n",
              "      <td>7.026667</td>\n",
              "      <td>84.256667</td>\n",
              "      <td>17.200000</td>\n",
              "      <td>41.626667</td>\n",
              "      <td>18.2</td>\n",
              "      <td>48.900000</td>\n",
              "      <td>17.033333</td>\n",
              "      <td>45.53</td>\n",
              "      <td>6.600000</td>\n",
              "      <td>733.5</td>\n",
              "      <td>92.0</td>\n",
              "      <td>7.000000</td>\n",
              "      <td>63.000000</td>\n",
              "      <td>5.3</td>\n",
              "      <td>13.275433</td>\n",
              "      <td>13.275433</td>\n",
              "    </tr>\n",
              "    <tr>\n",
              "      <th>1</th>\n",
              "      <td>2016-01-11 17:10:00</td>\n",
              "      <td>60</td>\n",
              "      <td>30</td>\n",
              "      <td>19.89</td>\n",
              "      <td>46.693333</td>\n",
              "      <td>19.2</td>\n",
              "      <td>44.722500</td>\n",
              "      <td>19.79</td>\n",
              "      <td>44.790000</td>\n",
              "      <td>19.000000</td>\n",
              "      <td>45.992500</td>\n",
              "      <td>17.166667</td>\n",
              "      <td>55.20</td>\n",
              "      <td>6.833333</td>\n",
              "      <td>84.063333</td>\n",
              "      <td>17.200000</td>\n",
              "      <td>41.560000</td>\n",
              "      <td>18.2</td>\n",
              "      <td>48.863333</td>\n",
              "      <td>17.066667</td>\n",
              "      <td>45.56</td>\n",
              "      <td>6.483333</td>\n",
              "      <td>733.6</td>\n",
              "      <td>92.0</td>\n",
              "      <td>6.666667</td>\n",
              "      <td>59.166667</td>\n",
              "      <td>5.2</td>\n",
              "      <td>18.606195</td>\n",
              "      <td>18.606195</td>\n",
              "    </tr>\n",
              "    <tr>\n",
              "      <th>2</th>\n",
              "      <td>2016-01-11 17:20:00</td>\n",
              "      <td>50</td>\n",
              "      <td>30</td>\n",
              "      <td>19.89</td>\n",
              "      <td>46.300000</td>\n",
              "      <td>19.2</td>\n",
              "      <td>44.626667</td>\n",
              "      <td>19.79</td>\n",
              "      <td>44.933333</td>\n",
              "      <td>18.926667</td>\n",
              "      <td>45.890000</td>\n",
              "      <td>17.166667</td>\n",
              "      <td>55.09</td>\n",
              "      <td>6.560000</td>\n",
              "      <td>83.156667</td>\n",
              "      <td>17.200000</td>\n",
              "      <td>41.433333</td>\n",
              "      <td>18.2</td>\n",
              "      <td>48.730000</td>\n",
              "      <td>17.000000</td>\n",
              "      <td>45.50</td>\n",
              "      <td>6.366667</td>\n",
              "      <td>733.7</td>\n",
              "      <td>92.0</td>\n",
              "      <td>6.333333</td>\n",
              "      <td>55.333333</td>\n",
              "      <td>5.1</td>\n",
              "      <td>28.642668</td>\n",
              "      <td>28.642668</td>\n",
              "    </tr>\n",
              "    <tr>\n",
              "      <th>3</th>\n",
              "      <td>2016-01-11 17:30:00</td>\n",
              "      <td>50</td>\n",
              "      <td>40</td>\n",
              "      <td>19.89</td>\n",
              "      <td>46.066667</td>\n",
              "      <td>19.2</td>\n",
              "      <td>44.590000</td>\n",
              "      <td>19.79</td>\n",
              "      <td>45.000000</td>\n",
              "      <td>18.890000</td>\n",
              "      <td>45.723333</td>\n",
              "      <td>17.166667</td>\n",
              "      <td>55.09</td>\n",
              "      <td>6.433333</td>\n",
              "      <td>83.423333</td>\n",
              "      <td>17.133333</td>\n",
              "      <td>41.290000</td>\n",
              "      <td>18.1</td>\n",
              "      <td>48.590000</td>\n",
              "      <td>17.000000</td>\n",
              "      <td>45.40</td>\n",
              "      <td>6.250000</td>\n",
              "      <td>733.8</td>\n",
              "      <td>92.0</td>\n",
              "      <td>6.000000</td>\n",
              "      <td>51.500000</td>\n",
              "      <td>5.0</td>\n",
              "      <td>45.410389</td>\n",
              "      <td>45.410389</td>\n",
              "    </tr>\n",
              "    <tr>\n",
              "      <th>4</th>\n",
              "      <td>2016-01-11 17:40:00</td>\n",
              "      <td>60</td>\n",
              "      <td>40</td>\n",
              "      <td>19.89</td>\n",
              "      <td>46.333333</td>\n",
              "      <td>19.2</td>\n",
              "      <td>44.530000</td>\n",
              "      <td>19.79</td>\n",
              "      <td>45.000000</td>\n",
              "      <td>18.890000</td>\n",
              "      <td>45.530000</td>\n",
              "      <td>17.200000</td>\n",
              "      <td>55.09</td>\n",
              "      <td>6.366667</td>\n",
              "      <td>84.893333</td>\n",
              "      <td>17.200000</td>\n",
              "      <td>41.230000</td>\n",
              "      <td>18.1</td>\n",
              "      <td>48.590000</td>\n",
              "      <td>17.000000</td>\n",
              "      <td>45.40</td>\n",
              "      <td>6.133333</td>\n",
              "      <td>733.9</td>\n",
              "      <td>92.0</td>\n",
              "      <td>5.666667</td>\n",
              "      <td>47.666667</td>\n",
              "      <td>4.9</td>\n",
              "      <td>10.084097</td>\n",
              "      <td>10.084097</td>\n",
              "    </tr>\n",
              "  </tbody>\n",
              "</table>\n",
              "</div>"
            ],
            "text/plain": [
              "                  date  Appliances  lights  ...  Tdewpoint        rv1        rv2\n",
              "0  2016-01-11 17:00:00          60      30  ...        5.3  13.275433  13.275433\n",
              "1  2016-01-11 17:10:00          60      30  ...        5.2  18.606195  18.606195\n",
              "2  2016-01-11 17:20:00          50      30  ...        5.1  28.642668  28.642668\n",
              "3  2016-01-11 17:30:00          50      40  ...        5.0  45.410389  45.410389\n",
              "4  2016-01-11 17:40:00          60      40  ...        4.9  10.084097  10.084097\n",
              "\n",
              "[5 rows x 29 columns]"
            ]
          },
          "metadata": {},
          "execution_count": 80
        }
      ]
    },
    {
      "cell_type": "code",
      "metadata": {
        "id": "hxVQgcMIPQXv"
      },
      "source": [
        "# parse as datetime data type\n",
        "\n",
        "data['date'] = pd.to_datetime(data['date'])"
      ],
      "execution_count": 81,
      "outputs": []
    },
    {
      "cell_type": "markdown",
      "metadata": {
        "id": "3-K4apsCZal1"
      },
      "source": [
        "Tout d'abord, calculons le temps entre les transactions, c'est-à-dire le temps entre chaque enregistrement d'énergie, exprimé en minutes"
      ]
    },
    {
      "cell_type": "code",
      "metadata": {
        "colab": {
          "base_uri": "https://localhost:8080/",
          "height": 359
        },
        "id": "NFEodoO2PT8L",
        "outputId": "fae53e8d-79da-4796-eb12-8e6dce411a29"
      },
      "source": [
        "# determine time between transactions, in this case, energy records\n",
        "\n",
        "data['time_since_previous'] = data['date'].diff()\n",
        "\n",
        "data['time_since_previous'] = data['time_since_previous']/np.timedelta64(1,'m')\n",
        "\n",
        "data[['date', 'time_since_previous']].head(10)"
      ],
      "execution_count": 82,
      "outputs": [
        {
          "output_type": "execute_result",
          "data": {
            "text/html": [
              "<div>\n",
              "<style scoped>\n",
              "    .dataframe tbody tr th:only-of-type {\n",
              "        vertical-align: middle;\n",
              "    }\n",
              "\n",
              "    .dataframe tbody tr th {\n",
              "        vertical-align: top;\n",
              "    }\n",
              "\n",
              "    .dataframe thead th {\n",
              "        text-align: right;\n",
              "    }\n",
              "</style>\n",
              "<table border=\"1\" class=\"dataframe\">\n",
              "  <thead>\n",
              "    <tr style=\"text-align: right;\">\n",
              "      <th></th>\n",
              "      <th>date</th>\n",
              "      <th>time_since_previous</th>\n",
              "    </tr>\n",
              "  </thead>\n",
              "  <tbody>\n",
              "    <tr>\n",
              "      <th>0</th>\n",
              "      <td>2016-01-11 17:00:00</td>\n",
              "      <td>NaN</td>\n",
              "    </tr>\n",
              "    <tr>\n",
              "      <th>1</th>\n",
              "      <td>2016-01-11 17:10:00</td>\n",
              "      <td>10.0</td>\n",
              "    </tr>\n",
              "    <tr>\n",
              "      <th>2</th>\n",
              "      <td>2016-01-11 17:20:00</td>\n",
              "      <td>10.0</td>\n",
              "    </tr>\n",
              "    <tr>\n",
              "      <th>3</th>\n",
              "      <td>2016-01-11 17:30:00</td>\n",
              "      <td>10.0</td>\n",
              "    </tr>\n",
              "    <tr>\n",
              "      <th>4</th>\n",
              "      <td>2016-01-11 17:40:00</td>\n",
              "      <td>10.0</td>\n",
              "    </tr>\n",
              "    <tr>\n",
              "      <th>5</th>\n",
              "      <td>2016-01-11 17:50:00</td>\n",
              "      <td>10.0</td>\n",
              "    </tr>\n",
              "    <tr>\n",
              "      <th>6</th>\n",
              "      <td>2016-01-11 18:00:00</td>\n",
              "      <td>10.0</td>\n",
              "    </tr>\n",
              "    <tr>\n",
              "      <th>7</th>\n",
              "      <td>2016-01-11 18:10:00</td>\n",
              "      <td>10.0</td>\n",
              "    </tr>\n",
              "    <tr>\n",
              "      <th>8</th>\n",
              "      <td>2016-01-11 18:20:00</td>\n",
              "      <td>10.0</td>\n",
              "    </tr>\n",
              "    <tr>\n",
              "      <th>9</th>\n",
              "      <td>2016-01-11 18:30:00</td>\n",
              "      <td>10.0</td>\n",
              "    </tr>\n",
              "  </tbody>\n",
              "</table>\n",
              "</div>"
            ],
            "text/plain": [
              "                 date  time_since_previous\n",
              "0 2016-01-11 17:00:00                  NaN\n",
              "1 2016-01-11 17:10:00                 10.0\n",
              "2 2016-01-11 17:20:00                 10.0\n",
              "3 2016-01-11 17:30:00                 10.0\n",
              "4 2016-01-11 17:40:00                 10.0\n",
              "5 2016-01-11 17:50:00                 10.0\n",
              "6 2016-01-11 18:00:00                 10.0\n",
              "7 2016-01-11 18:10:00                 10.0\n",
              "8 2016-01-11 18:20:00                 10.0\n",
              "9 2016-01-11 18:30:00                 10.0"
            ]
          },
          "metadata": {},
          "execution_count": 82
        }
      ]
    },
    {
      "cell_type": "markdown",
      "metadata": {
        "id": "iFT7CFYCbmxN"
      },
      "source": [
        "\n",
        "Une fois que nous avons créé la variable qui capture le temps écoulé depuis les transactions précédentes, nous pouvons utiliser les opérations mathématiques que nous avons utilisées dans la recette d'agrégation de transactions avec des opérations mathématiques au début de ce chapitre pour créer de nouvelles fonctionnalités à partir de celle-ci.\n",
        "\n",
        "Dans la partie restante de cette recette, nous déterminerons le temps entre les événements spécifiques - dans ce cas, le temps entre les maxima locaux dans l'énergie moyenne journalière consommée par les appareils"
      ]
    },
    {
      "cell_type": "code",
      "metadata": {
        "colab": {
          "base_uri": "https://localhost:8080/",
          "height": 394
        },
        "id": "iBK5Uy0UPclM",
        "outputId": "15b71931-4e8c-4023-e350-74fd29da96b4"
      },
      "source": [
        "# extract day and month from datetime variable\n",
        "\n",
        "data[['day', 'month']] = pd.DataFrame([(x.day, x.month) for x in data['date']])\n",
        "\n",
        "data.head()"
      ],
      "execution_count": 83,
      "outputs": [
        {
          "output_type": "execute_result",
          "data": {
            "text/html": [
              "<div>\n",
              "<style scoped>\n",
              "    .dataframe tbody tr th:only-of-type {\n",
              "        vertical-align: middle;\n",
              "    }\n",
              "\n",
              "    .dataframe tbody tr th {\n",
              "        vertical-align: top;\n",
              "    }\n",
              "\n",
              "    .dataframe thead th {\n",
              "        text-align: right;\n",
              "    }\n",
              "</style>\n",
              "<table border=\"1\" class=\"dataframe\">\n",
              "  <thead>\n",
              "    <tr style=\"text-align: right;\">\n",
              "      <th></th>\n",
              "      <th>date</th>\n",
              "      <th>Appliances</th>\n",
              "      <th>lights</th>\n",
              "      <th>T1</th>\n",
              "      <th>RH_1</th>\n",
              "      <th>T2</th>\n",
              "      <th>RH_2</th>\n",
              "      <th>T3</th>\n",
              "      <th>RH_3</th>\n",
              "      <th>T4</th>\n",
              "      <th>RH_4</th>\n",
              "      <th>T5</th>\n",
              "      <th>RH_5</th>\n",
              "      <th>T6</th>\n",
              "      <th>RH_6</th>\n",
              "      <th>T7</th>\n",
              "      <th>RH_7</th>\n",
              "      <th>T8</th>\n",
              "      <th>RH_8</th>\n",
              "      <th>T9</th>\n",
              "      <th>RH_9</th>\n",
              "      <th>T_out</th>\n",
              "      <th>Press_mm_hg</th>\n",
              "      <th>RH_out</th>\n",
              "      <th>Windspeed</th>\n",
              "      <th>Visibility</th>\n",
              "      <th>Tdewpoint</th>\n",
              "      <th>rv1</th>\n",
              "      <th>rv2</th>\n",
              "      <th>time_since_previous</th>\n",
              "      <th>day</th>\n",
              "      <th>month</th>\n",
              "    </tr>\n",
              "  </thead>\n",
              "  <tbody>\n",
              "    <tr>\n",
              "      <th>0</th>\n",
              "      <td>2016-01-11 17:00:00</td>\n",
              "      <td>60</td>\n",
              "      <td>30</td>\n",
              "      <td>19.89</td>\n",
              "      <td>47.596667</td>\n",
              "      <td>19.2</td>\n",
              "      <td>44.790000</td>\n",
              "      <td>19.79</td>\n",
              "      <td>44.730000</td>\n",
              "      <td>19.000000</td>\n",
              "      <td>45.566667</td>\n",
              "      <td>17.166667</td>\n",
              "      <td>55.20</td>\n",
              "      <td>7.026667</td>\n",
              "      <td>84.256667</td>\n",
              "      <td>17.200000</td>\n",
              "      <td>41.626667</td>\n",
              "      <td>18.2</td>\n",
              "      <td>48.900000</td>\n",
              "      <td>17.033333</td>\n",
              "      <td>45.53</td>\n",
              "      <td>6.600000</td>\n",
              "      <td>733.5</td>\n",
              "      <td>92.0</td>\n",
              "      <td>7.000000</td>\n",
              "      <td>63.000000</td>\n",
              "      <td>5.3</td>\n",
              "      <td>13.275433</td>\n",
              "      <td>13.275433</td>\n",
              "      <td>NaN</td>\n",
              "      <td>11</td>\n",
              "      <td>1</td>\n",
              "    </tr>\n",
              "    <tr>\n",
              "      <th>1</th>\n",
              "      <td>2016-01-11 17:10:00</td>\n",
              "      <td>60</td>\n",
              "      <td>30</td>\n",
              "      <td>19.89</td>\n",
              "      <td>46.693333</td>\n",
              "      <td>19.2</td>\n",
              "      <td>44.722500</td>\n",
              "      <td>19.79</td>\n",
              "      <td>44.790000</td>\n",
              "      <td>19.000000</td>\n",
              "      <td>45.992500</td>\n",
              "      <td>17.166667</td>\n",
              "      <td>55.20</td>\n",
              "      <td>6.833333</td>\n",
              "      <td>84.063333</td>\n",
              "      <td>17.200000</td>\n",
              "      <td>41.560000</td>\n",
              "      <td>18.2</td>\n",
              "      <td>48.863333</td>\n",
              "      <td>17.066667</td>\n",
              "      <td>45.56</td>\n",
              "      <td>6.483333</td>\n",
              "      <td>733.6</td>\n",
              "      <td>92.0</td>\n",
              "      <td>6.666667</td>\n",
              "      <td>59.166667</td>\n",
              "      <td>5.2</td>\n",
              "      <td>18.606195</td>\n",
              "      <td>18.606195</td>\n",
              "      <td>10.0</td>\n",
              "      <td>11</td>\n",
              "      <td>1</td>\n",
              "    </tr>\n",
              "    <tr>\n",
              "      <th>2</th>\n",
              "      <td>2016-01-11 17:20:00</td>\n",
              "      <td>50</td>\n",
              "      <td>30</td>\n",
              "      <td>19.89</td>\n",
              "      <td>46.300000</td>\n",
              "      <td>19.2</td>\n",
              "      <td>44.626667</td>\n",
              "      <td>19.79</td>\n",
              "      <td>44.933333</td>\n",
              "      <td>18.926667</td>\n",
              "      <td>45.890000</td>\n",
              "      <td>17.166667</td>\n",
              "      <td>55.09</td>\n",
              "      <td>6.560000</td>\n",
              "      <td>83.156667</td>\n",
              "      <td>17.200000</td>\n",
              "      <td>41.433333</td>\n",
              "      <td>18.2</td>\n",
              "      <td>48.730000</td>\n",
              "      <td>17.000000</td>\n",
              "      <td>45.50</td>\n",
              "      <td>6.366667</td>\n",
              "      <td>733.7</td>\n",
              "      <td>92.0</td>\n",
              "      <td>6.333333</td>\n",
              "      <td>55.333333</td>\n",
              "      <td>5.1</td>\n",
              "      <td>28.642668</td>\n",
              "      <td>28.642668</td>\n",
              "      <td>10.0</td>\n",
              "      <td>11</td>\n",
              "      <td>1</td>\n",
              "    </tr>\n",
              "    <tr>\n",
              "      <th>3</th>\n",
              "      <td>2016-01-11 17:30:00</td>\n",
              "      <td>50</td>\n",
              "      <td>40</td>\n",
              "      <td>19.89</td>\n",
              "      <td>46.066667</td>\n",
              "      <td>19.2</td>\n",
              "      <td>44.590000</td>\n",
              "      <td>19.79</td>\n",
              "      <td>45.000000</td>\n",
              "      <td>18.890000</td>\n",
              "      <td>45.723333</td>\n",
              "      <td>17.166667</td>\n",
              "      <td>55.09</td>\n",
              "      <td>6.433333</td>\n",
              "      <td>83.423333</td>\n",
              "      <td>17.133333</td>\n",
              "      <td>41.290000</td>\n",
              "      <td>18.1</td>\n",
              "      <td>48.590000</td>\n",
              "      <td>17.000000</td>\n",
              "      <td>45.40</td>\n",
              "      <td>6.250000</td>\n",
              "      <td>733.8</td>\n",
              "      <td>92.0</td>\n",
              "      <td>6.000000</td>\n",
              "      <td>51.500000</td>\n",
              "      <td>5.0</td>\n",
              "      <td>45.410389</td>\n",
              "      <td>45.410389</td>\n",
              "      <td>10.0</td>\n",
              "      <td>11</td>\n",
              "      <td>1</td>\n",
              "    </tr>\n",
              "    <tr>\n",
              "      <th>4</th>\n",
              "      <td>2016-01-11 17:40:00</td>\n",
              "      <td>60</td>\n",
              "      <td>40</td>\n",
              "      <td>19.89</td>\n",
              "      <td>46.333333</td>\n",
              "      <td>19.2</td>\n",
              "      <td>44.530000</td>\n",
              "      <td>19.79</td>\n",
              "      <td>45.000000</td>\n",
              "      <td>18.890000</td>\n",
              "      <td>45.530000</td>\n",
              "      <td>17.200000</td>\n",
              "      <td>55.09</td>\n",
              "      <td>6.366667</td>\n",
              "      <td>84.893333</td>\n",
              "      <td>17.200000</td>\n",
              "      <td>41.230000</td>\n",
              "      <td>18.1</td>\n",
              "      <td>48.590000</td>\n",
              "      <td>17.000000</td>\n",
              "      <td>45.40</td>\n",
              "      <td>6.133333</td>\n",
              "      <td>733.9</td>\n",
              "      <td>92.0</td>\n",
              "      <td>5.666667</td>\n",
              "      <td>47.666667</td>\n",
              "      <td>4.9</td>\n",
              "      <td>10.084097</td>\n",
              "      <td>10.084097</td>\n",
              "      <td>10.0</td>\n",
              "      <td>11</td>\n",
              "      <td>1</td>\n",
              "    </tr>\n",
              "  </tbody>\n",
              "</table>\n",
              "</div>"
            ],
            "text/plain": [
              "                 date  Appliances  lights  ...  time_since_previous  day  month\n",
              "0 2016-01-11 17:00:00          60      30  ...                  NaN   11      1\n",
              "1 2016-01-11 17:10:00          60      30  ...                 10.0   11      1\n",
              "2 2016-01-11 17:20:00          50      30  ...                 10.0   11      1\n",
              "3 2016-01-11 17:30:00          50      40  ...                 10.0   11      1\n",
              "4 2016-01-11 17:40:00          60      40  ...                 10.0   11      1\n",
              "\n",
              "[5 rows x 32 columns]"
            ]
          },
          "metadata": {},
          "execution_count": 83
        }
      ]
    },
    {
      "cell_type": "code",
      "metadata": {
        "id": "zqZRYnemPqk6"
      },
      "source": [
        "# make the datetime variable the index of the series\n",
        "\n",
        "data.index = data['date']"
      ],
      "execution_count": 84,
      "outputs": []
    },
    {
      "cell_type": "code",
      "metadata": {
        "colab": {
          "base_uri": "https://localhost:8080/",
          "height": 296
        },
        "id": "kLAzYMMwPtrQ",
        "outputId": "bc6b97f0-3126-4c7d-a192-040eea52fbcc"
      },
      "source": [
        "# Plot mean energy consumption by appliances per day\n",
        "# we are going to work with this data\n",
        "\n",
        "data.groupby(['month', 'day'])['Appliances'].mean().plot()"
      ],
      "execution_count": 85,
      "outputs": [
        {
          "output_type": "execute_result",
          "data": {
            "text/plain": [
              "<matplotlib.axes._subplots.AxesSubplot at 0x7f68267ae810>"
            ]
          },
          "metadata": {},
          "execution_count": 85
        },
        {
          "output_type": "display_data",
          "data": {
            "image/png": "[encoded data removed]",
            "text/plain": [
              "<Figure size 432x288 with 1 Axes>"
            ]
          },
          "metadata": {
            "needs_background": "light"
          }
        }
      ]
    },
    {
      "cell_type": "code",
      "metadata": {
        "colab": {
          "base_uri": "https://localhost:8080/",
          "height": 296
        },
        "id": "D9IFZs5nPzVy",
        "outputId": "636195fd-f21e-4e5d-d73b-f246a5966a71"
      },
      "source": [
        "# Plot mean energy consumption by lights per day\n",
        "# we are going to work with this data\n",
        "\n",
        "data.groupby(['month', 'day'])['lights'].mean().plot()"
      ],
      "execution_count": 86,
      "outputs": [
        {
          "output_type": "execute_result",
          "data": {
            "text/plain": [
              "<matplotlib.axes._subplots.AxesSubplot at 0x7f682637ad50>"
            ]
          },
          "metadata": {},
          "execution_count": 86
        },
        {
          "output_type": "display_data",
          "data": {
            "image/png": "[encoded data removed]",
            "text/plain": [
              "<Figure size 432x288 with 1 Axes>"
            ]
          },
          "metadata": {
            "needs_background": "light"
          }
        }
      ]
    },
    {
      "cell_type": "code",
      "metadata": {
        "id": "I6XXHPHCP2bW"
      },
      "source": [
        "# create pandas series with the mean energy consumption per day\n",
        "\n",
        "# electricity consumption by appliances per day\n",
        "elec_pday = data.groupby(['month', 'day'])['Appliances'].mean()\n",
        "\n",
        "# light energy consumption per day\n",
        "light_pday = data.groupby(['month', 'day'])['lights'].mean()"
      ],
      "execution_count": 97,
      "outputs": []
    },
    {
      "cell_type": "code",
      "metadata": {
        "colab": {
          "base_uri": "https://localhost:8080/"
        },
        "id": "WiDCT19dP6s4",
        "outputId": "c97c2645-c893-4437-f033-21aa8dcb42ae"
      },
      "source": [
        "# find the peaks, that is, the local maxima\n",
        "\n",
        "peaks, _ = find_peaks(elec_pday.values, height=60)\n",
        "\n",
        "peaks"
      ],
      "execution_count": 98,
      "outputs": [
        {
          "output_type": "execute_result",
          "data": {
            "text/plain": [
              "array([  3,   6,   9,  13,  15,  19,  21,  23,  26,  28,  32,  35,  39,\n",
              "        42,  45,  49,  51,  53,  56,  59,  61,  63,  65,  68,  72,  74,\n",
              "        77,  84,  88,  92,  96, 100, 102, 110, 116, 119, 121, 123, 125,\n",
              "       128, 131, 134, 136])"
            ]
          },
          "metadata": {},
          "execution_count": 98
        }
      ]
    },
    {
      "cell_type": "code",
      "metadata": {
        "colab": {
          "base_uri": "https://localhost:8080/"
        },
        "id": "mF7xixVFP-SB",
        "outputId": "45cbc3d8-36ac-474b-fd1c-610eaae4fe4c"
      },
      "source": [
        "# compare the shape of the time series with that of the selected\n",
        "# local maxima series\n",
        "\n",
        "elec_pday.shape, len(elec_pday.values[peaks])"
      ],
      "execution_count": 124,
      "outputs": [
        {
          "output_type": "execute_result",
          "data": {
            "text/plain": [
              "((138,), 43)"
            ]
          },
          "metadata": {},
          "execution_count": 124
        }
      ]
    },
    {
      "cell_type": "code",
      "metadata": {
        "colab": {
          "base_uri": "https://localhost:8080/"
        },
        "id": "RQ1yoeMoXgC6",
        "outputId": "3985c450-85e3-499e-a69b-6f4442ecf5b7"
      },
      "source": [
        "idx = pd.IndexSlice\n",
        "\n",
        "elec_pday.shape, elec_pday.loc[idx[:,peaks]].shape"
      ],
      "execution_count": 157,
      "outputs": [
        {
          "output_type": "execute_result",
          "data": {
            "text/plain": [
              "((138,), (46,))"
            ]
          },
          "metadata": {},
          "execution_count": 157
        }
      ]
    },
    {
      "cell_type": "markdown",
      "metadata": {
        "id": "S2upMqdsdH3K"
      },
      "source": [
        "Maintenant, créons un cadre de données avec uniquement les maxima locaux de la consommation d'énergie moyenne de l'appareil, réinitialisons son index pour créer des colonnes de mois et de jour du cadre de données, et ajoutons une variable avec l'année et affichons les lignes du haut"
      ]
    },
    {
      "cell_type": "code",
      "metadata": {
        "colab": {
          "base_uri": "https://localhost:8080/",
          "height": 204
        },
        "id": "xXMfSkpFS2NX",
        "outputId": "80dc19d5-9939-40c5-965e-906ec821439b"
      },
      "source": [
        "\n",
        "# capture the series with local maxima in a pandas dataframe\n",
        "# then reset index so that the month and day become part of the columns\n",
        "\n",
        "# finally, we need to add the year, to be able to reconstitute the date\n",
        "# from the existing time columns\n",
        "\n",
        "tmp = pd.DataFrame(elec_pday.loc[idx[:,peaks]]).reset_index(drop=False)\n",
        "tmp['year'] = 2016\n",
        "tmp.head()"
      ],
      "execution_count": 158,
      "outputs": [
        {
          "output_type": "execute_result",
          "data": {
            "text/html": [
              "<div>\n",
              "<style scoped>\n",
              "    .dataframe tbody tr th:only-of-type {\n",
              "        vertical-align: middle;\n",
              "    }\n",
              "\n",
              "    .dataframe tbody tr th {\n",
              "        vertical-align: top;\n",
              "    }\n",
              "\n",
              "    .dataframe thead th {\n",
              "        text-align: right;\n",
              "    }\n",
              "</style>\n",
              "<table border=\"1\" class=\"dataframe\">\n",
              "  <thead>\n",
              "    <tr style=\"text-align: right;\">\n",
              "      <th></th>\n",
              "      <th>month</th>\n",
              "      <th>day</th>\n",
              "      <th>Appliances</th>\n",
              "      <th>year</th>\n",
              "    </tr>\n",
              "  </thead>\n",
              "  <tbody>\n",
              "    <tr>\n",
              "      <th>0</th>\n",
              "      <td>1</td>\n",
              "      <td>13</td>\n",
              "      <td>97.013889</td>\n",
              "      <td>2016</td>\n",
              "    </tr>\n",
              "    <tr>\n",
              "      <th>1</th>\n",
              "      <td>1</td>\n",
              "      <td>15</td>\n",
              "      <td>125.347222</td>\n",
              "      <td>2016</td>\n",
              "    </tr>\n",
              "    <tr>\n",
              "      <th>2</th>\n",
              "      <td>1</td>\n",
              "      <td>19</td>\n",
              "      <td>83.263889</td>\n",
              "      <td>2016</td>\n",
              "    </tr>\n",
              "    <tr>\n",
              "      <th>3</th>\n",
              "      <td>1</td>\n",
              "      <td>21</td>\n",
              "      <td>92.638889</td>\n",
              "      <td>2016</td>\n",
              "    </tr>\n",
              "    <tr>\n",
              "      <th>4</th>\n",
              "      <td>1</td>\n",
              "      <td>23</td>\n",
              "      <td>93.055556</td>\n",
              "      <td>2016</td>\n",
              "    </tr>\n",
              "  </tbody>\n",
              "</table>\n",
              "</div>"
            ],
            "text/plain": [
              "   month  day  Appliances  year\n",
              "0      1   13   97.013889  2016\n",
              "1      1   15  125.347222  2016\n",
              "2      1   19   83.263889  2016\n",
              "3      1   21   92.638889  2016\n",
              "4      1   23   93.055556  2016"
            ]
          },
          "metadata": {},
          "execution_count": 158
        }
      ]
    },
    {
      "cell_type": "code",
      "metadata": {
        "colab": {
          "base_uri": "https://localhost:8080/",
          "height": 204
        },
        "id": "7ktJK93NYmoH",
        "outputId": "7ea80251-a871-4947-a40a-073849d8f8c1"
      },
      "source": [
        "# reconstitute the datetime variable\n",
        "\n",
        "tmp['date'] = pd.to_datetime(tmp[['year', 'month', 'day']])\n",
        "\n",
        "tmp.head()"
      ],
      "execution_count": 159,
      "outputs": [
        {
          "output_type": "execute_result",
          "data": {
            "text/html": [
              "<div>\n",
              "<style scoped>\n",
              "    .dataframe tbody tr th:only-of-type {\n",
              "        vertical-align: middle;\n",
              "    }\n",
              "\n",
              "    .dataframe tbody tr th {\n",
              "        vertical-align: top;\n",
              "    }\n",
              "\n",
              "    .dataframe thead th {\n",
              "        text-align: right;\n",
              "    }\n",
              "</style>\n",
              "<table border=\"1\" class=\"dataframe\">\n",
              "  <thead>\n",
              "    <tr style=\"text-align: right;\">\n",
              "      <th></th>\n",
              "      <th>month</th>\n",
              "      <th>day</th>\n",
              "      <th>Appliances</th>\n",
              "      <th>year</th>\n",
              "      <th>date</th>\n",
              "    </tr>\n",
              "  </thead>\n",
              "  <tbody>\n",
              "    <tr>\n",
              "      <th>0</th>\n",
              "      <td>1</td>\n",
              "      <td>13</td>\n",
              "      <td>97.013889</td>\n",
              "      <td>2016</td>\n",
              "      <td>2016-01-13</td>\n",
              "    </tr>\n",
              "    <tr>\n",
              "      <th>1</th>\n",
              "      <td>1</td>\n",
              "      <td>15</td>\n",
              "      <td>125.347222</td>\n",
              "      <td>2016</td>\n",
              "      <td>2016-01-15</td>\n",
              "    </tr>\n",
              "    <tr>\n",
              "      <th>2</th>\n",
              "      <td>1</td>\n",
              "      <td>19</td>\n",
              "      <td>83.263889</td>\n",
              "      <td>2016</td>\n",
              "      <td>2016-01-19</td>\n",
              "    </tr>\n",
              "    <tr>\n",
              "      <th>3</th>\n",
              "      <td>1</td>\n",
              "      <td>21</td>\n",
              "      <td>92.638889</td>\n",
              "      <td>2016</td>\n",
              "      <td>2016-01-21</td>\n",
              "    </tr>\n",
              "    <tr>\n",
              "      <th>4</th>\n",
              "      <td>1</td>\n",
              "      <td>23</td>\n",
              "      <td>93.055556</td>\n",
              "      <td>2016</td>\n",
              "      <td>2016-01-23</td>\n",
              "    </tr>\n",
              "  </tbody>\n",
              "</table>\n",
              "</div>"
            ],
            "text/plain": [
              "   month  day  Appliances  year       date\n",
              "0      1   13   97.013889  2016 2016-01-13\n",
              "1      1   15  125.347222  2016 2016-01-15\n",
              "2      1   19   83.263889  2016 2016-01-19\n",
              "3      1   21   92.638889  2016 2016-01-21\n",
              "4      1   23   93.055556  2016 2016-01-23"
            ]
          },
          "metadata": {},
          "execution_count": 159
        }
      ]
    },
    {
      "cell_type": "markdown",
      "metadata": {
        "id": "klCJMIfAdpjV"
      },
      "source": [
        "Pour déterminer la distance en jours entre les maxima locaux, nous devons déterminer la distance entre les lignes, car chaque ligne de la trame de données précédente contient un maximum local"
      ]
    },
    {
      "cell_type": "code",
      "metadata": {
        "colab": {
          "base_uri": "https://localhost:8080/",
          "height": 204
        },
        "id": "jrwpFgo2Ys8I",
        "outputId": "02dac37d-853b-4cd7-a86d-674ec06daf5c"
      },
      "source": [
        "# calculate the distance, in days, between the local maxima\n",
        "# we do this utilizing the dataframe with only the local maxima\n",
        "\n",
        "tmp['peak_distance'] = tmp['date'].diff()\n",
        "\n",
        "tmp['peak_distance'] = tmp['peak_distance'].dt.days\n",
        "\n",
        "tmp.head()"
      ],
      "execution_count": 160,
      "outputs": [
        {
          "output_type": "execute_result",
          "data": {
            "text/html": [
              "<div>\n",
              "<style scoped>\n",
              "    .dataframe tbody tr th:only-of-type {\n",
              "        vertical-align: middle;\n",
              "    }\n",
              "\n",
              "    .dataframe tbody tr th {\n",
              "        vertical-align: top;\n",
              "    }\n",
              "\n",
              "    .dataframe thead th {\n",
              "        text-align: right;\n",
              "    }\n",
              "</style>\n",
              "<table border=\"1\" class=\"dataframe\">\n",
              "  <thead>\n",
              "    <tr style=\"text-align: right;\">\n",
              "      <th></th>\n",
              "      <th>month</th>\n",
              "      <th>day</th>\n",
              "      <th>Appliances</th>\n",
              "      <th>year</th>\n",
              "      <th>date</th>\n",
              "      <th>peak_distance</th>\n",
              "    </tr>\n",
              "  </thead>\n",
              "  <tbody>\n",
              "    <tr>\n",
              "      <th>0</th>\n",
              "      <td>1</td>\n",
              "      <td>13</td>\n",
              "      <td>97.013889</td>\n",
              "      <td>2016</td>\n",
              "      <td>2016-01-13</td>\n",
              "      <td>NaN</td>\n",
              "    </tr>\n",
              "    <tr>\n",
              "      <th>1</th>\n",
              "      <td>1</td>\n",
              "      <td>15</td>\n",
              "      <td>125.347222</td>\n",
              "      <td>2016</td>\n",
              "      <td>2016-01-15</td>\n",
              "      <td>2.0</td>\n",
              "    </tr>\n",
              "    <tr>\n",
              "      <th>2</th>\n",
              "      <td>1</td>\n",
              "      <td>19</td>\n",
              "      <td>83.263889</td>\n",
              "      <td>2016</td>\n",
              "      <td>2016-01-19</td>\n",
              "      <td>4.0</td>\n",
              "    </tr>\n",
              "    <tr>\n",
              "      <th>3</th>\n",
              "      <td>1</td>\n",
              "      <td>21</td>\n",
              "      <td>92.638889</td>\n",
              "      <td>2016</td>\n",
              "      <td>2016-01-21</td>\n",
              "      <td>2.0</td>\n",
              "    </tr>\n",
              "    <tr>\n",
              "      <th>4</th>\n",
              "      <td>1</td>\n",
              "      <td>23</td>\n",
              "      <td>93.055556</td>\n",
              "      <td>2016</td>\n",
              "      <td>2016-01-23</td>\n",
              "      <td>2.0</td>\n",
              "    </tr>\n",
              "  </tbody>\n",
              "</table>\n",
              "</div>"
            ],
            "text/plain": [
              "   month  day  Appliances  year       date  peak_distance\n",
              "0      1   13   97.013889  2016 2016-01-13            NaN\n",
              "1      1   15  125.347222  2016 2016-01-15            2.0\n",
              "2      1   19   83.263889  2016 2016-01-19            4.0\n",
              "3      1   21   92.638889  2016 2016-01-21            2.0\n",
              "4      1   23   93.055556  2016 2016-01-23            2.0"
            ]
          },
          "metadata": {},
          "execution_count": 160
        }
      ]
    },
    {
      "cell_type": "code",
      "metadata": {
        "id": "YrXBSsO1eSA2"
      },
      "source": [
        "# now we put all the steps together in a function\n",
        "\n",
        "# not in book, but useful information for readers, to\n",
        "# automate the calculation of peak distances across variables\n",
        "\n",
        "def time_between_peaks(ser):\n",
        "\n",
        "    # find local maxima\n",
        "    peaks, _ = find_peaks(ser.values)\n",
        "\n",
        "    # select the series values with local maxima only\n",
        "    # transform the series into a dataframe with the month\n",
        "    # and day index as columns\n",
        "    tmp = pd.DataFrame(ser[peaks]).reset_index(drop=False)\n",
        "\n",
        "    # add year to reconstitute date\n",
        "    tmp['year'] = 2016\n",
        "\n",
        "    # reconstitute date\n",
        "    tmp['date'] = pd.to_datetime(tmp[['year', 'month', 'day']])\n",
        "\n",
        "    # calculate difference in days between local maxima\n",
        "    tmp['peak_distance'] = tmp['date'].diff()\n",
        "    tmp['peak_distance'] = tmp['peak_distance'].dt.days\n",
        "\n",
        "    # return difference in days between local maxima\n",
        "    # that is a pandas series\n",
        "    return tmp['peak_distance']"
      ],
      "execution_count": null,
      "outputs": []
    },
    {
      "cell_type": "markdown",
      "metadata": {
        "id": "dGt0_2cZeLmG"
      },
      "source": [
        "#### To determine distance between local maxima and minima"
      ]
    },
    {
      "cell_type": "markdown",
      "metadata": {
        "id": "F0A7ts_2d_e9"
      },
      "source": [
        "Nous pouvons déterminer la valeur moyenne du temps entre les maxima et minima locaux pour plus d'une entité. Pour montrer comment automatiser cette procédure, nous utiliserons l'ensemble de données de transaction client themock de Featuretools. Commençons"
      ]
    },
    {
      "cell_type": "code",
      "metadata": {
        "colab": {
          "base_uri": "https://localhost:8080/"
        },
        "id": "472gbSolY70t",
        "outputId": "5a7440b0-6ba2-4090-c490-0927d8330a38"
      },
      "source": [
        "# determine the days of minimum electricity consumption \n",
        "# throughout the 5 months, that is the local minima\n",
        "\n",
        "# we use peak values but we turn the series upside down with the\n",
        "# reciprocal function\n",
        "\n",
        "valleys, _ = find_peaks(1 / elec_pday.values, height=(-np.Inf, 1/60))\n",
        "valleys"
      ],
      "execution_count": 162,
      "outputs": [
        {
          "output_type": "execute_result",
          "data": {
            "text/plain": [
              "array([  1,   5,   8,  14,  20,  22,  25,  27,  30,  33,  37,  41,  44,\n",
              "        50,  52,  55,  57,  60,  62,  64,  67,  71,  73,  76,  87,  90,\n",
              "        94,  98, 101, 106, 113, 118, 120, 122, 124, 127, 130, 133, 135])"
            ]
          },
          "metadata": {},
          "execution_count": 162
        }
      ]
    },
    {
      "cell_type": "code",
      "metadata": {
        "colab": {
          "base_uri": "https://localhost:8080/"
        },
        "id": "l6pDpKKTejOT",
        "outputId": "2252e925-4b56-437c-dd0b-7c2387da9288"
      },
      "source": [
        "\n",
        "# compare the number of observations in the entire series\n",
        "# vs the number of local maxima, vs the number of local minima\n",
        "\n",
        "elec_pday.shape, elec_pday.loc[idx[:,peaks]].shape , elec_pday.loc[idx[:,valleys]].shape"
      ],
      "execution_count": 168,
      "outputs": [
        {
          "output_type": "execute_result",
          "data": {
            "text/plain": [
              "((138,), (46,), (40,))"
            ]
          },
          "metadata": {},
          "execution_count": 168
        }
      ]
    },
    {
      "cell_type": "code",
      "metadata": {
        "colab": {
          "base_uri": "https://localhost:8080/"
        },
        "id": "TjdxYgNqfN5l",
        "outputId": "3042bc9e-c590-4b3b-c73e-7a2460253624"
      },
      "source": [
        "\n",
        "# concatenate the indices that contain the local minima and maxima\n",
        "# and then sort its values\n",
        "\n",
        "peaksandvalleys = np.concatenate([peaks, valleys])\n",
        "peaksandvalleys.sort()\n",
        "peaksandvalleys"
      ],
      "execution_count": 169,
      "outputs": [
        {
          "output_type": "execute_result",
          "data": {
            "text/plain": [
              "array([  1,   3,   5,   6,   8,   9,  13,  14,  15,  19,  20,  21,  22,\n",
              "        23,  25,  26,  27,  28,  30,  32,  33,  35,  37,  39,  41,  42,\n",
              "        44,  45,  49,  50,  51,  52,  53,  55,  56,  57,  59,  60,  61,\n",
              "        62,  63,  64,  65,  67,  68,  71,  72,  73,  74,  76,  77,  84,\n",
              "        87,  88,  90,  92,  94,  96,  98, 100, 101, 102, 106, 110, 113,\n",
              "       116, 118, 119, 120, 121, 122, 123, 124, 125, 127, 128, 130, 131,\n",
              "       133, 134, 135, 136])"
            ]
          },
          "metadata": {},
          "execution_count": 169
        }
      ]
    },
    {
      "cell_type": "code",
      "metadata": {
        "colab": {
          "base_uri": "https://localhost:8080/"
        },
        "id": "_BtJbHJZfYtu",
        "outputId": "138892c8-42e0-4ecc-f150-bb0bb94241cd"
      },
      "source": [
        "\n",
        "# now we use this index to select the data\n",
        "\n",
        "elec_pday.loc[idx[:,peaksandvalleys]].shape"
      ],
      "execution_count": 172,
      "outputs": [
        {
          "output_type": "execute_result",
          "data": {
            "text/plain": [
              "(86,)"
            ]
          },
          "metadata": {},
          "execution_count": 172
        }
      ]
    },
    {
      "cell_type": "markdown",
      "metadata": {
        "id": "XAfTgkJofvbA"
      },
      "source": [
        "Pour déterminer le temps écoulé entre les maxima et les minima locaux, nous devons créer un cadre de données avec ces valeurs exécutant :\n",
        "\n",
        "tmp = pd.DataFrame(elec_pday[peaksandvalleys]).reset_index(drop=False)\n",
        "\n",
        "puis, 1) ajouter l'année, 2) reconstituer la date, et 3) calculer le temps entre les maxima et minima locaux, comme nous l'avons fait dans les cellules précédentes."
      ]
    }
  ]
}
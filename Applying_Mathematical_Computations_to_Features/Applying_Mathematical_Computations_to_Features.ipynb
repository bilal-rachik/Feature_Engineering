{
  "nbformat": 4,
  "nbformat_minor": 0,
  "metadata": {
    "colab": {
      "name": " Applying_Mathematical_Computations_to_Features.ipynb",
      "provenance": [],
      "collapsed_sections": []
    },
    "kernelspec": {
      "name": "python3",
      "display_name": "Python 3"
    },
    "language_info": {
      "name": "python"
    }
  },
  "cells": [
    {
      "cell_type": "markdown",
      "metadata": {
        "id": "C72O2nGEMSla"
      },
      "source": [
        "# Application de calculs mathématiques aux Features.\n",
        "\n",
        "De nouvelles fonctionnalités peuvent être créées en combinant deux ou plusieurs variables. Les variables peuvent être combinées automatiquement ou en utilisant la connaissance du domaine des données et de l'industrie. Par exemple, en finance, on combine des informations sur le revenu et la dette acquise pour déterminer le revenu disponible.\n",
        "$$ disposable\\   income = income - total\\  debt.$$\n",
        "\n",
        "De même, si un client a des dettes sur de nombreux produits financiers, par exemple un prêt automobile, un prêt immobilier et des cartes de crédit, nous pouvons déterminer la dette totale en ajoutant toutes ces variables :\n",
        "\n",
        "$$Total\\ debt = car\\ loan\\ balance + credit\\ card\\ balance + mortgage\\ balance$$\n",
        "\n",
        "Dans les exemples précédents, les fonctions mathématiques utilisées pour combiner les variables existantes sont dérivées via la connaissance du domaine de l'industrie. Nous pouvons également combiner des variables automatiquement, en créant des combinaisons polynomiales des variables existantes dans l'ensemble de données en utilisant des algorithmes prêts à l'emploi tels que des arbres de décision et Analyse en composantes principales (PCA). Dans cet article, nous allons créer de nouvelles fonctionnalités en utilisant plusieurs fonctions mathématiques et algorithmes standard avec Python.\n",
        "\n",
        "Ce cet article couvrira les recettes suivantes :\n",
        "\n",
        "* Combiner plusieurs fonctionnalités avec des opérations statistiques.\n",
        "* Combiner des paires de caractéristiques avec des fonctions mathématiques.\n",
        "* Exécution d'une expansion polynomiale.\n",
        "* Dérivation de nouvelles fonctionnalités avec des arbres de décision.\n",
        "* Réalisation de l'ACP.\n"
      ]
    },
    {
      "cell_type": "markdown",
      "metadata": {
        "id": "STaDOhvynmoh"
      },
      "source": [
        "## Combiner plusieurs fonctionnalités avec des opérations statistiques.\n",
        "\n",
        "De nouvelles fonctionnalités peuvent être créées en effectuant des opérations mathématiques et statistiques sur des variables existantes. Nous avons mentionné précédemment que nous pouvons calculer la dette totale en additionnant la dette à travers les produits financiers individuels\n",
        "\n",
        "$$ Total\\ debt = car\\ loan\\ debt + credit\\ card\\ debt + mortgage\\ debt$$\n",
        "\n",
        "Nous pouvons également dériver d'autres caractéristiques pertinentes à l'aide d'opérations statistiques alternatives. Par exemple, nous pouvons déterminer l'endettement maximal d'un client sur l'ensemble des produits financiers, le temps minimum qu'il a passé à naviger sur une page de notre site Web ou le temps moyen qu'il a passé à lire un article de notre magazine :\n",
        "\n",
        "$$ maximum\\ debt = max(car\\ loan\\ balance,\\ credit\\ card\\ balance,\\ mortgage\\  balance)$$\n",
        "\n",
        "$$ minimum\\ time\\ on\\ page = min(time\\ on\\ homepage,\\ time\\ on\\ about\\ page,\\ time\\ on\\ the\\ contact\\ us\\ page)$$\n",
        "\n",
        "$$mean\\ time\\ reading\\ article = (time\\ on\\ article\\ 1\\ +\\ time\\ on\\ article\\ 2\\ +\\ time\\ on\\ article 3) / count(articles)$$\n",
        "\n",
        "Nous pouvons, en principe, utiliser n'importe quelle opération mathématique ou statistique pour créer de nouvelles fonctionnalités, telles que le produit, la moyenne, l'écart type, ou des valeurs maximales ou minimales. Dans cette recette, nous allons implémenter ces opérations mathématiques à l'aide de pandas.\n"
      ]
    },
    {
      "cell_type": "markdown",
      "metadata": {
        "id": "9luc2ZOCsntw"
      },
      "source": [
        "Dans cette recette, nous utiliserons l'ensemble de données sur le cancer du sein fourni avec scikit-learn, qui contient des informations sur les tumeurs et autres anomalies médicales, ainsi qu'une cible indiquant si elles sont cancéreuses. Pour vous familiariser avec l'ensemble de données, exécutez les commandes suivantes dans un Jupyter Notebook ou une console Python :"
      ]
    },
    {
      "cell_type": "code",
      "metadata": {
        "id": "voJoPOrim9Mw"
      },
      "source": [
        "import pandas as pd\n",
        "import matplotlib.pyplot as plt\n",
        "import seaborn as sns\n",
        "\n",
        "from sklearn.datasets import load_breast_cancer"
      ],
      "execution_count": 1,
      "outputs": []
    },
    {
      "cell_type": "markdown",
      "metadata": {
        "id": "YNSmCeAOtUjC"
      },
      "source": [
        "Dans cette recette, nous allons créer de nouvelles fonctionnalités en combinant des informations, c'est-à-dire des variables sur les tumeurs, à l'aide de plusieurs opérations mathématiques"
      ]
    },
    {
      "cell_type": "code",
      "metadata": {
        "id": "cm2pjbH7nABS"
      },
      "source": [
        "# load the breast cancer dataset from sklearn\n",
        "data = load_breast_cancer()"
      ],
      "execution_count": 2,
      "outputs": []
    },
    {
      "cell_type": "code",
      "metadata": {
        "id": "3XJjeb0unDi4"
      },
      "source": [
        "# print description of dataset\n",
        "\n",
        "#print(data.DESCR)"
      ],
      "execution_count": 8,
      "outputs": []
    },
    {
      "cell_type": "code",
      "metadata": {
        "colab": {
          "base_uri": "https://localhost:8080/",
          "height": 258
        },
        "id": "ehuU8bb4nGmp",
        "outputId": "4d4e7aa1-84f5-4790-cc9d-8be0886e773c"
      },
      "source": [
        "# create a dataframe with the independent variables\n",
        "df = pd.DataFrame(data.data, columns=data.feature_names)\n",
        "\n",
        "# add the target\n",
        "df['target'] = data.target\n",
        "\n",
        "df.head()"
      ],
      "execution_count": 4,
      "outputs": [
        {
          "output_type": "execute_result",
          "data": {
            "text/html": [
              "<div>\n",
              "<style scoped>\n",
              "    .dataframe tbody tr th:only-of-type {\n",
              "        vertical-align: middle;\n",
              "    }\n",
              "\n",
              "    .dataframe tbody tr th {\n",
              "        vertical-align: top;\n",
              "    }\n",
              "\n",
              "    .dataframe thead th {\n",
              "        text-align: right;\n",
              "    }\n",
              "</style>\n",
              "<table border=\"1\" class=\"dataframe\">\n",
              "  <thead>\n",
              "    <tr style=\"text-align: right;\">\n",
              "      <th></th>\n",
              "      <th>mean radius</th>\n",
              "      <th>mean texture</th>\n",
              "      <th>mean perimeter</th>\n",
              "      <th>mean area</th>\n",
              "      <th>mean smoothness</th>\n",
              "      <th>mean compactness</th>\n",
              "      <th>mean concavity</th>\n",
              "      <th>mean concave points</th>\n",
              "      <th>mean symmetry</th>\n",
              "      <th>mean fractal dimension</th>\n",
              "      <th>radius error</th>\n",
              "      <th>texture error</th>\n",
              "      <th>perimeter error</th>\n",
              "      <th>area error</th>\n",
              "      <th>smoothness error</th>\n",
              "      <th>compactness error</th>\n",
              "      <th>concavity error</th>\n",
              "      <th>concave points error</th>\n",
              "      <th>symmetry error</th>\n",
              "      <th>fractal dimension error</th>\n",
              "      <th>worst radius</th>\n",
              "      <th>worst texture</th>\n",
              "      <th>worst perimeter</th>\n",
              "      <th>worst area</th>\n",
              "      <th>worst smoothness</th>\n",
              "      <th>worst compactness</th>\n",
              "      <th>worst concavity</th>\n",
              "      <th>worst concave points</th>\n",
              "      <th>worst symmetry</th>\n",
              "      <th>worst fractal dimension</th>\n",
              "      <th>target</th>\n",
              "    </tr>\n",
              "  </thead>\n",
              "  <tbody>\n",
              "    <tr>\n",
              "      <th>0</th>\n",
              "      <td>17.99</td>\n",
              "      <td>10.38</td>\n",
              "      <td>122.80</td>\n",
              "      <td>1001.0</td>\n",
              "      <td>0.11840</td>\n",
              "      <td>0.27760</td>\n",
              "      <td>0.3001</td>\n",
              "      <td>0.14710</td>\n",
              "      <td>0.2419</td>\n",
              "      <td>0.07871</td>\n",
              "      <td>1.0950</td>\n",
              "      <td>0.9053</td>\n",
              "      <td>8.589</td>\n",
              "      <td>153.40</td>\n",
              "      <td>0.006399</td>\n",
              "      <td>0.04904</td>\n",
              "      <td>0.05373</td>\n",
              "      <td>0.01587</td>\n",
              "      <td>0.03003</td>\n",
              "      <td>0.006193</td>\n",
              "      <td>25.38</td>\n",
              "      <td>17.33</td>\n",
              "      <td>184.60</td>\n",
              "      <td>2019.0</td>\n",
              "      <td>0.1622</td>\n",
              "      <td>0.6656</td>\n",
              "      <td>0.7119</td>\n",
              "      <td>0.2654</td>\n",
              "      <td>0.4601</td>\n",
              "      <td>0.11890</td>\n",
              "      <td>0</td>\n",
              "    </tr>\n",
              "    <tr>\n",
              "      <th>1</th>\n",
              "      <td>20.57</td>\n",
              "      <td>17.77</td>\n",
              "      <td>132.90</td>\n",
              "      <td>1326.0</td>\n",
              "      <td>0.08474</td>\n",
              "      <td>0.07864</td>\n",
              "      <td>0.0869</td>\n",
              "      <td>0.07017</td>\n",
              "      <td>0.1812</td>\n",
              "      <td>0.05667</td>\n",
              "      <td>0.5435</td>\n",
              "      <td>0.7339</td>\n",
              "      <td>3.398</td>\n",
              "      <td>74.08</td>\n",
              "      <td>0.005225</td>\n",
              "      <td>0.01308</td>\n",
              "      <td>0.01860</td>\n",
              "      <td>0.01340</td>\n",
              "      <td>0.01389</td>\n",
              "      <td>0.003532</td>\n",
              "      <td>24.99</td>\n",
              "      <td>23.41</td>\n",
              "      <td>158.80</td>\n",
              "      <td>1956.0</td>\n",
              "      <td>0.1238</td>\n",
              "      <td>0.1866</td>\n",
              "      <td>0.2416</td>\n",
              "      <td>0.1860</td>\n",
              "      <td>0.2750</td>\n",
              "      <td>0.08902</td>\n",
              "      <td>0</td>\n",
              "    </tr>\n",
              "    <tr>\n",
              "      <th>2</th>\n",
              "      <td>19.69</td>\n",
              "      <td>21.25</td>\n",
              "      <td>130.00</td>\n",
              "      <td>1203.0</td>\n",
              "      <td>0.10960</td>\n",
              "      <td>0.15990</td>\n",
              "      <td>0.1974</td>\n",
              "      <td>0.12790</td>\n",
              "      <td>0.2069</td>\n",
              "      <td>0.05999</td>\n",
              "      <td>0.7456</td>\n",
              "      <td>0.7869</td>\n",
              "      <td>4.585</td>\n",
              "      <td>94.03</td>\n",
              "      <td>0.006150</td>\n",
              "      <td>0.04006</td>\n",
              "      <td>0.03832</td>\n",
              "      <td>0.02058</td>\n",
              "      <td>0.02250</td>\n",
              "      <td>0.004571</td>\n",
              "      <td>23.57</td>\n",
              "      <td>25.53</td>\n",
              "      <td>152.50</td>\n",
              "      <td>1709.0</td>\n",
              "      <td>0.1444</td>\n",
              "      <td>0.4245</td>\n",
              "      <td>0.4504</td>\n",
              "      <td>0.2430</td>\n",
              "      <td>0.3613</td>\n",
              "      <td>0.08758</td>\n",
              "      <td>0</td>\n",
              "    </tr>\n",
              "    <tr>\n",
              "      <th>3</th>\n",
              "      <td>11.42</td>\n",
              "      <td>20.38</td>\n",
              "      <td>77.58</td>\n",
              "      <td>386.1</td>\n",
              "      <td>0.14250</td>\n",
              "      <td>0.28390</td>\n",
              "      <td>0.2414</td>\n",
              "      <td>0.10520</td>\n",
              "      <td>0.2597</td>\n",
              "      <td>0.09744</td>\n",
              "      <td>0.4956</td>\n",
              "      <td>1.1560</td>\n",
              "      <td>3.445</td>\n",
              "      <td>27.23</td>\n",
              "      <td>0.009110</td>\n",
              "      <td>0.07458</td>\n",
              "      <td>0.05661</td>\n",
              "      <td>0.01867</td>\n",
              "      <td>0.05963</td>\n",
              "      <td>0.009208</td>\n",
              "      <td>14.91</td>\n",
              "      <td>26.50</td>\n",
              "      <td>98.87</td>\n",
              "      <td>567.7</td>\n",
              "      <td>0.2098</td>\n",
              "      <td>0.8663</td>\n",
              "      <td>0.6869</td>\n",
              "      <td>0.2575</td>\n",
              "      <td>0.6638</td>\n",
              "      <td>0.17300</td>\n",
              "      <td>0</td>\n",
              "    </tr>\n",
              "    <tr>\n",
              "      <th>4</th>\n",
              "      <td>20.29</td>\n",
              "      <td>14.34</td>\n",
              "      <td>135.10</td>\n",
              "      <td>1297.0</td>\n",
              "      <td>0.10030</td>\n",
              "      <td>0.13280</td>\n",
              "      <td>0.1980</td>\n",
              "      <td>0.10430</td>\n",
              "      <td>0.1809</td>\n",
              "      <td>0.05883</td>\n",
              "      <td>0.7572</td>\n",
              "      <td>0.7813</td>\n",
              "      <td>5.438</td>\n",
              "      <td>94.44</td>\n",
              "      <td>0.011490</td>\n",
              "      <td>0.02461</td>\n",
              "      <td>0.05688</td>\n",
              "      <td>0.01885</td>\n",
              "      <td>0.01756</td>\n",
              "      <td>0.005115</td>\n",
              "      <td>22.54</td>\n",
              "      <td>16.67</td>\n",
              "      <td>152.20</td>\n",
              "      <td>1575.0</td>\n",
              "      <td>0.1374</td>\n",
              "      <td>0.2050</td>\n",
              "      <td>0.4000</td>\n",
              "      <td>0.1625</td>\n",
              "      <td>0.2364</td>\n",
              "      <td>0.07678</td>\n",
              "      <td>0</td>\n",
              "    </tr>\n",
              "  </tbody>\n",
              "</table>\n",
              "</div>"
            ],
            "text/plain": [
              "   mean radius  mean texture  ...  worst fractal dimension  target\n",
              "0        17.99         10.38  ...                  0.11890       0\n",
              "1        20.57         17.77  ...                  0.08902       0\n",
              "2        19.69         21.25  ...                  0.08758       0\n",
              "3        11.42         20.38  ...                  0.17300       0\n",
              "4        20.29         14.34  ...                  0.07678       0\n",
              "\n",
              "[5 rows x 31 columns]"
            ]
          },
          "metadata": {},
          "execution_count": 4
        }
      ]
    },
    {
      "cell_type": "markdown",
      "metadata": {
        "id": "VS8geRZAuYTi"
      },
      "source": [
        "Dans les lignes de code suivantes, nous allons créer de nouvelles fonctionnalités à l'aide d'opérations mathématiques multiples sur un sous-ensemble des fonctionnalités du jeu de données.\n",
        "\n",
        "Commençons par créer une liste avec le sous-ensemble de fonctionnalités auquel nous appliquerons les différentes opérations mathématiques :"
      ]
    },
    {
      "cell_type": "code",
      "metadata": {
        "id": "9P-u9oIMnMg_"
      },
      "source": [
        "# make a list with the features we want to engineer\n",
        "\n",
        "features = ['mean smoothness', 'mean compactness', 'mean concavity',\n",
        "            'mean concave points', 'mean symmetry']"
      ],
      "execution_count": 5,
      "outputs": []
    },
    {
      "cell_type": "code",
      "metadata": {
        "colab": {
          "base_uri": "https://localhost:8080/",
          "height": 204
        },
        "id": "-qjho6DbnPRF",
        "outputId": "ffdf263b-525b-4f19-c3bf-480a8ff66118"
      },
      "source": [
        "df[features].head()"
      ],
      "execution_count": 6,
      "outputs": [
        {
          "output_type": "execute_result",
          "data": {
            "text/html": [
              "<div>\n",
              "<style scoped>\n",
              "    .dataframe tbody tr th:only-of-type {\n",
              "        vertical-align: middle;\n",
              "    }\n",
              "\n",
              "    .dataframe tbody tr th {\n",
              "        vertical-align: top;\n",
              "    }\n",
              "\n",
              "    .dataframe thead th {\n",
              "        text-align: right;\n",
              "    }\n",
              "</style>\n",
              "<table border=\"1\" class=\"dataframe\">\n",
              "  <thead>\n",
              "    <tr style=\"text-align: right;\">\n",
              "      <th></th>\n",
              "      <th>mean smoothness</th>\n",
              "      <th>mean compactness</th>\n",
              "      <th>mean concavity</th>\n",
              "      <th>mean concave points</th>\n",
              "      <th>mean symmetry</th>\n",
              "    </tr>\n",
              "  </thead>\n",
              "  <tbody>\n",
              "    <tr>\n",
              "      <th>0</th>\n",
              "      <td>0.11840</td>\n",
              "      <td>0.27760</td>\n",
              "      <td>0.3001</td>\n",
              "      <td>0.14710</td>\n",
              "      <td>0.2419</td>\n",
              "    </tr>\n",
              "    <tr>\n",
              "      <th>1</th>\n",
              "      <td>0.08474</td>\n",
              "      <td>0.07864</td>\n",
              "      <td>0.0869</td>\n",
              "      <td>0.07017</td>\n",
              "      <td>0.1812</td>\n",
              "    </tr>\n",
              "    <tr>\n",
              "      <th>2</th>\n",
              "      <td>0.10960</td>\n",
              "      <td>0.15990</td>\n",
              "      <td>0.1974</td>\n",
              "      <td>0.12790</td>\n",
              "      <td>0.2069</td>\n",
              "    </tr>\n",
              "    <tr>\n",
              "      <th>3</th>\n",
              "      <td>0.14250</td>\n",
              "      <td>0.28390</td>\n",
              "      <td>0.2414</td>\n",
              "      <td>0.10520</td>\n",
              "      <td>0.2597</td>\n",
              "    </tr>\n",
              "    <tr>\n",
              "      <th>4</th>\n",
              "      <td>0.10030</td>\n",
              "      <td>0.13280</td>\n",
              "      <td>0.1980</td>\n",
              "      <td>0.10430</td>\n",
              "      <td>0.1809</td>\n",
              "    </tr>\n",
              "  </tbody>\n",
              "</table>\n",
              "</div>"
            ],
            "text/plain": [
              "   mean smoothness  mean compactness  ...  mean concave points  mean symmetry\n",
              "0          0.11840           0.27760  ...              0.14710         0.2419\n",
              "1          0.08474           0.07864  ...              0.07017         0.1812\n",
              "2          0.10960           0.15990  ...              0.12790         0.2069\n",
              "3          0.14250           0.28390  ...              0.10520         0.2597\n",
              "4          0.10030           0.13280  ...              0.10430         0.1809\n",
              "\n",
              "[5 rows x 5 columns]"
            ]
          },
          "metadata": {},
          "execution_count": 6
        }
      ]
    },
    {
      "cell_type": "markdown",
      "metadata": {
        "id": "_nS3rAWMwkyp"
      },
      "source": [
        "Grâce aux visualisations, nous pouvons facilement comprendre si les nouvelles fonctionnalités fournissent des informations précieuses. Dans cette section, nous allons créer des diagrammes en violon pour visualiser la distribution de l'une des caractéristiques nouvellement créées. Nous tracerons la distribution de la caractéristique séparément, pour les tumeurs cancéreuses et celles qui ne l'étaient pas"
      ]
    },
    {
      "cell_type": "code",
      "metadata": {
        "colab": {
          "base_uri": "https://localhost:8080/",
          "height": 1000
        },
        "id": "iQLeDTNRnRzC",
        "outputId": "50fdccb3-6928-46d0-bbcd-fa143d33b3e3"
      },
      "source": [
        "# make violin plots with the distribution of each feature\n",
        "\n",
        "for f in features:\n",
        "    sns.violinplot(x=\"target\", y=f, data=df)\n",
        "    plt.title(f)\n",
        "    plt.show()"
      ],
      "execution_count": 7,
      "outputs": [
        {
          "output_type": "display_data",
          "data": {
            "image/png": "[encoded data removed]",
            "text/plain": [
              "<Figure size 432x288 with 1 Axes>"
            ]
          },
          "metadata": {
            "needs_background": "light"
          }
        },
        {
          "output_type": "display_data",
          "data": {
            "image/png": "[encoded data removed]",
            "text/plain": [
              "<Figure size 432x288 with 1 Axes>"
            ]
          },
          "metadata": {
            "needs_background": "light"
          }
        },
        {
          "output_type": "display_data",
          "data": {
            "image/png": "[encoded data removed]",
            "text/plain": [
              "<Figure size 432x288 with 1 Axes>"
            ]
          },
          "metadata": {
            "needs_background": "light"
          }
        },
        {
          "output_type": "display_data",
          "data": {
            "image/png": "[encoded data removed]",
            "text/plain": [
              "<Figure size 432x288 with 1 Axes>"
            ]
          },
          "metadata": {
            "needs_background": "light"
          }
        },
        {
          "output_type": "display_data",
          "data": {
            "image/png": "[encoded data removed]",
            "text/plain": [
              "<Figure size 432x288 with 1 Axes>"
            ]
          },
          "metadata": {
            "needs_background": "light"
          }
        }
      ]
    },
    {
      "cell_type": "markdown",
      "metadata": {
        "id": "-yUxXm0pnY80"
      },
      "source": [
        "### Addition"
      ]
    },
    {
      "cell_type": "code",
      "metadata": {
        "colab": {
          "base_uri": "https://localhost:8080/"
        },
        "id": "VB8pKbrEvOLv",
        "outputId": "1df23a28-2f76-4e0a-e711-fd99f562f390"
      },
      "source": [
        "# add the features\n",
        "df['added_features'] = df[features].sum(axis=1)\n",
        "df['added_features'].head()"
      ],
      "execution_count": 9,
      "outputs": [
        {
          "output_type": "execute_result",
          "data": {
            "text/plain": [
              "0    1.08510\n",
              "1    0.50165\n",
              "2    0.80170\n",
              "3    1.03270\n",
              "4    0.71630\n",
              "Name: added_features, dtype: float64"
            ]
          },
          "metadata": {},
          "execution_count": 9
        }
      ]
    },
    {
      "cell_type": "code",
      "metadata": {
        "colab": {
          "base_uri": "https://localhost:8080/",
          "height": 312
        },
        "id": "tCH7yLl3vYed",
        "outputId": "92e2a92c-08c9-486f-e2a8-04221cf98995"
      },
      "source": [
        "# violin plot with added features\n",
        "\n",
        "sns.violinplot(x=\"target\", y=\"added_features\", data=df)\n",
        "\n",
        "plt.title('Added Features')"
      ],
      "execution_count": 10,
      "outputs": [
        {
          "output_type": "execute_result",
          "data": {
            "text/plain": [
              "Text(0.5, 1.0, 'Added Features')"
            ]
          },
          "metadata": {},
          "execution_count": 10
        },
        {
          "output_type": "display_data",
          "data": {
            "image/png": "[encoded data removed]",
            "text/plain": [
              "<Figure size 432x288 with 1 Axes>"
            ]
          },
          "metadata": {
            "needs_background": "light"
          }
        }
      ]
    },
    {
      "cell_type": "markdown",
      "metadata": {
        "id": "DoIqjmoqvdlj"
      },
      "source": [
        "### Product"
      ]
    },
    {
      "cell_type": "code",
      "metadata": {
        "colab": {
          "base_uri": "https://localhost:8080/"
        },
        "id": "FRBI_rOAvc-e",
        "outputId": "3f97dfe9-d672-4fae-afa0-4d0899838462"
      },
      "source": [
        "# multiply the features\n",
        "\n",
        "df['prod_features'] = df[features].prod(axis=1)\n",
        "\n",
        "df['prod_features'].head()"
      ],
      "execution_count": 11,
      "outputs": [
        {
          "output_type": "execute_result",
          "data": {
            "text/plain": [
              "0    0.000351\n",
              "1    0.000007\n",
              "2    0.000092\n",
              "3    0.000267\n",
              "4    0.000050\n",
              "Name: prod_features, dtype: float64"
            ]
          },
          "metadata": {},
          "execution_count": 11
        }
      ]
    },
    {
      "cell_type": "code",
      "metadata": {
        "colab": {
          "base_uri": "https://localhost:8080/",
          "height": 312
        },
        "id": "IFkc4ExVvoLs",
        "outputId": "b9faf382-884f-4446-cea9-da5c157899b9"
      },
      "source": [
        "# violin plot with product of features\n",
        "\n",
        "sns.violinplot(x=\"target\", y=\"prod_features\", data=df)\n",
        "\n",
        "plt.title('Product of Features')"
      ],
      "execution_count": 12,
      "outputs": [
        {
          "output_type": "execute_result",
          "data": {
            "text/plain": [
              "Text(0.5, 1.0, 'Product of Features')"
            ]
          },
          "metadata": {},
          "execution_count": 12
        },
        {
          "output_type": "display_data",
          "data": {
            "image/png": "[encoded data removed]",
            "text/plain": [
              "<Figure size 432x288 with 1 Axes>"
            ]
          },
          "metadata": {
            "needs_background": "light"
          }
        }
      ]
    },
    {
      "cell_type": "markdown",
      "metadata": {
        "id": "sEFdp6FHvq_P"
      },
      "source": [
        "### Average"
      ]
    },
    {
      "cell_type": "code",
      "metadata": {
        "id": "4olOInJsvsRo"
      },
      "source": [
        ""
      ],
      "execution_count": null,
      "outputs": []
    },
    {
      "cell_type": "code",
      "metadata": {
        "colab": {
          "base_uri": "https://localhost:8080/"
        },
        "id": "Mbb5qVAcvse1",
        "outputId": "d487276d-cff5-4f43-b023-09a0d3def323"
      },
      "source": [
        "# mean of features\n",
        "\n",
        "df['mean_features'] = df[features].mean(axis=1)\n",
        "\n",
        "df['mean_features'].head()"
      ],
      "execution_count": 13,
      "outputs": [
        {
          "output_type": "execute_result",
          "data": {
            "text/plain": [
              "0    0.21702\n",
              "1    0.10033\n",
              "2    0.16034\n",
              "3    0.20654\n",
              "4    0.14326\n",
              "Name: mean_features, dtype: float64"
            ]
          },
          "metadata": {},
          "execution_count": 13
        }
      ]
    },
    {
      "cell_type": "code",
      "metadata": {
        "colab": {
          "base_uri": "https://localhost:8080/",
          "height": 312
        },
        "id": "iSV-Cd55vw3d",
        "outputId": "76628b99-672a-4f44-c2fa-ca5d38f57ab0"
      },
      "source": [
        "# violin plot with with of features\n",
        "\n",
        "sns.violinplot(x=\"target\", y=\"mean_features\", data=df)\n",
        "\n",
        "plt.title('Mean of Features')"
      ],
      "execution_count": 14,
      "outputs": [
        {
          "output_type": "execute_result",
          "data": {
            "text/plain": [
              "Text(0.5, 1.0, 'Mean of Features')"
            ]
          },
          "metadata": {},
          "execution_count": 14
        },
        {
          "output_type": "display_data",
          "data": {
            "image/png": "[encoded data removed]",
            "text/plain": [
              "<Figure size 432x288 with 1 Axes>"
            ]
          },
          "metadata": {
            "needs_background": "light"
          }
        }
      ]
    },
    {
      "cell_type": "markdown",
      "metadata": {
        "id": "4ppHJ_nWv0pF"
      },
      "source": [
        "### Standard deviation"
      ]
    },
    {
      "cell_type": "code",
      "metadata": {
        "colab": {
          "base_uri": "https://localhost:8080/"
        },
        "id": "To7OZKQTv4O0",
        "outputId": "e17309ad-d7c6-4653-aeb0-93fa7abb7c5e"
      },
      "source": [
        "# standard deviation of features\n",
        "\n",
        "df['std_features'] = df[features].std(axis=1)\n",
        "\n",
        "df['std_features'].head()"
      ],
      "execution_count": 15,
      "outputs": [
        {
          "output_type": "execute_result",
          "data": {
            "text/plain": [
              "0    0.080321\n",
              "1    0.045671\n",
              "2    0.042333\n",
              "3    0.078097\n",
              "4    0.044402\n",
              "Name: std_features, dtype: float64"
            ]
          },
          "metadata": {},
          "execution_count": 15
        }
      ]
    },
    {
      "cell_type": "code",
      "metadata": {
        "colab": {
          "base_uri": "https://localhost:8080/",
          "height": 312
        },
        "id": "htk94LI4v9Jn",
        "outputId": "b596a10d-0ef3-4e86-d8c2-5fae95c513bc"
      },
      "source": [
        "# violin plot with std of features\n",
        "\n",
        "sns.violinplot(x=\"target\", y=\"std_features\", data=df)\n",
        "\n",
        "plt.title('Standard Deviation of Features')"
      ],
      "execution_count": 16,
      "outputs": [
        {
          "output_type": "execute_result",
          "data": {
            "text/plain": [
              "Text(0.5, 1.0, 'Standard Deviation of Features')"
            ]
          },
          "metadata": {},
          "execution_count": 16
        },
        {
          "output_type": "display_data",
          "data": {
            "image/png": "[encoded data removed]",
            "text/plain": [
              "<Figure size 432x288 with 1 Axes>"
            ]
          },
          "metadata": {
            "needs_background": "light"
          }
        }
      ]
    },
    {
      "cell_type": "markdown",
      "metadata": {
        "id": "hm-U-KM-wFAZ"
      },
      "source": [
        "### Maximum, Minimum"
      ]
    },
    {
      "cell_type": "code",
      "metadata": {
        "colab": {
          "base_uri": "https://localhost:8080/"
        },
        "id": "Y9UU3pc4wKDI",
        "outputId": "1fe45061-0bcd-4614-d4db-642eb712ea4e"
      },
      "source": [
        "\n",
        "# maximum of features\n",
        "\n",
        "df['max_features'] = df[features].max(axis=1)\n",
        "\n",
        "df['max_features'].head()\n",
        "\n",
        "# minimum of the features\n",
        "\n",
        "df['min_features'] = df[features].min(axis=1)\n",
        "\n",
        "df['min_features'].head()"
      ],
      "execution_count": 17,
      "outputs": [
        {
          "output_type": "execute_result",
          "data": {
            "text/plain": [
              "0    0.11840\n",
              "1    0.07017\n",
              "2    0.10960\n",
              "3    0.10520\n",
              "4    0.10030\n",
              "Name: min_features, dtype: float64"
            ]
          },
          "metadata": {},
          "execution_count": 17
        }
      ]
    },
    {
      "cell_type": "code",
      "metadata": {
        "colab": {
          "base_uri": "https://localhost:8080/",
          "height": 204
        },
        "id": "k9qM2w79wVGW",
        "outputId": "d49f8ab5-d835-440e-e997-9ab4c9ea704f"
      },
      "source": [
        "# Perform all the operations in one line\n",
        "\n",
        "df_t = df[features].agg(['sum', 'prod','mean','std', 'max', 'min'], axis='columns')\n",
        "df_t.head()"
      ],
      "execution_count": 18,
      "outputs": [
        {
          "output_type": "execute_result",
          "data": {
            "text/html": [
              "<div>\n",
              "<style scoped>\n",
              "    .dataframe tbody tr th:only-of-type {\n",
              "        vertical-align: middle;\n",
              "    }\n",
              "\n",
              "    .dataframe tbody tr th {\n",
              "        vertical-align: top;\n",
              "    }\n",
              "\n",
              "    .dataframe thead th {\n",
              "        text-align: right;\n",
              "    }\n",
              "</style>\n",
              "<table border=\"1\" class=\"dataframe\">\n",
              "  <thead>\n",
              "    <tr style=\"text-align: right;\">\n",
              "      <th></th>\n",
              "      <th>sum</th>\n",
              "      <th>prod</th>\n",
              "      <th>mean</th>\n",
              "      <th>std</th>\n",
              "      <th>max</th>\n",
              "      <th>min</th>\n",
              "    </tr>\n",
              "  </thead>\n",
              "  <tbody>\n",
              "    <tr>\n",
              "      <th>0</th>\n",
              "      <td>1.08510</td>\n",
              "      <td>0.000351</td>\n",
              "      <td>0.21702</td>\n",
              "      <td>0.080321</td>\n",
              "      <td>0.3001</td>\n",
              "      <td>0.11840</td>\n",
              "    </tr>\n",
              "    <tr>\n",
              "      <th>1</th>\n",
              "      <td>0.50165</td>\n",
              "      <td>0.000007</td>\n",
              "      <td>0.10033</td>\n",
              "      <td>0.045671</td>\n",
              "      <td>0.1812</td>\n",
              "      <td>0.07017</td>\n",
              "    </tr>\n",
              "    <tr>\n",
              "      <th>2</th>\n",
              "      <td>0.80170</td>\n",
              "      <td>0.000092</td>\n",
              "      <td>0.16034</td>\n",
              "      <td>0.042333</td>\n",
              "      <td>0.2069</td>\n",
              "      <td>0.10960</td>\n",
              "    </tr>\n",
              "    <tr>\n",
              "      <th>3</th>\n",
              "      <td>1.03270</td>\n",
              "      <td>0.000267</td>\n",
              "      <td>0.20654</td>\n",
              "      <td>0.078097</td>\n",
              "      <td>0.2839</td>\n",
              "      <td>0.10520</td>\n",
              "    </tr>\n",
              "    <tr>\n",
              "      <th>4</th>\n",
              "      <td>0.71630</td>\n",
              "      <td>0.000050</td>\n",
              "      <td>0.14326</td>\n",
              "      <td>0.044402</td>\n",
              "      <td>0.1980</td>\n",
              "      <td>0.10030</td>\n",
              "    </tr>\n",
              "  </tbody>\n",
              "</table>\n",
              "</div>"
            ],
            "text/plain": [
              "       sum      prod     mean       std     max      min\n",
              "0  1.08510  0.000351  0.21702  0.080321  0.3001  0.11840\n",
              "1  0.50165  0.000007  0.10033  0.045671  0.1812  0.07017\n",
              "2  0.80170  0.000092  0.16034  0.042333  0.2069  0.10960\n",
              "3  1.03270  0.000267  0.20654  0.078097  0.2839  0.10520\n",
              "4  0.71630  0.000050  0.14326  0.044402  0.1980  0.10030"
            ]
          },
          "metadata": {},
          "execution_count": 18
        }
      ]
    },
    {
      "cell_type": "markdown",
      "metadata": {
        "id": "SpYODEjrxquO"
      },
      "source": [
        "## Combiner des paires de caractéristiques avec des fonctions mathématiques\n",
        "\n",
        "Dans la recette précédente, en combinant plusieurs fonctionnalités avec des opérations statistiques, nous avons créé de nouvelles fonctionnalités en effectuant des opérations statistiques sur plusieurs variables. Cependant, certaines opérations mathématiques, telles que la soustraction ou la division, ont plus de sens lorsqu'elles sont effectuées entre deux caractéristiques, ou lorsque l'on considère plusieurs caractéristiques par rapport à une variable de référence. Ces opérations sont très utiles pour dériver des ratios, tels que le ratio dette/revenu.\n",
        "$$ debt-to-income\\ ratio = total\\ debt / total\\ income$$\n",
        "\n",
        "Ou nous pouvons les utiliser pour des différences, par exemple, le revenu disponible.\n",
        "\n",
        "$$disposable\\ income = income\\ -\\ total\\ debt$$\n",
        "\n",
        "Dans cette recette, nous apprendrons à dériver de nouvelles caractéristiques par soustraction ou division à l'aide de pandas, et plus généralement, nous apprendrons à effectuer des opérations sur une variable de référence.\n",
        "\n"
      ]
    },
    {
      "cell_type": "code",
      "metadata": {
        "colab": {
          "base_uri": "https://localhost:8080/"
        },
        "id": "exfU19r7-0er",
        "outputId": "2e93021a-ba31-40a8-e25d-8f6a8e5a9297"
      },
      "source": [
        "# Difference between 2 features - method 1\n",
        "\n",
        "df['difference'] = df['worst compactness'].sub(df['mean compactness'])\n",
        "\n",
        "df['difference'].head()"
      ],
      "execution_count": 20,
      "outputs": [
        {
          "output_type": "execute_result",
          "data": {
            "text/plain": [
              "0    0.38800\n",
              "1    0.10796\n",
              "2    0.26460\n",
              "3    0.58240\n",
              "4    0.07220\n",
              "Name: difference, dtype: float64"
            ]
          },
          "metadata": {},
          "execution_count": 20
        }
      ]
    },
    {
      "cell_type": "code",
      "metadata": {
        "colab": {
          "base_uri": "https://localhost:8080/"
        },
        "id": "LaQjzlXx_CWb",
        "outputId": "54579d82-c847-47e9-d4a8-666176ba30a3"
      },
      "source": [
        "\n",
        "# Difference between 2 features - method 2\n",
        "\n",
        "df['difference'] = df['worst compactness'] - (df['mean compactness'])\n",
        "\n",
        "df['difference'].head()"
      ],
      "execution_count": 21,
      "outputs": [
        {
          "output_type": "execute_result",
          "data": {
            "text/plain": [
              "0    0.38800\n",
              "1    0.10796\n",
              "2    0.26460\n",
              "3    0.58240\n",
              "4    0.07220\n",
              "Name: difference, dtype: float64"
            ]
          },
          "metadata": {},
          "execution_count": 21
        }
      ]
    },
    {
      "cell_type": "code",
      "metadata": {
        "colab": {
          "base_uri": "https://localhost:8080/",
          "height": 312
        },
        "id": "Nhvwufrw_FaB",
        "outputId": "a453fd24-6bba-49e9-9f1e-80f1291ff323"
      },
      "source": [
        "# violin plot of the substraction\n",
        "\n",
        "sns.violinplot(x=\"target\", y=\"difference\", data=df)\n",
        "plt.title('Added Features')"
      ],
      "execution_count": 22,
      "outputs": [
        {
          "output_type": "execute_result",
          "data": {
            "text/plain": [
              "Text(0.5, 1.0, 'Added Features')"
            ]
          },
          "metadata": {},
          "execution_count": 22
        },
        {
          "output_type": "display_data",
          "data": {
            "image/png": "[encoded data removed]",
            "text/plain": [
              "<Figure size 432x288 with 1 Axes>"
            ]
          },
          "metadata": {
            "needs_background": "light"
          }
        }
      ]
    },
    {
      "cell_type": "code",
      "metadata": {
        "colab": {
          "base_uri": "https://localhost:8080/"
        },
        "id": "pZISinpj_JMM",
        "outputId": "f3295795-6d87-4170-fee3-f746b27e803f"
      },
      "source": [
        "# Quotient of features - method 1\n",
        "\n",
        "df['quotient'] = df['worst radius'].div(df['mean radius'])\n",
        "\n",
        "df['quotient'].head()"
      ],
      "execution_count": 23,
      "outputs": [
        {
          "output_type": "execute_result",
          "data": {
            "text/plain": [
              "0    1.410784\n",
              "1    1.214876\n",
              "2    1.197054\n",
              "3    1.305604\n",
              "4    1.110892\n",
              "Name: quotient, dtype: float64"
            ]
          },
          "metadata": {},
          "execution_count": 23
        }
      ]
    },
    {
      "cell_type": "code",
      "metadata": {
        "colab": {
          "base_uri": "https://localhost:8080/"
        },
        "id": "yh1aM-I7_Mqe",
        "outputId": "f572a8fb-4054-4086-a7cc-e77a243a764f"
      },
      "source": [
        "# Quotient of features - method 2\n",
        "\n",
        "df['quotient'] = df['worst radius'] / (df['mean radius'])\n",
        "df['quotient'].head()"
      ],
      "execution_count": 24,
      "outputs": [
        {
          "output_type": "execute_result",
          "data": {
            "text/plain": [
              "0    1.410784\n",
              "1    1.214876\n",
              "2    1.197054\n",
              "3    1.305604\n",
              "4    1.110892\n",
              "Name: quotient, dtype: float64"
            ]
          },
          "metadata": {},
          "execution_count": 24
        }
      ]
    },
    {
      "cell_type": "code",
      "metadata": {
        "colab": {
          "base_uri": "https://localhost:8080/",
          "height": 312
        },
        "id": "oTKiLH0O_U6W",
        "outputId": "fb5a209d-3fde-4a4a-9e92-904a0912ae63"
      },
      "source": [
        "# violin plot with quotient\n",
        "\n",
        "sns.violinplot(x=\"target\", y=\"quotient\", data=df)\n",
        "plt.title('Quotient of Features')\n"
      ],
      "execution_count": 25,
      "outputs": [
        {
          "output_type": "execute_result",
          "data": {
            "text/plain": [
              "Text(0.5, 1.0, 'Quotient of Features')"
            ]
          },
          "metadata": {},
          "execution_count": 25
        },
        {
          "output_type": "display_data",
          "data": {
            "image/png": "[encoded data removed]",
            "text/plain": [
              "<Figure size 432x288 with 1 Axes>"
            ]
          },
          "metadata": {
            "needs_background": "light"
          }
        }
      ]
    },
    {
      "cell_type": "markdown",
      "metadata": {
        "id": "Epd_L_PxACc3"
      },
      "source": [
        "Ensuite, nous comparerons un groupe de fonctionnalités à la vue agrégée d'un autre sous-ensemble de fonctionnalités. Commençons par capturer ces sous-ensembles de variables dans des listes"
      ]
    },
    {
      "cell_type": "code",
      "metadata": {
        "id": "SK-V00jV_X1G"
      },
      "source": [
        "\n",
        "# features of interest\n",
        "features = ['mean smoothness', 'mean compactness', 'mean concavity',\n",
        "               'mean concave points', 'mean symmetry']\n",
        "\n",
        "# features to aggregate\n",
        "worst_f = ['worst smoothness', 'worst compactness', 'worst concavity',\n",
        "               'worst concave points', 'worst symmetry']"
      ],
      "execution_count": 26,
      "outputs": []
    },
    {
      "cell_type": "markdown",
      "metadata": {
        "id": "mrF2ACSUANy6"
      },
      "source": [
        "Créer une nouvelle fonctionnalité avec la somme des fonctionnalités"
      ]
    },
    {
      "cell_type": "code",
      "metadata": {
        "colab": {
          "base_uri": "https://localhost:8080/"
        },
        "id": "YzP_UJsn_d42",
        "outputId": "8441b6ea-93d4-441f-eda3-ae34ab1b555c"
      },
      "source": [
        "\n",
        "# create new feature by sum of the worst features\n",
        "df['worst'] = df[worst_f].sum(axis=1)\n",
        "\n",
        "df['worst'].head()"
      ],
      "execution_count": 27,
      "outputs": [
        {
          "output_type": "execute_result",
          "data": {
            "text/plain": [
              "0    2.2652\n",
              "1    1.0130\n",
              "2    1.6236\n",
              "3    2.6843\n",
              "4    1.1413\n",
              "Name: worst, dtype: float64"
            ]
          },
          "metadata": {},
          "execution_count": 27
        }
      ]
    },
    {
      "cell_type": "code",
      "metadata": {
        "colab": {
          "base_uri": "https://localhost:8080/",
          "height": 204
        },
        "id": "rw1R_0vI_g0m",
        "outputId": "93f52219-5d0a-4078-b617-bef6d3b5d44a"
      },
      "source": [
        "df[features+['worst']].head()"
      ],
      "execution_count": 28,
      "outputs": [
        {
          "output_type": "execute_result",
          "data": {
            "text/html": [
              "<div>\n",
              "<style scoped>\n",
              "    .dataframe tbody tr th:only-of-type {\n",
              "        vertical-align: middle;\n",
              "    }\n",
              "\n",
              "    .dataframe tbody tr th {\n",
              "        vertical-align: top;\n",
              "    }\n",
              "\n",
              "    .dataframe thead th {\n",
              "        text-align: right;\n",
              "    }\n",
              "</style>\n",
              "<table border=\"1\" class=\"dataframe\">\n",
              "  <thead>\n",
              "    <tr style=\"text-align: right;\">\n",
              "      <th></th>\n",
              "      <th>mean smoothness</th>\n",
              "      <th>mean compactness</th>\n",
              "      <th>mean concavity</th>\n",
              "      <th>mean concave points</th>\n",
              "      <th>mean symmetry</th>\n",
              "      <th>worst</th>\n",
              "    </tr>\n",
              "  </thead>\n",
              "  <tbody>\n",
              "    <tr>\n",
              "      <th>0</th>\n",
              "      <td>0.11840</td>\n",
              "      <td>0.27760</td>\n",
              "      <td>0.3001</td>\n",
              "      <td>0.14710</td>\n",
              "      <td>0.2419</td>\n",
              "      <td>2.2652</td>\n",
              "    </tr>\n",
              "    <tr>\n",
              "      <th>1</th>\n",
              "      <td>0.08474</td>\n",
              "      <td>0.07864</td>\n",
              "      <td>0.0869</td>\n",
              "      <td>0.07017</td>\n",
              "      <td>0.1812</td>\n",
              "      <td>1.0130</td>\n",
              "    </tr>\n",
              "    <tr>\n",
              "      <th>2</th>\n",
              "      <td>0.10960</td>\n",
              "      <td>0.15990</td>\n",
              "      <td>0.1974</td>\n",
              "      <td>0.12790</td>\n",
              "      <td>0.2069</td>\n",
              "      <td>1.6236</td>\n",
              "    </tr>\n",
              "    <tr>\n",
              "      <th>3</th>\n",
              "      <td>0.14250</td>\n",
              "      <td>0.28390</td>\n",
              "      <td>0.2414</td>\n",
              "      <td>0.10520</td>\n",
              "      <td>0.2597</td>\n",
              "      <td>2.6843</td>\n",
              "    </tr>\n",
              "    <tr>\n",
              "      <th>4</th>\n",
              "      <td>0.10030</td>\n",
              "      <td>0.13280</td>\n",
              "      <td>0.1980</td>\n",
              "      <td>0.10430</td>\n",
              "      <td>0.1809</td>\n",
              "      <td>1.1413</td>\n",
              "    </tr>\n",
              "  </tbody>\n",
              "</table>\n",
              "</div>"
            ],
            "text/plain": [
              "   mean smoothness  mean compactness  ...  mean symmetry   worst\n",
              "0          0.11840           0.27760  ...         0.2419  2.2652\n",
              "1          0.08474           0.07864  ...         0.1812  1.0130\n",
              "2          0.10960           0.15990  ...         0.2069  1.6236\n",
              "3          0.14250           0.28390  ...         0.2597  2.6843\n",
              "4          0.10030           0.13280  ...         0.1809  1.1413\n",
              "\n",
              "[5 rows x 6 columns]"
            ]
          },
          "metadata": {},
          "execution_count": 28
        }
      ]
    },
    {
      "cell_type": "markdown",
      "metadata": {
        "id": "rIXyFV9NAZ9X"
      },
      "source": [
        "Obtenons le rapport entre chacune des caractéristiques"
      ]
    },
    {
      "cell_type": "code",
      "metadata": {
        "colab": {
          "base_uri": "https://localhost:8080/",
          "height": 204
        },
        "id": "j3GhnX4m_l5K",
        "outputId": "568a4662-7e76-45a8-a314-1c102e1f7148"
      },
      "source": [
        "# calculate the ratio of mutliple features vs the worst feature we created\n",
        "# in previous cells\n",
        "df[features] = df[features].div(df['worst'], axis=0)\n",
        "\n",
        "df[features].head()"
      ],
      "execution_count": 29,
      "outputs": [
        {
          "output_type": "execute_result",
          "data": {
            "text/html": [
              "<div>\n",
              "<style scoped>\n",
              "    .dataframe tbody tr th:only-of-type {\n",
              "        vertical-align: middle;\n",
              "    }\n",
              "\n",
              "    .dataframe tbody tr th {\n",
              "        vertical-align: top;\n",
              "    }\n",
              "\n",
              "    .dataframe thead th {\n",
              "        text-align: right;\n",
              "    }\n",
              "</style>\n",
              "<table border=\"1\" class=\"dataframe\">\n",
              "  <thead>\n",
              "    <tr style=\"text-align: right;\">\n",
              "      <th></th>\n",
              "      <th>mean smoothness</th>\n",
              "      <th>mean compactness</th>\n",
              "      <th>mean concavity</th>\n",
              "      <th>mean concave points</th>\n",
              "      <th>mean symmetry</th>\n",
              "    </tr>\n",
              "  </thead>\n",
              "  <tbody>\n",
              "    <tr>\n",
              "      <th>0</th>\n",
              "      <td>0.052269</td>\n",
              "      <td>0.122550</td>\n",
              "      <td>0.132483</td>\n",
              "      <td>0.064939</td>\n",
              "      <td>0.106790</td>\n",
              "    </tr>\n",
              "    <tr>\n",
              "      <th>1</th>\n",
              "      <td>0.083653</td>\n",
              "      <td>0.077631</td>\n",
              "      <td>0.085785</td>\n",
              "      <td>0.069269</td>\n",
              "      <td>0.178875</td>\n",
              "    </tr>\n",
              "    <tr>\n",
              "      <th>2</th>\n",
              "      <td>0.067504</td>\n",
              "      <td>0.098485</td>\n",
              "      <td>0.121582</td>\n",
              "      <td>0.078776</td>\n",
              "      <td>0.127433</td>\n",
              "    </tr>\n",
              "    <tr>\n",
              "      <th>3</th>\n",
              "      <td>0.053086</td>\n",
              "      <td>0.105763</td>\n",
              "      <td>0.089930</td>\n",
              "      <td>0.039191</td>\n",
              "      <td>0.096748</td>\n",
              "    </tr>\n",
              "    <tr>\n",
              "      <th>4</th>\n",
              "      <td>0.087882</td>\n",
              "      <td>0.116359</td>\n",
              "      <td>0.173486</td>\n",
              "      <td>0.091387</td>\n",
              "      <td>0.158503</td>\n",
              "    </tr>\n",
              "  </tbody>\n",
              "</table>\n",
              "</div>"
            ],
            "text/plain": [
              "   mean smoothness  mean compactness  ...  mean concave points  mean symmetry\n",
              "0         0.052269          0.122550  ...             0.064939       0.106790\n",
              "1         0.083653          0.077631  ...             0.069269       0.178875\n",
              "2         0.067504          0.098485  ...             0.078776       0.127433\n",
              "3         0.053086          0.105763  ...             0.039191       0.096748\n",
              "4         0.087882          0.116359  ...             0.091387       0.158503\n",
              "\n",
              "[5 rows x 5 columns]"
            ]
          },
          "metadata": {},
          "execution_count": 29
        }
      ]
    },
    {
      "cell_type": "markdown",
      "metadata": {
        "id": "7rdcK5OAAoSb"
      },
      "source": [
        "## Exécution d'une expansion polynomiale.\n",
        "\n",
        "Les variables existantes peuvent être combinées pour créer de nouvelles fonctionnalités pertinentes. Nous avons discuté de la façon de combiner des variables à l'aide d'opérations mathématiques et statistiques courantes dans les deux recettes précédentes, Combiner plusieurs fonctionnalités avec des opérations statistiques et Combiner des paires de fonctionnalités avec des fonctions mathématiques. Une combinaison d'une caractéristique avec elle-même, c'est-à-dire une combinaison polynomiale de la même caractéristique, peut également être assez informative ou augmenter le pouvoir prédictif de nos algorithmes. Par exemple, dans les cas où la cible suit une relation aquadratique avec une variable, la création d'un polynôme du second degré de la caractéristique nous permet de l'utiliser dans un modèle linéaire.\n",
        "\n",
        "Des combinaisons polynomiales de variables peuvent renvoyer de nouvelles variables qui transmettent des informations supplémentaires et capturent l'interaction des fonctionnalités et peuvent donc être de meilleures entrées pour nos algorithmes d'apprentissage automatique, en particulier pour les modèles linéaires. Nous pouvons créer des variables polynomiales automatiquement en utilisant scikit-learn, et, dans cette recette, nous apprendrons comment le faire.\n",
        "\n",
        "\n",
        "L'expansion polynomiale sert à automatiser la création de nouvelles caractéristiques, à capturer l'interaction des caractéristiques et à capturer les relations non linéaires potentielles entre les variables d'origine et la cible. L'utilisateur détermine quelles fonctionnalités combiner et quel degré polynomial utiliser.\n",
        "\n",
        "\n",
        "Le transformateur PolynomialFeatures() de scikit-learn crée automatiquement toutes les combinaisons polynomiales des entités avec un degré inférieur ou égal au degré spécifié. Pour suivre facilement la recette, commençons par comprendre la sortie du transformateur PolynomialFeatures () de scikit-learn, lorsqu'il est utilisé avec les deuxième et troisième degrés dans un ensemble de données avec trois variables.\n",
        "\n",
        "Les combinaisons polynomiales du second degré de trois variables (a, b et c) renvoient les nouvelles fonctionnalités suivantes :\n",
        "\n",
        "$$ [a, b, c]^2 = 1,\\ a,\\ b,\\ c,\\ ab,\\ ac,\\ bc,\\ a^2,\\ b^2,\\ c^2,\\ abc$$\n",
        "\n",
        "Notez comment nous avons toutes les interactions possibles de degré, 1 et 2. Le transformateur PolynomialFeatures() renvoie également le terme de biais 1.\n",
        "\n",
        "Les combinaisons polynomiales du troisième degré des trois variables (a, b et c) renvoient les nouvelles fonctionnalités suivantes :\n",
        "\n",
        "$$ [a, b, c]^3 = 1, a, b, c, ab, ac, bc, abc, a^2b, a^2c, b^2a, b^2c, c^2a, c^2b, a^3, b^3, c^3$$\n",
        "\n",
        "Notez comment nous avons toutes les interactions possibles de degré 1, 2 et 3 et le terme de biais 1. Maintenant que nous comprenons la sortie de l'expansion polynomiale, passons à la recette.\n"
      ]
    },
    {
      "cell_type": "markdown",
      "metadata": {
        "id": "lCrtZRMZX7P9"
      },
      "source": [
        "Importez  pandas et les fonctions, classes et ensembles de données requis à partir de scikit-learn"
      ]
    },
    {
      "cell_type": "code",
      "metadata": {
        "id": "aTpy3psaW6nn"
      },
      "source": [
        "import pandas as pd\n",
        "\n",
        "import matplotlib.pyplot as plt\n",
        "\n",
        "# the dataset for the demo\n",
        "from sklearn.datasets import load_boston\n",
        "\n",
        "from sklearn.model_selection import train_test_split\n",
        "\n",
        "from sklearn.preprocessing import PolynomialFeatures"
      ],
      "execution_count": 30,
      "outputs": []
    },
    {
      "cell_type": "markdown",
      "metadata": {
        "id": "5ufpNF7CYE_d"
      },
      "source": [
        "Chargez l'ensemble de données Boston House Prizes dans une datframe pandas"
      ]
    },
    {
      "cell_type": "code",
      "metadata": {
        "colab": {
          "base_uri": "https://localhost:8080/",
          "height": 204
        },
        "id": "7RVZEbBOW9sW",
        "outputId": "640f5774-2aa5-460f-d8d0-222a313799d2"
      },
      "source": [
        "# load the the Boston House price data from Scikit-learn\n",
        "boston_dataset = load_boston()\n",
        "\n",
        "# create a dataframe with the independent variables\n",
        "data = pd.DataFrame(boston_dataset.data,\n",
        "                    columns=boston_dataset.feature_names)\n",
        "\n",
        "# add the target\n",
        "data['MEDV'] = boston_dataset.target\n",
        "\n",
        "data.head()"
      ],
      "execution_count": 31,
      "outputs": [
        {
          "output_type": "execute_result",
          "data": {
            "text/html": [
              "<div>\n",
              "<style scoped>\n",
              "    .dataframe tbody tr th:only-of-type {\n",
              "        vertical-align: middle;\n",
              "    }\n",
              "\n",
              "    .dataframe tbody tr th {\n",
              "        vertical-align: top;\n",
              "    }\n",
              "\n",
              "    .dataframe thead th {\n",
              "        text-align: right;\n",
              "    }\n",
              "</style>\n",
              "<table border=\"1\" class=\"dataframe\">\n",
              "  <thead>\n",
              "    <tr style=\"text-align: right;\">\n",
              "      <th></th>\n",
              "      <th>CRIM</th>\n",
              "      <th>ZN</th>\n",
              "      <th>INDUS</th>\n",
              "      <th>CHAS</th>\n",
              "      <th>NOX</th>\n",
              "      <th>RM</th>\n",
              "      <th>AGE</th>\n",
              "      <th>DIS</th>\n",
              "      <th>RAD</th>\n",
              "      <th>TAX</th>\n",
              "      <th>PTRATIO</th>\n",
              "      <th>B</th>\n",
              "      <th>LSTAT</th>\n",
              "      <th>MEDV</th>\n",
              "    </tr>\n",
              "  </thead>\n",
              "  <tbody>\n",
              "    <tr>\n",
              "      <th>0</th>\n",
              "      <td>0.00632</td>\n",
              "      <td>18.0</td>\n",
              "      <td>2.31</td>\n",
              "      <td>0.0</td>\n",
              "      <td>0.538</td>\n",
              "      <td>6.575</td>\n",
              "      <td>65.2</td>\n",
              "      <td>4.0900</td>\n",
              "      <td>1.0</td>\n",
              "      <td>296.0</td>\n",
              "      <td>15.3</td>\n",
              "      <td>396.90</td>\n",
              "      <td>4.98</td>\n",
              "      <td>24.0</td>\n",
              "    </tr>\n",
              "    <tr>\n",
              "      <th>1</th>\n",
              "      <td>0.02731</td>\n",
              "      <td>0.0</td>\n",
              "      <td>7.07</td>\n",
              "      <td>0.0</td>\n",
              "      <td>0.469</td>\n",
              "      <td>6.421</td>\n",
              "      <td>78.9</td>\n",
              "      <td>4.9671</td>\n",
              "      <td>2.0</td>\n",
              "      <td>242.0</td>\n",
              "      <td>17.8</td>\n",
              "      <td>396.90</td>\n",
              "      <td>9.14</td>\n",
              "      <td>21.6</td>\n",
              "    </tr>\n",
              "    <tr>\n",
              "      <th>2</th>\n",
              "      <td>0.02729</td>\n",
              "      <td>0.0</td>\n",
              "      <td>7.07</td>\n",
              "      <td>0.0</td>\n",
              "      <td>0.469</td>\n",
              "      <td>7.185</td>\n",
              "      <td>61.1</td>\n",
              "      <td>4.9671</td>\n",
              "      <td>2.0</td>\n",
              "      <td>242.0</td>\n",
              "      <td>17.8</td>\n",
              "      <td>392.83</td>\n",
              "      <td>4.03</td>\n",
              "      <td>34.7</td>\n",
              "    </tr>\n",
              "    <tr>\n",
              "      <th>3</th>\n",
              "      <td>0.03237</td>\n",
              "      <td>0.0</td>\n",
              "      <td>2.18</td>\n",
              "      <td>0.0</td>\n",
              "      <td>0.458</td>\n",
              "      <td>6.998</td>\n",
              "      <td>45.8</td>\n",
              "      <td>6.0622</td>\n",
              "      <td>3.0</td>\n",
              "      <td>222.0</td>\n",
              "      <td>18.7</td>\n",
              "      <td>394.63</td>\n",
              "      <td>2.94</td>\n",
              "      <td>33.4</td>\n",
              "    </tr>\n",
              "    <tr>\n",
              "      <th>4</th>\n",
              "      <td>0.06905</td>\n",
              "      <td>0.0</td>\n",
              "      <td>2.18</td>\n",
              "      <td>0.0</td>\n",
              "      <td>0.458</td>\n",
              "      <td>7.147</td>\n",
              "      <td>54.2</td>\n",
              "      <td>6.0622</td>\n",
              "      <td>3.0</td>\n",
              "      <td>222.0</td>\n",
              "      <td>18.7</td>\n",
              "      <td>396.90</td>\n",
              "      <td>5.33</td>\n",
              "      <td>36.2</td>\n",
              "    </tr>\n",
              "  </tbody>\n",
              "</table>\n",
              "</div>"
            ],
            "text/plain": [
              "      CRIM    ZN  INDUS  CHAS    NOX  ...    TAX  PTRATIO       B  LSTAT  MEDV\n",
              "0  0.00632  18.0   2.31   0.0  0.538  ...  296.0     15.3  396.90   4.98  24.0\n",
              "1  0.02731   0.0   7.07   0.0  0.469  ...  242.0     17.8  396.90   9.14  21.6\n",
              "2  0.02729   0.0   7.07   0.0  0.469  ...  242.0     17.8  392.83   4.03  34.7\n",
              "3  0.03237   0.0   2.18   0.0  0.458  ...  222.0     18.7  394.63   2.94  33.4\n",
              "4  0.06905   0.0   2.18   0.0  0.458  ...  222.0     18.7  396.90   5.33  36.2\n",
              "\n",
              "[5 rows x 14 columns]"
            ]
          },
          "metadata": {},
          "execution_count": 31
        }
      ]
    },
    {
      "cell_type": "markdown",
      "metadata": {
        "id": "g6yc12QCYPBF"
      },
      "source": [
        "Sépaper l'ensemble de données en ensembles d'entrainement et de test"
      ]
    },
    {
      "cell_type": "code",
      "metadata": {
        "colab": {
          "base_uri": "https://localhost:8080/"
        },
        "id": "YX1r7EUPXAwG",
        "outputId": "cd63b201-9931-4a8d-d2e1-36af9281313c"
      },
      "source": [
        "# let's separate into training and testing set\n",
        "\n",
        "X_train, X_test, y_train, y_test = train_test_split(\n",
        "    data.drop('MEDV', axis=1), data['MEDV'], test_size=0.3, random_state=0)\n",
        "\n",
        "X_train.shape, X_test.shape"
      ],
      "execution_count": 32,
      "outputs": [
        {
          "output_type": "execute_result",
          "data": {
            "text/plain": [
              "((354, 13), (152, 13))"
            ]
          },
          "metadata": {},
          "execution_count": 32
        }
      ]
    },
    {
      "cell_type": "code",
      "metadata": {
        "colab": {
          "base_uri": "https://localhost:8080/",
          "height": 809
        },
        "id": "UqzXypSAXDJd",
        "outputId": "73be308b-c336-4564-9680-22ce8b5731af"
      },
      "source": [
        "\n",
        "# plot relation of features of interest with the target\n",
        "\n",
        "for f in ['LSTAT', 'RM', 'NOX']:\n",
        "    plt.scatter(X_train[f], y_train)\n",
        "    plt.title(f)\n",
        "    plt.show()"
      ],
      "execution_count": 33,
      "outputs": [
        {
          "output_type": "display_data",
          "data": {
            "image/png": "[encoded data removed]",
            "text/plain": [
              "<Figure size 432x288 with 1 Axes>"
            ]
          },
          "metadata": {
            "needs_background": "light"
          }
        },
        {
          "output_type": "display_data",
          "data": {
            "image/png": "[encoded data removed]",
            "text/plain": [
              "<Figure size 432x288 with 1 Axes>"
            ]
          },
          "metadata": {
            "needs_background": "light"
          }
        },
        {
          "output_type": "display_data",
          "data": {
            "image/png": "[encoded data removed]",
            "text/plain": [
              "<Figure size 432x288 with 1 Axes>"
            ]
          },
          "metadata": {
            "needs_background": "light"
          }
        }
      ]
    },
    {
      "cell_type": "markdown",
      "metadata": {
        "id": "decWxooUYjI-"
      },
      "source": [
        "Mettons en place le transformateur d'expansion polynomial de scikit-learn, pour créer les faetures par combinaison polynomiale d'un degré inférieur ou égale à 3 "
      ]
    },
    {
      "cell_type": "code",
      "metadata": {
        "id": "iMrvr_aAXGH-"
      },
      "source": [
        "# set up the polynomial expansion transformer\n",
        "\n",
        "poly = PolynomialFeatures(degree=3, interaction_only=False, include_bias=False)"
      ],
      "execution_count": 34,
      "outputs": []
    },
    {
      "cell_type": "code",
      "metadata": {
        "colab": {
          "base_uri": "https://localhost:8080/"
        },
        "id": "vAmLqf2lXK-5",
        "outputId": "dbdc5450-ee91-457a-ccee-457c3624b8ff"
      },
      "source": [
        "# train the polynomial expansion transformer\n",
        "\n",
        "poly.fit(X_train[['LSTAT', 'RM', 'NOX']])"
      ],
      "execution_count": 35,
      "outputs": [
        {
          "output_type": "execute_result",
          "data": {
            "text/plain": [
              "PolynomialFeatures(degree=3, include_bias=False, interaction_only=False,\n",
              "                   order='C')"
            ]
          },
          "metadata": {},
          "execution_count": 35
        }
      ]
    },
    {
      "cell_type": "code",
      "metadata": {
        "id": "ku_L02Q6XOun"
      },
      "source": [
        "# create the new features\n",
        "\n",
        "train_t = poly.transform(X_train[['LSTAT', 'RM', 'NOX']])\n",
        "test_t = poly.transform(X_test[['LSTAT', 'RM', 'NOX']])"
      ],
      "execution_count": 36,
      "outputs": []
    },
    {
      "cell_type": "code",
      "metadata": {
        "colab": {
          "base_uri": "https://localhost:8080/"
        },
        "id": "v9dBe_ZPXSCZ",
        "outputId": "9548eeab-a161-4c7f-86e3-9059038a651b"
      },
      "source": [
        "\n",
        "# visualise the name of the created features\n",
        "\n",
        "poly.get_feature_names(['LSTAT', 'RM', 'NOX'])"
      ],
      "execution_count": 37,
      "outputs": [
        {
          "output_type": "execute_result",
          "data": {
            "text/plain": [
              "['LSTAT',\n",
              " 'RM',\n",
              " 'NOX',\n",
              " 'LSTAT^2',\n",
              " 'LSTAT RM',\n",
              " 'LSTAT NOX',\n",
              " 'RM^2',\n",
              " 'RM NOX',\n",
              " 'NOX^2',\n",
              " 'LSTAT^3',\n",
              " 'LSTAT^2 RM',\n",
              " 'LSTAT^2 NOX',\n",
              " 'LSTAT RM^2',\n",
              " 'LSTAT RM NOX',\n",
              " 'LSTAT NOX^2',\n",
              " 'RM^3',\n",
              " 'RM^2 NOX',\n",
              " 'RM NOX^2',\n",
              " 'NOX^3']"
            ]
          },
          "metadata": {},
          "execution_count": 37
        }
      ]
    },
    {
      "cell_type": "code",
      "metadata": {
        "colab": {
          "base_uri": "https://localhost:8080/"
        },
        "id": "6RAg4XU9XUcY",
        "outputId": "46ac5078-7acd-4f57-a95f-2dd2081c3300"
      },
      "source": [
        "len(poly.get_feature_names(['LSTAT', 'RM', 'NOX']))"
      ],
      "execution_count": 38,
      "outputs": [
        {
          "output_type": "execute_result",
          "data": {
            "text/plain": [
              "19"
            ]
          },
          "metadata": {},
          "execution_count": 38
        }
      ]
    },
    {
      "cell_type": "code",
      "metadata": {
        "colab": {
          "base_uri": "https://localhost:8080/",
          "height": 204
        },
        "id": "KSfHDPz3XYLM",
        "outputId": "191fbd04-1771-4b66-dc1a-acfa58d13ed6"
      },
      "source": [
        "# capture the returned features in a dataframe\n",
        "test_t = pd.DataFrame(test_t)\n",
        "\n",
        "# add column names of created features\n",
        "test_t.columns = poly.get_feature_names(['LSTAT', 'RM', 'NOX'])\n",
        "\n",
        "\n",
        "test_t.head()"
      ],
      "execution_count": 39,
      "outputs": [
        {
          "output_type": "execute_result",
          "data": {
            "text/html": [
              "<div>\n",
              "<style scoped>\n",
              "    .dataframe tbody tr th:only-of-type {\n",
              "        vertical-align: middle;\n",
              "    }\n",
              "\n",
              "    .dataframe tbody tr th {\n",
              "        vertical-align: top;\n",
              "    }\n",
              "\n",
              "    .dataframe thead th {\n",
              "        text-align: right;\n",
              "    }\n",
              "</style>\n",
              "<table border=\"1\" class=\"dataframe\">\n",
              "  <thead>\n",
              "    <tr style=\"text-align: right;\">\n",
              "      <th></th>\n",
              "      <th>LSTAT</th>\n",
              "      <th>RM</th>\n",
              "      <th>NOX</th>\n",
              "      <th>LSTAT^2</th>\n",
              "      <th>LSTAT RM</th>\n",
              "      <th>LSTAT NOX</th>\n",
              "      <th>RM^2</th>\n",
              "      <th>RM NOX</th>\n",
              "      <th>NOX^2</th>\n",
              "      <th>LSTAT^3</th>\n",
              "      <th>LSTAT^2 RM</th>\n",
              "      <th>LSTAT^2 NOX</th>\n",
              "      <th>LSTAT RM^2</th>\n",
              "      <th>LSTAT RM NOX</th>\n",
              "      <th>LSTAT NOX^2</th>\n",
              "      <th>RM^3</th>\n",
              "      <th>RM^2 NOX</th>\n",
              "      <th>RM NOX^2</th>\n",
              "      <th>NOX^3</th>\n",
              "    </tr>\n",
              "  </thead>\n",
              "  <tbody>\n",
              "    <tr>\n",
              "      <th>0</th>\n",
              "      <td>7.34</td>\n",
              "      <td>6.333</td>\n",
              "      <td>0.460</td>\n",
              "      <td>53.8756</td>\n",
              "      <td>46.48422</td>\n",
              "      <td>3.37640</td>\n",
              "      <td>40.106889</td>\n",
              "      <td>2.913180</td>\n",
              "      <td>0.211600</td>\n",
              "      <td>395.446904</td>\n",
              "      <td>341.194175</td>\n",
              "      <td>24.782776</td>\n",
              "      <td>294.384565</td>\n",
              "      <td>21.382741</td>\n",
              "      <td>1.553144</td>\n",
              "      <td>253.996928</td>\n",
              "      <td>18.449169</td>\n",
              "      <td>1.340063</td>\n",
              "      <td>0.097336</td>\n",
              "    </tr>\n",
              "    <tr>\n",
              "      <th>1</th>\n",
              "      <td>9.53</td>\n",
              "      <td>6.216</td>\n",
              "      <td>0.631</td>\n",
              "      <td>90.8209</td>\n",
              "      <td>59.23848</td>\n",
              "      <td>6.01343</td>\n",
              "      <td>38.638656</td>\n",
              "      <td>3.922296</td>\n",
              "      <td>0.398161</td>\n",
              "      <td>865.523177</td>\n",
              "      <td>564.542714</td>\n",
              "      <td>57.307988</td>\n",
              "      <td>368.226392</td>\n",
              "      <td>37.379481</td>\n",
              "      <td>3.794474</td>\n",
              "      <td>240.177886</td>\n",
              "      <td>24.380992</td>\n",
              "      <td>2.474969</td>\n",
              "      <td>0.251240</td>\n",
              "    </tr>\n",
              "    <tr>\n",
              "      <th>2</th>\n",
              "      <td>10.50</td>\n",
              "      <td>6.373</td>\n",
              "      <td>0.550</td>\n",
              "      <td>110.2500</td>\n",
              "      <td>66.91650</td>\n",
              "      <td>5.77500</td>\n",
              "      <td>40.615129</td>\n",
              "      <td>3.505150</td>\n",
              "      <td>0.302500</td>\n",
              "      <td>1157.625000</td>\n",
              "      <td>702.623250</td>\n",
              "      <td>60.637500</td>\n",
              "      <td>426.458855</td>\n",
              "      <td>36.804075</td>\n",
              "      <td>3.176250</td>\n",
              "      <td>258.840217</td>\n",
              "      <td>22.338321</td>\n",
              "      <td>1.927833</td>\n",
              "      <td>0.166375</td>\n",
              "    </tr>\n",
              "    <tr>\n",
              "      <th>3</th>\n",
              "      <td>19.77</td>\n",
              "      <td>5.349</td>\n",
              "      <td>0.693</td>\n",
              "      <td>390.8529</td>\n",
              "      <td>105.74973</td>\n",
              "      <td>13.70061</td>\n",
              "      <td>28.611801</td>\n",
              "      <td>3.706857</td>\n",
              "      <td>0.480249</td>\n",
              "      <td>7727.161833</td>\n",
              "      <td>2090.672162</td>\n",
              "      <td>270.861060</td>\n",
              "      <td>565.655306</td>\n",
              "      <td>73.284563</td>\n",
              "      <td>9.494523</td>\n",
              "      <td>153.044524</td>\n",
              "      <td>19.827978</td>\n",
              "      <td>2.568852</td>\n",
              "      <td>0.332813</td>\n",
              "    </tr>\n",
              "    <tr>\n",
              "      <th>4</th>\n",
              "      <td>12.34</td>\n",
              "      <td>6.232</td>\n",
              "      <td>0.437</td>\n",
              "      <td>152.2756</td>\n",
              "      <td>76.90288</td>\n",
              "      <td>5.39258</td>\n",
              "      <td>38.837824</td>\n",
              "      <td>2.723384</td>\n",
              "      <td>0.190969</td>\n",
              "      <td>1879.080904</td>\n",
              "      <td>948.981539</td>\n",
              "      <td>66.544437</td>\n",
              "      <td>479.258748</td>\n",
              "      <td>33.606559</td>\n",
              "      <td>2.356557</td>\n",
              "      <td>242.037319</td>\n",
              "      <td>16.972129</td>\n",
              "      <td>1.190119</td>\n",
              "      <td>0.083453</td>\n",
              "    </tr>\n",
              "  </tbody>\n",
              "</table>\n",
              "</div>"
            ],
            "text/plain": [
              "   LSTAT     RM    NOX   LSTAT^2  ...        RM^3   RM^2 NOX  RM NOX^2     NOX^3\n",
              "0   7.34  6.333  0.460   53.8756  ...  253.996928  18.449169  1.340063  0.097336\n",
              "1   9.53  6.216  0.631   90.8209  ...  240.177886  24.380992  2.474969  0.251240\n",
              "2  10.50  6.373  0.550  110.2500  ...  258.840217  22.338321  1.927833  0.166375\n",
              "3  19.77  5.349  0.693  390.8529  ...  153.044524  19.827978  2.568852  0.332813\n",
              "4  12.34  6.232  0.437  152.2756  ...  242.037319  16.972129  1.190119  0.083453\n",
              "\n",
              "[5 rows x 19 columns]"
            ]
          },
          "metadata": {},
          "execution_count": 39
        }
      ]
    },
    {
      "cell_type": "code",
      "metadata": {
        "colab": {
          "base_uri": "https://localhost:8080/",
          "height": 716
        },
        "id": "D1kKbI66adBY",
        "outputId": "803febea-3616-43cd-b8de-14dff6cf706b"
      },
      "source": [
        "# plot the new features vs the target\n",
        "\n",
        "# https://stackoverflow.com/questions/6541123/improve-subplot-size-spacing-with-many-subplots-in-matplotlib\n",
        "\n",
        "def plot_features(df):\n",
        "\n",
        "    # function plots 9 images\n",
        "    nb_rows = 5\n",
        "    nb_cols = 4\n",
        "    \n",
        "    fig, axs = plt.subplots(nb_rows, nb_cols, figsize=(12, 12))\n",
        "    plt.subplots_adjust(wspace=None, hspace=0.4)\n",
        "\n",
        "    n = 0\n",
        "    for i in range(0, nb_rows):\n",
        "        for j in range(0, nb_cols):\n",
        "            if n!=19:\n",
        "                axs[i, j].scatter(test_t[test_t.columns[n]], y_test)\n",
        "                axs[i, j].set_title(test_t.columns[n])\n",
        "                n += 1\n",
        "    plt.show()\n",
        "    \n",
        "plot_features(test_t)"
      ],
      "execution_count": 40,
      "outputs": [
        {
          "output_type": "display_data",
          "data": {
            "image/png": "[encoded data removed]",
            "text/plain": [
              "<Figure size 864x864 with 20 Axes>"
            ]
          },
          "metadata": {
            "needs_background": "light"
          }
        }
      ]
    },
    {
      "cell_type": "markdown",
      "metadata": {
        "id": "Y-fU81oOa9ga"
      },
      "source": [
        "## Dérivation de nouvelles fonctionnalités avec des arbres de décision.\n",
        "\n",
        "Dans la solution gagnante du concours KDD en 2009, les auteurs ont créé de nouvelles fonctionnalités en combinant deux ou plusieurs variables à l'aide d'arbres de décision, puis ont utilisé ces variables pour former le modèle prédictif gagnant. Cette technique est particulièrement utile pour dériver des caractéristiques monotones avec la cible, ce qui est pratique pour les modèles linéaires. La procédure consiste à construire un arbre de décision à l'aide d'un sous-ensemble de fonctionnalités, généralement deux ou trois à la fois, puis à utiliser la prédiction de l'arbre en tant que nouvelle fonctionnalité.\n",
        "\n",
        "La création de nouvelles fonctionnalités avec des arbres de décision crée non seulement des relations monotones entre les fonctionnalités et la cible, mais capture également les interactions des fonctionnalités, ce qui est utile lors de la création de modèles qui ne le font pas automatiquement, tels que les modèles linéaires.\n",
        "\n",
        "Dans cette recette, nous allons apprendre à créer de nouvelles fonctionnalités avec des arbres de décision en utilisant pandas et scikit-learn"
      ]
    },
    {
      "cell_type": "markdown",
      "metadata": {
        "id": "mtx662aecn9S"
      },
      "source": [
        "Commençons par importer les bibliothèques requises et préparer l'ensemble de données"
      ]
    },
    {
      "cell_type": "code",
      "metadata": {
        "id": "spLZWRWAcD5o"
      },
      "source": [
        "import pandas as pd\n",
        "\n",
        "import matplotlib.pyplot as plt\n",
        "\n",
        "# the dataset for the demo\n",
        "from sklearn.datasets import load_boston\n",
        "\n",
        "from sklearn.model_selection import train_test_split\n",
        "\n",
        "from sklearn.tree import DecisionTreeRegressor\n",
        "from sklearn.model_selection import GridSearchCV"
      ],
      "execution_count": 41,
      "outputs": []
    },
    {
      "cell_type": "code",
      "metadata": {
        "colab": {
          "base_uri": "https://localhost:8080/",
          "height": 204
        },
        "id": "lRKuljv9cGQ7",
        "outputId": "a595fad1-40e4-4efa-ecb3-bbb7af9e1915"
      },
      "source": [
        "# load the the Boston House price data from Scikit-learn\n",
        "boston_dataset = load_boston()\n",
        "\n",
        "# create a dataframe with the independent variables\n",
        "data = pd.DataFrame(boston_dataset.data,\n",
        "                    columns=boston_dataset.feature_names)\n",
        "\n",
        "# add the target\n",
        "data['MEDV'] = boston_dataset.target\n",
        "\n",
        "data.head()"
      ],
      "execution_count": 42,
      "outputs": [
        {
          "output_type": "execute_result",
          "data": {
            "text/html": [
              "<div>\n",
              "<style scoped>\n",
              "    .dataframe tbody tr th:only-of-type {\n",
              "        vertical-align: middle;\n",
              "    }\n",
              "\n",
              "    .dataframe tbody tr th {\n",
              "        vertical-align: top;\n",
              "    }\n",
              "\n",
              "    .dataframe thead th {\n",
              "        text-align: right;\n",
              "    }\n",
              "</style>\n",
              "<table border=\"1\" class=\"dataframe\">\n",
              "  <thead>\n",
              "    <tr style=\"text-align: right;\">\n",
              "      <th></th>\n",
              "      <th>CRIM</th>\n",
              "      <th>ZN</th>\n",
              "      <th>INDUS</th>\n",
              "      <th>CHAS</th>\n",
              "      <th>NOX</th>\n",
              "      <th>RM</th>\n",
              "      <th>AGE</th>\n",
              "      <th>DIS</th>\n",
              "      <th>RAD</th>\n",
              "      <th>TAX</th>\n",
              "      <th>PTRATIO</th>\n",
              "      <th>B</th>\n",
              "      <th>LSTAT</th>\n",
              "      <th>MEDV</th>\n",
              "    </tr>\n",
              "  </thead>\n",
              "  <tbody>\n",
              "    <tr>\n",
              "      <th>0</th>\n",
              "      <td>0.00632</td>\n",
              "      <td>18.0</td>\n",
              "      <td>2.31</td>\n",
              "      <td>0.0</td>\n",
              "      <td>0.538</td>\n",
              "      <td>6.575</td>\n",
              "      <td>65.2</td>\n",
              "      <td>4.0900</td>\n",
              "      <td>1.0</td>\n",
              "      <td>296.0</td>\n",
              "      <td>15.3</td>\n",
              "      <td>396.90</td>\n",
              "      <td>4.98</td>\n",
              "      <td>24.0</td>\n",
              "    </tr>\n",
              "    <tr>\n",
              "      <th>1</th>\n",
              "      <td>0.02731</td>\n",
              "      <td>0.0</td>\n",
              "      <td>7.07</td>\n",
              "      <td>0.0</td>\n",
              "      <td>0.469</td>\n",
              "      <td>6.421</td>\n",
              "      <td>78.9</td>\n",
              "      <td>4.9671</td>\n",
              "      <td>2.0</td>\n",
              "      <td>242.0</td>\n",
              "      <td>17.8</td>\n",
              "      <td>396.90</td>\n",
              "      <td>9.14</td>\n",
              "      <td>21.6</td>\n",
              "    </tr>\n",
              "    <tr>\n",
              "      <th>2</th>\n",
              "      <td>0.02729</td>\n",
              "      <td>0.0</td>\n",
              "      <td>7.07</td>\n",
              "      <td>0.0</td>\n",
              "      <td>0.469</td>\n",
              "      <td>7.185</td>\n",
              "      <td>61.1</td>\n",
              "      <td>4.9671</td>\n",
              "      <td>2.0</td>\n",
              "      <td>242.0</td>\n",
              "      <td>17.8</td>\n",
              "      <td>392.83</td>\n",
              "      <td>4.03</td>\n",
              "      <td>34.7</td>\n",
              "    </tr>\n",
              "    <tr>\n",
              "      <th>3</th>\n",
              "      <td>0.03237</td>\n",
              "      <td>0.0</td>\n",
              "      <td>2.18</td>\n",
              "      <td>0.0</td>\n",
              "      <td>0.458</td>\n",
              "      <td>6.998</td>\n",
              "      <td>45.8</td>\n",
              "      <td>6.0622</td>\n",
              "      <td>3.0</td>\n",
              "      <td>222.0</td>\n",
              "      <td>18.7</td>\n",
              "      <td>394.63</td>\n",
              "      <td>2.94</td>\n",
              "      <td>33.4</td>\n",
              "    </tr>\n",
              "    <tr>\n",
              "      <th>4</th>\n",
              "      <td>0.06905</td>\n",
              "      <td>0.0</td>\n",
              "      <td>2.18</td>\n",
              "      <td>0.0</td>\n",
              "      <td>0.458</td>\n",
              "      <td>7.147</td>\n",
              "      <td>54.2</td>\n",
              "      <td>6.0622</td>\n",
              "      <td>3.0</td>\n",
              "      <td>222.0</td>\n",
              "      <td>18.7</td>\n",
              "      <td>396.90</td>\n",
              "      <td>5.33</td>\n",
              "      <td>36.2</td>\n",
              "    </tr>\n",
              "  </tbody>\n",
              "</table>\n",
              "</div>"
            ],
            "text/plain": [
              "      CRIM    ZN  INDUS  CHAS    NOX  ...    TAX  PTRATIO       B  LSTAT  MEDV\n",
              "0  0.00632  18.0   2.31   0.0  0.538  ...  296.0     15.3  396.90   4.98  24.0\n",
              "1  0.02731   0.0   7.07   0.0  0.469  ...  242.0     17.8  396.90   9.14  21.6\n",
              "2  0.02729   0.0   7.07   0.0  0.469  ...  242.0     17.8  392.83   4.03  34.7\n",
              "3  0.03237   0.0   2.18   0.0  0.458  ...  222.0     18.7  394.63   2.94  33.4\n",
              "4  0.06905   0.0   2.18   0.0  0.458  ...  222.0     18.7  396.90   5.33  36.2\n",
              "\n",
              "[5 rows x 14 columns]"
            ]
          },
          "metadata": {},
          "execution_count": 42
        }
      ]
    },
    {
      "cell_type": "code",
      "metadata": {
        "colab": {
          "base_uri": "https://localhost:8080/"
        },
        "id": "L-d76VTVcI8E",
        "outputId": "0cbffecb-b16c-4186-b9c8-6915113246a6"
      },
      "source": [
        "# let's separate into training and testing set\n",
        "\n",
        "X_train, X_test, y_train, y_test = train_test_split(\n",
        "    data.drop('MEDV', axis=1), data['MEDV'], test_size=0.3, random_state=0)\n",
        "\n",
        "X_train.shape, X_test.shape"
      ],
      "execution_count": 43,
      "outputs": [
        {
          "output_type": "execute_result",
          "data": {
            "text/plain": [
              "((354, 13), (152, 13))"
            ]
          },
          "metadata": {},
          "execution_count": 43
        }
      ]
    },
    {
      "cell_type": "code",
      "metadata": {
        "colab": {
          "base_uri": "https://localhost:8080/",
          "height": 809
        },
        "id": "ItMJu5evcMbw",
        "outputId": "51759eec-5e84-4bf4-a393-20eb592bec7f"
      },
      "source": [
        "for f in ['LSTAT', 'RM', 'NOX']:\n",
        "    plt.scatter(X_train[f], y_train)\n",
        "    plt.title(f)\n",
        "    plt.show()\n"
      ],
      "execution_count": 44,
      "outputs": [
        {
          "output_type": "display_data",
          "data": {
            "image/png": "[encoded data removed]",
            "text/plain": [
              "<Figure size 432x288 with 1 Axes>"
            ]
          },
          "metadata": {
            "needs_background": "light"
          }
        },
        {
          "output_type": "display_data",
          "data": {
            "image/png": "[encoded data removed]",
            "text/plain": [
              "<Figure size 432x288 with 1 Axes>"
            ]
          },
          "metadata": {
            "needs_background": "light"
          }
        },
        {
          "output_type": "display_data",
          "data": {
            "image/png": "[encoded data removed]",
            "text/plain": [
              "<Figure size 432x288 with 1 Axes>"
            ]
          },
          "metadata": {
            "needs_background": "light"
          }
        }
      ]
    },
    {
      "cell_type": "markdown",
      "metadata": {
        "id": "wV0r5ovoc8U-"
      },
      "source": [
        "Dans les lignes suivantes, nous allons créer une nouvelle entité à partir de trois variables existantes dans l'ensemble de données à l'aide d'un arbre de décision. Nous allons construire cet arbre de décision dans GridSearch() afin d'optimiser l'un de ses paramètres"
      ]
    },
    {
      "cell_type": "code",
      "metadata": {
        "id": "R_5hAPCNcPX6"
      },
      "source": [
        "# set up the grid with parameters to test\n",
        "param_grid = {'max_depth': [3,4,None]}"
      ],
      "execution_count": 45,
      "outputs": []
    },
    {
      "cell_type": "code",
      "metadata": {
        "id": "eoWifRIacRzi"
      },
      "source": [
        "# set up the tree within a grid search\n",
        "tree_model = GridSearchCV(DecisionTreeRegressor(random_state=0),\n",
        "                          cv = 5, \n",
        "                          scoring = 'neg_mean_squared_error',\n",
        "                          param_grid = param_grid)"
      ],
      "execution_count": 46,
      "outputs": []
    },
    {
      "cell_type": "code",
      "metadata": {
        "colab": {
          "base_uri": "https://localhost:8080/"
        },
        "id": "crPothH-cUiN",
        "outputId": "78ea3c92-d28c-49f1-cb7e-0b831841ee64"
      },
      "source": [
        "# train the decision tree\n",
        "tree_model.fit(X_train[['LSTAT', 'RM', 'NOX']], y_train)"
      ],
      "execution_count": 47,
      "outputs": [
        {
          "output_type": "execute_result",
          "data": {
            "text/plain": [
              "GridSearchCV(cv=5, error_score=nan,\n",
              "             estimator=DecisionTreeRegressor(ccp_alpha=0.0, criterion='mse',\n",
              "                                             max_depth=None, max_features=None,\n",
              "                                             max_leaf_nodes=None,\n",
              "                                             min_impurity_decrease=0.0,\n",
              "                                             min_impurity_split=None,\n",
              "                                             min_samples_leaf=1,\n",
              "                                             min_samples_split=2,\n",
              "                                             min_weight_fraction_leaf=0.0,\n",
              "                                             presort='deprecated',\n",
              "                                             random_state=0, splitter='best'),\n",
              "             iid='deprecated', n_jobs=None,\n",
              "             param_grid={'max_depth': [3, 4, None]}, pre_dispatch='2*n_jobs',\n",
              "             refit=True, return_train_score=False,\n",
              "             scoring='neg_mean_squared_error', verbose=0)"
            ]
          },
          "metadata": {},
          "execution_count": 47
        }
      ]
    },
    {
      "cell_type": "code",
      "metadata": {
        "id": "MySou4owcX3C"
      },
      "source": [
        "# create the new feature\n",
        "\n",
        "X_train['new_feat'] = tree_model.predict(X_train[['LSTAT', 'RM', 'NOX']])\n",
        "X_test['new_feat'] = tree_model.predict(X_test[['LSTAT', 'RM', 'NOX']])"
      ],
      "execution_count": 48,
      "outputs": []
    },
    {
      "cell_type": "code",
      "metadata": {
        "colab": {
          "base_uri": "https://localhost:8080/",
          "height": 313
        },
        "id": "OvXD-tdBcanr",
        "outputId": "eb06f3bd-2c6b-45d3-a3cf-138806d3aba0"
      },
      "source": [
        "# plot the new feature\n",
        "\n",
        "plt.scatter(X_test['new_feat'], y_test)\n",
        "plt.ylabel('MEDV')\n",
        "plt.xlabel('new_feat')\n",
        "plt.title('Tree derived feature vs House Price')"
      ],
      "execution_count": 49,
      "outputs": [
        {
          "output_type": "execute_result",
          "data": {
            "text/plain": [
              "Text(0.5, 1.0, 'Tree derived feature vs House Price')"
            ]
          },
          "metadata": {},
          "execution_count": 49
        },
        {
          "output_type": "display_data",
          "data": {
            "image/png": "[encoded data removed]",
            "text/plain": [
              "<Figure size 432x288 with 1 Axes>"
            ]
          },
          "metadata": {
            "needs_background": "light"
          }
        }
      ]
    },
    {
      "cell_type": "markdown",
      "metadata": {
        "id": "btb-3vZ8dauT"
      },
      "source": [
        "## Réalisation de l'ACP\n",
        "\n",
        "L4ACP est une technique de réduction de la dimensionnalité utilisé pour\n",
        "réduire un ensemble de données de grande dimention en un sous-ensemble plus petit de composantes principales (PC), qui expliquent la plupart de la\n",
        "vriabilité observée dans les données d'origine. le premier CP des données est\n",
        "\n",
        "un vecteur duquel les observations varient le plus, ou en d'autres termes, une combinaison linéaire des variables de l'ensemble de données qui maximise la variance. Mathématiquement, le premier PC minimise la somme des carrés des distances entre chaque observation et le PC. Le deuxième PC est à nouveau une combinaison linéaire des variables d'origine, qui capture la plus grande variance restante et est soumis à la contrainte perpendiculaire au premier PC.\n",
        "\n",
        "En général, nous pouvons construire autant de PC que de variables dans l'ensemble de données. Chaque PC est une combinaison linéaire des variables, orthogonale aux autres composantes, et maximise la variance restante, qui est laissée inexpliquée par les PC précédents. La façon dont ces PC sont construits signifie qu'il est souvent possible pour quelques-uns des premiers PC de capturer la plupart des informations des données d'origine, ainsi que la plupart de ses relations avec la cible.\n",
        "\n",
        "Dans cette recette, nous allons implémenter PCA pour réduire les dimensions de nos données et créer de nouvelles fonctionnalités, les composants principaux, en utilisant scikit-learn"
      ]
    },
    {
      "cell_type": "code",
      "metadata": {
        "id": "rQLHfLBIf0nD"
      },
      "source": [
        "import pandas as pd\n",
        "\n",
        "import matplotlib.pyplot as plt\n",
        "\n",
        "# the dataset for the demo\n",
        "from sklearn.datasets import load_boston\n",
        "\n",
        "from sklearn.model_selection import train_test_split\n",
        "\n",
        "from sklearn.decomposition import PCA"
      ],
      "execution_count": 50,
      "outputs": []
    },
    {
      "cell_type": "code",
      "metadata": {
        "colab": {
          "base_uri": "https://localhost:8080/",
          "height": 204
        },
        "id": "DE2bp6IEf3xC",
        "outputId": "40e8ace3-af1e-425b-81ae-92b7980013c9"
      },
      "source": [
        "# load the the Boston House price data from Scikit-learn\n",
        "boston_dataset = load_boston()\n",
        "\n",
        "# create a dataframe with the independent variables\n",
        "data = pd.DataFrame(boston_dataset.data,\n",
        "                    columns=boston_dataset.feature_names)\n",
        "\n",
        "# add the target\n",
        "data['MEDV'] = boston_dataset.target\n",
        "\n",
        "data.head()"
      ],
      "execution_count": 51,
      "outputs": [
        {
          "output_type": "execute_result",
          "data": {
            "text/html": [
              "<div>\n",
              "<style scoped>\n",
              "    .dataframe tbody tr th:only-of-type {\n",
              "        vertical-align: middle;\n",
              "    }\n",
              "\n",
              "    .dataframe tbody tr th {\n",
              "        vertical-align: top;\n",
              "    }\n",
              "\n",
              "    .dataframe thead th {\n",
              "        text-align: right;\n",
              "    }\n",
              "</style>\n",
              "<table border=\"1\" class=\"dataframe\">\n",
              "  <thead>\n",
              "    <tr style=\"text-align: right;\">\n",
              "      <th></th>\n",
              "      <th>CRIM</th>\n",
              "      <th>ZN</th>\n",
              "      <th>INDUS</th>\n",
              "      <th>CHAS</th>\n",
              "      <th>NOX</th>\n",
              "      <th>RM</th>\n",
              "      <th>AGE</th>\n",
              "      <th>DIS</th>\n",
              "      <th>RAD</th>\n",
              "      <th>TAX</th>\n",
              "      <th>PTRATIO</th>\n",
              "      <th>B</th>\n",
              "      <th>LSTAT</th>\n",
              "      <th>MEDV</th>\n",
              "    </tr>\n",
              "  </thead>\n",
              "  <tbody>\n",
              "    <tr>\n",
              "      <th>0</th>\n",
              "      <td>0.00632</td>\n",
              "      <td>18.0</td>\n",
              "      <td>2.31</td>\n",
              "      <td>0.0</td>\n",
              "      <td>0.538</td>\n",
              "      <td>6.575</td>\n",
              "      <td>65.2</td>\n",
              "      <td>4.0900</td>\n",
              "      <td>1.0</td>\n",
              "      <td>296.0</td>\n",
              "      <td>15.3</td>\n",
              "      <td>396.90</td>\n",
              "      <td>4.98</td>\n",
              "      <td>24.0</td>\n",
              "    </tr>\n",
              "    <tr>\n",
              "      <th>1</th>\n",
              "      <td>0.02731</td>\n",
              "      <td>0.0</td>\n",
              "      <td>7.07</td>\n",
              "      <td>0.0</td>\n",
              "      <td>0.469</td>\n",
              "      <td>6.421</td>\n",
              "      <td>78.9</td>\n",
              "      <td>4.9671</td>\n",
              "      <td>2.0</td>\n",
              "      <td>242.0</td>\n",
              "      <td>17.8</td>\n",
              "      <td>396.90</td>\n",
              "      <td>9.14</td>\n",
              "      <td>21.6</td>\n",
              "    </tr>\n",
              "    <tr>\n",
              "      <th>2</th>\n",
              "      <td>0.02729</td>\n",
              "      <td>0.0</td>\n",
              "      <td>7.07</td>\n",
              "      <td>0.0</td>\n",
              "      <td>0.469</td>\n",
              "      <td>7.185</td>\n",
              "      <td>61.1</td>\n",
              "      <td>4.9671</td>\n",
              "      <td>2.0</td>\n",
              "      <td>242.0</td>\n",
              "      <td>17.8</td>\n",
              "      <td>392.83</td>\n",
              "      <td>4.03</td>\n",
              "      <td>34.7</td>\n",
              "    </tr>\n",
              "    <tr>\n",
              "      <th>3</th>\n",
              "      <td>0.03237</td>\n",
              "      <td>0.0</td>\n",
              "      <td>2.18</td>\n",
              "      <td>0.0</td>\n",
              "      <td>0.458</td>\n",
              "      <td>6.998</td>\n",
              "      <td>45.8</td>\n",
              "      <td>6.0622</td>\n",
              "      <td>3.0</td>\n",
              "      <td>222.0</td>\n",
              "      <td>18.7</td>\n",
              "      <td>394.63</td>\n",
              "      <td>2.94</td>\n",
              "      <td>33.4</td>\n",
              "    </tr>\n",
              "    <tr>\n",
              "      <th>4</th>\n",
              "      <td>0.06905</td>\n",
              "      <td>0.0</td>\n",
              "      <td>2.18</td>\n",
              "      <td>0.0</td>\n",
              "      <td>0.458</td>\n",
              "      <td>7.147</td>\n",
              "      <td>54.2</td>\n",
              "      <td>6.0622</td>\n",
              "      <td>3.0</td>\n",
              "      <td>222.0</td>\n",
              "      <td>18.7</td>\n",
              "      <td>396.90</td>\n",
              "      <td>5.33</td>\n",
              "      <td>36.2</td>\n",
              "    </tr>\n",
              "  </tbody>\n",
              "</table>\n",
              "</div>"
            ],
            "text/plain": [
              "      CRIM    ZN  INDUS  CHAS    NOX  ...    TAX  PTRATIO       B  LSTAT  MEDV\n",
              "0  0.00632  18.0   2.31   0.0  0.538  ...  296.0     15.3  396.90   4.98  24.0\n",
              "1  0.02731   0.0   7.07   0.0  0.469  ...  242.0     17.8  396.90   9.14  21.6\n",
              "2  0.02729   0.0   7.07   0.0  0.469  ...  242.0     17.8  392.83   4.03  34.7\n",
              "3  0.03237   0.0   2.18   0.0  0.458  ...  222.0     18.7  394.63   2.94  33.4\n",
              "4  0.06905   0.0   2.18   0.0  0.458  ...  222.0     18.7  396.90   5.33  36.2\n",
              "\n",
              "[5 rows x 14 columns]"
            ]
          },
          "metadata": {},
          "execution_count": 51
        }
      ]
    },
    {
      "cell_type": "code",
      "metadata": {
        "colab": {
          "base_uri": "https://localhost:8080/"
        },
        "id": "UR1eOdUUf6E0",
        "outputId": "694c8695-e2af-475d-ec73-70f6e627029c"
      },
      "source": [
        "\n",
        "# let's separate into training and testing set\n",
        "\n",
        "X_train, X_test, y_train, y_test = train_test_split(\n",
        "    data.drop('MEDV', axis=1), data['MEDV'], test_size=0.3, random_state=0)\n",
        "\n",
        "X_train.shape, X_test.shape"
      ],
      "execution_count": 52,
      "outputs": [
        {
          "output_type": "execute_result",
          "data": {
            "text/plain": [
              "((354, 13), (152, 13))"
            ]
          },
          "metadata": {},
          "execution_count": 52
        }
      ]
    },
    {
      "cell_type": "code",
      "metadata": {
        "id": "8DFOCvN0f8il"
      },
      "source": [
        "# set up the PCA\n",
        "\n",
        "pca = PCA(n_components=None)"
      ],
      "execution_count": 53,
      "outputs": []
    },
    {
      "cell_type": "code",
      "metadata": {
        "colab": {
          "base_uri": "https://localhost:8080/"
        },
        "id": "FQORpftRf_XC",
        "outputId": "4ba5893c-41dc-4100-f38c-b06cf2f58e55"
      },
      "source": [
        "# train the PCA\n",
        "\n",
        "pca.fit(X_train)"
      ],
      "execution_count": 54,
      "outputs": [
        {
          "output_type": "execute_result",
          "data": {
            "text/plain": [
              "PCA(copy=True, iterated_power='auto', n_components=None, random_state=None,\n",
              "    svd_solver='auto', tol=0.0, whiten=False)"
            ]
          },
          "metadata": {},
          "execution_count": 54
        }
      ]
    },
    {
      "cell_type": "code",
      "metadata": {
        "id": "HCmykq-YgCD5"
      },
      "source": [
        "# create the principal components\n",
        "\n",
        "train_t = pca.transform(X_train)\n",
        "test_t = pca.transform(X_test)"
      ],
      "execution_count": 55,
      "outputs": []
    },
    {
      "cell_type": "markdown",
      "metadata": {
        "id": "xaKxdlUJgoz9"
      },
      "source": [
        "Lors de la création des composants principaux, quelques-uns des composants captureront la majeure partie de la variabilité des données d'origine. Pour identifier combien de composants capturent la plupart de la variabilité dans l'ensemble de données des prix des logements à Boston, nous pouvons tracer le pourcentage de variance expliqué (par chaque composant) par rapport au nombre de composants."
      ]
    },
    {
      "cell_type": "code",
      "metadata": {
        "colab": {
          "base_uri": "https://localhost:8080/",
          "height": 312
        },
        "id": "JLzNpTXKgFzx",
        "outputId": "cf3146de-76fc-4bb3-f443-83d9b86ea5ad"
      },
      "source": [
        "\n",
        "# determine the number of informative components\n",
        "\n",
        "# the number of components is determined by the change\n",
        "# in the decay in the percentage of variance explained\n",
        "# by each component\n",
        "\n",
        "plt.plot(pca.explained_variance_ratio_, linewidth=2)\n",
        "plt.title('Percentage of Variance Explained')\n",
        "plt.xlabel('Number of Components')\n",
        "plt.ylabel('Percentage of Variance Explained')"
      ],
      "execution_count": 56,
      "outputs": [
        {
          "output_type": "execute_result",
          "data": {
            "text/plain": [
              "Text(0, 0.5, 'Percentage of Variance Explained')"
            ]
          },
          "metadata": {},
          "execution_count": 56
        },
        {
          "output_type": "display_data",
          "data": {
            "image/png": "[encoded data removed]",
            "text/plain": [
              "<Figure size 432x288 with 1 Axes>"
            ]
          },
          "metadata": {
            "needs_background": "light"
          }
        }
      ]
    },
    {
      "cell_type": "markdown",
      "metadata": {
        "id": "gfoap_2ZmsQm"
      },
      "source": [
        "PCA est sensible à l'échelle des fonctionnalités ; par conséquent, il est conseillé, voire obligatoire, d'avoir des fonctionnalités à une échelle similaire avant d'adapter l'objet PCA de scikit-learn. "
      ]
    }
  ]
}
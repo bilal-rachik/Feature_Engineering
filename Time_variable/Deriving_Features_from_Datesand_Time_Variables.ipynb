{
  "nbformat": 4,
  "nbformat_minor": 0,
  "metadata": {
    "colab": {
      "name": "Deriving_Features_from_Datesand_Time_Variables.ipynb",
      "provenance": [],
      "collapsed_sections": []
    },
    "kernelspec": {
      "name": "python3",
      "display_name": "Python 3"
    },
    "language_info": {
      "name": "python"
    }
  },
  "cells": [
    {
      "cell_type": "markdown",
      "metadata": {
        "id": "8uqT6-c0arOu"
      },
      "source": [
        "# Dérivation de caractéristiques à partir de variables de date et d'heure\n",
        "\n",
        "Les variables de date et de temps  sont celles qui contiennent des informations sur les dates, les heures ou la date et l'heure. En programmation, nous appelons ces variables des variables datetime. Des exemples de variables datetime sont la date de naissance, l'heure de l'accident et la date du dernier paiement. Les variables datetime contiennent généralement une multitude d'étiquettes différentes correspondant à une combinaison spécifique de date et d'heure. Nous n'utilisons pas les variables datetime dans leur format brut lors de la création de modèles d'apprentissage automatique. Au lieu de cela, nous enrichissons considérablement l'ensemble de données en dérivant plusieurs caractéristiques de ces variables. Dans cet article, nous allons apprendre à dériver une variété de nouvelles fonctionnalités à partir de la date et de l'heure.\n",
        "\n",
        "Cet article couvrira les recettes suivantes:\n",
        "* Extraction de parties de date et d'heure à partir d'une variable datetime.\n",
        "* Dérivation des représentations de l'année et du mois.\n",
        "* Création de représentations du jour et de la semaine.\n",
        "* Extraire des parties de temps à partir d'une variable de temps.\n",
        "* Capturer le temps écoulé entre les variables datetime.\n",
        "* Travailler avec le temps dans différents fuseaux horaires\n",
        "\n",
        "\n"
      ]
    },
    {
      "cell_type": "markdown",
      "metadata": {
        "id": "-V_4Wda1czX3"
      },
      "source": [
        "## Extraction de parties de date et d'heure à partir de la variable datetime\n",
        "\n",
        "Les variables datetime peuvent prendre des dates, l'heure ou la date et l'heure comme valeurs. Les variables datetime ne sont pas utilisées dans leur format brut pour créer des algorithmes d'apprentissage automatique. Au lieu de cela, nous créons des fonctionnalités supplémentaires à partir d'eux et, en fait, nous pouvons enrichir considérablement l'ensemble de données en extrayant des informations de la date et de l'heure.\n",
        "\n",
        "La bibliothèque Python pandas contient de nombreuses fonctionnalités pour travailler avec la date et l'heure. Mais pour accéder à cette fonctionnalité, les variables doivent être converties dans un type de données prenant en charge ces opérations, telles que datetime ou timedelta. Souvent, les variables datetime sont des objets casts, en particulier lorsque les données sont chargées à partir d'un fichier CSV. Le dt des pandas, qui est l'objet accesseur aux propriétés datetime d'une série pandas, ne fonctionne qu'avec les types datetimedata ; par conséquent, pour extraire des parties de date et d'heure, et, en fait, pour dériver l'une des caractéristiques dont nous discuterons tout au long de ce chapitre, il est nécessaire de refondre les variables en datetime.\n",
        "\n",
        "Dans cette recette, nous allons apprendre à séparer les parties date et heure d'une variable datetime à l'aide de pandas, et comment reformuler des objets en types de données datetime"
      ]
    },
    {
      "cell_type": "markdown",
      "metadata": {
        "id": "-RT4IEF8eNdS"
      },
      "source": [
        "Pour poursuivre la recette, commençons par importer pandas et créons un cadre de données pour la démonstration"
      ]
    },
    {
      "cell_type": "code",
      "metadata": {
        "id": "Jjpzf7TeeFsQ"
      },
      "source": [
        "import pandas as pd"
      ],
      "execution_count": 1,
      "outputs": []
    },
    {
      "cell_type": "markdown",
      "metadata": {
        "id": "_vbLAMyteiLq"
      },
      "source": [
        "Créons 20 valeurs datetime, avec des valeurs commençant à partir du 05/03/2019 à minuit suivies d'incréments de 1 minute. Ensuite, capturons la plage de valeurs dans un cadre de données et affichons les cinq premières lignes"
      ]
    },
    {
      "cell_type": "code",
      "metadata": {
        "colab": {
          "base_uri": "https://localhost:8080/",
          "height": 204
        },
        "id": "sY8hSc75eXKs",
        "outputId": "6bf41d12-cf30-4f2b-fe74-7f3a1f40d658"
      },
      "source": [
        "\n",
        "# let's create a toy dataframe with some date variables\n",
        "\n",
        "# first we create a series with the ranges\n",
        "rng_ = pd.date_range('2019-03-05', periods=20, freq='T')\n",
        "\n",
        "# now we convert the series in a dataframe\n",
        "df = pd.DataFrame({'date': rng_}) \n",
        "\n",
        "# output the first 5 rows\n",
        "df.head()"
      ],
      "execution_count": 2,
      "outputs": [
        {
          "output_type": "execute_result",
          "data": {
            "text/html": [
              "<div>\n",
              "<style scoped>\n",
              "    .dataframe tbody tr th:only-of-type {\n",
              "        vertical-align: middle;\n",
              "    }\n",
              "\n",
              "    .dataframe tbody tr th {\n",
              "        vertical-align: top;\n",
              "    }\n",
              "\n",
              "    .dataframe thead th {\n",
              "        text-align: right;\n",
              "    }\n",
              "</style>\n",
              "<table border=\"1\" class=\"dataframe\">\n",
              "  <thead>\n",
              "    <tr style=\"text-align: right;\">\n",
              "      <th></th>\n",
              "      <th>date</th>\n",
              "    </tr>\n",
              "  </thead>\n",
              "  <tbody>\n",
              "    <tr>\n",
              "      <th>0</th>\n",
              "      <td>2019-03-05 00:00:00</td>\n",
              "    </tr>\n",
              "    <tr>\n",
              "      <th>1</th>\n",
              "      <td>2019-03-05 00:01:00</td>\n",
              "    </tr>\n",
              "    <tr>\n",
              "      <th>2</th>\n",
              "      <td>2019-03-05 00:02:00</td>\n",
              "    </tr>\n",
              "    <tr>\n",
              "      <th>3</th>\n",
              "      <td>2019-03-05 00:03:00</td>\n",
              "    </tr>\n",
              "    <tr>\n",
              "      <th>4</th>\n",
              "      <td>2019-03-05 00:04:00</td>\n",
              "    </tr>\n",
              "  </tbody>\n",
              "</table>\n",
              "</div>"
            ],
            "text/plain": [
              "                 date\n",
              "0 2019-03-05 00:00:00\n",
              "1 2019-03-05 00:01:00\n",
              "2 2019-03-05 00:02:00\n",
              "3 2019-03-05 00:03:00\n",
              "4 2019-03-05 00:04:00"
            ]
          },
          "metadata": {},
          "execution_count": 2
        }
      ]
    },
    {
      "cell_type": "markdown",
      "metadata": {
        "id": "Y_HITqPsfmpG"
      },
      "source": [
        "Montrons le type de données de la variable que nous avons créée"
      ]
    },
    {
      "cell_type": "code",
      "metadata": {
        "colab": {
          "base_uri": "https://localhost:8080/"
        },
        "id": "t7PX6cFRe_-c",
        "outputId": "e4f58ac2-50cb-4fb8-926d-1f2f8c840a04"
      },
      "source": [
        "# let's explore the variable type\n",
        "\n",
        "df.dtypes"
      ],
      "execution_count": 3,
      "outputs": [
        {
          "output_type": "execute_result",
          "data": {
            "text/plain": [
              "date    datetime64[ns]\n",
              "dtype: object"
            ]
          },
          "metadata": {},
          "execution_count": 3
        }
      ]
    },
    {
      "cell_type": "markdown",
      "metadata": {
        "id": "xi65_2u9fyjG"
      },
      "source": [
        "Capturons la partie date de la variable de date dans une nouvelle fonctionnalité à l'aide du dt des pandas, puis affichons les cinq premières lignes"
      ]
    },
    {
      "cell_type": "code",
      "metadata": {
        "colab": {
          "base_uri": "https://localhost:8080/"
        },
        "id": "J5ovT2s-fCxT",
        "outputId": "52df686f-cb3f-4659-dab7-6465042e26e5"
      },
      "source": [
        "# let's extract the date part\n",
        "\n",
        "df['date_part'] = df['date'].dt.date\n",
        "\n",
        "df['date_part'].head()"
      ],
      "execution_count": 4,
      "outputs": [
        {
          "output_type": "execute_result",
          "data": {
            "text/plain": [
              "0    2019-03-05\n",
              "1    2019-03-05\n",
              "2    2019-03-05\n",
              "3    2019-03-05\n",
              "4    2019-03-05\n",
              "Name: date_part, dtype: object"
            ]
          },
          "metadata": {},
          "execution_count": 4
        }
      ]
    },
    {
      "cell_type": "markdown",
      "metadata": {
        "id": "YGQ_Zgsaf8OY"
      },
      "source": [
        "Capturons maintenant la partie heure de la variable datetime à l'étape précédentedans une nouvelle fonctionnalité et affichons les premières lignes"
      ]
    },
    {
      "cell_type": "code",
      "metadata": {
        "colab": {
          "base_uri": "https://localhost:8080/"
        },
        "id": "xxmqp11lfKkd",
        "outputId": "88e256d1-c6e1-4278-fa74-6cccca42b40b"
      },
      "source": [
        "# let's extract the time part\n",
        "\n",
        "df['time_part'] = df['date'].dt.time\n",
        "\n",
        "df['time_part'].head()"
      ],
      "execution_count": 5,
      "outputs": [
        {
          "output_type": "execute_result",
          "data": {
            "text/plain": [
              "0    00:00:00\n",
              "1    00:01:00\n",
              "2    00:02:00\n",
              "3    00:03:00\n",
              "4    00:04:00\n",
              "Name: time_part, dtype: object"
            ]
          },
          "metadata": {},
          "execution_count": 5
        }
      ]
    },
    {
      "cell_type": "markdown",
      "metadata": {
        "id": "-QbE7rrsgj8w"
      },
      "source": [
        "Dans la deuxième partie de la recette, apprenons à changer le type de données d'une variable en une variable datetime.\n",
        "\n",
        "Créons d'abord un nouveau dataframe où la variable datetime est convertie en objet et affichons la sortie"
      ]
    },
    {
      "cell_type": "code",
      "metadata": {
        "colab": {
          "base_uri": "https://localhost:8080/",
          "height": 173
        },
        "id": "kKFe0w3WfNyY",
        "outputId": "4a5579f0-0da1-48c8-c0a4-64c653bed31e"
      },
      "source": [
        "\n",
        "# let's create a toy dataframe where the datetime variable is cast\n",
        "# as object\n",
        "\n",
        "df = pd.DataFrame({'date_var':['Jan-2015', 'Apr-2013', 'Jun-2014', 'Jan-2015']})\n",
        "df"
      ],
      "execution_count": 6,
      "outputs": [
        {
          "output_type": "execute_result",
          "data": {
            "text/html": [
              "<div>\n",
              "<style scoped>\n",
              "    .dataframe tbody tr th:only-of-type {\n",
              "        vertical-align: middle;\n",
              "    }\n",
              "\n",
              "    .dataframe tbody tr th {\n",
              "        vertical-align: top;\n",
              "    }\n",
              "\n",
              "    .dataframe thead th {\n",
              "        text-align: right;\n",
              "    }\n",
              "</style>\n",
              "<table border=\"1\" class=\"dataframe\">\n",
              "  <thead>\n",
              "    <tr style=\"text-align: right;\">\n",
              "      <th></th>\n",
              "      <th>date_var</th>\n",
              "    </tr>\n",
              "  </thead>\n",
              "  <tbody>\n",
              "    <tr>\n",
              "      <th>0</th>\n",
              "      <td>Jan-2015</td>\n",
              "    </tr>\n",
              "    <tr>\n",
              "      <th>1</th>\n",
              "      <td>Apr-2013</td>\n",
              "    </tr>\n",
              "    <tr>\n",
              "      <th>2</th>\n",
              "      <td>Jun-2014</td>\n",
              "    </tr>\n",
              "    <tr>\n",
              "      <th>3</th>\n",
              "      <td>Jan-2015</td>\n",
              "    </tr>\n",
              "  </tbody>\n",
              "</table>\n",
              "</div>"
            ],
            "text/plain": [
              "   date_var\n",
              "0  Jan-2015\n",
              "1  Apr-2013\n",
              "2  Jun-2014\n",
              "3  Jan-2015"
            ]
          },
          "metadata": {},
          "execution_count": 6
        }
      ]
    },
    {
      "cell_type": "code",
      "metadata": {
        "colab": {
          "base_uri": "https://localhost:8080/"
        },
        "id": "IEHsTdBGfU9H",
        "outputId": "6cdeee8e-e74b-4745-dcb8-5409c45fa087"
      },
      "source": [
        "# let's explore the variable type\n",
        "\n",
        "df.dtypes"
      ],
      "execution_count": 7,
      "outputs": [
        {
          "output_type": "execute_result",
          "data": {
            "text/plain": [
              "date_var    object\n",
              "dtype: object"
            ]
          },
          "metadata": {},
          "execution_count": 7
        }
      ]
    },
    {
      "cell_type": "markdown",
      "metadata": {
        "id": "0bCAC3bHgy9p"
      },
      "source": [
        "Modifions le type de données de la variable en datetime et affichons le dataframe"
      ]
    },
    {
      "cell_type": "code",
      "metadata": {
        "colab": {
          "base_uri": "https://localhost:8080/",
          "height": 173
        },
        "id": "5Xq9ZyM2fX-2",
        "outputId": "ae47900b-e9c1-4c4b-a1ad-2bfa7a2084b6"
      },
      "source": [
        "\n",
        "# let's re-cast the variable as datetime\n",
        "\n",
        "df['datetime_var'] = pd.to_datetime(df['date_var'])\n",
        "df"
      ],
      "execution_count": 8,
      "outputs": [
        {
          "output_type": "execute_result",
          "data": {
            "text/html": [
              "<div>\n",
              "<style scoped>\n",
              "    .dataframe tbody tr th:only-of-type {\n",
              "        vertical-align: middle;\n",
              "    }\n",
              "\n",
              "    .dataframe tbody tr th {\n",
              "        vertical-align: top;\n",
              "    }\n",
              "\n",
              "    .dataframe thead th {\n",
              "        text-align: right;\n",
              "    }\n",
              "</style>\n",
              "<table border=\"1\" class=\"dataframe\">\n",
              "  <thead>\n",
              "    <tr style=\"text-align: right;\">\n",
              "      <th></th>\n",
              "      <th>date_var</th>\n",
              "      <th>datetime_var</th>\n",
              "    </tr>\n",
              "  </thead>\n",
              "  <tbody>\n",
              "    <tr>\n",
              "      <th>0</th>\n",
              "      <td>Jan-2015</td>\n",
              "      <td>2015-01-01</td>\n",
              "    </tr>\n",
              "    <tr>\n",
              "      <th>1</th>\n",
              "      <td>Apr-2013</td>\n",
              "      <td>2013-04-01</td>\n",
              "    </tr>\n",
              "    <tr>\n",
              "      <th>2</th>\n",
              "      <td>Jun-2014</td>\n",
              "      <td>2014-06-01</td>\n",
              "    </tr>\n",
              "    <tr>\n",
              "      <th>3</th>\n",
              "      <td>Jan-2015</td>\n",
              "      <td>2015-01-01</td>\n",
              "    </tr>\n",
              "  </tbody>\n",
              "</table>\n",
              "</div>"
            ],
            "text/plain": [
              "   date_var datetime_var\n",
              "0  Jan-2015   2015-01-01\n",
              "1  Apr-2013   2013-04-01\n",
              "2  Jun-2014   2014-06-01\n",
              "3  Jan-2015   2015-01-01"
            ]
          },
          "metadata": {},
          "execution_count": 8
        }
      ]
    },
    {
      "cell_type": "code",
      "metadata": {
        "colab": {
          "base_uri": "https://localhost:8080/",
          "height": 173
        },
        "id": "3dk8cIShfbAe",
        "outputId": "c63bb62d-7915-4d08-e03c-8b88a4686159"
      },
      "source": [
        "# let's extract date and time\n",
        "\n",
        "df['date'] = df['datetime_var'].dt.date\n",
        "df['time'] = df['datetime_var'].dt.time\n",
        "\n",
        "df"
      ],
      "execution_count": 9,
      "outputs": [
        {
          "output_type": "execute_result",
          "data": {
            "text/html": [
              "<div>\n",
              "<style scoped>\n",
              "    .dataframe tbody tr th:only-of-type {\n",
              "        vertical-align: middle;\n",
              "    }\n",
              "\n",
              "    .dataframe tbody tr th {\n",
              "        vertical-align: top;\n",
              "    }\n",
              "\n",
              "    .dataframe thead th {\n",
              "        text-align: right;\n",
              "    }\n",
              "</style>\n",
              "<table border=\"1\" class=\"dataframe\">\n",
              "  <thead>\n",
              "    <tr style=\"text-align: right;\">\n",
              "      <th></th>\n",
              "      <th>date_var</th>\n",
              "      <th>datetime_var</th>\n",
              "      <th>date</th>\n",
              "      <th>time</th>\n",
              "    </tr>\n",
              "  </thead>\n",
              "  <tbody>\n",
              "    <tr>\n",
              "      <th>0</th>\n",
              "      <td>Jan-2015</td>\n",
              "      <td>2015-01-01</td>\n",
              "      <td>2015-01-01</td>\n",
              "      <td>00:00:00</td>\n",
              "    </tr>\n",
              "    <tr>\n",
              "      <th>1</th>\n",
              "      <td>Apr-2013</td>\n",
              "      <td>2013-04-01</td>\n",
              "      <td>2013-04-01</td>\n",
              "      <td>00:00:00</td>\n",
              "    </tr>\n",
              "    <tr>\n",
              "      <th>2</th>\n",
              "      <td>Jun-2014</td>\n",
              "      <td>2014-06-01</td>\n",
              "      <td>2014-06-01</td>\n",
              "      <td>00:00:00</td>\n",
              "    </tr>\n",
              "    <tr>\n",
              "      <th>3</th>\n",
              "      <td>Jan-2015</td>\n",
              "      <td>2015-01-01</td>\n",
              "      <td>2015-01-01</td>\n",
              "      <td>00:00:00</td>\n",
              "    </tr>\n",
              "  </tbody>\n",
              "</table>\n",
              "</div>"
            ],
            "text/plain": [
              "   date_var datetime_var        date      time\n",
              "0  Jan-2015   2015-01-01  2015-01-01  00:00:00\n",
              "1  Apr-2013   2013-04-01  2013-04-01  00:00:00\n",
              "2  Jun-2014   2014-06-01  2014-06-01  00:00:00\n",
              "3  Jan-2015   2015-01-01  2015-01-01  00:00:00"
            ]
          },
          "metadata": {},
          "execution_count": 9
        }
      ]
    },
    {
      "cell_type": "code",
      "metadata": {
        "colab": {
          "base_uri": "https://localhost:8080/"
        },
        "id": "VUemzpP_fdl_",
        "outputId": "7fc02323-3d15-4a46-f7f4-51d2fb52531a"
      },
      "source": [
        "# let's explore the variable types\n",
        "\n",
        "df.dtypes"
      ],
      "execution_count": 10,
      "outputs": [
        {
          "output_type": "execute_result",
          "data": {
            "text/plain": [
              "date_var                object\n",
              "datetime_var    datetime64[ns]\n",
              "date                    object\n",
              "time                    object\n",
              "dtype: object"
            ]
          },
          "metadata": {},
          "execution_count": 10
        }
      ]
    },
    {
      "cell_type": "markdown",
      "metadata": {
        "id": "kY2iOpFshFeh"
      },
      "source": [
        "## Dérivation des représentations de l'année et du mois\n",
        "\n",
        "Certains événements se produisent plus souvent à certaines périodes de l'année, par exemple, les taux de recrutement augmentent après Noël et ralentissent vers les vacances d'été en Europe. Les entreprises et les organisations souhaitent évaluer les performances et les objectifs à intervalles réguliers tout au long de l'année, par exemple tous les trimestres. ou chaque semestre. Par conséquent, dériver ces caractéristiques d'une variable de date est très utile à la fois pour l'analyse des données et l'apprentissage automatique. Dans cette recette, nous allons apprendre à dériver l'année, le mois, le trimestre et le semestre à partir d'une variable datetime en utilisant pandas et NumPy"
      ]
    },
    {
      "cell_type": "code",
      "metadata": {
        "id": "DVW3xymwhkRM"
      },
      "source": [
        "import numpy as np\n",
        "import pandas as pd"
      ],
      "execution_count": 11,
      "outputs": []
    },
    {
      "cell_type": "code",
      "metadata": {
        "colab": {
          "base_uri": "https://localhost:8080/",
          "height": 204
        },
        "id": "HLuYyjmMhmtV",
        "outputId": "552a694f-4ec5-4a59-dd76-f3c1bfa7c899"
      },
      "source": [
        "# let's create a toy dataframe with a date variable which values\n",
        "# increase 1 month at a time\n",
        "\n",
        "rng_ = pd.date_range('2019-03-05', periods=20, freq='M')\n",
        "df = pd.DataFrame({'date': rng_}) \n",
        "df.head()"
      ],
      "execution_count": 12,
      "outputs": [
        {
          "output_type": "execute_result",
          "data": {
            "text/html": [
              "<div>\n",
              "<style scoped>\n",
              "    .dataframe tbody tr th:only-of-type {\n",
              "        vertical-align: middle;\n",
              "    }\n",
              "\n",
              "    .dataframe tbody tr th {\n",
              "        vertical-align: top;\n",
              "    }\n",
              "\n",
              "    .dataframe thead th {\n",
              "        text-align: right;\n",
              "    }\n",
              "</style>\n",
              "<table border=\"1\" class=\"dataframe\">\n",
              "  <thead>\n",
              "    <tr style=\"text-align: right;\">\n",
              "      <th></th>\n",
              "      <th>date</th>\n",
              "    </tr>\n",
              "  </thead>\n",
              "  <tbody>\n",
              "    <tr>\n",
              "      <th>0</th>\n",
              "      <td>2019-03-31</td>\n",
              "    </tr>\n",
              "    <tr>\n",
              "      <th>1</th>\n",
              "      <td>2019-04-30</td>\n",
              "    </tr>\n",
              "    <tr>\n",
              "      <th>2</th>\n",
              "      <td>2019-05-31</td>\n",
              "    </tr>\n",
              "    <tr>\n",
              "      <th>3</th>\n",
              "      <td>2019-06-30</td>\n",
              "    </tr>\n",
              "    <tr>\n",
              "      <th>4</th>\n",
              "      <td>2019-07-31</td>\n",
              "    </tr>\n",
              "  </tbody>\n",
              "</table>\n",
              "</div>"
            ],
            "text/plain": [
              "        date\n",
              "0 2019-03-31\n",
              "1 2019-04-30\n",
              "2 2019-05-31\n",
              "3 2019-06-30\n",
              "4 2019-07-31"
            ]
          },
          "metadata": {},
          "execution_count": 12
        }
      ]
    },
    {
      "cell_type": "code",
      "metadata": {
        "colab": {
          "base_uri": "https://localhost:8080/",
          "height": 204
        },
        "id": "YKqw5wcZhp6i",
        "outputId": "2f546f7a-7728-42ff-911a-5277d60fb7de"
      },
      "source": [
        "# extract year\n",
        "\n",
        "df['year'] = df['date'].dt.year\n",
        "\n",
        "df.head()"
      ],
      "execution_count": 13,
      "outputs": [
        {
          "output_type": "execute_result",
          "data": {
            "text/html": [
              "<div>\n",
              "<style scoped>\n",
              "    .dataframe tbody tr th:only-of-type {\n",
              "        vertical-align: middle;\n",
              "    }\n",
              "\n",
              "    .dataframe tbody tr th {\n",
              "        vertical-align: top;\n",
              "    }\n",
              "\n",
              "    .dataframe thead th {\n",
              "        text-align: right;\n",
              "    }\n",
              "</style>\n",
              "<table border=\"1\" class=\"dataframe\">\n",
              "  <thead>\n",
              "    <tr style=\"text-align: right;\">\n",
              "      <th></th>\n",
              "      <th>date</th>\n",
              "      <th>year</th>\n",
              "    </tr>\n",
              "  </thead>\n",
              "  <tbody>\n",
              "    <tr>\n",
              "      <th>0</th>\n",
              "      <td>2019-03-31</td>\n",
              "      <td>2019</td>\n",
              "    </tr>\n",
              "    <tr>\n",
              "      <th>1</th>\n",
              "      <td>2019-04-30</td>\n",
              "      <td>2019</td>\n",
              "    </tr>\n",
              "    <tr>\n",
              "      <th>2</th>\n",
              "      <td>2019-05-31</td>\n",
              "      <td>2019</td>\n",
              "    </tr>\n",
              "    <tr>\n",
              "      <th>3</th>\n",
              "      <td>2019-06-30</td>\n",
              "      <td>2019</td>\n",
              "    </tr>\n",
              "    <tr>\n",
              "      <th>4</th>\n",
              "      <td>2019-07-31</td>\n",
              "      <td>2019</td>\n",
              "    </tr>\n",
              "  </tbody>\n",
              "</table>\n",
              "</div>"
            ],
            "text/plain": [
              "        date  year\n",
              "0 2019-03-31  2019\n",
              "1 2019-04-30  2019\n",
              "2 2019-05-31  2019\n",
              "3 2019-06-30  2019\n",
              "4 2019-07-31  2019"
            ]
          },
          "metadata": {},
          "execution_count": 13
        }
      ]
    },
    {
      "cell_type": "code",
      "metadata": {
        "colab": {
          "base_uri": "https://localhost:8080/",
          "height": 204
        },
        "id": "4PHFN_l3hsoq",
        "outputId": "f6b6e06d-45d0-491f-e5cd-15ab920e54d8"
      },
      "source": [
        "# extract month\n",
        "\n",
        "df['month'] = df['date'].dt.month\n",
        "\n",
        "df.head()"
      ],
      "execution_count": 14,
      "outputs": [
        {
          "output_type": "execute_result",
          "data": {
            "text/html": [
              "<div>\n",
              "<style scoped>\n",
              "    .dataframe tbody tr th:only-of-type {\n",
              "        vertical-align: middle;\n",
              "    }\n",
              "\n",
              "    .dataframe tbody tr th {\n",
              "        vertical-align: top;\n",
              "    }\n",
              "\n",
              "    .dataframe thead th {\n",
              "        text-align: right;\n",
              "    }\n",
              "</style>\n",
              "<table border=\"1\" class=\"dataframe\">\n",
              "  <thead>\n",
              "    <tr style=\"text-align: right;\">\n",
              "      <th></th>\n",
              "      <th>date</th>\n",
              "      <th>year</th>\n",
              "      <th>month</th>\n",
              "    </tr>\n",
              "  </thead>\n",
              "  <tbody>\n",
              "    <tr>\n",
              "      <th>0</th>\n",
              "      <td>2019-03-31</td>\n",
              "      <td>2019</td>\n",
              "      <td>3</td>\n",
              "    </tr>\n",
              "    <tr>\n",
              "      <th>1</th>\n",
              "      <td>2019-04-30</td>\n",
              "      <td>2019</td>\n",
              "      <td>4</td>\n",
              "    </tr>\n",
              "    <tr>\n",
              "      <th>2</th>\n",
              "      <td>2019-05-31</td>\n",
              "      <td>2019</td>\n",
              "      <td>5</td>\n",
              "    </tr>\n",
              "    <tr>\n",
              "      <th>3</th>\n",
              "      <td>2019-06-30</td>\n",
              "      <td>2019</td>\n",
              "      <td>6</td>\n",
              "    </tr>\n",
              "    <tr>\n",
              "      <th>4</th>\n",
              "      <td>2019-07-31</td>\n",
              "      <td>2019</td>\n",
              "      <td>7</td>\n",
              "    </tr>\n",
              "  </tbody>\n",
              "</table>\n",
              "</div>"
            ],
            "text/plain": [
              "        date  year  month\n",
              "0 2019-03-31  2019      3\n",
              "1 2019-04-30  2019      4\n",
              "2 2019-05-31  2019      5\n",
              "3 2019-06-30  2019      6\n",
              "4 2019-07-31  2019      7"
            ]
          },
          "metadata": {},
          "execution_count": 14
        }
      ]
    },
    {
      "cell_type": "code",
      "metadata": {
        "colab": {
          "base_uri": "https://localhost:8080/",
          "height": 204
        },
        "id": "jrG2aqophvky",
        "outputId": "bcaaf8aa-701d-4480-d153-6bdfb682a397"
      },
      "source": [
        "# extract quarter\n",
        "\n",
        "df['quarter'] = df['date'].dt.quarter\n",
        "\n",
        "df.head()"
      ],
      "execution_count": 15,
      "outputs": [
        {
          "output_type": "execute_result",
          "data": {
            "text/html": [
              "<div>\n",
              "<style scoped>\n",
              "    .dataframe tbody tr th:only-of-type {\n",
              "        vertical-align: middle;\n",
              "    }\n",
              "\n",
              "    .dataframe tbody tr th {\n",
              "        vertical-align: top;\n",
              "    }\n",
              "\n",
              "    .dataframe thead th {\n",
              "        text-align: right;\n",
              "    }\n",
              "</style>\n",
              "<table border=\"1\" class=\"dataframe\">\n",
              "  <thead>\n",
              "    <tr style=\"text-align: right;\">\n",
              "      <th></th>\n",
              "      <th>date</th>\n",
              "      <th>year</th>\n",
              "      <th>month</th>\n",
              "      <th>quarter</th>\n",
              "    </tr>\n",
              "  </thead>\n",
              "  <tbody>\n",
              "    <tr>\n",
              "      <th>0</th>\n",
              "      <td>2019-03-31</td>\n",
              "      <td>2019</td>\n",
              "      <td>3</td>\n",
              "      <td>1</td>\n",
              "    </tr>\n",
              "    <tr>\n",
              "      <th>1</th>\n",
              "      <td>2019-04-30</td>\n",
              "      <td>2019</td>\n",
              "      <td>4</td>\n",
              "      <td>2</td>\n",
              "    </tr>\n",
              "    <tr>\n",
              "      <th>2</th>\n",
              "      <td>2019-05-31</td>\n",
              "      <td>2019</td>\n",
              "      <td>5</td>\n",
              "      <td>2</td>\n",
              "    </tr>\n",
              "    <tr>\n",
              "      <th>3</th>\n",
              "      <td>2019-06-30</td>\n",
              "      <td>2019</td>\n",
              "      <td>6</td>\n",
              "      <td>2</td>\n",
              "    </tr>\n",
              "    <tr>\n",
              "      <th>4</th>\n",
              "      <td>2019-07-31</td>\n",
              "      <td>2019</td>\n",
              "      <td>7</td>\n",
              "      <td>3</td>\n",
              "    </tr>\n",
              "  </tbody>\n",
              "</table>\n",
              "</div>"
            ],
            "text/plain": [
              "        date  year  month  quarter\n",
              "0 2019-03-31  2019      3        1\n",
              "1 2019-04-30  2019      4        2\n",
              "2 2019-05-31  2019      5        2\n",
              "3 2019-06-30  2019      6        2\n",
              "4 2019-07-31  2019      7        3"
            ]
          },
          "metadata": {},
          "execution_count": 15
        }
      ]
    },
    {
      "cell_type": "markdown",
      "metadata": {
        "id": "lbX2V5gniT0_"
      },
      "source": [
        "Enfin, capturons le semestre correspondant dans une nouvelle colonne et affichons les premières lignes du cadre de données\n",
        "\n"
      ]
    },
    {
      "cell_type": "code",
      "metadata": {
        "colab": {
          "base_uri": "https://localhost:8080/",
          "height": 204
        },
        "id": "coxb15ITh3Wj",
        "outputId": "b3fb255a-83de-4a47-8762-2448bef7705b"
      },
      "source": [
        "# extract semester\n",
        "\n",
        "df['semester'] = np.where(df['quarter'].isin([1,2]), 1,2)\n",
        "\n",
        "df.head()"
      ],
      "execution_count": 16,
      "outputs": [
        {
          "output_type": "execute_result",
          "data": {
            "text/html": [
              "<div>\n",
              "<style scoped>\n",
              "    .dataframe tbody tr th:only-of-type {\n",
              "        vertical-align: middle;\n",
              "    }\n",
              "\n",
              "    .dataframe tbody tr th {\n",
              "        vertical-align: top;\n",
              "    }\n",
              "\n",
              "    .dataframe thead th {\n",
              "        text-align: right;\n",
              "    }\n",
              "</style>\n",
              "<table border=\"1\" class=\"dataframe\">\n",
              "  <thead>\n",
              "    <tr style=\"text-align: right;\">\n",
              "      <th></th>\n",
              "      <th>date</th>\n",
              "      <th>year</th>\n",
              "      <th>month</th>\n",
              "      <th>quarter</th>\n",
              "      <th>semester</th>\n",
              "    </tr>\n",
              "  </thead>\n",
              "  <tbody>\n",
              "    <tr>\n",
              "      <th>0</th>\n",
              "      <td>2019-03-31</td>\n",
              "      <td>2019</td>\n",
              "      <td>3</td>\n",
              "      <td>1</td>\n",
              "      <td>1</td>\n",
              "    </tr>\n",
              "    <tr>\n",
              "      <th>1</th>\n",
              "      <td>2019-04-30</td>\n",
              "      <td>2019</td>\n",
              "      <td>4</td>\n",
              "      <td>2</td>\n",
              "      <td>1</td>\n",
              "    </tr>\n",
              "    <tr>\n",
              "      <th>2</th>\n",
              "      <td>2019-05-31</td>\n",
              "      <td>2019</td>\n",
              "      <td>5</td>\n",
              "      <td>2</td>\n",
              "      <td>1</td>\n",
              "    </tr>\n",
              "    <tr>\n",
              "      <th>3</th>\n",
              "      <td>2019-06-30</td>\n",
              "      <td>2019</td>\n",
              "      <td>6</td>\n",
              "      <td>2</td>\n",
              "      <td>1</td>\n",
              "    </tr>\n",
              "    <tr>\n",
              "      <th>4</th>\n",
              "      <td>2019-07-31</td>\n",
              "      <td>2019</td>\n",
              "      <td>7</td>\n",
              "      <td>3</td>\n",
              "      <td>2</td>\n",
              "    </tr>\n",
              "  </tbody>\n",
              "</table>\n",
              "</div>"
            ],
            "text/plain": [
              "        date  year  month  quarter  semester\n",
              "0 2019-03-31  2019      3        1         1\n",
              "1 2019-04-30  2019      4        2         1\n",
              "2 2019-05-31  2019      5        2         1\n",
              "3 2019-06-30  2019      6        2         1\n",
              "4 2019-07-31  2019      7        3         2"
            ]
          },
          "metadata": {},
          "execution_count": 16
        }
      ]
    },
    {
      "cell_type": "markdown",
      "metadata": {
        "id": "7Ae81dTrimA8"
      },
      "source": [
        "## Création de représentations du jour et de la semaine\n",
        "\n",
        "Certains événements se produisent plus souvent certains jours de la semaine, par exemple, les demandes de prêt se produisent plus souvent pendant la semaine que le week-end, tandis que d'autres surviennent plus souvent certaines semaines de l'année. Les entreprises et les organisations peuvent également vouloir suivre certaines mesures de performance clés tout au long de la semaine. Par conséquent, la dérivation des semaines et des jours à partir d'une variable date est très utile pour aider les organisations à atteindre leurs objectifs, et elles peuvent également être prédictives dans l'apprentissage automatique. Dans cette recette, nous allons apprendre à dériver différentes représentations des jours et des semaines à partir d'une variable datetime en utilisant pandas et NumPy.\n"
      ]
    },
    {
      "cell_type": "code",
      "metadata": {
        "colab": {
          "base_uri": "https://localhost:8080/",
          "height": 204
        },
        "id": "fEvjcHu3jCSe",
        "outputId": "b47d421a-a833-40ad-f5da-f11ce5460067"
      },
      "source": [
        "\n",
        "# let's create a toy dataframe with a date variables which values\n",
        "# increase by 1 day\n",
        "\n",
        "rng_ = pd.date_range('2019-03-05', periods=20, freq='D')\n",
        "df = pd.DataFrame({'date': rng_}) \n",
        "df.head()"
      ],
      "execution_count": 23,
      "outputs": [
        {
          "output_type": "execute_result",
          "data": {
            "text/html": [
              "<div>\n",
              "<style scoped>\n",
              "    .dataframe tbody tr th:only-of-type {\n",
              "        vertical-align: middle;\n",
              "    }\n",
              "\n",
              "    .dataframe tbody tr th {\n",
              "        vertical-align: top;\n",
              "    }\n",
              "\n",
              "    .dataframe thead th {\n",
              "        text-align: right;\n",
              "    }\n",
              "</style>\n",
              "<table border=\"1\" class=\"dataframe\">\n",
              "  <thead>\n",
              "    <tr style=\"text-align: right;\">\n",
              "      <th></th>\n",
              "      <th>date</th>\n",
              "    </tr>\n",
              "  </thead>\n",
              "  <tbody>\n",
              "    <tr>\n",
              "      <th>0</th>\n",
              "      <td>2019-03-05</td>\n",
              "    </tr>\n",
              "    <tr>\n",
              "      <th>1</th>\n",
              "      <td>2019-03-06</td>\n",
              "    </tr>\n",
              "    <tr>\n",
              "      <th>2</th>\n",
              "      <td>2019-03-07</td>\n",
              "    </tr>\n",
              "    <tr>\n",
              "      <th>3</th>\n",
              "      <td>2019-03-08</td>\n",
              "    </tr>\n",
              "    <tr>\n",
              "      <th>4</th>\n",
              "      <td>2019-03-09</td>\n",
              "    </tr>\n",
              "  </tbody>\n",
              "</table>\n",
              "</div>"
            ],
            "text/plain": [
              "        date\n",
              "0 2019-03-05\n",
              "1 2019-03-06\n",
              "2 2019-03-07\n",
              "3 2019-03-08\n",
              "4 2019-03-09"
            ]
          },
          "metadata": {},
          "execution_count": 23
        }
      ]
    },
    {
      "cell_type": "markdown",
      "metadata": {
        "id": "asYRQCAllg8m"
      },
      "source": [
        "Extrayons le jour du mois, qui peut prendre des valeurs comprises entre 1 et 31, et saisissons-le dans une nouvelle colonne. Ensuite, affichons les premières lignes du dataframe"
      ]
    },
    {
      "cell_type": "code",
      "metadata": {
        "colab": {
          "base_uri": "https://localhost:8080/",
          "height": 204
        },
        "id": "yPH65cu-jEnt",
        "outputId": "e086a1fd-3c23-46e3-91e0-213d66e5f73c"
      },
      "source": [
        "# extract day of the month - with possible values 1 to 31\n",
        "\n",
        "df['day_mo'] = df['date'].dt.day\n",
        "\n",
        "df.head()"
      ],
      "execution_count": 24,
      "outputs": [
        {
          "output_type": "execute_result",
          "data": {
            "text/html": [
              "<div>\n",
              "<style scoped>\n",
              "    .dataframe tbody tr th:only-of-type {\n",
              "        vertical-align: middle;\n",
              "    }\n",
              "\n",
              "    .dataframe tbody tr th {\n",
              "        vertical-align: top;\n",
              "    }\n",
              "\n",
              "    .dataframe thead th {\n",
              "        text-align: right;\n",
              "    }\n",
              "</style>\n",
              "<table border=\"1\" class=\"dataframe\">\n",
              "  <thead>\n",
              "    <tr style=\"text-align: right;\">\n",
              "      <th></th>\n",
              "      <th>date</th>\n",
              "      <th>day_mo</th>\n",
              "    </tr>\n",
              "  </thead>\n",
              "  <tbody>\n",
              "    <tr>\n",
              "      <th>0</th>\n",
              "      <td>2019-03-05</td>\n",
              "      <td>5</td>\n",
              "    </tr>\n",
              "    <tr>\n",
              "      <th>1</th>\n",
              "      <td>2019-03-06</td>\n",
              "      <td>6</td>\n",
              "    </tr>\n",
              "    <tr>\n",
              "      <th>2</th>\n",
              "      <td>2019-03-07</td>\n",
              "      <td>7</td>\n",
              "    </tr>\n",
              "    <tr>\n",
              "      <th>3</th>\n",
              "      <td>2019-03-08</td>\n",
              "      <td>8</td>\n",
              "    </tr>\n",
              "    <tr>\n",
              "      <th>4</th>\n",
              "      <td>2019-03-09</td>\n",
              "      <td>9</td>\n",
              "    </tr>\n",
              "  </tbody>\n",
              "</table>\n",
              "</div>"
            ],
            "text/plain": [
              "        date  day_mo\n",
              "0 2019-03-05       5\n",
              "1 2019-03-06       6\n",
              "2 2019-03-07       7\n",
              "3 2019-03-08       8\n",
              "4 2019-03-09       9"
            ]
          },
          "metadata": {},
          "execution_count": 24
        }
      ]
    },
    {
      "cell_type": "markdown",
      "metadata": {
        "id": "PyiS14SOlxDH"
      },
      "source": [
        "Extrayons le jour de la semaine, avec des valeurs comprises entre 0 et 6, dans une nouvelle colonne, puis affichons les premières lignes"
      ]
    },
    {
      "cell_type": "code",
      "metadata": {
        "colab": {
          "base_uri": "https://localhost:8080/",
          "height": 204
        },
        "id": "gutScRjPjKQk",
        "outputId": "b9f5542b-4564-44ac-f8bd-a5e5b25718e9"
      },
      "source": [
        "\n",
        "# extract day of the week - with possible values 0-6\n",
        "\n",
        "df['day_week'] = df['date'].dt.dayofweek\n",
        "\n",
        "df.head()"
      ],
      "execution_count": 25,
      "outputs": [
        {
          "output_type": "execute_result",
          "data": {
            "text/html": [
              "<div>\n",
              "<style scoped>\n",
              "    .dataframe tbody tr th:only-of-type {\n",
              "        vertical-align: middle;\n",
              "    }\n",
              "\n",
              "    .dataframe tbody tr th {\n",
              "        vertical-align: top;\n",
              "    }\n",
              "\n",
              "    .dataframe thead th {\n",
              "        text-align: right;\n",
              "    }\n",
              "</style>\n",
              "<table border=\"1\" class=\"dataframe\">\n",
              "  <thead>\n",
              "    <tr style=\"text-align: right;\">\n",
              "      <th></th>\n",
              "      <th>date</th>\n",
              "      <th>day_mo</th>\n",
              "      <th>day_week</th>\n",
              "    </tr>\n",
              "  </thead>\n",
              "  <tbody>\n",
              "    <tr>\n",
              "      <th>0</th>\n",
              "      <td>2019-03-05</td>\n",
              "      <td>5</td>\n",
              "      <td>1</td>\n",
              "    </tr>\n",
              "    <tr>\n",
              "      <th>1</th>\n",
              "      <td>2019-03-06</td>\n",
              "      <td>6</td>\n",
              "      <td>2</td>\n",
              "    </tr>\n",
              "    <tr>\n",
              "      <th>2</th>\n",
              "      <td>2019-03-07</td>\n",
              "      <td>7</td>\n",
              "      <td>3</td>\n",
              "    </tr>\n",
              "    <tr>\n",
              "      <th>3</th>\n",
              "      <td>2019-03-08</td>\n",
              "      <td>8</td>\n",
              "      <td>4</td>\n",
              "    </tr>\n",
              "    <tr>\n",
              "      <th>4</th>\n",
              "      <td>2019-03-09</td>\n",
              "      <td>9</td>\n",
              "      <td>5</td>\n",
              "    </tr>\n",
              "  </tbody>\n",
              "</table>\n",
              "</div>"
            ],
            "text/plain": [
              "        date  day_mo  day_week\n",
              "0 2019-03-05       5         1\n",
              "1 2019-03-06       6         2\n",
              "2 2019-03-07       7         3\n",
              "3 2019-03-08       8         4\n",
              "4 2019-03-09       9         5"
            ]
          },
          "metadata": {},
          "execution_count": 25
        }
      ]
    },
    {
      "cell_type": "code",
      "metadata": {
        "colab": {
          "base_uri": "https://localhost:8080/"
        },
        "id": "EeuflDsqjdWF",
        "outputId": "4e9030e3-afad-46b4-b544-d8d40652113a"
      },
      "source": [
        "df['day_week'].unique()"
      ],
      "execution_count": 20,
      "outputs": [
        {
          "output_type": "execute_result",
          "data": {
            "text/plain": [
              "array([1, 2, 3, 4, 5, 6, 0])"
            ]
          },
          "metadata": {},
          "execution_count": 20
        }
      ]
    },
    {
      "cell_type": "markdown",
      "metadata": {
        "id": "DOzF6fHJmK3z"
      },
      "source": [
        "Maintenant, extrayons le nom du jour de la semaine, c'est-à-dire lundi, mardi, et ainsi de suite, dans une nouvelle colonne et sortons les cinq premières lignes de la trame de données"
      ]
    },
    {
      "cell_type": "code",
      "metadata": {
        "colab": {
          "base_uri": "https://localhost:8080/",
          "height": 204
        },
        "id": "lT6erChnjn9E",
        "outputId": "70f840df-35f6-46c6-b575-11add1d3e799"
      },
      "source": [
        "\n",
        "# extract name of day of the week \n",
        "df['day_week_name'] = df['date'].dt.day_name()\n",
        "\n",
        "df.head()"
      ],
      "execution_count": 28,
      "outputs": [
        {
          "output_type": "execute_result",
          "data": {
            "text/html": [
              "<div>\n",
              "<style scoped>\n",
              "    .dataframe tbody tr th:only-of-type {\n",
              "        vertical-align: middle;\n",
              "    }\n",
              "\n",
              "    .dataframe tbody tr th {\n",
              "        vertical-align: top;\n",
              "    }\n",
              "\n",
              "    .dataframe thead th {\n",
              "        text-align: right;\n",
              "    }\n",
              "</style>\n",
              "<table border=\"1\" class=\"dataframe\">\n",
              "  <thead>\n",
              "    <tr style=\"text-align: right;\">\n",
              "      <th></th>\n",
              "      <th>date</th>\n",
              "      <th>day_mo</th>\n",
              "      <th>day_week</th>\n",
              "      <th>day_week_name</th>\n",
              "    </tr>\n",
              "  </thead>\n",
              "  <tbody>\n",
              "    <tr>\n",
              "      <th>0</th>\n",
              "      <td>2019-03-05</td>\n",
              "      <td>5</td>\n",
              "      <td>1</td>\n",
              "      <td>Tuesday</td>\n",
              "    </tr>\n",
              "    <tr>\n",
              "      <th>1</th>\n",
              "      <td>2019-03-06</td>\n",
              "      <td>6</td>\n",
              "      <td>2</td>\n",
              "      <td>Wednesday</td>\n",
              "    </tr>\n",
              "    <tr>\n",
              "      <th>2</th>\n",
              "      <td>2019-03-07</td>\n",
              "      <td>7</td>\n",
              "      <td>3</td>\n",
              "      <td>Thursday</td>\n",
              "    </tr>\n",
              "    <tr>\n",
              "      <th>3</th>\n",
              "      <td>2019-03-08</td>\n",
              "      <td>8</td>\n",
              "      <td>4</td>\n",
              "      <td>Friday</td>\n",
              "    </tr>\n",
              "    <tr>\n",
              "      <th>4</th>\n",
              "      <td>2019-03-09</td>\n",
              "      <td>9</td>\n",
              "      <td>5</td>\n",
              "      <td>Saturday</td>\n",
              "    </tr>\n",
              "  </tbody>\n",
              "</table>\n",
              "</div>"
            ],
            "text/plain": [
              "        date  day_mo  day_week day_week_name\n",
              "0 2019-03-05       5         1       Tuesday\n",
              "1 2019-03-06       6         2     Wednesday\n",
              "2 2019-03-07       7         3      Thursday\n",
              "3 2019-03-08       8         4        Friday\n",
              "4 2019-03-09       9         5      Saturday"
            ]
          },
          "metadata": {},
          "execution_count": 28
        }
      ]
    },
    {
      "cell_type": "markdown",
      "metadata": {
        "id": "s306HC6dmXXj"
      },
      "source": [
        "Ensuite, créons une variable binaire qui indique si la date était un week-end, puis affichons les premières lignes du cadre de données"
      ]
    },
    {
      "cell_type": "code",
      "metadata": {
        "colab": {
          "base_uri": "https://localhost:8080/",
          "height": 204
        },
        "id": "BTImtoi-kj61",
        "outputId": "0780fae7-bd62-416c-9f74-95268c6c2662"
      },
      "source": [
        "# is it weekend?\n",
        "\n",
        "df['is_weekend'] = np.where(df['day_week_name'].isin(['Sunday', 'Saturday']), 1,0)\n",
        "\n",
        "df.head()"
      ],
      "execution_count": 29,
      "outputs": [
        {
          "output_type": "execute_result",
          "data": {
            "text/html": [
              "<div>\n",
              "<style scoped>\n",
              "    .dataframe tbody tr th:only-of-type {\n",
              "        vertical-align: middle;\n",
              "    }\n",
              "\n",
              "    .dataframe tbody tr th {\n",
              "        vertical-align: top;\n",
              "    }\n",
              "\n",
              "    .dataframe thead th {\n",
              "        text-align: right;\n",
              "    }\n",
              "</style>\n",
              "<table border=\"1\" class=\"dataframe\">\n",
              "  <thead>\n",
              "    <tr style=\"text-align: right;\">\n",
              "      <th></th>\n",
              "      <th>date</th>\n",
              "      <th>day_mo</th>\n",
              "      <th>day_week</th>\n",
              "      <th>day_week_name</th>\n",
              "      <th>is_weekend</th>\n",
              "    </tr>\n",
              "  </thead>\n",
              "  <tbody>\n",
              "    <tr>\n",
              "      <th>0</th>\n",
              "      <td>2019-03-05</td>\n",
              "      <td>5</td>\n",
              "      <td>1</td>\n",
              "      <td>Tuesday</td>\n",
              "      <td>0</td>\n",
              "    </tr>\n",
              "    <tr>\n",
              "      <th>1</th>\n",
              "      <td>2019-03-06</td>\n",
              "      <td>6</td>\n",
              "      <td>2</td>\n",
              "      <td>Wednesday</td>\n",
              "      <td>0</td>\n",
              "    </tr>\n",
              "    <tr>\n",
              "      <th>2</th>\n",
              "      <td>2019-03-07</td>\n",
              "      <td>7</td>\n",
              "      <td>3</td>\n",
              "      <td>Thursday</td>\n",
              "      <td>0</td>\n",
              "    </tr>\n",
              "    <tr>\n",
              "      <th>3</th>\n",
              "      <td>2019-03-08</td>\n",
              "      <td>8</td>\n",
              "      <td>4</td>\n",
              "      <td>Friday</td>\n",
              "      <td>0</td>\n",
              "    </tr>\n",
              "    <tr>\n",
              "      <th>4</th>\n",
              "      <td>2019-03-09</td>\n",
              "      <td>9</td>\n",
              "      <td>5</td>\n",
              "      <td>Saturday</td>\n",
              "      <td>1</td>\n",
              "    </tr>\n",
              "  </tbody>\n",
              "</table>\n",
              "</div>"
            ],
            "text/plain": [
              "        date  day_mo  day_week day_week_name  is_weekend\n",
              "0 2019-03-05       5         1       Tuesday           0\n",
              "1 2019-03-06       6         2     Wednesday           0\n",
              "2 2019-03-07       7         3      Thursday           0\n",
              "3 2019-03-08       8         4        Friday           0\n",
              "4 2019-03-09       9         5      Saturday           1"
            ]
          },
          "metadata": {},
          "execution_count": 29
        }
      ]
    },
    {
      "cell_type": "markdown",
      "metadata": {
        "id": "62sXxTofm6DE"
      },
      "source": [
        "Enfin, capturons la semaine correspondante de l'année, qui peut prendre des valeurs de 1 à 52, et affichons les premières lignes du dataframe"
      ]
    },
    {
      "cell_type": "code",
      "metadata": {
        "colab": {
          "base_uri": "https://localhost:8080/",
          "height": 238
        },
        "id": "2DBEZ5r3kngk",
        "outputId": "232ca1e0-d510-40bf-c50b-d1af6d5eb0bc"
      },
      "source": [
        "# Extract week of year from date, with possible values from 1 to 52\n",
        "\n",
        "df['week'] = df['date'].dt.week\n",
        "\n",
        "df.head()"
      ],
      "execution_count": 30,
      "outputs": [
        {
          "output_type": "stream",
          "text": [
            "/usr/local/lib/python3.7/dist-packages/ipykernel_launcher.py:3: FutureWarning: Series.dt.weekofyear and Series.dt.week have been deprecated.  Please use Series.dt.isocalendar().week instead.\n",
            "  This is separate from the ipykernel package so we can avoid doing imports until\n"
          ],
          "name": "stderr"
        },
        {
          "output_type": "execute_result",
          "data": {
            "text/html": [
              "<div>\n",
              "<style scoped>\n",
              "    .dataframe tbody tr th:only-of-type {\n",
              "        vertical-align: middle;\n",
              "    }\n",
              "\n",
              "    .dataframe tbody tr th {\n",
              "        vertical-align: top;\n",
              "    }\n",
              "\n",
              "    .dataframe thead th {\n",
              "        text-align: right;\n",
              "    }\n",
              "</style>\n",
              "<table border=\"1\" class=\"dataframe\">\n",
              "  <thead>\n",
              "    <tr style=\"text-align: right;\">\n",
              "      <th></th>\n",
              "      <th>date</th>\n",
              "      <th>day_mo</th>\n",
              "      <th>day_week</th>\n",
              "      <th>day_week_name</th>\n",
              "      <th>is_weekend</th>\n",
              "      <th>week</th>\n",
              "    </tr>\n",
              "  </thead>\n",
              "  <tbody>\n",
              "    <tr>\n",
              "      <th>0</th>\n",
              "      <td>2019-03-05</td>\n",
              "      <td>5</td>\n",
              "      <td>1</td>\n",
              "      <td>Tuesday</td>\n",
              "      <td>0</td>\n",
              "      <td>10</td>\n",
              "    </tr>\n",
              "    <tr>\n",
              "      <th>1</th>\n",
              "      <td>2019-03-06</td>\n",
              "      <td>6</td>\n",
              "      <td>2</td>\n",
              "      <td>Wednesday</td>\n",
              "      <td>0</td>\n",
              "      <td>10</td>\n",
              "    </tr>\n",
              "    <tr>\n",
              "      <th>2</th>\n",
              "      <td>2019-03-07</td>\n",
              "      <td>7</td>\n",
              "      <td>3</td>\n",
              "      <td>Thursday</td>\n",
              "      <td>0</td>\n",
              "      <td>10</td>\n",
              "    </tr>\n",
              "    <tr>\n",
              "      <th>3</th>\n",
              "      <td>2019-03-08</td>\n",
              "      <td>8</td>\n",
              "      <td>4</td>\n",
              "      <td>Friday</td>\n",
              "      <td>0</td>\n",
              "      <td>10</td>\n",
              "    </tr>\n",
              "    <tr>\n",
              "      <th>4</th>\n",
              "      <td>2019-03-09</td>\n",
              "      <td>9</td>\n",
              "      <td>5</td>\n",
              "      <td>Saturday</td>\n",
              "      <td>1</td>\n",
              "      <td>10</td>\n",
              "    </tr>\n",
              "  </tbody>\n",
              "</table>\n",
              "</div>"
            ],
            "text/plain": [
              "        date  day_mo  day_week day_week_name  is_weekend  week\n",
              "0 2019-03-05       5         1       Tuesday           0    10\n",
              "1 2019-03-06       6         2     Wednesday           0    10\n",
              "2 2019-03-07       7         3      Thursday           0    10\n",
              "3 2019-03-08       8         4        Friday           0    10\n",
              "4 2019-03-09       9         5      Saturday           1    10"
            ]
          },
          "metadata": {},
          "execution_count": 30
        }
      ]
    },
    {
      "cell_type": "markdown",
      "metadata": {
        "id": "8MqUfFPfnHzs"
      },
      "source": [
        "## Extraire des parties de temps à partir d'une variable datetime.\n",
        "\n",
        "Certains événements se produisent plus souvent à certains moments de la journée, par exemple, les activités frauduleuses se produisent plus probablement pendant la nuit ou tôt le matin. De plus, occasionnellement, les organisations souhaitent savoir si un événement s'est produit après un autre, dans un laps de temps très court, par exemple, si les ventes ont augmenté grâce à l'affichage d'une publicité télévisée ou en ligne. Par conséquent, la dérivation de fonctionnalités temporelles est extrêmement utile. Dans cette recette, nous allons extraire différentes parties d'une variable datetime en utilisant pandas et NumPy"
      ]
    },
    {
      "cell_type": "code",
      "metadata": {
        "colab": {
          "base_uri": "https://localhost:8080/",
          "height": 204
        },
        "id": "3fjrXqIMnjY7",
        "outputId": "3e73055e-5bd4-4bcd-e0aa-249bce9c8f04"
      },
      "source": [
        "# let's create a toy dataframe with some date variables\n",
        "\n",
        "rng_ = pd.date_range('2019-03-05', periods=20, freq='1h15min10s')\n",
        "df = pd.DataFrame({'date': rng_}) \n",
        "df.head()"
      ],
      "execution_count": 31,
      "outputs": [
        {
          "output_type": "execute_result",
          "data": {
            "text/html": [
              "<div>\n",
              "<style scoped>\n",
              "    .dataframe tbody tr th:only-of-type {\n",
              "        vertical-align: middle;\n",
              "    }\n",
              "\n",
              "    .dataframe tbody tr th {\n",
              "        vertical-align: top;\n",
              "    }\n",
              "\n",
              "    .dataframe thead th {\n",
              "        text-align: right;\n",
              "    }\n",
              "</style>\n",
              "<table border=\"1\" class=\"dataframe\">\n",
              "  <thead>\n",
              "    <tr style=\"text-align: right;\">\n",
              "      <th></th>\n",
              "      <th>date</th>\n",
              "    </tr>\n",
              "  </thead>\n",
              "  <tbody>\n",
              "    <tr>\n",
              "      <th>0</th>\n",
              "      <td>2019-03-05 00:00:00</td>\n",
              "    </tr>\n",
              "    <tr>\n",
              "      <th>1</th>\n",
              "      <td>2019-03-05 01:15:10</td>\n",
              "    </tr>\n",
              "    <tr>\n",
              "      <th>2</th>\n",
              "      <td>2019-03-05 02:30:20</td>\n",
              "    </tr>\n",
              "    <tr>\n",
              "      <th>3</th>\n",
              "      <td>2019-03-05 03:45:30</td>\n",
              "    </tr>\n",
              "    <tr>\n",
              "      <th>4</th>\n",
              "      <td>2019-03-05 05:00:40</td>\n",
              "    </tr>\n",
              "  </tbody>\n",
              "</table>\n",
              "</div>"
            ],
            "text/plain": [
              "                 date\n",
              "0 2019-03-05 00:00:00\n",
              "1 2019-03-05 01:15:10\n",
              "2 2019-03-05 02:30:20\n",
              "3 2019-03-05 03:45:30\n",
              "4 2019-03-05 05:00:40"
            ]
          },
          "metadata": {},
          "execution_count": 31
        }
      ]
    },
    {
      "cell_type": "markdown",
      "metadata": {
        "id": "yMIa4JOioO5z"
      },
      "source": [
        "\n",
        "Extrayons les heures, les minutes et les secondes de l'heure dans trois nouvelles colonnes, puis affichons les cinq premières lignes du cadre de données"
      ]
    },
    {
      "cell_type": "code",
      "metadata": {
        "colab": {
          "base_uri": "https://localhost:8080/",
          "height": 204
        },
        "id": "OxgAS3lSnn18",
        "outputId": "9869a695-474b-42db-ddcd-c58a3bcf7150"
      },
      "source": [
        "# extract hr, min and sec\n",
        "\n",
        "df['hour'] = df['date'].dt.hour\n",
        "df['min'] = df['date'].dt.minute\n",
        "df['sec'] = df['date'].dt.second\n",
        "\n",
        "df.head()"
      ],
      "execution_count": 32,
      "outputs": [
        {
          "output_type": "execute_result",
          "data": {
            "text/html": [
              "<div>\n",
              "<style scoped>\n",
              "    .dataframe tbody tr th:only-of-type {\n",
              "        vertical-align: middle;\n",
              "    }\n",
              "\n",
              "    .dataframe tbody tr th {\n",
              "        vertical-align: top;\n",
              "    }\n",
              "\n",
              "    .dataframe thead th {\n",
              "        text-align: right;\n",
              "    }\n",
              "</style>\n",
              "<table border=\"1\" class=\"dataframe\">\n",
              "  <thead>\n",
              "    <tr style=\"text-align: right;\">\n",
              "      <th></th>\n",
              "      <th>date</th>\n",
              "      <th>hour</th>\n",
              "      <th>min</th>\n",
              "      <th>sec</th>\n",
              "    </tr>\n",
              "  </thead>\n",
              "  <tbody>\n",
              "    <tr>\n",
              "      <th>0</th>\n",
              "      <td>2019-03-05 00:00:00</td>\n",
              "      <td>0</td>\n",
              "      <td>0</td>\n",
              "      <td>0</td>\n",
              "    </tr>\n",
              "    <tr>\n",
              "      <th>1</th>\n",
              "      <td>2019-03-05 01:15:10</td>\n",
              "      <td>1</td>\n",
              "      <td>15</td>\n",
              "      <td>10</td>\n",
              "    </tr>\n",
              "    <tr>\n",
              "      <th>2</th>\n",
              "      <td>2019-03-05 02:30:20</td>\n",
              "      <td>2</td>\n",
              "      <td>30</td>\n",
              "      <td>20</td>\n",
              "    </tr>\n",
              "    <tr>\n",
              "      <th>3</th>\n",
              "      <td>2019-03-05 03:45:30</td>\n",
              "      <td>3</td>\n",
              "      <td>45</td>\n",
              "      <td>30</td>\n",
              "    </tr>\n",
              "    <tr>\n",
              "      <th>4</th>\n",
              "      <td>2019-03-05 05:00:40</td>\n",
              "      <td>5</td>\n",
              "      <td>0</td>\n",
              "      <td>40</td>\n",
              "    </tr>\n",
              "  </tbody>\n",
              "</table>\n",
              "</div>"
            ],
            "text/plain": [
              "                 date  hour  min  sec\n",
              "0 2019-03-05 00:00:00     0    0    0\n",
              "1 2019-03-05 01:15:10     1   15   10\n",
              "2 2019-03-05 02:30:20     2   30   20\n",
              "3 2019-03-05 03:45:30     3   45   30\n",
              "4 2019-03-05 05:00:40     5    0   40"
            ]
          },
          "metadata": {},
          "execution_count": 32
        }
      ]
    },
    {
      "cell_type": "markdown",
      "metadata": {
        "id": "jn4sgjV8oaeN"
      },
      "source": [
        "Effectuons les mêmes opérations que nous avons faites à l'étape précidente mais maintenant dans une ligne de code"
      ]
    },
    {
      "cell_type": "code",
      "metadata": {
        "colab": {
          "base_uri": "https://localhost:8080/",
          "height": 204
        },
        "id": "fkHHY4PTnuj7",
        "outputId": "1b29b70d-7ac0-4a3d-8122-f9bf6d5f44cd"
      },
      "source": [
        "\n",
        "# the same in one line\n",
        "\n",
        "df[['h','m','s']] = pd.DataFrame([(x.hour, x.minute, x.second) for x in df['date']])\n",
        "\n",
        "df.head()"
      ],
      "execution_count": 33,
      "outputs": [
        {
          "output_type": "execute_result",
          "data": {
            "text/html": [
              "<div>\n",
              "<style scoped>\n",
              "    .dataframe tbody tr th:only-of-type {\n",
              "        vertical-align: middle;\n",
              "    }\n",
              "\n",
              "    .dataframe tbody tr th {\n",
              "        vertical-align: top;\n",
              "    }\n",
              "\n",
              "    .dataframe thead th {\n",
              "        text-align: right;\n",
              "    }\n",
              "</style>\n",
              "<table border=\"1\" class=\"dataframe\">\n",
              "  <thead>\n",
              "    <tr style=\"text-align: right;\">\n",
              "      <th></th>\n",
              "      <th>date</th>\n",
              "      <th>hour</th>\n",
              "      <th>min</th>\n",
              "      <th>sec</th>\n",
              "      <th>h</th>\n",
              "      <th>m</th>\n",
              "      <th>s</th>\n",
              "    </tr>\n",
              "  </thead>\n",
              "  <tbody>\n",
              "    <tr>\n",
              "      <th>0</th>\n",
              "      <td>2019-03-05 00:00:00</td>\n",
              "      <td>0</td>\n",
              "      <td>0</td>\n",
              "      <td>0</td>\n",
              "      <td>0</td>\n",
              "      <td>0</td>\n",
              "      <td>0</td>\n",
              "    </tr>\n",
              "    <tr>\n",
              "      <th>1</th>\n",
              "      <td>2019-03-05 01:15:10</td>\n",
              "      <td>1</td>\n",
              "      <td>15</td>\n",
              "      <td>10</td>\n",
              "      <td>1</td>\n",
              "      <td>15</td>\n",
              "      <td>10</td>\n",
              "    </tr>\n",
              "    <tr>\n",
              "      <th>2</th>\n",
              "      <td>2019-03-05 02:30:20</td>\n",
              "      <td>2</td>\n",
              "      <td>30</td>\n",
              "      <td>20</td>\n",
              "      <td>2</td>\n",
              "      <td>30</td>\n",
              "      <td>20</td>\n",
              "    </tr>\n",
              "    <tr>\n",
              "      <th>3</th>\n",
              "      <td>2019-03-05 03:45:30</td>\n",
              "      <td>3</td>\n",
              "      <td>45</td>\n",
              "      <td>30</td>\n",
              "      <td>3</td>\n",
              "      <td>45</td>\n",
              "      <td>30</td>\n",
              "    </tr>\n",
              "    <tr>\n",
              "      <th>4</th>\n",
              "      <td>2019-03-05 05:00:40</td>\n",
              "      <td>5</td>\n",
              "      <td>0</td>\n",
              "      <td>40</td>\n",
              "      <td>5</td>\n",
              "      <td>0</td>\n",
              "      <td>40</td>\n",
              "    </tr>\n",
              "  </tbody>\n",
              "</table>\n",
              "</div>"
            ],
            "text/plain": [
              "                 date  hour  min  sec  h   m   s\n",
              "0 2019-03-05 00:00:00     0    0    0  0   0   0\n",
              "1 2019-03-05 01:15:10     1   15   10  1  15  10\n",
              "2 2019-03-05 02:30:20     2   30   20  2  30  20\n",
              "3 2019-03-05 03:45:30     3   45   30  3  45  30\n",
              "4 2019-03-05 05:00:40     5    0   40  5   0  40"
            ]
          },
          "metadata": {},
          "execution_count": 33
        }
      ]
    },
    {
      "cell_type": "code",
      "metadata": {
        "colab": {
          "base_uri": "https://localhost:8080/"
        },
        "id": "bJ7UBhd6n21a",
        "outputId": "46745cde-fb52-4fb9-aba1-169261c8bc68"
      },
      "source": [
        "df['hour'].unique()"
      ],
      "execution_count": 34,
      "outputs": [
        {
          "output_type": "execute_result",
          "data": {
            "text/plain": [
              "array([ 0,  1,  2,  3,  5,  6,  7,  8, 10, 11, 12, 13, 15, 16, 17, 18, 20,\n",
              "       21, 22, 23])"
            ]
          },
          "metadata": {},
          "execution_count": 34
        }
      ]
    },
    {
      "cell_type": "markdown",
      "metadata": {
        "id": "M5JE_1G_orI6"
      },
      "source": [
        "Enfin, créons une variable binaire qui signale si l'événement s'est produit le matin, entre 6 heures du matin. et 12h"
      ]
    },
    {
      "cell_type": "code",
      "metadata": {
        "colab": {
          "base_uri": "https://localhost:8080/",
          "height": 204
        },
        "id": "ttXFWGbun5ta",
        "outputId": "d1c84f8e-c4a4-46b0-c83b-aea9fc2bdb34"
      },
      "source": [
        "# is it morning?\n",
        "\n",
        "df['is_morning'] = np.where( (df['hour'] < 12) & (df['hour'] > 6), 1, 0 )\n",
        "\n",
        "df.head()"
      ],
      "execution_count": 35,
      "outputs": [
        {
          "output_type": "execute_result",
          "data": {
            "text/html": [
              "<div>\n",
              "<style scoped>\n",
              "    .dataframe tbody tr th:only-of-type {\n",
              "        vertical-align: middle;\n",
              "    }\n",
              "\n",
              "    .dataframe tbody tr th {\n",
              "        vertical-align: top;\n",
              "    }\n",
              "\n",
              "    .dataframe thead th {\n",
              "        text-align: right;\n",
              "    }\n",
              "</style>\n",
              "<table border=\"1\" class=\"dataframe\">\n",
              "  <thead>\n",
              "    <tr style=\"text-align: right;\">\n",
              "      <th></th>\n",
              "      <th>date</th>\n",
              "      <th>hour</th>\n",
              "      <th>min</th>\n",
              "      <th>sec</th>\n",
              "      <th>h</th>\n",
              "      <th>m</th>\n",
              "      <th>s</th>\n",
              "      <th>is_morning</th>\n",
              "    </tr>\n",
              "  </thead>\n",
              "  <tbody>\n",
              "    <tr>\n",
              "      <th>0</th>\n",
              "      <td>2019-03-05 00:00:00</td>\n",
              "      <td>0</td>\n",
              "      <td>0</td>\n",
              "      <td>0</td>\n",
              "      <td>0</td>\n",
              "      <td>0</td>\n",
              "      <td>0</td>\n",
              "      <td>0</td>\n",
              "    </tr>\n",
              "    <tr>\n",
              "      <th>1</th>\n",
              "      <td>2019-03-05 01:15:10</td>\n",
              "      <td>1</td>\n",
              "      <td>15</td>\n",
              "      <td>10</td>\n",
              "      <td>1</td>\n",
              "      <td>15</td>\n",
              "      <td>10</td>\n",
              "      <td>0</td>\n",
              "    </tr>\n",
              "    <tr>\n",
              "      <th>2</th>\n",
              "      <td>2019-03-05 02:30:20</td>\n",
              "      <td>2</td>\n",
              "      <td>30</td>\n",
              "      <td>20</td>\n",
              "      <td>2</td>\n",
              "      <td>30</td>\n",
              "      <td>20</td>\n",
              "      <td>0</td>\n",
              "    </tr>\n",
              "    <tr>\n",
              "      <th>3</th>\n",
              "      <td>2019-03-05 03:45:30</td>\n",
              "      <td>3</td>\n",
              "      <td>45</td>\n",
              "      <td>30</td>\n",
              "      <td>3</td>\n",
              "      <td>45</td>\n",
              "      <td>30</td>\n",
              "      <td>0</td>\n",
              "    </tr>\n",
              "    <tr>\n",
              "      <th>4</th>\n",
              "      <td>2019-03-05 05:00:40</td>\n",
              "      <td>5</td>\n",
              "      <td>0</td>\n",
              "      <td>40</td>\n",
              "      <td>5</td>\n",
              "      <td>0</td>\n",
              "      <td>40</td>\n",
              "      <td>0</td>\n",
              "    </tr>\n",
              "  </tbody>\n",
              "</table>\n",
              "</div>"
            ],
            "text/plain": [
              "                 date  hour  min  sec  h   m   s  is_morning\n",
              "0 2019-03-05 00:00:00     0    0    0  0   0   0           0\n",
              "1 2019-03-05 01:15:10     1   15   10  1  15  10           0\n",
              "2 2019-03-05 02:30:20     2   30   20  2  30  20           0\n",
              "3 2019-03-05 03:45:30     3   45   30  3  45  30           0\n",
              "4 2019-03-05 05:00:40     5    0   40  5   0  40           0"
            ]
          },
          "metadata": {},
          "execution_count": 35
        }
      ]
    },
    {
      "cell_type": "markdown",
      "metadata": {
        "id": "3IP2TCReo3w3"
      },
      "source": [
        "## Capturer le temps écoulé entre les variables datetime\n",
        "\n",
        "Les variables datetime offrent une valeur individuellement et elles offrent plus de valeur collectivement lorsqu'elles sont utilisées avec d'autres variables datetime pour obtenir des informations importantes. L'exemple le plus courant consiste à dériver l'âge à partir de la date de naissance et today variable, ou le jour où le client a eu un accident ou a demandé un prêt. Comme ces exemples, nous pouvons combiner plusieurs variables datetime pour dériver le temps qui s'est écoulé entre les deux et créer des fonctionnalités plus significatives. Dans cette recette, nous allons apprendre à capturer le temps entre deux variables datetime dans différents formats et le temps entre une variable datetime et le jour actuel, en utilisant pandas, NumPy et la bibliothèque datetime."
      ]
    },
    {
      "cell_type": "code",
      "metadata": {
        "id": "HVXnsCeopeSq"
      },
      "source": [
        "import datetime\n",
        "import numpy as np\n",
        "import pandas as pd"
      ],
      "execution_count": 36,
      "outputs": []
    },
    {
      "cell_type": "code",
      "metadata": {
        "colab": {
          "base_uri": "https://localhost:8080/",
          "height": 204
        },
        "id": "FRGejw4LpgrE",
        "outputId": "61b83cc2-419f-43c3-906c-1a9256badb75"
      },
      "source": [
        "# let's create a toy dataframe with some date variables\n",
        "\n",
        "rng_hr = pd.date_range('2019-03-05', periods=20, freq='H')\n",
        "rng_month = pd.date_range('2019-03-05', periods=20, freq='M')\n",
        "\n",
        "df = pd.DataFrame({'date1': rng_hr, 'date2': rng_month}) \n",
        "df.head()"
      ],
      "execution_count": 37,
      "outputs": [
        {
          "output_type": "execute_result",
          "data": {
            "text/html": [
              "<div>\n",
              "<style scoped>\n",
              "    .dataframe tbody tr th:only-of-type {\n",
              "        vertical-align: middle;\n",
              "    }\n",
              "\n",
              "    .dataframe tbody tr th {\n",
              "        vertical-align: top;\n",
              "    }\n",
              "\n",
              "    .dataframe thead th {\n",
              "        text-align: right;\n",
              "    }\n",
              "</style>\n",
              "<table border=\"1\" class=\"dataframe\">\n",
              "  <thead>\n",
              "    <tr style=\"text-align: right;\">\n",
              "      <th></th>\n",
              "      <th>date1</th>\n",
              "      <th>date2</th>\n",
              "    </tr>\n",
              "  </thead>\n",
              "  <tbody>\n",
              "    <tr>\n",
              "      <th>0</th>\n",
              "      <td>2019-03-05 00:00:00</td>\n",
              "      <td>2019-03-31</td>\n",
              "    </tr>\n",
              "    <tr>\n",
              "      <th>1</th>\n",
              "      <td>2019-03-05 01:00:00</td>\n",
              "      <td>2019-04-30</td>\n",
              "    </tr>\n",
              "    <tr>\n",
              "      <th>2</th>\n",
              "      <td>2019-03-05 02:00:00</td>\n",
              "      <td>2019-05-31</td>\n",
              "    </tr>\n",
              "    <tr>\n",
              "      <th>3</th>\n",
              "      <td>2019-03-05 03:00:00</td>\n",
              "      <td>2019-06-30</td>\n",
              "    </tr>\n",
              "    <tr>\n",
              "      <th>4</th>\n",
              "      <td>2019-03-05 04:00:00</td>\n",
              "      <td>2019-07-31</td>\n",
              "    </tr>\n",
              "  </tbody>\n",
              "</table>\n",
              "</div>"
            ],
            "text/plain": [
              "                date1      date2\n",
              "0 2019-03-05 00:00:00 2019-03-31\n",
              "1 2019-03-05 01:00:00 2019-04-30\n",
              "2 2019-03-05 02:00:00 2019-05-31\n",
              "3 2019-03-05 03:00:00 2019-06-30\n",
              "4 2019-03-05 04:00:00 2019-07-31"
            ]
          },
          "metadata": {},
          "execution_count": 37
        }
      ]
    },
    {
      "cell_type": "markdown",
      "metadata": {
        "id": "zvYAKOJcqatV"
      },
      "source": [
        "Capturons la différence en jours entre les deux variables dans une nouvelle fonctionnalité, puis affichons les premières lignes de la base de données"
      ]
    },
    {
      "cell_type": "code",
      "metadata": {
        "colab": {
          "base_uri": "https://localhost:8080/",
          "height": 204
        },
        "id": "lh6E8Q_jplZX",
        "outputId": "0135e392-c38c-4456-9b30-75125997d960"
      },
      "source": [
        "# let's capture the difference in days between the 2 variables\n",
        "\n",
        "df['elapsed_days'] = (df['date2'] - df['date1']).dt.days\n",
        "\n",
        "df.head()"
      ],
      "execution_count": 38,
      "outputs": [
        {
          "output_type": "execute_result",
          "data": {
            "text/html": [
              "<div>\n",
              "<style scoped>\n",
              "    .dataframe tbody tr th:only-of-type {\n",
              "        vertical-align: middle;\n",
              "    }\n",
              "\n",
              "    .dataframe tbody tr th {\n",
              "        vertical-align: top;\n",
              "    }\n",
              "\n",
              "    .dataframe thead th {\n",
              "        text-align: right;\n",
              "    }\n",
              "</style>\n",
              "<table border=\"1\" class=\"dataframe\">\n",
              "  <thead>\n",
              "    <tr style=\"text-align: right;\">\n",
              "      <th></th>\n",
              "      <th>date1</th>\n",
              "      <th>date2</th>\n",
              "      <th>elapsed_days</th>\n",
              "    </tr>\n",
              "  </thead>\n",
              "  <tbody>\n",
              "    <tr>\n",
              "      <th>0</th>\n",
              "      <td>2019-03-05 00:00:00</td>\n",
              "      <td>2019-03-31</td>\n",
              "      <td>26</td>\n",
              "    </tr>\n",
              "    <tr>\n",
              "      <th>1</th>\n",
              "      <td>2019-03-05 01:00:00</td>\n",
              "      <td>2019-04-30</td>\n",
              "      <td>55</td>\n",
              "    </tr>\n",
              "    <tr>\n",
              "      <th>2</th>\n",
              "      <td>2019-03-05 02:00:00</td>\n",
              "      <td>2019-05-31</td>\n",
              "      <td>86</td>\n",
              "    </tr>\n",
              "    <tr>\n",
              "      <th>3</th>\n",
              "      <td>2019-03-05 03:00:00</td>\n",
              "      <td>2019-06-30</td>\n",
              "      <td>116</td>\n",
              "    </tr>\n",
              "    <tr>\n",
              "      <th>4</th>\n",
              "      <td>2019-03-05 04:00:00</td>\n",
              "      <td>2019-07-31</td>\n",
              "      <td>147</td>\n",
              "    </tr>\n",
              "  </tbody>\n",
              "</table>\n",
              "</div>"
            ],
            "text/plain": [
              "                date1      date2  elapsed_days\n",
              "0 2019-03-05 00:00:00 2019-03-31            26\n",
              "1 2019-03-05 01:00:00 2019-04-30            55\n",
              "2 2019-03-05 02:00:00 2019-05-31            86\n",
              "3 2019-03-05 03:00:00 2019-06-30           116\n",
              "4 2019-03-05 04:00:00 2019-07-31           147"
            ]
          },
          "metadata": {},
          "execution_count": 38
        }
      ]
    },
    {
      "cell_type": "code",
      "metadata": {
        "id": "lV251qM4qn4O"
      },
      "source": [
        "Capturons la différence en mois entre les deux variables datetime dans une nouvelle fonctionnalité, puis affichons les premières lignes du dataframe"
      ],
      "execution_count": null,
      "outputs": []
    },
    {
      "cell_type": "code",
      "metadata": {
        "colab": {
          "base_uri": "https://localhost:8080/",
          "height": 204
        },
        "id": "c8suWQcqpqUm",
        "outputId": "b5e20ea4-f1d5-4403-d8c8-5f971e2982ab"
      },
      "source": [
        "# let's capture the difference in months between the 2 variables\n",
        "\n",
        "df['months_passed'] = ((df['date2'] - df['date1']) / np.timedelta64(1, 'M'))\n",
        "df['months_passed'] = np.round(df['months_passed'],0)\n",
        "\n",
        "df.head()"
      ],
      "execution_count": 39,
      "outputs": [
        {
          "output_type": "execute_result",
          "data": {
            "text/html": [
              "<div>\n",
              "<style scoped>\n",
              "    .dataframe tbody tr th:only-of-type {\n",
              "        vertical-align: middle;\n",
              "    }\n",
              "\n",
              "    .dataframe tbody tr th {\n",
              "        vertical-align: top;\n",
              "    }\n",
              "\n",
              "    .dataframe thead th {\n",
              "        text-align: right;\n",
              "    }\n",
              "</style>\n",
              "<table border=\"1\" class=\"dataframe\">\n",
              "  <thead>\n",
              "    <tr style=\"text-align: right;\">\n",
              "      <th></th>\n",
              "      <th>date1</th>\n",
              "      <th>date2</th>\n",
              "      <th>elapsed_days</th>\n",
              "      <th>months_passed</th>\n",
              "    </tr>\n",
              "  </thead>\n",
              "  <tbody>\n",
              "    <tr>\n",
              "      <th>0</th>\n",
              "      <td>2019-03-05 00:00:00</td>\n",
              "      <td>2019-03-31</td>\n",
              "      <td>26</td>\n",
              "      <td>1.0</td>\n",
              "    </tr>\n",
              "    <tr>\n",
              "      <th>1</th>\n",
              "      <td>2019-03-05 01:00:00</td>\n",
              "      <td>2019-04-30</td>\n",
              "      <td>55</td>\n",
              "      <td>2.0</td>\n",
              "    </tr>\n",
              "    <tr>\n",
              "      <th>2</th>\n",
              "      <td>2019-03-05 02:00:00</td>\n",
              "      <td>2019-05-31</td>\n",
              "      <td>86</td>\n",
              "      <td>3.0</td>\n",
              "    </tr>\n",
              "    <tr>\n",
              "      <th>3</th>\n",
              "      <td>2019-03-05 03:00:00</td>\n",
              "      <td>2019-06-30</td>\n",
              "      <td>116</td>\n",
              "      <td>4.0</td>\n",
              "    </tr>\n",
              "    <tr>\n",
              "      <th>4</th>\n",
              "      <td>2019-03-05 04:00:00</td>\n",
              "      <td>2019-07-31</td>\n",
              "      <td>147</td>\n",
              "      <td>5.0</td>\n",
              "    </tr>\n",
              "  </tbody>\n",
              "</table>\n",
              "</div>"
            ],
            "text/plain": [
              "                date1      date2  elapsed_days  months_passed\n",
              "0 2019-03-05 00:00:00 2019-03-31            26            1.0\n",
              "1 2019-03-05 01:00:00 2019-04-30            55            2.0\n",
              "2 2019-03-05 02:00:00 2019-05-31            86            3.0\n",
              "3 2019-03-05 03:00:00 2019-06-30           116            4.0\n",
              "4 2019-03-05 04:00:00 2019-07-31           147            5.0"
            ]
          },
          "metadata": {},
          "execution_count": 39
        }
      ]
    },
    {
      "cell_type": "markdown",
      "metadata": {
        "id": "ZxsN7K1ZrOHK"
      },
      "source": [
        "Maintenant, calculons le temps entre les variables en minutes et secondes et puis affichons les premières lignes du cadre de données"
      ]
    },
    {
      "cell_type": "code",
      "metadata": {
        "colab": {
          "base_uri": "https://localhost:8080/",
          "height": 204
        },
        "id": "2dIB1gjqqCGy",
        "outputId": "f4c3a366-37bc-4268-f423-bc22edec92d3"
      },
      "source": [
        "\n",
        "# calculate difference in seconds and minutes\n",
        "\n",
        "df['diff_seconds'] = (df['date2'] - df['date1'])/np.timedelta64(1,'s')\n",
        "df['diff_minutes'] = (df['date2'] - df['date1'])/np.timedelta64(1,'m')\n",
        "\n",
        "df.head()"
      ],
      "execution_count": 43,
      "outputs": [
        {
          "output_type": "execute_result",
          "data": {
            "text/html": [
              "<div>\n",
              "<style scoped>\n",
              "    .dataframe tbody tr th:only-of-type {\n",
              "        vertical-align: middle;\n",
              "    }\n",
              "\n",
              "    .dataframe tbody tr th {\n",
              "        vertical-align: top;\n",
              "    }\n",
              "\n",
              "    .dataframe thead th {\n",
              "        text-align: right;\n",
              "    }\n",
              "</style>\n",
              "<table border=\"1\" class=\"dataframe\">\n",
              "  <thead>\n",
              "    <tr style=\"text-align: right;\">\n",
              "      <th></th>\n",
              "      <th>date1</th>\n",
              "      <th>date2</th>\n",
              "      <th>elapsed_days</th>\n",
              "      <th>months_passed</th>\n",
              "      <th>diff_seconds</th>\n",
              "      <th>diff_minutes</th>\n",
              "    </tr>\n",
              "  </thead>\n",
              "  <tbody>\n",
              "    <tr>\n",
              "      <th>0</th>\n",
              "      <td>2019-03-05 00:00:00</td>\n",
              "      <td>2019-03-31</td>\n",
              "      <td>26</td>\n",
              "      <td>1.0</td>\n",
              "      <td>2246400.0</td>\n",
              "      <td>37440.0</td>\n",
              "    </tr>\n",
              "    <tr>\n",
              "      <th>1</th>\n",
              "      <td>2019-03-05 01:00:00</td>\n",
              "      <td>2019-04-30</td>\n",
              "      <td>55</td>\n",
              "      <td>2.0</td>\n",
              "      <td>4834800.0</td>\n",
              "      <td>80580.0</td>\n",
              "    </tr>\n",
              "    <tr>\n",
              "      <th>2</th>\n",
              "      <td>2019-03-05 02:00:00</td>\n",
              "      <td>2019-05-31</td>\n",
              "      <td>86</td>\n",
              "      <td>3.0</td>\n",
              "      <td>7509600.0</td>\n",
              "      <td>125160.0</td>\n",
              "    </tr>\n",
              "    <tr>\n",
              "      <th>3</th>\n",
              "      <td>2019-03-05 03:00:00</td>\n",
              "      <td>2019-06-30</td>\n",
              "      <td>116</td>\n",
              "      <td>4.0</td>\n",
              "      <td>10098000.0</td>\n",
              "      <td>168300.0</td>\n",
              "    </tr>\n",
              "    <tr>\n",
              "      <th>4</th>\n",
              "      <td>2019-03-05 04:00:00</td>\n",
              "      <td>2019-07-31</td>\n",
              "      <td>147</td>\n",
              "      <td>5.0</td>\n",
              "      <td>12772800.0</td>\n",
              "      <td>212880.0</td>\n",
              "    </tr>\n",
              "  </tbody>\n",
              "</table>\n",
              "</div>"
            ],
            "text/plain": [
              "                date1      date2  ...  diff_seconds  diff_minutes\n",
              "0 2019-03-05 00:00:00 2019-03-31  ...     2246400.0       37440.0\n",
              "1 2019-03-05 01:00:00 2019-04-30  ...     4834800.0       80580.0\n",
              "2 2019-03-05 02:00:00 2019-05-31  ...     7509600.0      125160.0\n",
              "3 2019-03-05 03:00:00 2019-06-30  ...    10098000.0      168300.0\n",
              "4 2019-03-05 04:00:00 2019-07-31  ...    12772800.0      212880.0\n",
              "\n",
              "[5 rows x 6 columns]"
            ]
          },
          "metadata": {},
          "execution_count": 43
        }
      ]
    },
    {
      "cell_type": "markdown",
      "metadata": {
        "id": "H3_P-TUurbOR"
      },
      "source": [
        "Enfin, calculons la différence entre une variable et le jour en cours, puis affichons les 5 premières lignes du dataframe"
      ]
    },
    {
      "cell_type": "code",
      "metadata": {
        "colab": {
          "base_uri": "https://localhost:8080/",
          "height": 204
        },
        "id": "D3P_HYHYqFFK",
        "outputId": "f2c3a710-9096-41fa-b04a-4822ab2eccd9"
      },
      "source": [
        "\n",
        "# calculate difference to today\n",
        "\n",
        "df['to_today'] = (datetime.datetime.today() - df['date1'])\n",
        "\n",
        "df.head()"
      ],
      "execution_count": 44,
      "outputs": [
        {
          "output_type": "execute_result",
          "data": {
            "text/html": [
              "<div>\n",
              "<style scoped>\n",
              "    .dataframe tbody tr th:only-of-type {\n",
              "        vertical-align: middle;\n",
              "    }\n",
              "\n",
              "    .dataframe tbody tr th {\n",
              "        vertical-align: top;\n",
              "    }\n",
              "\n",
              "    .dataframe thead th {\n",
              "        text-align: right;\n",
              "    }\n",
              "</style>\n",
              "<table border=\"1\" class=\"dataframe\">\n",
              "  <thead>\n",
              "    <tr style=\"text-align: right;\">\n",
              "      <th></th>\n",
              "      <th>date1</th>\n",
              "      <th>date2</th>\n",
              "      <th>elapsed_days</th>\n",
              "      <th>months_passed</th>\n",
              "      <th>diff_seconds</th>\n",
              "      <th>diff_minutes</th>\n",
              "      <th>to_today</th>\n",
              "    </tr>\n",
              "  </thead>\n",
              "  <tbody>\n",
              "    <tr>\n",
              "      <th>0</th>\n",
              "      <td>2019-03-05 00:00:00</td>\n",
              "      <td>2019-03-31</td>\n",
              "      <td>26</td>\n",
              "      <td>1.0</td>\n",
              "      <td>2246400.0</td>\n",
              "      <td>37440.0</td>\n",
              "      <td>909 days 15:23:17.496633</td>\n",
              "    </tr>\n",
              "    <tr>\n",
              "      <th>1</th>\n",
              "      <td>2019-03-05 01:00:00</td>\n",
              "      <td>2019-04-30</td>\n",
              "      <td>55</td>\n",
              "      <td>2.0</td>\n",
              "      <td>4834800.0</td>\n",
              "      <td>80580.0</td>\n",
              "      <td>909 days 14:23:17.496633</td>\n",
              "    </tr>\n",
              "    <tr>\n",
              "      <th>2</th>\n",
              "      <td>2019-03-05 02:00:00</td>\n",
              "      <td>2019-05-31</td>\n",
              "      <td>86</td>\n",
              "      <td>3.0</td>\n",
              "      <td>7509600.0</td>\n",
              "      <td>125160.0</td>\n",
              "      <td>909 days 13:23:17.496633</td>\n",
              "    </tr>\n",
              "    <tr>\n",
              "      <th>3</th>\n",
              "      <td>2019-03-05 03:00:00</td>\n",
              "      <td>2019-06-30</td>\n",
              "      <td>116</td>\n",
              "      <td>4.0</td>\n",
              "      <td>10098000.0</td>\n",
              "      <td>168300.0</td>\n",
              "      <td>909 days 12:23:17.496633</td>\n",
              "    </tr>\n",
              "    <tr>\n",
              "      <th>4</th>\n",
              "      <td>2019-03-05 04:00:00</td>\n",
              "      <td>2019-07-31</td>\n",
              "      <td>147</td>\n",
              "      <td>5.0</td>\n",
              "      <td>12772800.0</td>\n",
              "      <td>212880.0</td>\n",
              "      <td>909 days 11:23:17.496633</td>\n",
              "    </tr>\n",
              "  </tbody>\n",
              "</table>\n",
              "</div>"
            ],
            "text/plain": [
              "                date1      date2  ...  diff_minutes                 to_today\n",
              "0 2019-03-05 00:00:00 2019-03-31  ...       37440.0 909 days 15:23:17.496633\n",
              "1 2019-03-05 01:00:00 2019-04-30  ...       80580.0 909 days 14:23:17.496633\n",
              "2 2019-03-05 02:00:00 2019-05-31  ...      125160.0 909 days 13:23:17.496633\n",
              "3 2019-03-05 03:00:00 2019-06-30  ...      168300.0 909 days 12:23:17.496633\n",
              "4 2019-03-05 04:00:00 2019-07-31  ...      212880.0 909 days 11:23:17.496633\n",
              "\n",
              "[5 rows x 7 columns]"
            ]
          },
          "metadata": {},
          "execution_count": 44
        }
      ]
    },
    {
      "cell_type": "markdown",
      "metadata": {
        "id": "myuMz4Rys0wp"
      },
      "source": [
        "## Travailler avec le temps dans différents fuseaux horaires.\n",
        "\n",
        "Certaines organisations opèrent à l'échelle internationale ; par conséquent, les informations qu'ils collectent sur les événements peuvent être enregistrées avec le fuseau horaire de la zone où l'événement a eu lieu. Pour pouvoir comparer les événements qui se sont produits dans différents fuseaux horaires, nous devons d'abord définir toutes les variables dans le même fuseau. Dans cette recette, nous allons apprendre à unifier les fuseaux horaires d'une variable datetime puis apprendre à réaffecter une variable à un autre fuseau horaire à l'aide de pandas"
      ]
    },
    {
      "cell_type": "markdown",
      "metadata": {
        "id": "ay71hmGqwXw7"
      },
      "source": [
        "Pour poursuivre la recette, importons pandas, puis créons une base de données avec deux variables, chacune contenant une date et une heure dans différents fuseaux horaires"
      ]
    },
    {
      "cell_type": "code",
      "metadata": {
        "colab": {
          "base_uri": "https://localhost:8080/",
          "height": 235
        },
        "id": "n4n7hsDevzX6",
        "outputId": "7d530c68-bb7b-4ace-8737-58adc91ec2a1"
      },
      "source": [
        "# first, let's create a toy dataframe with some timestamps in different time zones\n",
        "# variable 1\n",
        "\n",
        "df = pd.DataFrame()\n",
        "\n",
        "df['time1'] = pd.concat([\n",
        "    pd.Series(\n",
        "        pd.date_range(\n",
        "            start='2015-06-10 09:00', freq='H', periods=3,\n",
        "            tz='Europe/Berlin')),\n",
        "    pd.Series(\n",
        "        pd.date_range(\n",
        "            start='2015-09-10 09:00', freq='H', periods=3, tz='US/Central'))\n",
        "    ], axis=0)\n",
        "\n",
        "df"
      ],
      "execution_count": 45,
      "outputs": [
        {
          "output_type": "execute_result",
          "data": {
            "text/html": [
              "<div>\n",
              "<style scoped>\n",
              "    .dataframe tbody tr th:only-of-type {\n",
              "        vertical-align: middle;\n",
              "    }\n",
              "\n",
              "    .dataframe tbody tr th {\n",
              "        vertical-align: top;\n",
              "    }\n",
              "\n",
              "    .dataframe thead th {\n",
              "        text-align: right;\n",
              "    }\n",
              "</style>\n",
              "<table border=\"1\" class=\"dataframe\">\n",
              "  <thead>\n",
              "    <tr style=\"text-align: right;\">\n",
              "      <th></th>\n",
              "      <th>time1</th>\n",
              "    </tr>\n",
              "  </thead>\n",
              "  <tbody>\n",
              "    <tr>\n",
              "      <th>0</th>\n",
              "      <td>2015-06-10 09:00:00+02:00</td>\n",
              "    </tr>\n",
              "    <tr>\n",
              "      <th>1</th>\n",
              "      <td>2015-06-10 10:00:00+02:00</td>\n",
              "    </tr>\n",
              "    <tr>\n",
              "      <th>2</th>\n",
              "      <td>2015-06-10 11:00:00+02:00</td>\n",
              "    </tr>\n",
              "    <tr>\n",
              "      <th>0</th>\n",
              "      <td>2015-09-10 09:00:00-05:00</td>\n",
              "    </tr>\n",
              "    <tr>\n",
              "      <th>1</th>\n",
              "      <td>2015-09-10 10:00:00-05:00</td>\n",
              "    </tr>\n",
              "    <tr>\n",
              "      <th>2</th>\n",
              "      <td>2015-09-10 11:00:00-05:00</td>\n",
              "    </tr>\n",
              "  </tbody>\n",
              "</table>\n",
              "</div>"
            ],
            "text/plain": [
              "                       time1\n",
              "0  2015-06-10 09:00:00+02:00\n",
              "1  2015-06-10 10:00:00+02:00\n",
              "2  2015-06-10 11:00:00+02:00\n",
              "0  2015-09-10 09:00:00-05:00\n",
              "1  2015-09-10 10:00:00-05:00\n",
              "2  2015-09-10 11:00:00-05:00"
            ]
          },
          "metadata": {},
          "execution_count": 45
        }
      ]
    },
    {
      "cell_type": "markdown",
      "metadata": {
        "id": "BCySeLX6ww4s"
      },
      "source": [
        "Maintenant, ajoutons une autre variable datetime au dataframe, qui contient également des valeurs dans différents fuseaux horaires, puis affichons le dataframe résultant"
      ]
    },
    {
      "cell_type": "code",
      "metadata": {
        "colab": {
          "base_uri": "https://localhost:8080/",
          "height": 235
        },
        "id": "b40_1uEzv8by",
        "outputId": "cea97010-7e99-46f1-83b8-86ccb42b61d8"
      },
      "source": [
        "# first, let's create a toy dataframe with some timestamps in different time zones\n",
        "# variable 2\n",
        "\n",
        "df['time2'] = pd.concat([\n",
        "    pd.Series(\n",
        "        pd.date_range(\n",
        "            start='2015-07-01 09:00', freq='H', periods=3,\n",
        "            tz='Europe/Berlin')),\n",
        "    pd.Series(\n",
        "        pd.date_range(\n",
        "            start='2015-08-01 09:00', freq='H', periods=3, tz='US/Central'))\n",
        "    ], axis=0)\n",
        "\n",
        "df"
      ],
      "execution_count": 46,
      "outputs": [
        {
          "output_type": "execute_result",
          "data": {
            "text/html": [
              "<div>\n",
              "<style scoped>\n",
              "    .dataframe tbody tr th:only-of-type {\n",
              "        vertical-align: middle;\n",
              "    }\n",
              "\n",
              "    .dataframe tbody tr th {\n",
              "        vertical-align: top;\n",
              "    }\n",
              "\n",
              "    .dataframe thead th {\n",
              "        text-align: right;\n",
              "    }\n",
              "</style>\n",
              "<table border=\"1\" class=\"dataframe\">\n",
              "  <thead>\n",
              "    <tr style=\"text-align: right;\">\n",
              "      <th></th>\n",
              "      <th>time1</th>\n",
              "      <th>time2</th>\n",
              "    </tr>\n",
              "  </thead>\n",
              "  <tbody>\n",
              "    <tr>\n",
              "      <th>0</th>\n",
              "      <td>2015-06-10 09:00:00+02:00</td>\n",
              "      <td>2015-07-01 09:00:00+02:00</td>\n",
              "    </tr>\n",
              "    <tr>\n",
              "      <th>1</th>\n",
              "      <td>2015-06-10 10:00:00+02:00</td>\n",
              "      <td>2015-07-01 10:00:00+02:00</td>\n",
              "    </tr>\n",
              "    <tr>\n",
              "      <th>2</th>\n",
              "      <td>2015-06-10 11:00:00+02:00</td>\n",
              "      <td>2015-07-01 11:00:00+02:00</td>\n",
              "    </tr>\n",
              "    <tr>\n",
              "      <th>0</th>\n",
              "      <td>2015-09-10 09:00:00-05:00</td>\n",
              "      <td>2015-08-01 09:00:00-05:00</td>\n",
              "    </tr>\n",
              "    <tr>\n",
              "      <th>1</th>\n",
              "      <td>2015-09-10 10:00:00-05:00</td>\n",
              "      <td>2015-08-01 10:00:00-05:00</td>\n",
              "    </tr>\n",
              "    <tr>\n",
              "      <th>2</th>\n",
              "      <td>2015-09-10 11:00:00-05:00</td>\n",
              "      <td>2015-08-01 11:00:00-05:00</td>\n",
              "    </tr>\n",
              "  </tbody>\n",
              "</table>\n",
              "</div>"
            ],
            "text/plain": [
              "                       time1                      time2\n",
              "0  2015-06-10 09:00:00+02:00  2015-07-01 09:00:00+02:00\n",
              "1  2015-06-10 10:00:00+02:00  2015-07-01 10:00:00+02:00\n",
              "2  2015-06-10 11:00:00+02:00  2015-07-01 11:00:00+02:00\n",
              "0  2015-09-10 09:00:00-05:00  2015-08-01 09:00:00-05:00\n",
              "1  2015-09-10 10:00:00-05:00  2015-08-01 10:00:00-05:00\n",
              "2  2015-09-10 11:00:00-05:00  2015-08-01 11:00:00-05:00"
            ]
          },
          "metadata": {},
          "execution_count": 46
        }
      ]
    },
    {
      "cell_type": "markdown",
      "metadata": {
        "id": "d3jdh2_UzJXB"
      },
      "source": [
        "Pour travailler avec différents fuseaux horaires, tout d'abord, nous unifions le fuseau horaire avec le réglage du fuseau central, utc = True :"
      ]
    },
    {
      "cell_type": "code",
      "metadata": {
        "colab": {
          "base_uri": "https://localhost:8080/",
          "height": 235
        },
        "id": "hERl49CDwJRa",
        "outputId": "7a623f82-33b6-4758-d9bc-f23dff7f0793"
      },
      "source": [
        "# to work with different time zones, first we unify the timezone to the central one\n",
        "# setting utc = True\n",
        "\n",
        "df['time1_utc'] = pd.to_datetime(df['time1'], utc=True)\n",
        "df['time2_utc'] = pd.to_datetime(df['time2'], utc=True)\n",
        "\n",
        "df"
      ],
      "execution_count": 47,
      "outputs": [
        {
          "output_type": "execute_result",
          "data": {
            "text/html": [
              "<div>\n",
              "<style scoped>\n",
              "    .dataframe tbody tr th:only-of-type {\n",
              "        vertical-align: middle;\n",
              "    }\n",
              "\n",
              "    .dataframe tbody tr th {\n",
              "        vertical-align: top;\n",
              "    }\n",
              "\n",
              "    .dataframe thead th {\n",
              "        text-align: right;\n",
              "    }\n",
              "</style>\n",
              "<table border=\"1\" class=\"dataframe\">\n",
              "  <thead>\n",
              "    <tr style=\"text-align: right;\">\n",
              "      <th></th>\n",
              "      <th>time1</th>\n",
              "      <th>time2</th>\n",
              "      <th>time1_utc</th>\n",
              "      <th>time2_utc</th>\n",
              "    </tr>\n",
              "  </thead>\n",
              "  <tbody>\n",
              "    <tr>\n",
              "      <th>0</th>\n",
              "      <td>2015-06-10 09:00:00+02:00</td>\n",
              "      <td>2015-07-01 09:00:00+02:00</td>\n",
              "      <td>2015-06-10 07:00:00+00:00</td>\n",
              "      <td>2015-07-01 07:00:00+00:00</td>\n",
              "    </tr>\n",
              "    <tr>\n",
              "      <th>1</th>\n",
              "      <td>2015-06-10 10:00:00+02:00</td>\n",
              "      <td>2015-07-01 10:00:00+02:00</td>\n",
              "      <td>2015-06-10 08:00:00+00:00</td>\n",
              "      <td>2015-07-01 08:00:00+00:00</td>\n",
              "    </tr>\n",
              "    <tr>\n",
              "      <th>2</th>\n",
              "      <td>2015-06-10 11:00:00+02:00</td>\n",
              "      <td>2015-07-01 11:00:00+02:00</td>\n",
              "      <td>2015-06-10 09:00:00+00:00</td>\n",
              "      <td>2015-07-01 09:00:00+00:00</td>\n",
              "    </tr>\n",
              "    <tr>\n",
              "      <th>0</th>\n",
              "      <td>2015-09-10 09:00:00-05:00</td>\n",
              "      <td>2015-08-01 09:00:00-05:00</td>\n",
              "      <td>2015-09-10 14:00:00+00:00</td>\n",
              "      <td>2015-08-01 14:00:00+00:00</td>\n",
              "    </tr>\n",
              "    <tr>\n",
              "      <th>1</th>\n",
              "      <td>2015-09-10 10:00:00-05:00</td>\n",
              "      <td>2015-08-01 10:00:00-05:00</td>\n",
              "      <td>2015-09-10 15:00:00+00:00</td>\n",
              "      <td>2015-08-01 15:00:00+00:00</td>\n",
              "    </tr>\n",
              "    <tr>\n",
              "      <th>2</th>\n",
              "      <td>2015-09-10 11:00:00-05:00</td>\n",
              "      <td>2015-08-01 11:00:00-05:00</td>\n",
              "      <td>2015-09-10 16:00:00+00:00</td>\n",
              "      <td>2015-08-01 16:00:00+00:00</td>\n",
              "    </tr>\n",
              "  </tbody>\n",
              "</table>\n",
              "</div>"
            ],
            "text/plain": [
              "                       time1  ...                 time2_utc\n",
              "0  2015-06-10 09:00:00+02:00  ... 2015-07-01 07:00:00+00:00\n",
              "1  2015-06-10 10:00:00+02:00  ... 2015-07-01 08:00:00+00:00\n",
              "2  2015-06-10 11:00:00+02:00  ... 2015-07-01 09:00:00+00:00\n",
              "0  2015-09-10 09:00:00-05:00  ... 2015-08-01 14:00:00+00:00\n",
              "1  2015-09-10 10:00:00-05:00  ... 2015-08-01 15:00:00+00:00\n",
              "2  2015-09-10 11:00:00-05:00  ... 2015-08-01 16:00:00+00:00\n",
              "\n",
              "[6 rows x 4 columns]"
            ]
          },
          "metadata": {},
          "execution_count": 47
        }
      ]
    },
    {
      "cell_type": "markdown",
      "metadata": {
        "id": "QzSC_1FgzdnQ"
      },
      "source": [
        "Maintenant, calculons la différence en jours entre les variables, puis affichons le dataframe"
      ]
    },
    {
      "cell_type": "code",
      "metadata": {
        "colab": {
          "base_uri": "https://localhost:8080/"
        },
        "id": "ztJIzVsswLvS",
        "outputId": "66772370-4a4b-4c8c-f2c5-a3b5b9d4ca82"
      },
      "source": [
        "# let's explore the variable type\n",
        "\n",
        "df['elapsed_days'] = (df['time2_utc'] - df['time1_utc']).dt.days\n",
        "\n",
        "# Nous pouvons voir le temps entre les valeurs des variables dans la trame de données dans la sortie suivante\n",
        "\n",
        "df['elapsed_days'].head()"
      ],
      "execution_count": 48,
      "outputs": [
        {
          "output_type": "execute_result",
          "data": {
            "text/plain": [
              "0    21\n",
              "1    21\n",
              "2    21\n",
              "0   -40\n",
              "1   -40\n",
              "Name: elapsed_days, dtype: int64"
            ]
          },
          "metadata": {},
          "execution_count": 48
        }
      ]
    },
    {
      "cell_type": "markdown",
      "metadata": {
        "id": "aVijq-7uzzc2"
      },
      "source": [
        "Enfin, changeons le fuseau horaire des variables datetime en d'autres et affichons les nouvelles variables"
      ]
    },
    {
      "cell_type": "code",
      "metadata": {
        "colab": {
          "base_uri": "https://localhost:8080/",
          "height": 235
        },
        "id": "WZ643855wN7E",
        "outputId": "c0b199a3-b2e8-4ed8-a29a-d8fbc6551bc3"
      },
      "source": [
        "# next we change all timestamps to the desired timezone, eg Europe/London\n",
        "# in this example\n",
        "\n",
        "df['time1_london'] = df['time1_utc'].dt.tz_convert('Europe/London')\n",
        "df['time2_berlin'] = df['time1_utc'].dt.tz_convert('Europe/Berlin')\n",
        "\n",
        "df[['time1_london', 'time2_berlin']]"
      ],
      "execution_count": 49,
      "outputs": [
        {
          "output_type": "execute_result",
          "data": {
            "text/html": [
              "<div>\n",
              "<style scoped>\n",
              "    .dataframe tbody tr th:only-of-type {\n",
              "        vertical-align: middle;\n",
              "    }\n",
              "\n",
              "    .dataframe tbody tr th {\n",
              "        vertical-align: top;\n",
              "    }\n",
              "\n",
              "    .dataframe thead th {\n",
              "        text-align: right;\n",
              "    }\n",
              "</style>\n",
              "<table border=\"1\" class=\"dataframe\">\n",
              "  <thead>\n",
              "    <tr style=\"text-align: right;\">\n",
              "      <th></th>\n",
              "      <th>time1_london</th>\n",
              "      <th>time2_berlin</th>\n",
              "    </tr>\n",
              "  </thead>\n",
              "  <tbody>\n",
              "    <tr>\n",
              "      <th>0</th>\n",
              "      <td>2015-06-10 08:00:00+01:00</td>\n",
              "      <td>2015-06-10 09:00:00+02:00</td>\n",
              "    </tr>\n",
              "    <tr>\n",
              "      <th>1</th>\n",
              "      <td>2015-06-10 09:00:00+01:00</td>\n",
              "      <td>2015-06-10 10:00:00+02:00</td>\n",
              "    </tr>\n",
              "    <tr>\n",
              "      <th>2</th>\n",
              "      <td>2015-06-10 10:00:00+01:00</td>\n",
              "      <td>2015-06-10 11:00:00+02:00</td>\n",
              "    </tr>\n",
              "    <tr>\n",
              "      <th>0</th>\n",
              "      <td>2015-09-10 15:00:00+01:00</td>\n",
              "      <td>2015-09-10 16:00:00+02:00</td>\n",
              "    </tr>\n",
              "    <tr>\n",
              "      <th>1</th>\n",
              "      <td>2015-09-10 16:00:00+01:00</td>\n",
              "      <td>2015-09-10 17:00:00+02:00</td>\n",
              "    </tr>\n",
              "    <tr>\n",
              "      <th>2</th>\n",
              "      <td>2015-09-10 17:00:00+01:00</td>\n",
              "      <td>2015-09-10 18:00:00+02:00</td>\n",
              "    </tr>\n",
              "  </tbody>\n",
              "</table>\n",
              "</div>"
            ],
            "text/plain": [
              "               time1_london              time2_berlin\n",
              "0 2015-06-10 08:00:00+01:00 2015-06-10 09:00:00+02:00\n",
              "1 2015-06-10 09:00:00+01:00 2015-06-10 10:00:00+02:00\n",
              "2 2015-06-10 10:00:00+01:00 2015-06-10 11:00:00+02:00\n",
              "0 2015-09-10 15:00:00+01:00 2015-09-10 16:00:00+02:00\n",
              "1 2015-09-10 16:00:00+01:00 2015-09-10 17:00:00+02:00\n",
              "2 2015-09-10 17:00:00+01:00 2015-09-10 18:00:00+02:00"
            ]
          },
          "metadata": {},
          "execution_count": 49
        }
      ]
    }
  ]
}
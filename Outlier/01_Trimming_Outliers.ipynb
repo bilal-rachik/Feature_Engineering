{
  "nbformat": 4,
  "nbformat_minor": 0,
  "metadata": {
    "colab": {
      "name": "Trimming_Outliers.ipynb",
      "provenance": [],
      "collapsed_sections": []
    },
    "kernelspec": {
      "name": "python3",
      "display_name": "Python 3"
    },
    "language_info": {
      "name": "python"
    }
  },
  "cells": [
    {
      "cell_type": "markdown",
      "metadata": {
        "id": "65TxpphFJm31"
      },
      "source": [
        "#Travailler avec des valeurs aberrantes\n",
        "\n",
        "Une valeur aberrante est un point de données qui est significativement différent des données restantes. Les paramètres statistiques tels que la moyenne et la variance sont sensibles aux valeurs aberrantes. Les valeurs aberrantes peuvent également affecter les performances de certains modèles d'apprentissage automatique, tels que la régression linéaire ou AdaBoost. Par conséquent, nous pouvons vouloir supprimer ou concevoir les valeurs aberrantes dans les variables de notre ensemble de données.\n",
        "\n",
        "Comment pouvons-nous concevoir des valeurs aberrantes ? Une façon de gérer les valeurs aberrantes consiste à effectuer une discrétisation des variables. Avec la discrétisation, les valeurs aberrantes tomberont dans les intervalles inférieurs ou supérieurs et, par conséquent, seront traitées comme les valeurs inférieures ou supérieures restantes de la variable. Une autre façon de traiter les valeurs aberrantes consiste à supposer que l'information est manquante, à traiter les valeurs aberrantes avec les données manquantes restantes et à appliquer l'une des techniques d'imputation des valeurs manquantes. Nous pouvons également supprimer les observations avec des valeurs aberrantes de l'ensemble de données, ou plafonner les valeurs maximales et minimales des variables, comme nous le verrons tout au long de cet article.\n",
        "\n",
        "Dans cet article, nous verrons comment identifier et supprimer les valeurs aberrantes d'un ensemble de données, et comment remplacer les valeurs aberrantes par des valeurs maximales ou minimales. Nous discuterons également de la manière d'utiliser la moyenne et l'écart type pour les variables normalement distribuées ou l'intervalle interquartile pour les caractéristiques asymétriques ou en utilisant des centiles. \n",
        "\n",
        "Ce chapitre couvrira les recettes suivantes: \n",
        "* (Trimming) Détecter et exclure les valeurs aberrantes de l'ensemble de données\n",
        "* Effectuer la winsorisation\n",
        "* Plafonnement de la variable à des valeurs maximales et minimales arbitraires\n",
        "\n"
      ]
    },
    {
      "cell_type": "markdown",
      "metadata": {
        "id": "t0NIhzh9JxTD"
      },
      "source": [
        "## (Trimming) Détecter et exclure les valeurs aberrantes\n",
        "\n",
        "Trimming est le processus de suppression des observations qui montrent des valeurs aberrantes dans une ou plusieurs variables de l'ensemble de données. Il existe trois méthodes couramment utilisées pour définir les limites au-delà desquelles une valeur peut être considérée comme une valeur aberrante. Si la variable est normalement distribuée, les limites sont données par la moyenne plus ou moins trois fois l'écart-type, car environ 99 % des données seront distribuées entre ces limites. Pour les variables distribuées normalement, ainsi que pas normalement, nous pouvons déterminer les limites en utilisant les règles de proximité de l'intervalle interquartile ou en fixant directement les limites aux 5e et 95e quantiles. Prévoir les problèmes de variables dans la création de modèles ML. Dans cette recette, nous allons utiliser les trois mesures pour identifier puis supprimer les valeurs aberrantes dans l'ensemble de données Boston House Prices de scikit-learn, en utilisant pandas et NumPy"
      ]
    },
    {
      "cell_type": "code",
      "metadata": {
        "id": "mpjsRJC8Js0J"
      },
      "source": [
        "#Commençons par importer les bibliothèques Python nécessaires\n",
        "import pandas as pd\n",
        "import numpy as np\n",
        "\n",
        "import matplotlib.pyplot as plt\n",
        "import seaborn as sns\n",
        "\n",
        "# boston house dataset for the demo\n",
        "from sklearn.datasets import load_boston"
      ],
      "execution_count": 25,
      "outputs": []
    },
    {
      "cell_type": "code",
      "metadata": {
        "id": "Zv_z-8dHJ3B0",
        "colab": {
          "base_uri": "https://localhost:8080/",
          "height": 204
        },
        "outputId": "fe9f54f1-132b-4b66-b633-ab17e8b25566"
      },
      "source": [
        "#Chargeons l'ensemble de données sur les prix des maisons de Boston à partir de scikit-learn \n",
        "\n",
        "# load the the Boston House price data\n",
        "\n",
        "# load the boston dataset from sklearn\n",
        "boston_dataset = load_boston()\n",
        "\n",
        "# create a dataframe with the independent variables\n",
        "# I will use only 3 of the total variables for this demo\n",
        "\n",
        "boston = pd.DataFrame(boston_dataset.data,\n",
        "                      columns=boston_dataset.feature_names)[[\n",
        "                          'RM', 'LSTAT', 'CRIM'\n",
        "                      ]]\n",
        "\n",
        "boston.head()"
      ],
      "execution_count": 26,
      "outputs": [
        {
          "output_type": "execute_result",
          "data": {
            "text/html": [
              "<div>\n",
              "<style scoped>\n",
              "    .dataframe tbody tr th:only-of-type {\n",
              "        vertical-align: middle;\n",
              "    }\n",
              "\n",
              "    .dataframe tbody tr th {\n",
              "        vertical-align: top;\n",
              "    }\n",
              "\n",
              "    .dataframe thead th {\n",
              "        text-align: right;\n",
              "    }\n",
              "</style>\n",
              "<table border=\"1\" class=\"dataframe\">\n",
              "  <thead>\n",
              "    <tr style=\"text-align: right;\">\n",
              "      <th></th>\n",
              "      <th>RM</th>\n",
              "      <th>LSTAT</th>\n",
              "      <th>CRIM</th>\n",
              "    </tr>\n",
              "  </thead>\n",
              "  <tbody>\n",
              "    <tr>\n",
              "      <th>0</th>\n",
              "      <td>6.575</td>\n",
              "      <td>4.98</td>\n",
              "      <td>0.00632</td>\n",
              "    </tr>\n",
              "    <tr>\n",
              "      <th>1</th>\n",
              "      <td>6.421</td>\n",
              "      <td>9.14</td>\n",
              "      <td>0.02731</td>\n",
              "    </tr>\n",
              "    <tr>\n",
              "      <th>2</th>\n",
              "      <td>7.185</td>\n",
              "      <td>4.03</td>\n",
              "      <td>0.02729</td>\n",
              "    </tr>\n",
              "    <tr>\n",
              "      <th>3</th>\n",
              "      <td>6.998</td>\n",
              "      <td>2.94</td>\n",
              "      <td>0.03237</td>\n",
              "    </tr>\n",
              "    <tr>\n",
              "      <th>4</th>\n",
              "      <td>7.147</td>\n",
              "      <td>5.33</td>\n",
              "      <td>0.06905</td>\n",
              "    </tr>\n",
              "  </tbody>\n",
              "</table>\n",
              "</div>"
            ],
            "text/plain": [
              "      RM  LSTAT     CRIM\n",
              "0  6.575   4.98  0.00632\n",
              "1  6.421   9.14  0.02731\n",
              "2  7.185   4.03  0.02729\n",
              "3  6.998   2.94  0.03237\n",
              "4  7.147   5.33  0.06905"
            ]
          },
          "metadata": {
            "tags": []
          },
          "execution_count": 26
        }
      ]
    },
    {
      "cell_type": "code",
      "metadata": {
        "id": "Ne7VcmkdJ32s",
        "colab": {
          "base_uri": "https://localhost:8080/",
          "height": 271
        },
        "outputId": "beb7155f-e7e7-4a12-abf8-0f7e51f89278"
      },
      "source": [
        "# Faisons une boîte à moustaches de la variable RM pour visualiser les valeurs aberrantes :\n",
        "plt.figure(figsize=(2, 4))\n",
        "sns.boxplot(y=boston['RM'])"
      ],
      "execution_count": 27,
      "outputs": [
        {
          "output_type": "execute_result",
          "data": {
            "text/plain": [
              "<matplotlib.axes._subplots.AxesSubplot at 0x7f85728b3cd0>"
            ]
          },
          "metadata": {
            "tags": []
          },
          "execution_count": 27
        },
        {
          "output_type": "display_data",
          "data": {
            "image/png": "[encoded data removed]",
            "text/plain": [
              "<Figure size 144x288 with 1 Axes>"
            ]
          },
          "metadata": {
            "tags": [],
            "needs_background": "light"
          }
        }
      ]
    },
    {
      "cell_type": "markdown",
      "metadata": {
        "id": "ZHxwKRBCJ6ar"
      },
      "source": [
        "Les valeurs aberrantes sont les astérisques situés à l'extérieur des moustaches, qui délimitent les limites de la règle de proximité interquartile"
      ]
    },
    {
      "cell_type": "markdown",
      "metadata": {
        "id": "hMlwGk08J95N"
      },
      "source": [
        "Créons une fonction pour trouver les limites d'une distribution variable, en utilisant la règle de proximité inter-quartile"
      ]
    },
    {
      "cell_type": "code",
      "metadata": {
        "id": "Cnil2lOKKBM-"
      },
      "source": [
        "def find_boundaries(df, variable, distance):\n",
        "\n",
        "    # Let's calculate the boundaries outside which sit the outliers\n",
        "    # for skewed distributions\n",
        "\n",
        "    # distance passed as an argument, gives us the option to\n",
        "    # estimate 1.5 times or 3 times the IQR to calculate\n",
        "    # the boundaries.\n",
        "\n",
        "    IQR = df[variable].quantile(0.75) - df[variable].quantile(0.25)\n",
        "\n",
        "    lower_boundary = df[variable].quantile(0.25) - (IQR * distance)\n",
        "    upper_boundary = df[variable].quantile(0.75) + (IQR * distance)\n",
        "\n",
        "    return upper_boundary, lower_boundary"
      ],
      "execution_count": 28,
      "outputs": []
    },
    {
      "cell_type": "code",
      "metadata": {
        "id": "ALE2_y6QKG7l",
        "colab": {
          "base_uri": "https://localhost:8080/"
        },
        "outputId": "9afee9b1-7d8c-4bd5-903a-1f5a238779cf"
      },
      "source": [
        "# Utilisons la fonction de pour déterminer les limites de la variable RM\n",
        "# find limits for RM\n",
        "RM_upper_limit, RM_lower_limit = find_boundaries(boston, 'RM', 1.5)\n",
        "RM_upper_limit, RM_lower_limit"
      ],
      "execution_count": 29,
      "outputs": [
        {
          "output_type": "execute_result",
          "data": {
            "text/plain": [
              "(7.730499999999999, 4.778500000000001)"
            ]
          },
          "metadata": {
            "tags": []
          },
          "execution_count": 29
        }
      ]
    },
    {
      "cell_type": "code",
      "metadata": {
        "id": "u8pnBZwAKJUE"
      },
      "source": [
        "# Créons un vecteur booléen pour signaler les valeurs aberrantes dans RM\n",
        "# let's flag the outliers in the data set\n",
        "\n",
        "outliers_RM = np.where(boston['RM'] > RM_upper_limit, True,\n",
        "                       np.where(boston['RM'] < RM_lower_limit, True, False))"
      ],
      "execution_count": 30,
      "outputs": []
    },
    {
      "cell_type": "code",
      "metadata": {
        "id": "WPbeby0OKLX9",
        "colab": {
          "base_uri": "https://localhost:8080/"
        },
        "outputId": "17b53eaa-8367-4cb2-bf4d-0536166af0a0"
      },
      "source": [
        "#Enfin, supprimons les valeurs aberrantes de l'ensemble de données\n",
        "# let's trimm the dataset only of outliers in RM\n",
        "\n",
        "boston_trimmed = boston.loc[~outliers_RM ]\n",
        "\n",
        "boston.shape, boston_trimmed.shape"
      ],
      "execution_count": 31,
      "outputs": [
        {
          "output_type": "execute_result",
          "data": {
            "text/plain": [
              "((506, 3), (476, 3))"
            ]
          },
          "metadata": {
            "tags": []
          },
          "execution_count": 31
        }
      ]
    },
    {
      "cell_type": "code",
      "metadata": {
        "id": "fvtXYAvMKNWE",
        "colab": {
          "base_uri": "https://localhost:8080/",
          "height": 269
        },
        "outputId": "d77d1359-f3e7-4006-db22-634d30b81bbc"
      },
      "source": [
        "plt.figure(figsize=(2, 4))\n",
        "sns.boxplot(y=boston_trimmed['RM'])"
      ],
      "execution_count": 32,
      "outputs": [
        {
          "output_type": "execute_result",
          "data": {
            "text/plain": [
              "<matplotlib.axes._subplots.AxesSubplot at 0x7f8572728610>"
            ]
          },
          "metadata": {
            "tags": []
          },
          "execution_count": 32
        },
        {
          "output_type": "display_data",
          "data": {
            "image/png": "[encoded data removed]",
            "text/plain": [
              "<Figure size 144x288 with 1 Axes>"
            ]
          },
          "metadata": {
            "tags": [],
            "needs_background": "light"
          }
        }
      ]
    },
    {
      "cell_type": "markdown",
      "metadata": {
        "id": "6_1JrurSKQL_"
      },
      "source": [
        "Si au lieu d'utiliser la règle de proximité de l'intervalle interquartile, nous voulons utiliser la moyenne et l'écart type pour trouver les limites, nous devons remplacer le code dans la fonction find_boundaries"
      ]
    },
    {
      "cell_type": "code",
      "metadata": {
        "id": "8_4BiU2PKSW9"
      },
      "source": [
        "# Trouver les limites des valeurs aberrantes en utilisant la moyenne et l'écart type\n",
        "def find_boundaries(df, variable, distance):\n",
        "    lower_boundary = df[variable].mean() - (df[variable].std() * distance)\n",
        "    upper_boundary = df[variable].mean() + (df[variable].std() * distance)\n",
        "    return upper_boundary, lower_boundary"
      ],
      "execution_count": 33,
      "outputs": []
    },
    {
      "cell_type": "code",
      "metadata": {
        "id": "OTiQw8DiKUeN",
        "colab": {
          "base_uri": "https://localhost:8080/"
        },
        "outputId": "7d7e9e12-c4dc-47c4-de49-d04806f29821"
      },
      "source": [
        "# Calculez les limites de RM :\n",
        "RM_upper_limit, RM_lower_limit = find_boundaries(boston, 'RM', 3)\n",
        "RM_upper_limit, RM_lower_limit"
      ],
      "execution_count": 34,
      "outputs": [
        {
          "output_type": "execute_result",
          "data": {
            "text/plain": [
              "(8.392485817597757, 4.176782957105816)"
            ]
          },
          "metadata": {
            "tags": []
          },
          "execution_count": 34
        }
      ]
    },
    {
      "cell_type": "markdown",
      "metadata": {
        "id": "ge-HYGLbKXRO"
      },
      "source": [
        "\n",
        "Alternativement, si nous voulons utiliser des quantiles pour calculer les limites, nous devons écrire la fonction comme à l'étape suivante"
      ]
    },
    {
      "cell_type": "code",
      "metadata": {
        "id": "2BVoAQhpKciV"
      },
      "source": [
        "# Trouver les limites des valeurs aberrantes à l'aide de quantiles\n",
        "def find_boundaries(df, variable):\n",
        "    lower_boundary = df[variable].quantile(0.05)\n",
        "    upper_boundary = df[variable].quantile(0.95)\n",
        "    return upper_boundary, lower_boundary"
      ],
      "execution_count": 35,
      "outputs": []
    },
    {
      "cell_type": "code",
      "metadata": {
        "id": "7pNhpwghKgBi",
        "colab": {
          "base_uri": "https://localhost:8080/"
        },
        "outputId": "37ee2cfc-8af9-489a-fccf-3a317b262940"
      },
      "source": [
        "RM_upper_limit, RM_lower_limit = find_boundaries(boston, 'RM')\n",
        "RM_upper_limit, RM_lower_limit"
      ],
      "execution_count": 36,
      "outputs": [
        {
          "output_type": "execute_result",
          "data": {
            "text/plain": [
              "(7.5875, 5.314)"
            ]
          },
          "metadata": {
            "tags": []
          },
          "execution_count": 36
        }
      ]
    },
    {
      "cell_type": "markdown",
      "metadata": {
        "id": "WnDNMMLsKiTd"
      },
      "source": [
        "Dans cette recette, nous avons supprimé les valeurs aberrantes d'une variable de l'ensemble de données Boston House Prices de scikit-learn. Pour supprimer les valeurs aberrantes, nous avons d'abord identifié ces valeurs visuellement via un boxplot. Ensuite, nous avons créé une fonction pour trouver les limites dans lesquelles nous avons trouvé la majorité des valeurs de la variable. Ensuite, nous avons créé un vecteur booléen pour signaler les valeurs de la variable qui se situent au-delà de ces limites, et, enfin, nous avons supprimé ces observations de l'ensemble de données\n"
      ]
    }
  ]
}
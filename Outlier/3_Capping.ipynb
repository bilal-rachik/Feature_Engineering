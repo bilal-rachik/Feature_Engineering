{
  "nbformat": 4,
  "nbformat_minor": 0,
  "metadata": {
    "colab": {
      "name": "3-Capping.ipynb",
      "provenance": [],
      "collapsed_sections": []
    },
    "kernelspec": {
      "name": "python3",
      "display_name": "Python 3"
    },
    "language_info": {
      "name": "python"
    }
  },
  "cells": [
    {
      "cell_type": "markdown",
      "metadata": {
        "id": "YhujBFdd3PvM"
      },
      "source": [
        "# Plafonnement de la variable à des valeurs maximales et minimales arbitraires\n",
        "\n",
        "Comme pour la winsorisation, on peut remplacer les valeurs extrêmes par des valeurs plus proches des autres valeurs de la variable, en déterminant les bornes maximum et minimum avec la moyenne plus ou moins l'écart type,ou la règle de proximité interquartile.\n",
        "\n",
        "Nous pouvons plafonner les deux extrêmes de la distribution ou une seule des queues, selon l'endroit où nous trouvons les valeurs aberrantes dans la variable. Dans cette recette, nous remplacerons les valeurs extrêmes par la moyenne et l'écart-type ou la règle de proximité inter-quartile, en utilisant pandas, NumPy et Feature-engine, et en utilisant l'ensemble de données Boston House Prices de scikit-learn.\n",
        "\n",
        "Commençons par importer les bibliothèques Python nécessaires :"
      ]
    },
    {
      "cell_type": "code",
      "metadata": {
        "id": "iWupnYYw4Xn8"
      },
      "source": [
        "import pandas as pd\n",
        "import numpy as np\n",
        "\n",
        "import matplotlib.pyplot as plt\n",
        "import seaborn as sns\n",
        "\n",
        "# boston house dataset for the demo\n",
        "from sklearn.datasets import load_boston"
      ],
      "execution_count": 8,
      "outputs": []
    },
    {
      "cell_type": "markdown",
      "metadata": {
        "id": "RKjkHopz4rpB"
      },
      "source": [
        "Chargeons l'ensemble de données sur les prix des maisons de Boston à partir de scikit-learn :"
      ]
    },
    {
      "cell_type": "code",
      "metadata": {
        "colab": {
          "base_uri": "https://localhost:8080/",
          "height": 204
        },
        "id": "0AphWUTR4mJj",
        "outputId": "f941cdce-641a-4149-abe6-a785549e2e4b"
      },
      "source": [
        "# load the the Boston House price data\n",
        "\n",
        "# load the boston dataset from sklearn\n",
        "boston_dataset = load_boston()\n",
        "\n",
        "# create a dataframe with the independent variables\n",
        "# I will use only 3 of the total variables for this demo\n",
        "\n",
        "boston = pd.DataFrame(boston_dataset.data,\n",
        "                      columns=boston_dataset.feature_names)[[\n",
        "                          'RM', 'LSTAT', 'CRIM'\n",
        "                      ]]\n",
        "\n",
        "boston.head()"
      ],
      "execution_count": 6,
      "outputs": [
        {
          "output_type": "execute_result",
          "data": {
            "text/html": [
              "<div>\n",
              "<style scoped>\n",
              "    .dataframe tbody tr th:only-of-type {\n",
              "        vertical-align: middle;\n",
              "    }\n",
              "\n",
              "    .dataframe tbody tr th {\n",
              "        vertical-align: top;\n",
              "    }\n",
              "\n",
              "    .dataframe thead th {\n",
              "        text-align: right;\n",
              "    }\n",
              "</style>\n",
              "<table border=\"1\" class=\"dataframe\">\n",
              "  <thead>\n",
              "    <tr style=\"text-align: right;\">\n",
              "      <th></th>\n",
              "      <th>RM</th>\n",
              "      <th>LSTAT</th>\n",
              "      <th>CRIM</th>\n",
              "    </tr>\n",
              "  </thead>\n",
              "  <tbody>\n",
              "    <tr>\n",
              "      <th>0</th>\n",
              "      <td>6.575</td>\n",
              "      <td>4.98</td>\n",
              "      <td>0.00632</td>\n",
              "    </tr>\n",
              "    <tr>\n",
              "      <th>1</th>\n",
              "      <td>6.421</td>\n",
              "      <td>9.14</td>\n",
              "      <td>0.02731</td>\n",
              "    </tr>\n",
              "    <tr>\n",
              "      <th>2</th>\n",
              "      <td>7.185</td>\n",
              "      <td>4.03</td>\n",
              "      <td>0.02729</td>\n",
              "    </tr>\n",
              "    <tr>\n",
              "      <th>3</th>\n",
              "      <td>6.998</td>\n",
              "      <td>2.94</td>\n",
              "      <td>0.03237</td>\n",
              "    </tr>\n",
              "    <tr>\n",
              "      <th>4</th>\n",
              "      <td>7.147</td>\n",
              "      <td>5.33</td>\n",
              "      <td>0.06905</td>\n",
              "    </tr>\n",
              "  </tbody>\n",
              "</table>\n",
              "</div>"
            ],
            "text/plain": [
              "      RM  LSTAT     CRIM\n",
              "0  6.575   4.98  0.00632\n",
              "1  6.421   9.14  0.02731\n",
              "2  7.185   4.03  0.02729\n",
              "3  6.998   2.94  0.03237\n",
              "4  7.147   5.33  0.06905"
            ]
          },
          "metadata": {
            "tags": []
          },
          "execution_count": 6
        }
      ]
    },
    {
      "cell_type": "markdown",
      "metadata": {
        "id": "FKDdZ6FH435h"
      },
      "source": [
        "Créons une fonction pour trouver les limites en utilisant la règle de proximité inter-quartile"
      ]
    },
    {
      "cell_type": "code",
      "metadata": {
        "id": "tYVvKFzI46WB"
      },
      "source": [
        "def find_skewed_boundaries(df, variable, distance):\n",
        "\n",
        "    # Let's calculate the boundaries outside which sit the outliers\n",
        "    # for skewed distributions\n",
        "\n",
        "    # distance passed as an argument, gives us the option to\n",
        "    # estimate 1.5 times or 3 times the IQR to calculate\n",
        "    # the boundaries.\n",
        "\n",
        "    IQR = df[variable].quantile(0.75) - df[variable].quantile(0.25)\n",
        "\n",
        "    lower_boundary = df[variable].quantile(0.25) - (IQR * distance)\n",
        "    upper_boundary = df[variable].quantile(0.75) + (IQR * distance)\n",
        "\n",
        "    return upper_boundary, lower_boundary"
      ],
      "execution_count": 1,
      "outputs": []
    },
    {
      "cell_type": "markdown",
      "metadata": {
        "id": "wGIX5YPa5p7i"
      },
      "source": [
        "si, à la place, nous voulions trouver les frontières avec la moyenne et l'écart-type, nous pouvons réécrire notre fonction comme suit."
      ]
    },
    {
      "cell_type": "code",
      "metadata": {
        "id": "woENSxyB5qqp"
      },
      "source": [
        "def find_normal_boundaries(df, variable, distance):\n",
        "\n",
        "    # calculate the boundaries outside which sit the outliers\n",
        "    # for a Gaussian distribution\n",
        "\n",
        "    upper_boundary = df[variable].mean() + distance * df[variable].std()\n",
        "    lower_boundary = df[variable].mean() - distance * df[variable].std()\n",
        "\n",
        "    return upper_boundary, lower_boundary"
      ],
      "execution_count": 4,
      "outputs": []
    },
    {
      "cell_type": "markdown",
      "metadata": {
        "id": "prERusiF59vR"
      },
      "source": [
        "Une fois que nous avons créé les fonctions, nous pouvons aller de l'avant et trouver les limites en utilisant soit la moyenne et l'écart type ou l'intervalle interquartile. Dans cette recette, je vais continuer en trouvant les limites en utilisant la moyenne et l'écart type"
      ]
    },
    {
      "cell_type": "markdown",
      "metadata": {
        "id": "AH5Qp5cd6XXz"
      },
      "source": [
        "Si la variable n'est pas distribuée normalement, il peut être plus utile d'utiliser la règle de proximité de l'intervalle interquartile pour trouver les valeurs aberrantes"
      ]
    },
    {
      "cell_type": "code",
      "metadata": {
        "colab": {
          "base_uri": "https://localhost:8080/"
        },
        "id": "rSJSEd7K6J2x",
        "outputId": "41849424-356c-4281-ab70-d9511c0c617c"
      },
      "source": [
        "# find limits for RM\n",
        "\n",
        "RM_upper_limit, RM_lower_limit = find_normal_boundaries(boston, 'RM', 3)\n",
        "RM_upper_limit, RM_lower_limit"
      ],
      "execution_count": 7,
      "outputs": [
        {
          "output_type": "execute_result",
          "data": {
            "text/plain": [
              "(8.392485817597757, 4.176782957105816)"
            ]
          },
          "metadata": {
            "tags": []
          },
          "execution_count": 7
        }
      ]
    },
    {
      "cell_type": "code",
      "metadata": {
        "colab": {
          "base_uri": "https://localhost:8080/"
        },
        "id": "dvqhMsz56eJY",
        "outputId": "0ef7c55b-1530-47ef-b9b8-5fd090151bfd"
      },
      "source": [
        "# limits for LSTAT\n",
        "\n",
        "LSTAT_upper_limit, LSTAT_lower_limit = find_normal_boundaries(boston, 'LSTAT', 3)\n",
        "LSTAT_upper_limit, LSTAT_lower_limit"
      ],
      "execution_count": 8,
      "outputs": [
        {
          "output_type": "execute_result",
          "data": {
            "text/plain": [
              "(34.07624777515244, -8.77012129293899)"
            ]
          },
          "metadata": {
            "tags": []
          },
          "execution_count": 8
        }
      ]
    },
    {
      "cell_type": "code",
      "metadata": {
        "colab": {
          "base_uri": "https://localhost:8080/"
        },
        "id": "pKgjg96d6idg",
        "outputId": "a4998c4b-62e8-487b-a49e-2d8e1e05b3c3"
      },
      "source": [
        "# limits for CRIM\n",
        "\n",
        "CRIM_upper_limit, CRIM_lower_limit = find_normal_boundaries(boston, 'CRIM', 3)\n",
        "CRIM_upper_limit, CRIM_lower_limit"
      ],
      "execution_count": 9,
      "outputs": [
        {
          "output_type": "execute_result",
          "data": {
            "text/plain": [
              "(29.418158873309714, -22.19111175868521)"
            ]
          },
          "metadata": {
            "tags": []
          },
          "execution_count": 9
        }
      ]
    },
    {
      "cell_type": "code",
      "metadata": {
        "id": "TSnp395Z7B6x"
      },
      "source": [
        "Remplacer les valeurs extrêmes par les limites dans RM"
      ],
      "execution_count": null,
      "outputs": []
    },
    {
      "cell_type": "code",
      "metadata": {
        "id": "DpTn4S076mea"
      },
      "source": [
        "# Now let's replace the outliers by the maximum and minimum limit\n",
        "\n",
        "boston['RM']= np.where(boston['RM'] > RM_upper_limit, RM_upper_limit,\n",
        "                       np.where(boston['RM'] < RM_lower_limit, RM_lower_limit, boston['RM']))"
      ],
      "execution_count": 10,
      "outputs": []
    },
    {
      "cell_type": "code",
      "metadata": {
        "id": "obyAby-p7Qy5"
      },
      "source": [
        "# Now let's replace the outliers by the maximum and minimum limit\n",
        "\n",
        "boston['LSTAT']= np.where(boston['LSTAT'] > LSTAT_upper_limit, LSTAT_upper_limit,\n",
        "                       np.where(boston['LSTAT'] < LSTAT_lower_limit, LSTAT_lower_limit, boston['LSTAT']))"
      ],
      "execution_count": 11,
      "outputs": []
    },
    {
      "cell_type": "code",
      "metadata": {
        "id": "u1WJvLce7Trx"
      },
      "source": [
        "# Now let's replace the outliers by the maximum and minimum limit\n",
        "\n",
        "boston['CRIM']= np.where(boston['CRIM'] > CRIM_upper_limit, CRIM_upper_limit,\n",
        "                       np.where(boston['CRIM'] < CRIM_lower_limit, CRIM_lower_limit, boston['CRIM']))"
      ],
      "execution_count": 12,
      "outputs": []
    },
    {
      "cell_type": "markdown",
      "metadata": {
        "id": "Qcl6FRL67qqD"
      },
      "source": [
        "\n",
        "Nous pouvons limiter de nombreuses variables à la fois, en utilisant le package open source, Feature-engine. Pour ce faire, nous devons charger les bibliothèques et les données comme nous l'avons fait à l'étape 1 dans Ensuite, nous devons importer Feature-engin"
      ]
    },
    {
      "cell_type": "code",
      "metadata": {
        "colab": {
          "base_uri": "https://localhost:8080/",
          "height": 204
        },
        "id": "kwzrV2xm70u8",
        "outputId": "507d38b0-a73d-4c87-c3a9-ecf15b43f90c"
      },
      "source": [
        "# load the the Boston House price data\n",
        "\n",
        "# load the boston dataset from sklearn\n",
        "boston_dataset = load_boston()\n",
        "\n",
        "# create a dataframe with the independent variables\n",
        "# I will use only 3 of the total variables for this demo\n",
        "\n",
        "boston = pd.DataFrame(boston_dataset.data,\n",
        "                      columns=boston_dataset.feature_names)[[\n",
        "                          'RM', 'LSTAT', 'CRIM'\n",
        "                      ]]\n",
        "\n",
        "# add the target\n",
        "boston['MEDV'] = boston_dataset.target\n",
        "\n",
        "boston.head()"
      ],
      "execution_count": 13,
      "outputs": [
        {
          "output_type": "execute_result",
          "data": {
            "text/html": [
              "<div>\n",
              "<style scoped>\n",
              "    .dataframe tbody tr th:only-of-type {\n",
              "        vertical-align: middle;\n",
              "    }\n",
              "\n",
              "    .dataframe tbody tr th {\n",
              "        vertical-align: top;\n",
              "    }\n",
              "\n",
              "    .dataframe thead th {\n",
              "        text-align: right;\n",
              "    }\n",
              "</style>\n",
              "<table border=\"1\" class=\"dataframe\">\n",
              "  <thead>\n",
              "    <tr style=\"text-align: right;\">\n",
              "      <th></th>\n",
              "      <th>RM</th>\n",
              "      <th>LSTAT</th>\n",
              "      <th>CRIM</th>\n",
              "      <th>MEDV</th>\n",
              "    </tr>\n",
              "  </thead>\n",
              "  <tbody>\n",
              "    <tr>\n",
              "      <th>0</th>\n",
              "      <td>6.575</td>\n",
              "      <td>4.98</td>\n",
              "      <td>0.00632</td>\n",
              "      <td>24.0</td>\n",
              "    </tr>\n",
              "    <tr>\n",
              "      <th>1</th>\n",
              "      <td>6.421</td>\n",
              "      <td>9.14</td>\n",
              "      <td>0.02731</td>\n",
              "      <td>21.6</td>\n",
              "    </tr>\n",
              "    <tr>\n",
              "      <th>2</th>\n",
              "      <td>7.185</td>\n",
              "      <td>4.03</td>\n",
              "      <td>0.02729</td>\n",
              "      <td>34.7</td>\n",
              "    </tr>\n",
              "    <tr>\n",
              "      <th>3</th>\n",
              "      <td>6.998</td>\n",
              "      <td>2.94</td>\n",
              "      <td>0.03237</td>\n",
              "      <td>33.4</td>\n",
              "    </tr>\n",
              "    <tr>\n",
              "      <th>4</th>\n",
              "      <td>7.147</td>\n",
              "      <td>5.33</td>\n",
              "      <td>0.06905</td>\n",
              "      <td>36.2</td>\n",
              "    </tr>\n",
              "  </tbody>\n",
              "</table>\n",
              "</div>"
            ],
            "text/plain": [
              "      RM  LSTAT     CRIM  MEDV\n",
              "0  6.575   4.98  0.00632  24.0\n",
              "1  6.421   9.14  0.02731  21.6\n",
              "2  7.185   4.03  0.02729  34.7\n",
              "3  6.998   2.94  0.03237  33.4\n",
              "4  7.147   5.33  0.06905  36.2"
            ]
          },
          "metadata": {
            "tags": []
          },
          "execution_count": 13
        }
      ]
    },
    {
      "cell_type": "code",
      "metadata": {
        "colab": {
          "base_uri": "https://localhost:8080/"
        },
        "id": "EO8sdhp079gS",
        "outputId": "98a70a60-1e0a-4eea-f1db-8fcdebd270a6"
      },
      "source": [
        "! pip install feature_engine"
      ],
      "execution_count": 2,
      "outputs": [
        {
          "output_type": "stream",
          "text": [
            "Collecting feature_engine\n",
            "  Downloading feature_engine-1.1.1-py2.py3-none-any.whl (179 kB)\n",
            "\u001b[?25l\r\u001b[K     |█▉                              | 10 kB 24.4 MB/s eta 0:00:01\r\u001b[K     |███▋                            | 20 kB 30.9 MB/s eta 0:00:01\r\u001b[K     |█████▌                          | 30 kB 12.3 MB/s eta 0:00:01\r\u001b[K     |███████▎                        | 40 kB 9.4 MB/s eta 0:00:01\r\u001b[K     |█████████                       | 51 kB 5.1 MB/s eta 0:00:01\r\u001b[K     |███████████                     | 61 kB 5.6 MB/s eta 0:00:01\r\u001b[K     |████████████▊                   | 71 kB 6.0 MB/s eta 0:00:01\r\u001b[K     |██████████████▋                 | 81 kB 6.8 MB/s eta 0:00:01\r\u001b[K     |████████████████▍               | 92 kB 6.9 MB/s eta 0:00:01\r\u001b[K     |██████████████████▏             | 102 kB 5.4 MB/s eta 0:00:01\r\u001b[K     |████████████████████            | 112 kB 5.4 MB/s eta 0:00:01\r\u001b[K     |█████████████████████▉          | 122 kB 5.4 MB/s eta 0:00:01\r\u001b[K     |███████████████████████▊        | 133 kB 5.4 MB/s eta 0:00:01\r\u001b[K     |█████████████████████████▌      | 143 kB 5.4 MB/s eta 0:00:01\r\u001b[K     |███████████████████████████▎    | 153 kB 5.4 MB/s eta 0:00:01\r\u001b[K     |█████████████████████████████▏  | 163 kB 5.4 MB/s eta 0:00:01\r\u001b[K     |███████████████████████████████ | 174 kB 5.4 MB/s eta 0:00:01\r\u001b[K     |████████████████████████████████| 179 kB 5.4 MB/s \n",
            "\u001b[?25hRequirement already satisfied: numpy>=1.18.2 in /usr/local/lib/python3.7/dist-packages (from feature_engine) (1.19.5)\n",
            "Requirement already satisfied: scikit-learn>=0.22.2 in /usr/local/lib/python3.7/dist-packages (from feature_engine) (0.22.2.post1)\n",
            "Requirement already satisfied: pandas>=1.0.3 in /usr/local/lib/python3.7/dist-packages (from feature_engine) (1.1.5)\n",
            "Requirement already satisfied: scipy>=1.4.1 in /usr/local/lib/python3.7/dist-packages (from feature_engine) (1.4.1)\n",
            "Collecting statsmodels>=0.11.1\n",
            "  Downloading statsmodels-0.12.2-cp37-cp37m-manylinux1_x86_64.whl (9.5 MB)\n",
            "\u001b[K     |████████████████████████████████| 9.5 MB 31.6 MB/s \n",
            "\u001b[?25hRequirement already satisfied: pytz>=2017.2 in /usr/local/lib/python3.7/dist-packages (from pandas>=1.0.3->feature_engine) (2018.9)\n",
            "Requirement already satisfied: python-dateutil>=2.7.3 in /usr/local/lib/python3.7/dist-packages (from pandas>=1.0.3->feature_engine) (2.8.1)\n",
            "Requirement already satisfied: six>=1.5 in /usr/local/lib/python3.7/dist-packages (from python-dateutil>=2.7.3->pandas>=1.0.3->feature_engine) (1.15.0)\n",
            "Requirement already satisfied: joblib>=0.11 in /usr/local/lib/python3.7/dist-packages (from scikit-learn>=0.22.2->feature_engine) (1.0.1)\n",
            "Requirement already satisfied: patsy>=0.5 in /usr/local/lib/python3.7/dist-packages (from statsmodels>=0.11.1->feature_engine) (0.5.1)\n",
            "Installing collected packages: statsmodels, feature-engine\n",
            "  Attempting uninstall: statsmodels\n",
            "    Found existing installation: statsmodels 0.10.2\n",
            "    Uninstalling statsmodels-0.10.2:\n",
            "      Successfully uninstalled statsmodels-0.10.2\n",
            "Successfully installed feature-engine-1.1.1 statsmodels-0.12.2\n"
          ],
          "name": "stdout"
        }
      ]
    },
    {
      "cell_type": "code",
      "metadata": {
        "id": "Ub8TE9UW8DUj"
      },
      "source": [
        "from feature_engine.outliers import Winsorizer"
      ],
      "execution_count": 5,
      "outputs": []
    },
    {
      "cell_type": "code",
      "metadata": {
        "colab": {
          "base_uri": "https://localhost:8080/",
          "height": 204
        },
        "id": "H7E9oZdP8wIL",
        "outputId": "f931d56a-65c1-4273-ac73-b2f1b5e10812"
      },
      "source": [
        "# load the the Boston House price data\n",
        "\n",
        "# load the boston dataset from sklearn\n",
        "boston_dataset = load_boston()\n",
        "\n",
        "# create a dataframe with the independent variables\n",
        "# I will use only 3 of the total variables for this demo\n",
        "\n",
        "boston = pd.DataFrame(boston_dataset.data,\n",
        "                      columns=boston_dataset.feature_names)[[\n",
        "                          'RM', 'LSTAT', 'CRIM'\n",
        "                      ]]\n",
        "\n",
        "# add the target\n",
        "boston['MEDV'] = boston_dataset.target\n",
        "\n",
        "boston.head()"
      ],
      "execution_count": 9,
      "outputs": [
        {
          "output_type": "execute_result",
          "data": {
            "text/html": [
              "<div>\n",
              "<style scoped>\n",
              "    .dataframe tbody tr th:only-of-type {\n",
              "        vertical-align: middle;\n",
              "    }\n",
              "\n",
              "    .dataframe tbody tr th {\n",
              "        vertical-align: top;\n",
              "    }\n",
              "\n",
              "    .dataframe thead th {\n",
              "        text-align: right;\n",
              "    }\n",
              "</style>\n",
              "<table border=\"1\" class=\"dataframe\">\n",
              "  <thead>\n",
              "    <tr style=\"text-align: right;\">\n",
              "      <th></th>\n",
              "      <th>RM</th>\n",
              "      <th>LSTAT</th>\n",
              "      <th>CRIM</th>\n",
              "      <th>MEDV</th>\n",
              "    </tr>\n",
              "  </thead>\n",
              "  <tbody>\n",
              "    <tr>\n",
              "      <th>0</th>\n",
              "      <td>6.575</td>\n",
              "      <td>4.98</td>\n",
              "      <td>0.00632</td>\n",
              "      <td>24.0</td>\n",
              "    </tr>\n",
              "    <tr>\n",
              "      <th>1</th>\n",
              "      <td>6.421</td>\n",
              "      <td>9.14</td>\n",
              "      <td>0.02731</td>\n",
              "      <td>21.6</td>\n",
              "    </tr>\n",
              "    <tr>\n",
              "      <th>2</th>\n",
              "      <td>7.185</td>\n",
              "      <td>4.03</td>\n",
              "      <td>0.02729</td>\n",
              "      <td>34.7</td>\n",
              "    </tr>\n",
              "    <tr>\n",
              "      <th>3</th>\n",
              "      <td>6.998</td>\n",
              "      <td>2.94</td>\n",
              "      <td>0.03237</td>\n",
              "      <td>33.4</td>\n",
              "    </tr>\n",
              "    <tr>\n",
              "      <th>4</th>\n",
              "      <td>7.147</td>\n",
              "      <td>5.33</td>\n",
              "      <td>0.06905</td>\n",
              "      <td>36.2</td>\n",
              "    </tr>\n",
              "  </tbody>\n",
              "</table>\n",
              "</div>"
            ],
            "text/plain": [
              "      RM  LSTAT     CRIM  MEDV\n",
              "0  6.575   4.98  0.00632  24.0\n",
              "1  6.421   9.14  0.02731  21.6\n",
              "2  7.185   4.03  0.02729  34.7\n",
              "3  6.998   2.94  0.03237  33.4\n",
              "4  7.147   5.33  0.06905  36.2"
            ]
          },
          "metadata": {
            "tags": []
          },
          "execution_count": 9
        }
      ]
    },
    {
      "cell_type": "code",
      "metadata": {
        "colab": {
          "base_uri": "https://localhost:8080/"
        },
        "id": "6Q8IUDOc8qLq",
        "outputId": "09b6b67e-d757-4305-b9d4-ac5d1d2f9854"
      },
      "source": [
        "# create the capper\n",
        "\n",
        "windsorizer = Winsorizer(capping_method ='gaussian', # choose iqr for skewed or gaussian\n",
        "                          tail='both', # cap left, right or both tails \n",
        "                          fold=3,\n",
        "                          variables=['RM', 'LSTAT', 'CRIM'])\n",
        "\n",
        "windsorizer.fit(boston)"
      ],
      "execution_count": 10,
      "outputs": [
        {
          "output_type": "execute_result",
          "data": {
            "text/plain": [
              "Winsorizer(capping_method='gaussian', fold=3, missing_values='raise',\n",
              "           tail='both', variables=['RM', 'LSTAT', 'CRIM'])"
            ]
          },
          "metadata": {
            "tags": []
          },
          "execution_count": 10
        }
      ]
    },
    {
      "cell_type": "code",
      "metadata": {
        "id": "koTEbiNv84cU"
      },
      "source": [
        "boston_t = windsorizer.transform(boston)"
      ],
      "execution_count": 11,
      "outputs": []
    },
    {
      "cell_type": "code",
      "metadata": {
        "colab": {
          "base_uri": "https://localhost:8080/"
        },
        "id": "XvO45oJF88vD",
        "outputId": "169ba726-55fb-47f2-be26-fcbb4cd0b7de"
      },
      "source": [
        "# we can inspect the minimum caps for each variable\n",
        "windsorizer.left_tail_caps_"
      ],
      "execution_count": 12,
      "outputs": [
        {
          "output_type": "execute_result",
          "data": {
            "text/plain": [
              "{'CRIM': -22.19111175868521,\n",
              " 'LSTAT': -8.77012129293899,\n",
              " 'RM': 4.176782957105816}"
            ]
          },
          "metadata": {
            "tags": []
          },
          "execution_count": 12
        }
      ]
    },
    {
      "cell_type": "code",
      "metadata": {
        "colab": {
          "base_uri": "https://localhost:8080/"
        },
        "id": "_SIh5Gs28--k",
        "outputId": "9229e062-a459-4fd3-a843-90dae3ef0f50"
      },
      "source": [
        "\n",
        "# we can inspect the maximum caps for each variable\n",
        "windsorizer.right_tail_caps_"
      ],
      "execution_count": 13,
      "outputs": [
        {
          "output_type": "execute_result",
          "data": {
            "text/plain": [
              "{'CRIM': 29.418158873309714,\n",
              " 'LSTAT': 34.07624777515244,\n",
              " 'RM': 8.392485817597757}"
            ]
          },
          "metadata": {
            "tags": []
          },
          "execution_count": 13
        }
      ]
    },
    {
      "cell_type": "markdown",
      "metadata": {
        "id": "FlS9-pyG9Bfc"
      },
      "source": [
        "Dans cette recette, nous avons remplacé les valeurs aberrantes de trois variables dans l'ensemble de données Boston House Prices de scikit-learn. Pour remplacer les valeurs aberrantes, nous avons d'abord identifié ces valeurs en utilisant la moyenne et l'écart type, puis nous avons remplacé les valeurs au-delà de ces limites par les valeurs aux limites.\n",
        "\n",
        "Nous avons d'abord chargé les données,Pour identifier les valeurs aberrantes dans notre base de données, nous avons créé une fonction pour trouver des limites à l'aide de la règle de proximité de l'intervalle interquartile ou de la moyenne et de l'écart type, respectivement. La fonction prend le data frame et la variable comme arguments et calcule l'intervalle interquartile et les limites max min . \n"
      ]
    }
  ]
}